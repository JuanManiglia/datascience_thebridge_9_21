{
 "metadata": {
  "language_info": {
   "codemirror_mode": {
    "name": "ipython",
    "version": 3
   },
   "file_extension": ".py",
   "mimetype": "text/x-python",
   "name": "python",
   "nbconvert_exporter": "python",
   "pygments_lexer": "ipython3",
   "version": "3.6.4"
  },
  "orig_nbformat": 2,
  "kernelspec": {
   "name": "python3",
   "display_name": "Python 3.6.4 64-bit"
  },
  "metadata": {
   "interpreter": {
    "hash": "5c4d2f1fdcd3716c7a5eea90ad07be30193490dd4e63617705244f5fd89ea793"
   }
  },
  "interpreter": {
   "hash": "5c4d2f1fdcd3716c7a5eea90ad07be30193490dd4e63617705244f5fd89ea793"
  }
 },
 "nbformat": 4,
 "nbformat_minor": 2,
 "cells": [
  {
   "cell_type": "markdown",
   "source": [
    "# Test DS-FT Septiembre 2021\r\n",
    "\r\n"
   ],
   "metadata": {}
  },
  {
   "cell_type": "markdown",
   "source": [
    "## Primera parte (tipo test):\r\n",
    "\r\n",
    "https://forms.gle/d5AXLgXKQibJnzoV9"
   ],
   "metadata": {}
  },
  {
   "cell_type": "markdown",
   "source": [
    "-----------------"
   ],
   "metadata": {}
  },
  {
   "cell_type": "markdown",
   "source": [
    "## Segunda parte (ejercicios prácticos):\r\n",
    "\r\n",
    "* El test práctico consta de 5 ejercicios puntuables. \r\n",
    "* Los ejercicios 1, 2 y 3 se puntúan sobre 2 puntos. \r\n",
    "* Los ejercicios 4 y 5 se puntúan sobre 2,5 puntos.\r\n",
    "* La máxima nota es 10 (+1).\r\n"
   ],
   "metadata": {}
  },
  {
   "cell_type": "markdown",
   "source": [
    "Antes de comenzar, cambia el nombre del archivo notebook poniéndole delante tu nombre y primer apellido:\r\n",
    "\r\n",
    "* nombre_apellido1_apellido2_test_pract_sep_2021.ipynb"
   ],
   "metadata": {}
  },
  {
   "cell_type": "code",
   "execution_count": 1,
   "source": [
    "# Escribe tu nombre en la variable:\r\n",
    "nombre_y_apellidos = \"\" \r\n",
    "# Correo electrónico\r\n",
    "correo_electronico = \"\"\r\n",
    "# Número de teléfono:\r\n",
    "numero_telefono = \"+34 600000000\""
   ],
   "outputs": [],
   "metadata": {}
  },
  {
   "cell_type": "markdown",
   "source": [
    "#### Notas y pruebas de apoyo para contestar las preguntas tipo test\n",
    "Esto no es necesario usarlo aunque verlo aquí te puede dar la respuesta a alguna de las preguntas tipo test.\n",
    "\n",
    "Cualquier código aunque no esté correcto nos dirá más de ti que no escribir nada. "
   ],
   "metadata": {}
  },
  {
   "cell_type": "code",
   "execution_count": null,
   "source": [
    "# Ejemplo de como queremos ver el código para más de un intento:\r\n",
    "\r\n",
    "# intento 1\r\n",
    "your code\r\n",
    "# intento 2\r\n",
    "your code"
   ],
   "outputs": [],
   "metadata": {}
  },
  {
   "cell_type": "code",
   "execution_count": 10,
   "source": [
    "# crea todas las celdas que necesites"
   ],
   "outputs": [],
   "metadata": {}
  },
  {
   "cell_type": "markdown",
   "source": [
    "## Ejercicios prácticos"
   ],
   "metadata": {}
  },
  {
   "cell_type": "markdown",
   "source": [
    "#### Ejercicio 1.\r\n",
    "En este ejercicio se va a crear una lista con los siguientes elementos. Primero, crearemos las variables que luego añadiremos a la lista. Las variables son las siguientes:\r\n",
    "\r\n",
    "1. Crea una variable llamada `num_dni` de tipo Integer que represente el primer número de tu DNI. \r\n",
    "2. Crea una variable llamada `let_dni` de tipo String y que represente la letra de vuestro DNI.\r\n",
    "3. Crea una variable llamada `tip_ord` de tipo Boolean True si usas Windows y False si usas Mac.\r\n",
    "4. Crea una variable llamada `nada` de tipo None cuyo valor sea None.\r\n",
    "5. Crea una variable llamada `lista_deseo` de tipo List que contenga los cuatro objetos que te llevarías a una isla desierta. Cada elemento ha de ser de tipo String y el tamaño de la lista ha de ser 4.\r\n",
    "6. Crea una variable llamada `tupla_ropa` de tipo Tuple con la marca de la prenda superior, inferior y calzado que llevas puesto.\r\n",
    "7. Crea una variable llamada `dict_info` con dos keys y dos values. Una key es 'nombre', teniendo como value vuestro nombre. Otra key es 'edad', teniendo como value vuestra edad.\r\n",
    "8. Crea una variable llamada `flo_hor` con la hora actual separada por punto en vez de dos puntos. Ejemplo: si son las 10:06, el valor de la variable sería 10.06.\r\n",
    "9. Añade todos estos elementos en una lista llamada `lista_examen` en el orden de aparición usando una función de lista. \r\n",
    "10. Responde en un comentario a la siguiente pregunta: Si `lista_examen` tuviera muchos más elementos, ¿cómo te asegurarías de que no tiene ningún elemento repetido?"
   ],
   "metadata": {}
  },
  {
   "cell_type": "code",
   "execution_count": null,
   "source": [
    " # tu respuesta aquí"
   ],
   "outputs": [],
   "metadata": {}
  },
  {
   "cell_type": "markdown",
   "source": [
    "#### Ejercicio 2. \r\n",
    "\r\n",
    "Para resolver este ejercicio necesitarás la lista del ejercicio anterior (`lista_examen`). Se recomienda leer cada punto hasta el final antes de resolver el ejercicio.\r\n",
    "\r\n",
    "Se repite para que quede aún más claro: **SOLO USAR LA VARIABLE** `lista_examen`. Usar las demás variables se calificará como error.  \r\n",
    "\r\n",
    "1. Mostrar por pantalla, sin uso de funciones ni bucles: \r\n",
    "    - El segundo elemento de `lista_deseo` desde `lista_examen`.\r\n",
    "    - El calzado que llevas puesto.\r\n",
    "    - Vuestro nombre.\r\n",
    "    - La hora almacenada concatenada con vuestra edad y el número de vuestro de DNI. No debe haber espacios entre la concatenación.\r\n",
    "    - Si tenéis más de 20 años, el primer número de vuestro DNI es mayor a 7 y usas Mac, mostrar la posición 5 de `lista_examen`.\r\n",
    "    "
   ],
   "metadata": {}
  },
  {
   "cell_type": "code",
   "execution_count": null,
   "source": [
    "# tu respuesta aquí"
   ],
   "outputs": [],
   "metadata": {}
  },
  {
   "cell_type": "markdown",
   "source": [
    "2. Mostrar por pantalla, con uso de un bucle `for`:\n",
    "    - Todos los elementos de `lista_examen`.\n",
    "    - Todos los elementos de `lista_deseo` desde `lista_examen`.\n",
    "    - Todos los elementos que ocupen una posición menor a 4 en `lista_examen`.\n"
   ],
   "metadata": {}
  },
  {
   "cell_type": "code",
   "execution_count": null,
   "source": [
    "# tu respuesta aquí"
   ],
   "outputs": [],
   "metadata": {}
  },
  {
   "cell_type": "markdown",
   "source": [
    "3. Mostrar por pantalla, con uso de un bucle while: \r\n",
    "    - Todos los elementos de `tupla_ropa` seguido de la cadena `\"-->\"` y la `posición` (int) que ocupa en la tupla accediendo desde `lista_examen`.\r\n",
    "    - Cada key de `dict_info` seguido de la cadena \":\" seguido de su value desde `lista_examen`."
   ],
   "metadata": {}
  },
  {
   "cell_type": "code",
   "execution_count": null,
   "source": [
    "# tu respuesta aquí"
   ],
   "outputs": [],
   "metadata": {}
  },
  {
   "cell_type": "markdown",
   "source": [
    "#### Ejercicio 3. \r\n",
    "\r\n",
    "Crea una función `ejercicio_3` que reciba un parámetro `arg1`. Este argumento se utilizará como la lista de tuplas con nombres de los alumnos y alturas de clase. La función ha de retornar la misma lista de tuplas pero sin la tupla que contiene tu nombre. La tupla que contiene tu nombre ha de encontrarse a través del **valor del String** con tu nombre. Es decir, la función borrará la tupla que contiene tu nombre tanto si está en la primera posición, como en la posición N o la última. La función mostrará por pantalla la lista de tuplas modificada.\r\n",
    "\r\n",
    "**Notas:** \r\n",
    "\r\n",
    "*- La lista de nombres y alturas está al final del notebook*\r\n",
    "\r\n",
    "*- Añade la tupla con tu nombre y altura si no apareces en la lista* \r\n",
    "\r\n",
    "*- Utiliza la variable nombre_apellido que creaste al principio del archivo* \r\n",
    "\r\n",
    "Ejemplos de llamada a la función y lo que **devuelve** la función en el caso en el que me llamo 'Manuel Alfonso' y con esta 'lista_nombres_alturas':"
   ],
   "metadata": {}
  },
  {
   "cell_type": "code",
   "execution_count": 7,
   "source": [
    "# NO EJECUTAR ESTA CELDA (CELDA DE EJEMPLO)\r\n",
    "lista_nombres_alturas = [(\"Manuel Alfonso\", 1.75),(\"Jonathan Abbondanza\",  1.70),(\"Nacho Fontal\", 1.82)]\r\n",
    "ejercicio_3(arg1=lista_nombres_alturas)"
   ],
   "outputs": [
    {
     "output_type": "stream",
     "name": "stdout",
     "text": [
      "[('Jonathan Abbondanza', 1.7), ('Nacho Fontal', 1.82)]\n"
     ]
    }
   ],
   "metadata": {}
  },
  {
   "cell_type": "code",
   "execution_count": 9,
   "source": [
    "# NO EJECUTAR ESTA CELDA (CELDA DE EJEMPLO)\r\n",
    "lista_nombres_alturas = [(\"Jonathan Abbondanza\",  1.70),(\"Manuel Alfonso\", 1.75),(\"Nacho Fontal\", 1.82)]\r\n",
    "ejercicio_3(arg1=lista_nombres_alturas)"
   ],
   "outputs": [
    {
     "output_type": "stream",
     "name": "stdout",
     "text": [
      "[('Jonathan Abbondanza', 1.7), ('Nacho Fontal', 1.82)]\n"
     ]
    }
   ],
   "metadata": {}
  },
  {
   "cell_type": "code",
   "execution_count": null,
   "source": [
    "# tu respuesta aquí"
   ],
   "outputs": [],
   "metadata": {}
  },
  {
   "cell_type": "markdown",
   "source": [
    "-------------------------------------"
   ],
   "metadata": {}
  },
  {
   "cell_type": "markdown",
   "source": [
    "#### Ejercicio 4. \r\n",
    "\r\n",
    "Escribe una función `reverse_number` que reciba dos parámetros. Los parámetros son `cadena` y `n`. `cadena` será un string y `n` un entero. La función debe retornar un string que sea el string `cadena` al revés y que tenga concatenado el número `n` por cada caracter de `cadena`.  \r\n",
    "\r\n",
    "\r\n",
    "**No se permite (no puntuará con la máxima nota):**\r\n",
    "- Usar la función built-in `reverse`\r\n",
    "- Pasar el string `cadena` a otro tipo de variable (como list)* \r\n",
    "- Usar el `string slicing` [[::-1]]\r\n",
    "\r\n",
    "Ejemplos de llamada a la función y lo que devuelve la función:\r\n",
    "\r\n",
    "--------\r\n",
    "\r\n",
    ">> print(reverse_number(cadena=\"aloh\", n=3))\r\n",
    "\r\n",
    ">>> h3o3l3a3\r\n",
    "\r\n",
    "--------\r\n",
    "\r\n",
    ">> print(reverse_number(cadena=\"otipep\", n=85))\r\n",
    "\r\n",
    ">>> p85e85p85i85t85o85\r\n",
    "\r\n",
    "\r\n",
    "\r\n"
   ],
   "metadata": {}
  },
  {
   "cell_type": "code",
   "execution_count": null,
   "source": [
    "# tu respuesta aquí"
   ],
   "outputs": [],
   "metadata": {}
  },
  {
   "cell_type": "markdown",
   "source": [
    "#### Ejercicio 5:\r\n",
    " Crea una función `ejercicio_5` que reciba dos parámetros `arg1` y `arg2`. `arg1` es la misma lista de tuplas con los nombres y alturas que la del ejercicio 3 y `arg2` representa un nombre. \r\n",
    "Crea un programa que pida al usuario *indefinidamente* un nombre y, cada vez que lo introduzca, intente borrar de `arg1` la tupla que contiene el nombre introducido **mostrándola por pantalla** usando la función `ejercicio_5`:\r\n",
    "\r\n",
    "1. Si existe el nombre `arg2` dentro de la `arg1` la función **retornará** la lista de tuplas modificada\r\n",
    "\r\n",
    "2. Si el nombre `arg2` no está en la lista `arg1` la función mostrará por pantalla el string \"Ese \r\n",
    "nombre no está dentro de la lista\"\r\n",
    "\r\n",
    "3. Solo en el caso en el que el usuario escriba la palabra *'STOP'* se parará el programa.\r\n",
    "\r\n",
    "\r\n",
    "**Notas:** \r\n",
    "\r\n",
    "*- La lista de nombres y alturas está al final del notebook*\r\n",
    "\r\n",
    "*- Añade la tupla con tu nombre, edad y altura si no apareces en la lista*  "
   ],
   "metadata": {}
  },
  {
   "cell_type": "code",
   "execution_count": null,
   "source": [
    "# tu respuesta aquí"
   ],
   "outputs": [],
   "metadata": {}
  },
  {
   "cell_type": "markdown",
   "source": [
    "-----------------------------"
   ],
   "metadata": {}
  },
  {
   "cell_type": "markdown",
   "source": [
    "-------------------------------------------\r\n"
   ],
   "metadata": {}
  },
  {
   "cell_type": "code",
   "execution_count": 1,
   "source": [
    "# La lista a usar del ejercicio 3 y 5. Recuerda añadir la tupla con tu información si no está. \r\n",
    "\r\n",
    "lista_nombres_alturas = [(\"Gabriel Vázquez\", 29, 1.75), (\"Leonardo Sánchez\", 24, 1.82), (\"Piero Termini\", 25, 1.71), (\"Marta Buesa\", 35, 1.66), (\"Silvia Pasinato\", 37, 1.63), (\"Faro Zamani\", 29, 1.90), ('Miguel Nievas', 27, 1.80), (\"Alejandro Medina\", 28, 1.70), (\"Cristina Martínez\", 32, 1.60), (\"Francisco Palma\", 36, 1.74), (\"Jorge Duque\", 45, 1.72), (\"Jesús Llanes\", 41, 1.65), (\"Luis Pech\", 18, 1.71), (\"Marta Gómez\", 30, 1.65), (\"Jennifer Sanchez\", 40, 1.60), (\"Diego Isla\", 39, 1.80), (\"Nuria Brocar\", 35, 1.75), (\"Antonio Campaña\", 23, 1.77), (\"Isabella Schindowski\", 34, 1.60), (\"Juan Maniglia\", 32, 1.75), (\"David Suárez\", 27, 1.70), (\"Antonio Jiménez\", 34, 1.80), (\"Carlos Hernández\", 27, 1.77), (\"Erik Urresta\", 28, 1.70), (\"Marcos Lobo\", 35, 1.80), (\"Natalia Fernandez\", 31, 1.70)]\r\n",
    "lista_nombres_alturas"
   ],
   "outputs": [
    {
     "output_type": "execute_result",
     "data": {
      "text/plain": [
       "[('Gabriel Vázquez', 29, 1.75),\n",
       " ('Leonardo Sánchez', 24, 1.82),\n",
       " ('Piero Termini', 25, 1.71),\n",
       " ('Marta Buesa', 35, 1.66),\n",
       " ('Silvia Pasinato', 37, 1.63),\n",
       " ('Faro Zamani', 29, 1.9),\n",
       " ('Miguel Nievas', 27, 1.8),\n",
       " ('Alejandro Medina', 28, 1.7),\n",
       " ('Cristina Martínez', 32, 1.6),\n",
       " ('Francisco Palma', 36, 1.74),\n",
       " ('Jorge Duque', 45, 1.72),\n",
       " ('Jesús Llanes', 41, 1.65),\n",
       " ('Luis Pech', 18, 1.71),\n",
       " ('Marta Gómez', 30, 1.65),\n",
       " ('Jennifer Sanchez', 40, 1.6),\n",
       " ('Diego Isla', 39, 1.8),\n",
       " ('Nuria Brocar', 35, 1.75),\n",
       " ('Antonio Campaña', 23, 1.77),\n",
       " ('Isabella Schindowski', 34, 1.6),\n",
       " ('Juan Maniglia', 32, 1.75),\n",
       " ('David Suárez', 27, 1.7),\n",
       " ('Antonio Jiménez', 34, 1.8),\n",
       " ('Carlos Hernández', 27, 1.77),\n",
       " ('Erik Urresta', 28, 1.7),\n",
       " ('Marcos Lobo', 35, 1.8),\n",
       " ('Natalia Fernandez', 31, 1.7)]"
      ]
     },
     "metadata": {},
     "execution_count": 1
    }
   ],
   "metadata": {}
  }
 ]
}