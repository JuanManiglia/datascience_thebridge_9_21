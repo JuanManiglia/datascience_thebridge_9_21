{
 "cells": [
  {
   "cell_type": "markdown",
   "source": [
    "# Apartado 4 - Comprehension "
   ],
   "metadata": {}
  },
  {
   "cell_type": "markdown",
   "source": [
    "- List/Dict comprehension \n",
    "- `zip()` "
   ],
   "metadata": {}
  },
  {
   "cell_type": "markdown",
   "source": [
    "--------------------------------------------------------------------------------------"
   ],
   "metadata": {}
  },
  {
   "cell_type": "markdown",
   "source": [
    "## List comprehension"
   ],
   "metadata": {}
  },
  {
   "cell_type": "code",
   "execution_count": 3,
   "source": [
    "x = \"String\"\r\n",
    "for i in x:\r\n",
    "    print(i)"
   ],
   "outputs": [
    {
     "output_type": "stream",
     "name": "stdout",
     "text": [
      "S\n",
      "t\n",
      "r\n",
      "i\n",
      "n\n",
      "g\n"
     ]
    }
   ],
   "metadata": {}
  },
  {
   "cell_type": "code",
   "execution_count": 4,
   "source": [
    "h_letters = []\r\n",
    "\r\n",
    "for letter in 'human':\r\n",
    "    h_letters.append(letter)\r\n",
    "\r\n",
    "print(h_letters)"
   ],
   "outputs": [
    {
     "output_type": "stream",
     "name": "stdout",
     "text": [
      "['h', 'u', 'm', 'a', 'n']\n"
     ]
    }
   ],
   "metadata": {}
  },
  {
   "cell_type": "code",
   "execution_count": 5,
   "source": [
    "lista = [2, 4, 6, 8] \r\n",
    "p = [elem//2 for elem in lista]\r\n",
    "print(p)"
   ],
   "outputs": [
    {
     "output_type": "stream",
     "name": "stdout",
     "text": [
      "[1, 2, 3, 4]\n"
     ]
    }
   ],
   "metadata": {}
  },
  {
   "cell_type": "code",
   "execution_count": 6,
   "source": [
    "lista = [2, 4, 6, 8] \r\n",
    "p = [str(elem)+\"L\" for elem in lista]\r\n",
    "print(p)"
   ],
   "outputs": [
    {
     "output_type": "stream",
     "name": "stdout",
     "text": [
      "['2L', '4L', '6L', '8L']\n"
     ]
    }
   ],
   "metadata": {}
  },
  {
   "cell_type": "markdown",
   "source": [
    "```python \n",
    "[expression for item in list if condicion]\n",
    "``` "
   ],
   "metadata": {}
  },
  {
   "cell_type": "code",
   "execution_count": 7,
   "source": [
    "lista = [2, 4, 6, 8]\r\n",
    "for x in lista:\r\n",
    "    if True:\r\n",
    "        print(x)"
   ],
   "outputs": [
    {
     "output_type": "stream",
     "name": "stdout",
     "text": [
      "2\n",
      "4\n",
      "6\n",
      "8\n"
     ]
    }
   ],
   "metadata": {}
  },
  {
   "cell_type": "code",
   "execution_count": 2,
   "source": [
    "list(range(20))"
   ],
   "outputs": [
    {
     "output_type": "execute_result",
     "data": {
      "text/plain": [
       "[0, 1, 2, 3, 4, 5, 6, 7, 8, 9, 10, 11, 12, 13, 14, 15, 16, 17, 18, 19]"
      ]
     },
     "metadata": {},
     "execution_count": 2
    }
   ],
   "metadata": {}
  },
  {
   "cell_type": "code",
   "execution_count": 3,
   "source": [
    "for x in range(20):\r\n",
    "    if x % 2 == 0 or x == 19:\r\n",
    "        print (x)"
   ],
   "outputs": [
    {
     "output_type": "stream",
     "name": "stdout",
     "text": [
      "0\n",
      "2\n",
      "4\n",
      "6\n",
      "8\n",
      "10\n",
      "12\n",
      "14\n",
      "16\n",
      "18\n",
      "19\n"
     ]
    }
   ],
   "metadata": {}
  },
  {
   "cell_type": "code",
   "execution_count": 9,
   "source": [
    "number_list = [ x for x in range(20) if x % 2 == 0 or x == 19]\r\n",
    "print(number_list)"
   ],
   "outputs": [
    {
     "output_type": "stream",
     "name": "stdout",
     "text": [
      "[0, 2, 4, 6, 8, 10, 12, 14, 16, 18, 19]\n"
     ]
    }
   ],
   "metadata": {}
  },
  {
   "cell_type": "code",
   "execution_count": 10,
   "source": [
    "list(range(10))"
   ],
   "outputs": [
    {
     "output_type": "execute_result",
     "data": {
      "text/plain": [
       "[0, 1, 2, 3, 4, 5, 6, 7, 8, 9]"
      ]
     },
     "metadata": {},
     "execution_count": 10
    }
   ],
   "metadata": {}
  },
  {
   "cell_type": "code",
   "execution_count": 11,
   "source": [
    "obj = [\"Even\" if i%2==0 else \"Odd\" for i in range(10)]\r\n",
    "print(obj)"
   ],
   "outputs": [
    {
     "output_type": "stream",
     "name": "stdout",
     "text": [
      "['Even', 'Odd', 'Even', 'Odd', 'Even', 'Odd', 'Even', 'Odd', 'Even', 'Odd']\n"
     ]
    }
   ],
   "metadata": {}
  },
  {
   "cell_type": "markdown",
   "source": [
    "--------------------------------------------------------------------------------------"
   ],
   "metadata": {}
  },
  {
   "cell_type": "markdown",
   "source": [
    "## Dict comprehension"
   ],
   "metadata": {}
  },
  {
   "cell_type": "code",
   "execution_count": 13,
   "source": [
    "d = {\"a\":1, \"b\":2}"
   ],
   "outputs": [],
   "metadata": {}
  },
  {
   "cell_type": "code",
   "execution_count": 4,
   "source": [
    "list(range(10))"
   ],
   "outputs": [
    {
     "output_type": "execute_result",
     "data": {
      "text/plain": [
       "[0, 1, 2, 3, 4, 5, 6, 7, 8, 9]"
      ]
     },
     "metadata": {},
     "execution_count": 4
    }
   ],
   "metadata": {}
  },
  {
   "cell_type": "code",
   "execution_count": 6,
   "source": [
    "for n in range(10):\r\n",
    "    if n%2 == 0:\r\n",
    "        print('n',n)\r\n",
    "        print('n**2', n**2)"
   ],
   "outputs": [
    {
     "output_type": "stream",
     "name": "stdout",
     "text": [
      "n 0\n",
      "n**2 0\n",
      "n 2\n",
      "n**2 4\n",
      "n 4\n",
      "n**2 16\n",
      "n 6\n",
      "n**2 36\n",
      "n 8\n",
      "n**2 64\n"
     ]
    }
   ],
   "metadata": {}
  },
  {
   "cell_type": "code",
   "execution_count": 8,
   "source": [
    "numbers = range(10)\r\n",
    "\r\n",
    "new_dict_comp = {n:n**2 for n in numbers if n%2 == 0}\r\n",
    "\r\n",
    "new_dict_comp"
   ],
   "outputs": [
    {
     "output_type": "execute_result",
     "data": {
      "text/plain": [
       "{0: 0, 2: 4, 4: 16, 6: 36, 8: 64}"
      ]
     },
     "metadata": {},
     "execution_count": 8
    }
   ],
   "metadata": {}
  },
  {
   "cell_type": "code",
   "execution_count": 16,
   "source": [
    "new_dict_comp = {n:n**2 for n in numbers if n%2 == 0}"
   ],
   "outputs": [],
   "metadata": {}
  },
  {
   "cell_type": "code",
   "execution_count": 17,
   "source": [
    "dict1 = {'a': 1, 'b': 2, 'c': 3, 'd': 4, 'e': 5}\r\n",
    "\r\n",
    "for k, v in dict1.items():\r\n",
    "    print(\"k:\", k)\r\n",
    "    print(\"v:\", v)\r\n",
    "    print(\"---------\")"
   ],
   "outputs": [
    {
     "output_type": "stream",
     "name": "stdout",
     "text": [
      "k: a\n",
      "v: 1\n",
      "---------\n",
      "k: b\n",
      "v: 2\n",
      "---------\n",
      "k: c\n",
      "v: 3\n",
      "---------\n",
      "k: d\n",
      "v: 4\n",
      "---------\n",
      "k: e\n",
      "v: 5\n",
      "---------\n"
     ]
    }
   ],
   "metadata": {}
  },
  {
   "cell_type": "code",
   "execution_count": 18,
   "source": [
    "dict1 = {'a': 1, 'b': 2, 'c': 3, 'd': 4, 'e': 5}\r\n",
    "\r\n",
    "for t in dict1.items():\r\n",
    "    print(\"t:\", t[0])\r\n",
    "    print(\"---------\")"
   ],
   "outputs": [
    {
     "output_type": "stream",
     "name": "stdout",
     "text": [
      "t: a\n",
      "---------\n",
      "t: b\n",
      "---------\n",
      "t: c\n",
      "---------\n",
      "t: d\n",
      "---------\n",
      "t: e\n",
      "---------\n"
     ]
    }
   ],
   "metadata": {}
  },
  {
   "cell_type": "code",
   "execution_count": 19,
   "source": [
    "dict1 = {'a': 1, 'b': 2, 'c': 3, 'd': 4, 'e': 5}\r\n",
    "\r\n",
    "for k in dict1.keys():\r\n",
    "    print(\"k:\", k)\r\n",
    "    print(\"---------\")"
   ],
   "outputs": [
    {
     "output_type": "stream",
     "name": "stdout",
     "text": [
      "k: a\n",
      "---------\n",
      "k: b\n",
      "---------\n",
      "k: c\n",
      "---------\n",
      "k: d\n",
      "---------\n",
      "k: e\n",
      "---------\n"
     ]
    }
   ],
   "metadata": {}
  },
  {
   "cell_type": "code",
   "execution_count": 20,
   "source": [
    "dict1 = {'a': 1, 'b': 2, 'c': 3, 'd': 4, 'e': 5}\r\n",
    "\r\n",
    "# Check for items greater than 2\r\n",
    "dict1_cond = {k:(v/2) for (k,v) in dict1.items() if v>2}\r\n",
    "\r\n",
    "print(dict1_cond)"
   ],
   "outputs": [
    {
     "output_type": "stream",
     "name": "stdout",
     "text": [
      "{'c': 1.5, 'd': 2.0, 'e': 2.5}\n"
     ]
    }
   ],
   "metadata": {}
  },
  {
   "cell_type": "markdown",
   "source": [
    "--------------------------------------------------------------------------------------"
   ],
   "metadata": {}
  },
  {
   "cell_type": "markdown",
   "source": [
    "## zip"
   ],
   "metadata": {}
  },
  {
   "cell_type": "code",
   "execution_count": 21,
   "source": [
    "d = {[1]: [2]}"
   ],
   "outputs": [
    {
     "output_type": "error",
     "ename": "TypeError",
     "evalue": "unhashable type: 'list'",
     "traceback": [
      "\u001b[1;31m---------------------------------------------------------------------------\u001b[0m",
      "\u001b[1;31mTypeError\u001b[0m                                 Traceback (most recent call last)",
      "\u001b[1;32m<ipython-input-21-416239ea609e>\u001b[0m in \u001b[0;36m<module>\u001b[1;34m\u001b[0m\n\u001b[1;32m----> 1\u001b[1;33m \u001b[0md\u001b[0m \u001b[1;33m=\u001b[0m \u001b[1;33m{\u001b[0m\u001b[1;33m[\u001b[0m\u001b[1;36m1\u001b[0m\u001b[1;33m]\u001b[0m\u001b[1;33m:\u001b[0m \u001b[1;33m[\u001b[0m\u001b[1;36m2\u001b[0m\u001b[1;33m]\u001b[0m\u001b[1;33m}\u001b[0m\u001b[1;33m\u001b[0m\u001b[1;33m\u001b[0m\u001b[0m\n\u001b[0m",
      "\u001b[1;31mTypeError\u001b[0m: unhashable type: 'list'"
     ]
    }
   ],
   "metadata": {}
  },
  {
   "cell_type": "code",
   "execution_count": 23,
   "source": [
    "keys = ['a', 'b', 'c']\r\n",
    "values = [1, 2, 3]\r\n",
    "dictionary = dict(zip(keys, values))\r\n",
    "print(dictionary)"
   ],
   "outputs": [
    {
     "output_type": "stream",
     "name": "stdout",
     "text": [
      "{'a': 1, 'b': 2, 'c': 3}\n"
     ]
    }
   ],
   "metadata": {}
  },
  {
   "cell_type": "code",
   "execution_count": 24,
   "source": [
    "keys = ['a', 'b', 'c']\r\n",
    "values = [[1, 2, 4, 6, [0,\"a\", [2, \"6\", (\"a\", {\"x\":2})]]], [2], [3]]\r\n",
    "dictionary = dict(zip(keys, values))\r\n",
    "print(dictionary)"
   ],
   "outputs": [
    {
     "output_type": "stream",
     "name": "stdout",
     "text": [
      "{'a': [1, 2, 4, 6, [0, 'a', [2, '6', ('a', {'x': 2})]]], 'b': [2], 'c': [3]}\n"
     ]
    }
   ],
   "metadata": {}
  },
  {
   "cell_type": "code",
   "execution_count": 25,
   "source": [
    "x = [1, 2, 4, 6, [0,\"a\", [2, \"6\", (\"a\", {\"x\":2})]]]\r\n",
    "\r\n",
    "x[4][2][2][1][\"x\"]"
   ],
   "outputs": [
    {
     "output_type": "execute_result",
     "data": {
      "text/plain": [
       "2"
      ]
     },
     "metadata": {},
     "execution_count": 25
    }
   ],
   "metadata": {}
  },
  {
   "cell_type": "code",
   "execution_count": 26,
   "source": [
    "for elem in x:\r\n",
    "    if type(elem) == dict:\r\n",
    "        print(elem)"
   ],
   "outputs": [],
   "metadata": {}
  },
  {
   "cell_type": "code",
   "execution_count": 27,
   "source": [
    "for elem in x:\r\n",
    "    if isinstance(elem, list):\r\n",
    "        for elem2 in elem:\r\n",
    "            if isinstance(elem2, list):\r\n",
    "                for elem3 in elem2:\r\n",
    "                    if isinstance(elem3, tuple):\r\n",
    "                        for elem4 in elem3:\r\n",
    "                            if isinstance(elem4, dict):\r\n",
    "                                print(elem4[\"x\"])\r\n",
    "                                break"
   ],
   "outputs": [
    {
     "output_type": "stream",
     "name": "stdout",
     "text": [
      "2\n"
     ]
    }
   ],
   "metadata": {}
  },
  {
   "cell_type": "code",
   "execution_count": null,
   "source": [],
   "outputs": [],
   "metadata": {}
  }
 ],
 "metadata": {
  "kernelspec": {
   "name": "python3",
   "display_name": "Python 3.7.4 64-bit"
  },
  "language_info": {
   "name": "python",
   "version": "3.7.4",
   "mimetype": "text/x-python",
   "codemirror_mode": {
    "name": "ipython",
    "version": 3
   },
   "pygments_lexer": "ipython3",
   "nbconvert_exporter": "python",
   "file_extension": ".py"
  },
  "interpreter": {
   "hash": "7c77fdb427e7cbc9bc1367dd530fc2b36aacdbbde1ac83c85833b10dfa8b831c"
  }
 },
 "nbformat": 4,
 "nbformat_minor": 4
}