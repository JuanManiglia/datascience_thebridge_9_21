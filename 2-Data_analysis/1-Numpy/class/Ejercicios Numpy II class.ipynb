{
 "cells": [
  {
   "cell_type": "markdown",
   "source": [
    "![imagen](./img/ejercicios.png)"
   ],
   "metadata": {}
  },
  {
   "cell_type": "markdown",
   "source": [
    "## Ejercicio 1\r\n",
    "1. Crea un array que vaya del 0 al 9 y que se llame `my_array`\r\n",
    "2. Imprime por pantalla los elementos [9 7 5 3 1] en ese orden."
   ],
   "metadata": {}
  },
  {
   "cell_type": "code",
   "execution_count": null,
   "source": [],
   "outputs": [],
   "metadata": {}
  },
  {
   "cell_type": "markdown",
   "source": [
    "## Ejercicio 2\r\n",
    "Imprime por pantalla la secuencia [8 7] del array `my_array`"
   ],
   "metadata": {}
  },
  {
   "cell_type": "code",
   "execution_count": null,
   "source": [],
   "outputs": [],
   "metadata": {}
  },
  {
   "cell_type": "markdown",
   "source": [
    "## Ejercicio 3\r\n",
    "Imprime por pantalla la secuencia [2 1 0] de `my_array`"
   ],
   "metadata": {}
  },
  {
   "cell_type": "code",
   "execution_count": null,
   "source": [],
   "outputs": [],
   "metadata": {}
  },
  {
   "cell_type": "markdown",
   "source": [
    "## Ejercicio 4\r\n",
    "1. Crea una matriz de 4x5, con una secuencia del 1 al 20\r\n",
    "2. Invierte totalmente la matriz. Tanto las filas, como las columnas"
   ],
   "metadata": {}
  },
  {
   "cell_type": "code",
   "execution_count": null,
   "source": [],
   "outputs": [],
   "metadata": {}
  },
  {
   "cell_type": "markdown",
   "source": [
    "## Ejercicio 5\r\n",
    "\r\n",
    "Obtén el siguiente array, partiendo de la matriz del ejercicio 4\r\n",
    "```Python\r\n",
    "array([[1, 2],\r\n",
    "       [6, 7]])\r\n",
    "```"
   ],
   "metadata": {}
  },
  {
   "cell_type": "code",
   "execution_count": null,
   "source": [],
   "outputs": [],
   "metadata": {}
  },
  {
   "cell_type": "markdown",
   "source": [
    "## Ejercicio 6\r\n",
    "Obtén el siguiente array, partiendo de la matriz del ejercicio 4\r\n",
    "```Python\r\n",
    "array([[ 1,  3,  5],\r\n",
    "       [11, 13, 15]])\r\n",
    "```"
   ],
   "metadata": {}
  },
  {
   "cell_type": "code",
   "execution_count": null,
   "source": [],
   "outputs": [],
   "metadata": {}
  },
  {
   "cell_type": "markdown",
   "source": [
    "## Ejercicio 7\r\n",
    "Obtén el siguiente array, partiendo de la matriz del ejercicio 4\r\n",
    "```Python\r\n",
    "array([[ 5,  4,  3,  2,  1],\r\n",
    "       [10,  9,  8,  7,  6],\r\n",
    "       [15, 14, 13, 12, 11]])\r\n",
    "```"
   ],
   "metadata": {}
  },
  {
   "cell_type": "code",
   "execution_count": 2,
   "source": [
    "import numpy as np"
   ],
   "outputs": [],
   "metadata": {}
  },
  {
   "cell_type": "markdown",
   "source": [
    "## Ejercicio 8\r\n",
    "Dado el siguiente array:\r\n",
    "\r\n",
    "```Python\r\n",
    "x = np.array([\"Loro\", \"Perro\", \"Gato\", \"Loro\", \"Perro\"])\r\n",
    "```\r\n",
    "\r\n",
    "Filtra el array para quedarte únicamente con los loros.\r\n",
    "\r\n",
    "Resuélvelo de dos maneras diferentes"
   ],
   "metadata": {}
  },
  {
   "cell_type": "code",
   "execution_count": 3,
   "source": [
    "x = np.array([\"Loro\", \"Perro\", \"Gato\", \"Loro\", \"Perro\"])\r\n",
    "print(x)"
   ],
   "outputs": [
    {
     "output_type": "stream",
     "name": "stdout",
     "text": [
      "['Loro' 'Perro' 'Gato' 'Loro' 'Perro']\n"
     ]
    }
   ],
   "metadata": {}
  },
  {
   "cell_type": "code",
   "execution_count": 4,
   "source": [
    "# Metodo 1\r\n",
    "mask = np.array([True, False, False, True, False])\r\n",
    "\r\n",
    "x[mask]"
   ],
   "outputs": [
    {
     "output_type": "execute_result",
     "data": {
      "text/plain": [
       "array(['Loro', 'Loro'], dtype='<U5')"
      ]
     },
     "metadata": {},
     "execution_count": 4
    }
   ],
   "metadata": {}
  },
  {
   "cell_type": "code",
   "execution_count": 6,
   "source": [
    "# Metodo 2\r\n",
    "mask = x == \"Loro\"\r\n",
    "print(mask)\r\n",
    "x[mask]"
   ],
   "outputs": [
    {
     "output_type": "stream",
     "name": "stdout",
     "text": [
      "[False False  True False False]\n"
     ]
    },
    {
     "output_type": "execute_result",
     "data": {
      "text/plain": [
       "array(['Gato'], dtype='<U5')"
      ]
     },
     "metadata": {},
     "execution_count": 6
    }
   ],
   "metadata": {}
  },
  {
   "cell_type": "code",
   "execution_count": 9,
   "source": [
    "# Metodo 3\r\n",
    "mask = np.where(x == \"Loro\")\r\n",
    "print(mask)\r\n",
    "x[mask]"
   ],
   "outputs": [
    {
     "output_type": "stream",
     "name": "stdout",
     "text": [
      "(array([0, 3], dtype=int64),)\n"
     ]
    },
    {
     "output_type": "execute_result",
     "data": {
      "text/plain": [
       "array(['Loro', 'Loro'], dtype='<U5')"
      ]
     },
     "metadata": {},
     "execution_count": 9
    }
   ],
   "metadata": {}
  },
  {
   "cell_type": "markdown",
   "source": [
    "## Ejercicio 9\r\n",
    "Crea una secuencia de 20 elementos y transformala en un array compuesto por 2 matrices de 5x2"
   ],
   "metadata": {}
  },
  {
   "cell_type": "code",
   "execution_count": null,
   "source": [],
   "outputs": [],
   "metadata": {}
  },
  {
   "cell_type": "markdown",
   "source": [
    "## Ejercicio 10\r\n",
    "Obtén el siguiente array, partiendo de la matriz del ejercicio 4\r\n",
    "```Python\r\n",
    "array([[20, 19, 18, 17, 16],\r\n",
    "       [15, 14, 13, 12, 11],\r\n",
    "       [10,  9,  8,  7,  6],\r\n",
    "       [ 5,  4,  3,  2,  1]])\r\n",
    "```"
   ],
   "metadata": {}
  },
  {
   "cell_type": "code",
   "execution_count": null,
   "source": [],
   "outputs": [],
   "metadata": {}
  },
  {
   "cell_type": "markdown",
   "source": [
    "## Ejercicio 11\r\n",
    "Crea un array de 10 0s. ¿Cuánto ocupa en memoria?\r\n",
    "\r\n",
    "Sustituye el 4to elemento por 1, e imprime el array por pantalla"
   ],
   "metadata": {}
  },
  {
   "cell_type": "code",
   "execution_count": null,
   "source": [],
   "outputs": [],
   "metadata": {}
  },
  {
   "cell_type": "markdown",
   "source": [
    "## Ejercicio 12\r\n",
    "Crea un vector que vaya del 10 al 49\r\n",
    "\r\n",
    "Inviértelo"
   ],
   "metadata": {}
  },
  {
   "cell_type": "code",
   "execution_count": 12,
   "source": [
    "x = np.arange(10, 50)\r\n",
    "print(x)\r\n",
    "print(x[::-1])"
   ],
   "outputs": [
    {
     "output_type": "stream",
     "name": "stdout",
     "text": [
      "[10 11 12 13 14 15 16 17 18 19 20 21 22 23 24 25 26 27 28 29 30 31 32 33\n",
      " 34 35 36 37 38 39 40 41 42 43 44 45 46 47 48 49]\n",
      "[49 48 47 46 45 44 43 42 41 40 39 38 37 36 35 34 33 32 31 30 29 28 27 26\n",
      " 25 24 23 22 21 20 19 18 17 16 15 14 13 12 11 10]\n"
     ]
    }
   ],
   "metadata": {}
  },
  {
   "cell_type": "markdown",
   "source": [
    "## Ejericio 13\r\n",
    "Encuentra los indices de los valores que no sean 0 del siguiente vector [1,2,0,0,4,0]. El output sería [0, 1, 4]. [Encuentra el método apropiado en la documentación.](https://numpy.org/doc/)"
   ],
   "metadata": {}
  },
  {
   "cell_type": "code",
   "execution_count": null,
   "source": [],
   "outputs": [],
   "metadata": {}
  },
  {
   "cell_type": "markdown",
   "source": [
    "## Ejercicio 14\r\n",
    "Crea una matriz de numeros aleatorios 10x10. Encuentra los valores mínimo y máximo."
   ],
   "metadata": {}
  },
  {
   "cell_type": "code",
   "execution_count": null,
   "source": [],
   "outputs": [],
   "metadata": {}
  },
  {
   "cell_type": "markdown",
   "source": [
    "## Ejercicio 15\r\n",
    "Crea un vector aleatorio de tamaño 30 y calcula su media"
   ],
   "metadata": {}
  },
  {
   "cell_type": "code",
   "execution_count": null,
   "source": [],
   "outputs": [],
   "metadata": {}
  },
  {
   "cell_type": "markdown",
   "source": [
    "## Ejercicio 16\r\n",
    "Crea un array cuadrado de 2D, con las dimensiones que quiras, pero que todo el borde esté compuesto por 1s, y el interior por 0s"
   ],
   "metadata": {}
  },
  {
   "cell_type": "code",
   "execution_count": null,
   "source": [],
   "outputs": [],
   "metadata": {}
  },
  {
   "cell_type": "markdown",
   "source": [
    "## Ejercicio 17\r\n",
    "Crea una mtriz de 8x8, y rellénala con 0s y 1s. Tienes que replicar:\r\n",
    "```Python\r\n",
    "[[0 1 0 1 0 1 0 1]\r\n",
    " [1 0 1 0 1 0 1 0]\r\n",
    " [0 1 0 1 0 1 0 1]\r\n",
    " [1 0 1 0 1 0 1 0]\r\n",
    " [0 1 0 1 0 1 0 1]\r\n",
    " [1 0 1 0 1 0 1 0]\r\n",
    " [0 1 0 1 0 1 0 1]\r\n",
    " [1 0 1 0 1 0 1 0]]\r\n",
    "```"
   ],
   "metadata": {}
  },
  {
   "cell_type": "code",
   "execution_count": null,
   "source": [],
   "outputs": [],
   "metadata": {}
  },
  {
   "cell_type": "markdown",
   "source": [
    "## Ejercicio 18\r\n",
    "Replica la matriz del apartado anterior, pero en este caso usando [la función `tile`](https://numpy.org/doc/stable/reference/generated/numpy.tile.html)"
   ],
   "metadata": {}
  },
  {
   "cell_type": "code",
   "execution_count": null,
   "source": [],
   "outputs": [],
   "metadata": {}
  },
  {
   "cell_type": "markdown",
   "source": [
    "## Ejercicio 9\r\n",
    "Crea una matriz aleatoria de 5x5 y normaliza sus valores. Para normalizar tienes que restar sus valores por la media(`np.mean`) y dividir el resultado por la desviación estándar(`np.std`)."
   ],
   "metadata": {}
  },
  {
   "cell_type": "code",
   "execution_count": null,
   "source": [],
   "outputs": [],
   "metadata": {}
  },
  {
   "cell_type": "markdown",
   "source": [
    "## Ejercicio 10\r\n",
    "1. Crea una secuencia de números que vayan del 0 al 10.\r\n",
    "2. Crea un nuevo array, que parta del anterior, pero sustituya todos los elementos entre el 3 y el 8, por el valor -1\r\n",
    "3. Crea un nuevo array que niegue todos los elementos entre el 3 y el 8"
   ],
   "metadata": {}
  },
  {
   "cell_type": "code",
   "execution_count": null,
   "source": [],
   "outputs": [],
   "metadata": {}
  },
  {
   "cell_type": "markdown",
   "source": [
    "## Ejercicio 11\r\n",
    "#### Bonus track. Mini hundir la flota\r\n",
    "1. Crea un tablero de 10x10 relleno del carácter espacio ( ).\r\n",
    "2. Posiciona un par de barcos en [(0,1), (1,1)] y [(1,3), (1,4), (1,5), (1,6)]. Los barcos serán Os mayúsculas. Como ves, un barco de dos posiciones de eslora y otro de cuatro.\r\n",
    "3. Recibe un disparo en uno de los barcos, sustituyendo la O por una X\r\n",
    "4. Recibe un disparo en agua, sustituyendo uno de los espacios por un guión: -\r\n",
    "5. Ignorando los disparos recibidos, ahora prueba a posicionar otro barco de 4 posiciones dentro del tablero, pero **de manera ALEATORIA.**\r\n",
    "\r\n",
    "**TIP apartado 5**: El barco tendrá una posición inicial aleatoria dentro del tablero, y una orientación también aleatoria (N,S,E,O).\r\n",
    "\r\n",
    "Por ejemplo, si tu posicion inicial fuese (5,0) y la orientación O, no podrias ponerlo porque se sale del tablero. Ahora bien, si fuese orientación este, si podrías, y ocuparía las posiciones [(5,0), (5,1), (5,2), (5,3)]. Por tanto tendrás que iterar con un bucle si es posible encajar el barco en el tablero, y el bucle terminará cuando lo consigas encajar. **Ojo con las posiciones donde ya hay barco!!!**\r\n",
    "\r\n",
    "Usa `import random` para elegir las coordenadas aleatorias."
   ],
   "metadata": {}
  },
  {
   "cell_type": "code",
   "execution_count": 16,
   "source": [
    "tablero = np.full(fill_value = ' ', shape = (10, 10))\r\n",
    "print(tablero)"
   ],
   "outputs": [
    {
     "output_type": "stream",
     "name": "stdout",
     "text": [
      "[[' ' ' ' ' ' ' ' ' ' ' ' ' ' ' ' ' ' ' ']\n",
      " [' ' ' ' ' ' ' ' ' ' ' ' ' ' ' ' ' ' ' ']\n",
      " [' ' ' ' ' ' ' ' ' ' ' ' ' ' ' ' ' ' ' ']\n",
      " [' ' ' ' ' ' ' ' ' ' ' ' ' ' ' ' ' ' ' ']\n",
      " [' ' ' ' ' ' ' ' ' ' ' ' ' ' ' ' ' ' ' ']\n",
      " [' ' ' ' ' ' ' ' ' ' ' ' ' ' ' ' ' ' ' ']\n",
      " [' ' ' ' ' ' ' ' ' ' ' ' ' ' ' ' ' ' ' ']\n",
      " [' ' ' ' ' ' ' ' ' ' ' ' ' ' ' ' ' ' ' ']\n",
      " [' ' ' ' ' ' ' ' ' ' ' ' ' ' ' ' ' ' ' ']\n",
      " [' ' ' ' ' ' ' ' ' ' ' ' ' ' ' ' ' ' ' ']]\n"
     ]
    }
   ],
   "metadata": {}
  },
  {
   "cell_type": "code",
   "execution_count": 61,
   "source": [
    "tablero = np.full(fill_value = '_', shape = (10, 10))\r\n",
    "tablero[0:2, 1] = 'O'\r\n",
    "# tablero[1, 1] = 'O'\r\n",
    "# tablero[1, 3:7] = 'O'\r\n",
    "# tablero[0, 1] = 'X'\r\n",
    "# tablero[0,0] = '-'\r\n",
    "# tablero[2,6] = '-'\r\n",
    "print(tablero)"
   ],
   "outputs": [
    {
     "output_type": "stream",
     "name": "stdout",
     "text": [
      "[['_' 'O' '_' '_' '_' '_' '_' '_' '_' '_']\n",
      " ['_' 'O' '_' '_' '_' '_' '_' '_' '_' '_']\n",
      " ['_' '_' '_' '_' '_' '_' '_' '_' '_' '_']\n",
      " ['_' '_' '_' '_' '_' '_' '_' '_' '_' '_']\n",
      " ['_' '_' '_' '_' '_' '_' '_' '_' '_' '_']\n",
      " ['_' '_' '_' '_' '_' '_' '_' '_' '_' '_']\n",
      " ['_' '_' '_' '_' '_' '_' '_' '_' '_' '_']\n",
      " ['_' '_' '_' '_' '_' '_' '_' '_' '_' '_']\n",
      " ['_' '_' '_' '_' '_' '_' '_' '_' '_' '_']\n",
      " ['_' '_' '_' '_' '_' '_' '_' '_' '_' '_']]\n"
     ]
    }
   ],
   "metadata": {}
  },
  {
   "cell_type": "code",
   "execution_count": null,
   "source": [
    "lista_alumnos[0][0]"
   ],
   "outputs": [],
   "metadata": {}
  },
  {
   "cell_type": "code",
   "execution_count": 45,
   "source": [
    "tablero = np.full(fill_value = ' ', shape = (10, 10))\r\n",
    "for i in range(len(tablero)):\r\n",
    "    # print(i)\r\n",
    "    print(tablero[i][i])\r\n",
    "    print('-----')"
   ],
   "outputs": [
    {
     "output_type": "stream",
     "name": "stdout",
     "text": [
      " \n",
      "-----\n",
      " \n",
      "-----\n",
      " \n",
      "-----\n",
      " \n",
      "-----\n",
      " \n",
      "-----\n",
      " \n",
      "-----\n",
      " \n",
      "-----\n",
      " \n",
      "-----\n",
      " \n",
      "-----\n",
      " \n",
      "-----\n"
     ]
    }
   ],
   "metadata": {}
  },
  {
   "cell_type": "code",
   "execution_count": 46,
   "source": [
    "tablero = np.full(fill_value = ' ', shape = (10, 10))\r\n",
    "print(tablero)\r\n",
    "print('-----')\r\n",
    "for i in range(len(tablero)):\r\n",
    "    # print('i', i)\r\n",
    "    tablero[i][i] = 'O'\r\n",
    "print(tablero)"
   ],
   "outputs": [
    {
     "output_type": "stream",
     "name": "stdout",
     "text": [
      "[[' ' ' ' ' ' ' ' ' ' ' ' ' ' ' ' ' ' ' ']\n",
      " [' ' ' ' ' ' ' ' ' ' ' ' ' ' ' ' ' ' ' ']\n",
      " [' ' ' ' ' ' ' ' ' ' ' ' ' ' ' ' ' ' ' ']\n",
      " [' ' ' ' ' ' ' ' ' ' ' ' ' ' ' ' ' ' ' ']\n",
      " [' ' ' ' ' ' ' ' ' ' ' ' ' ' ' ' ' ' ' ']\n",
      " [' ' ' ' ' ' ' ' ' ' ' ' ' ' ' ' ' ' ' ']\n",
      " [' ' ' ' ' ' ' ' ' ' ' ' ' ' ' ' ' ' ' ']\n",
      " [' ' ' ' ' ' ' ' ' ' ' ' ' ' ' ' ' ' ' ']\n",
      " [' ' ' ' ' ' ' ' ' ' ' ' ' ' ' ' ' ' ' ']\n",
      " [' ' ' ' ' ' ' ' ' ' ' ' ' ' ' ' ' ' ' ']]\n",
      "-----\n",
      "[['O' ' ' ' ' ' ' ' ' ' ' ' ' ' ' ' ' ' ']\n",
      " [' ' 'O' ' ' ' ' ' ' ' ' ' ' ' ' ' ' ' ']\n",
      " [' ' ' ' 'O' ' ' ' ' ' ' ' ' ' ' ' ' ' ']\n",
      " [' ' ' ' ' ' 'O' ' ' ' ' ' ' ' ' ' ' ' ']\n",
      " [' ' ' ' ' ' ' ' 'O' ' ' ' ' ' ' ' ' ' ']\n",
      " [' ' ' ' ' ' ' ' ' ' 'O' ' ' ' ' ' ' ' ']\n",
      " [' ' ' ' ' ' ' ' ' ' ' ' 'O' ' ' ' ' ' ']\n",
      " [' ' ' ' ' ' ' ' ' ' ' ' ' ' 'O' ' ' ' ']\n",
      " [' ' ' ' ' ' ' ' ' ' ' ' ' ' ' ' 'O' ' ']\n",
      " [' ' ' ' ' ' ' ' ' ' ' ' ' ' ' ' ' ' 'O']]\n"
     ]
    }
   ],
   "metadata": {}
  },
  {
   "cell_type": "code",
   "execution_count": 34,
   "source": [
    "tablero = np.full(fill_value = ' ', shape = (10, 10))\r\n",
    "print(tablero)\r\n",
    "print('-----')\r\n",
    "tablero[0][1] = 'O'\r\n",
    "print(tablero)"
   ],
   "outputs": [
    {
     "output_type": "stream",
     "name": "stdout",
     "text": [
      "[[' ' ' ' ' ' ' ' ' ' ' ' ' ' ' ' ' ' ' ']\n",
      " [' ' ' ' ' ' ' ' ' ' ' ' ' ' ' ' ' ' ' ']\n",
      " [' ' ' ' ' ' ' ' ' ' ' ' ' ' ' ' ' ' ' ']\n",
      " [' ' ' ' ' ' ' ' ' ' ' ' ' ' ' ' ' ' ' ']\n",
      " [' ' ' ' ' ' ' ' ' ' ' ' ' ' ' ' ' ' ' ']\n",
      " [' ' ' ' ' ' ' ' ' ' ' ' ' ' ' ' ' ' ' ']\n",
      " [' ' ' ' ' ' ' ' ' ' ' ' ' ' ' ' ' ' ' ']\n",
      " [' ' ' ' ' ' ' ' ' ' ' ' ' ' ' ' ' ' ' ']\n",
      " [' ' ' ' ' ' ' ' ' ' ' ' ' ' ' ' ' ' ' ']\n",
      " [' ' ' ' ' ' ' ' ' ' ' ' ' ' ' ' ' ' ' ']]\n",
      "-----\n",
      "[[' ' 'O' ' ' ' ' ' ' ' ' ' ' ' ' ' ' ' ']\n",
      " [' ' ' ' ' ' ' ' ' ' ' ' ' ' ' ' ' ' ' ']\n",
      " [' ' ' ' ' ' ' ' ' ' ' ' ' ' ' ' ' ' ' ']\n",
      " [' ' ' ' ' ' ' ' ' ' ' ' ' ' ' ' ' ' ' ']\n",
      " [' ' ' ' ' ' ' ' ' ' ' ' ' ' ' ' ' ' ' ']\n",
      " [' ' ' ' ' ' ' ' ' ' ' ' ' ' ' ' ' ' ' ']\n",
      " [' ' ' ' ' ' ' ' ' ' ' ' ' ' ' ' ' ' ' ']\n",
      " [' ' ' ' ' ' ' ' ' ' ' ' ' ' ' ' ' ' ' ']\n",
      " [' ' ' ' ' ' ' ' ' ' ' ' ' ' ' ' ' ' ' ']\n",
      " [' ' ' ' ' ' ' ' ' ' ' ' ' ' ' ' ' ' ' ']]\n"
     ]
    }
   ],
   "metadata": {}
  }
 ],
 "metadata": {
  "kernelspec": {
   "name": "python3",
   "display_name": "Python 3.7.4 64-bit"
  },
  "language_info": {
   "codemirror_mode": {
    "name": "ipython",
    "version": 3
   },
   "file_extension": ".py",
   "mimetype": "text/x-python",
   "name": "python",
   "nbconvert_exporter": "python",
   "pygments_lexer": "ipython3",
   "version": "3.7.4"
  },
  "interpreter": {
   "hash": "7c77fdb427e7cbc9bc1367dd530fc2b36aacdbbde1ac83c85833b10dfa8b831c"
  }
 },
 "nbformat": 4,
 "nbformat_minor": 4
}