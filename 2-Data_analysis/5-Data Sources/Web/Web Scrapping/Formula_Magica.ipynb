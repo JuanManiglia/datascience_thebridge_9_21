{
 "cells": [
  {
   "cell_type": "code",
   "execution_count": 1,
   "metadata": {},
   "outputs": [],
   "source": [
    "# Crawler de la página de MARCA\n",
    "import sys\n",
    "#!{sys.executable} -m pip install beautifulsoup4\n",
    "\n",
    "import urllib\n",
    "from bs4 import BeautifulSoup\n",
    "\n",
    "import pandas as pd\n",
    "    "
   ]
  },
  {
   "cell_type": "code",
   "execution_count": 2,
   "metadata": {},
   "outputs": [],
   "source": [
    "import urllib.request\n",
    "\n",
    "user_agent = 'Mozilla/5.0 (Windows; U; Windows NT 5.1; en-US; rv:1.9.0.7) Gecko/2009021910 Firefox/3.0.7'\n",
    "url = \"https://uk.investing.com/equities/apple-computer-inc-balance-sheet\"\n"
   ]
  },
  {
   "cell_type": "code",
   "execution_count": 3,
   "metadata": {},
   "outputs": [],
   "source": [
    "\n",
    "data= {'Nombre':'','2020':'','2019':' ','2018':'','2017':''}\n",
    "balance = pd.DataFrame (data, columns = ['Nombre','2020','2019','2018','2017'], index=[0])"
   ]
  },
  {
   "cell_type": "code",
   "execution_count": 4,
   "metadata": {},
   "outputs": [
    {
     "name": "stdout",
     "output_type": "stream",
     "text": [
      "Apple Inc (AAPL)\t\n"
     ]
    }
   ],
   "source": [
    "\n",
    "headers={'User-Agent':user_agent,} \n",
    "\n",
    "request=urllib.request.Request(url,None,headers) #The assembled request\n",
    "response = urllib.request.urlopen(request)\n",
    "data = response.read() # The data u need\n",
    "\n",
    "soup=BeautifulSoup(data)\n",
    "tags=soup.find_all(class_=\"float_lang_base_1 relativeAttr\")\n",
    "for tag in tags:\n",
    "    nombre_empresa=tag.string\n",
    "print(nombre_empresa)\n",
    "tags=soup.find_all(\"tr\", class_='child')\n",
    "nombres=['','','','','','']\n",
    "for tag in tags:\n",
    "    i=0\n",
    "    tags_2=tag.find_all(\"td\")\n",
    "    for tag_2 in tags_2:\n",
    "        nombres[i]=tag_2.string    \n",
    "        i=i+1\n",
    "    balance=balance.append({'Nombre':nombres[0],'2020':nombres[1],'2019':nombres[2],'2018':nombres[3],'2017':nombres[4]},ignore_index=True)\n"
   ]
  },
  {
   "cell_type": "code",
   "execution_count": 5,
   "metadata": {},
   "outputs": [],
   "source": [
    "def get_balance_sheet(url,user_agent,balance):\n",
    "    \n",
    "    headers={'User-Agent':user_agent,} \n",
    "\n",
    "    request=urllib.request.Request(url,None,headers) #The assembled request\n",
    "    response = urllib.request.urlopen(request)\n",
    "    data = response.read() # The data u need\n",
    "\n",
    "    soup=BeautifulSoup(data)\n",
    "    tags=soup.find_all(class_=\"float_lang_base_1 relativeAttr\")\n",
    "    for tag in tags:\n",
    "        nombre_empresa=tag.string\n",
    "    print(nombre_empresa)\n",
    "    tags=soup.find_all(\"tr\", class_='child')\n",
    "    nombres=['','','','','','']\n",
    "    for tag in tags:\n",
    "        i=0\n",
    "        tags_2=tag.find_all(\"td\")\n",
    "        for tag_2 in tags_2:\n",
    "            nombres[i]=tag_2.string    \n",
    "            i=i+1\n",
    "        balance=balance.append({'Nombre':nombres[0],'2020':nombres[1],'2019':nombres[2],'2018':nombres[3],'2017':nombres[4]},ignore_index=True)\n",
    "\n",
    "    return nombre_empresa,balance"
   ]
  },
  {
   "cell_type": "code",
   "execution_count": null,
   "metadata": {},
   "outputs": [],
   "source": []
  },
  {
   "cell_type": "code",
   "execution_count": 6,
   "metadata": {},
   "outputs": [],
   "source": [
    "def get_invested_capital (balance):\n",
    "\n",
    "    balance=balance.replace(\"-\", \"0\")\n",
    "\n",
    "    cash_20=float(balance.iloc[1]['2020'])\n",
    "    cash_19=float(balance.iloc[1]['2019'])\n",
    "    cash_18=float(balance.iloc[1]['2018'])\n",
    "    cash_17=float(balance.iloc[1]['2017'])\n",
    "\n",
    "    print(cash_20)\n",
    "    if(balance.iloc[13]['2020']!= '0'):\n",
    "        goodwill_20=float(balance.iloc[13]['2020'])\n",
    "    else:\n",
    "        goodwill_20=0\n",
    "    if(balance.iloc[13]['2019']!= '0'):\n",
    "        goodwill_19=float(balance.iloc[13]['2019'])\n",
    "    else:\n",
    "        goodwill_19=0\n",
    "    if(balance.iloc[13]['2018']!= '0'):\n",
    "        goodwill_18=float(balance.iloc[13]['2018'])\n",
    "    else:\n",
    "        goodwill_18=0\n",
    "    if(balance.iloc[13]['2017']!= '0'):\n",
    "        goodwill_17=float(balance.iloc[13]['2017'])\n",
    "    else:\n",
    "        goodwill_17=0\n",
    "\n",
    "    if(balance.iloc[25]['2020']!='0'): \n",
    "        total_assets_20=float(balance.iloc[10]['2020'])+float(balance.iloc[13]['2020'])+float(balance.iloc[14]['2020'])+float(balance.iloc[15]['2020'])+float(balance.iloc[17]['2020'])\n",
    "        total_liabilities_20=float(balance.iloc[25]['2020'])+float(balance.iloc[28]['2020'])+float(balance.iloc[29]['2020'])+float(balance.iloc[30]['2020'])\n",
    "        book_value_equity_20=total_assets_20-total_liabilities_20\n",
    "\n",
    "    total_assets_19=float(balance.iloc[10]['2019'])+float(balance.iloc[13]['2019'])+float(balance.iloc[14]['2019'])+float(balance.iloc[15]['2019'])+float(balance.iloc[17]['2019'])\n",
    "    total_liabilities_19=float(balance.iloc[25]['2019'])+float(balance.iloc[28]['2019'])+float(balance.iloc[29]['2019'])+float(balance.iloc[30]['2019'])\n",
    "    book_value_equity_19=total_assets_19-total_liabilities_19\n",
    "\n",
    "    total_assets_18=float(balance.iloc[10]['2018'])+float(balance.iloc[13]['2018'])+float(balance.iloc[14]['2018'])+float(balance.iloc[15]['2018'])+float(balance.iloc[17]['2018'])\n",
    "    total_liabilities_18=float(balance.iloc[25]['2018'])+float(balance.iloc[28]['2018'])+float(balance.iloc[29]['2018'])+float(balance.iloc[30]['2018'])\n",
    "    book_value_equity_18=total_assets_18-total_liabilities_18\n",
    "\n",
    "    total_assets_17=float(balance.iloc[10]['2017'])+float(balance.iloc[13]['2017'])+float(balance.iloc[14]['2017'])+float(balance.iloc[15]['2017'])+float(balance.iloc[17]['2017'])\n",
    "    total_liabilities_17=float(balance.iloc[25]['2017'])+float(balance.iloc[28]['2017'])+float(balance.iloc[29]['2017'])+float(balance.iloc[30]['2017'])\n",
    "    book_value_equity_17=total_assets_17-total_liabilities_17\n",
    "\n",
    "    book_value_debt_20= (float(balance.iloc[25]['2020'])+float(balance.iloc[19]['2020'])+float(balance.iloc[20]['2020'])\n",
    "    +float(balance.iloc[21]['2020'])+float(balance.iloc[22]['2020'])+float(balance.iloc[23]['2020'])+float(balance.iloc[24]['2020'])\n",
    "                         +float(balance.iloc[28]['2020'])+float(balance.iloc[29]['2020'])+float(balance.iloc[30]['2020']))\n",
    "\n",
    "    book_value_debt_19= (float(balance.iloc[25]['2019'])+float(balance.iloc[19]['2019'])+float(balance.iloc[20]['2019'])\n",
    "    +float(balance.iloc[21]['2019'])+float(balance.iloc[22]['2019'])+float(balance.iloc[23]['2019'])+float(balance.iloc[24]['2019'])\n",
    "                         +float(balance.iloc[28]['2019'])+float(balance.iloc[29]['2019'])+float(balance.iloc[30]['2019']))\n",
    "\n",
    "    book_value_debt_18= (float(balance.iloc[25]['2018'])+float(balance.iloc[19]['2018'])+float(balance.iloc[20]['2018'])\n",
    "    +float(balance.iloc[21]['2018'])+float(balance.iloc[22]['2018'])+float(balance.iloc[23]['2018'])+float(balance.iloc[24]['2018'])\n",
    "                         +float(balance.iloc[28]['2018'])+float(balance.iloc[29]['2018'])+float(balance.iloc[30]['2018']))\n",
    "\n",
    "    book_value_debt_17= (float(balance.iloc[25]['2017'])+float(balance.iloc[19]['2017'])+float(balance.iloc[20]['2017'])\n",
    "    +float(balance.iloc[21]['2017'])+float(balance.iloc[22]['2017'])+float(balance.iloc[23]['2017'])+float(balance.iloc[24]['2017'])\n",
    "                         +float(balance.iloc[28]['2017'])+float(balance.iloc[29]['2017'])+float(balance.iloc[30]['2017']))\n",
    "\n",
    "    book_value_invested_cap_20 = book_value_debt_20+ book_value_equity_20-goodwill_20-cash_20\n",
    "    book_value_invested_cap_19 = book_value_debt_19+ book_value_equity_19-goodwill_19-cash_19\n",
    "    book_value_invested_cap_18 = book_value_debt_18+ book_value_equity_18-goodwill_18-cash_18\n",
    "    book_value_invested_cap_17 = book_value_debt_17+ book_value_equity_17-goodwill_17-cash_17\n",
    "\n",
    "    return book_value_invested_cap_20,book_value_invested_cap_19, book_value_invested_cap_18, book_value_invested_cap_17"
   ]
  },
  {
   "cell_type": "code",
   "execution_count": 7,
   "metadata": {
    "scrolled": true
   },
   "outputs": [
    {
     "name": "stdout",
     "output_type": "stream",
     "text": [
      "93025.0\n"
     ]
    }
   ],
   "source": [
    "book_value_invested_cap_20,book_value_invested_cap_19,book_value_invested_cap_18,book_value_invested_cap_17=get_invested_capital(balance)"
   ]
  },
  {
   "cell_type": "markdown",
   "metadata": {},
   "source": [
    "Income Statement"
   ]
  },
  {
   "cell_type": "code",
   "execution_count": 8,
   "metadata": {},
   "outputs": [],
   "source": [
    "\n",
    "def get_NOPAT(url):\n",
    "    \n",
    "    headers={'User-Agent':user_agent,} \n",
    "    request=urllib.request.Request(url,None,headers) #The assembled request\n",
    "    response = urllib.request.urlopen(request)\n",
    "    data = response.read() # The data u need\n",
    "    soup=BeautifulSoup(data)\n",
    "    tags=soup.find_all(class_=\"float_lang_base_1 relativeAttr\")\n",
    "\n",
    "    for tag in tags:\n",
    "        nombre_empresa=tag.string\n",
    "    print(nombre_empresa)\n",
    "\n",
    "    import pandas as pd\n",
    "    data= {'Nombre':nombre_empresa,'2020':0,'2019':0,'2018':0,'2017':0}\n",
    "    income = pd.DataFrame (data, columns = ['Nombre','2020','2019','2018','2017'], index=[0])\n",
    "\n",
    "    tags=soup.find_all(\"tbody\")\n",
    "    nombres=['',0,0,0,0,0,0,0,0,0,0,0,0]\n",
    "    for tag in tags:\n",
    "\n",
    "        tags_2=tag.find_all(\"span\", class_=' bold')\n",
    "\n",
    "        for tag_2 in tags_2:\n",
    "            i=0\n",
    "            if(tag_2.next=='Operating Income'):\n",
    "                nombre=tag_2.next #Operating Income\n",
    "                ano_20=tag_2.next.next.next.next.string #1091\n",
    "                ano_19=tag_2.next.next.next.next.next.next.next.string #961\n",
    "                 #169\n",
    "                ano_18=tag_2.next.next.next.next.next.next.next.next.next.string\n",
    "\n",
    "                ano_17=tag_2.next.next.next.next.next.next.next.next.next.next.next.next.string\n",
    "\n",
    "                income=income.append({'Nombre':nombre,'2020':ano_20,'2019':ano_19,'2018':ano_18,'2017':ano_17},ignore_index=True)\n",
    "    \n",
    "    NOPAT_2020 = float(income.iloc[1]['2020'])*(0.75)\n",
    "    NOPAT_2019 = float(income.iloc[1]['2019'])*(0.75)\n",
    "    NOPAT_2018 = float(income.iloc[1]['2018'])*(0.75)\n",
    "    NOPAT_2017 = float(income.iloc[1]['2017'])*(0.75)\n",
    "    \n",
    "    return nombre_empresa,NOPAT_2020,NOPAT_2019,NOPAT_2018,NOPAT_2017\n"
   ]
  },
  {
   "cell_type": "code",
   "execution_count": 9,
   "metadata": {},
   "outputs": [],
   "source": [
    "urls=['https://uk.investing.com/equities/apple-computer-inc-balance-sheet',\n",
    "      'https://uk.investing.com/equities/toyota-motor-corporation-balance-sheet',\n",
    "      'https://uk.investing.com/equities/hewlett-pack-balance-sheet',\n",
    "     'https://uk.investing.com/equities/altria-group-balance-sheet']\n",
    "urls_2=[\"https://uk.investing.com/equities/apple-computer-inc-income-statement\"\n",
    "        ,'https://uk.investing.com/equities/toyota-motor-corporation-income-statement',\n",
    "       'https://uk.investing.com/equities/hewlett-pack-income-statement',\n",
    "       'https://uk.investing.com/equities/altria-group-income-statement']\n"
   ]
  },
  {
   "cell_type": "code",
   "execution_count": 10,
   "metadata": {},
   "outputs": [],
   "source": [
    "data= {'Nombre':'nombre_empresa','inv_cap_20':'book_value_invested_cap_20','inv_cap_19':'book_value_invested_cap_19',\n",
    "       'inv_cap_18':'book_value_invested_cap_18','inv_cap_17':'book_value_invested_cap_17'}\n",
    "inv_cap = pd.DataFrame (data, columns = ['Nombre','inv_cap_20','inv_cap_19','inv_cap_18','inv_cap_17'], index=[0])"
   ]
  },
  {
   "cell_type": "code",
   "execution_count": 11,
   "metadata": {},
   "outputs": [],
   "source": [
    "inv_cap.drop(inv_cap.index, inplace=True)"
   ]
  },
  {
   "cell_type": "code",
   "execution_count": 12,
   "metadata": {},
   "outputs": [
    {
     "name": "stdout",
     "output_type": "stream",
     "text": [
      "Apple Inc (AAPL)\t\n",
      "https://uk.investing.com/equities/apple-computer-inc-balance-sheet\n",
      "93025.0\n",
      "178690.0\n",
      "Toyota Motor Corp (7203)\t\n",
      "https://uk.investing.com/equities/toyota-motor-corporation-balance-sheet\n",
      "0.0\n",
      "73518768.0\n",
      "HP Inc (HPQ)\t\n",
      "https://uk.investing.com/equities/hewlett-pack-balance-sheet\n",
      "0.0\n",
      "23352.0\n",
      "Altria Group (MO)\t\n",
      "https://uk.investing.com/equities/altria-group-balance-sheet\n",
      "0.0\n",
      "66645.0\n"
     ]
    }
   ],
   "source": [
    "for i in urls:\n",
    "    nombre_empresa,balance=get_balance_sheet(i,user_agent,balance)\n",
    "    print(i)\n",
    "    book_value_invested_cap_20,book_value_invested_cap_19,book_value_invested_cap_18,book_value_invested_cap_17=get_invested_capital(balance)\n",
    "    print(book_value_invested_cap_19)\n",
    "    a_row = [nombre_empresa,book_value_invested_cap_20,book_value_invested_cap_19,book_value_invested_cap_18,book_value_invested_cap_17]\n",
    "    row_df = pd.DataFrame([a_row],columns=['Nombre','inv_cap_20','inv_cap_19','inv_cap_18','inv_cap_17'])\n",
    "    inv_cap = pd.concat([row_df, inv_cap])\n",
    "    balance.drop(balance.index, inplace=True)"
   ]
  },
  {
   "cell_type": "code",
   "execution_count": 13,
   "metadata": {},
   "outputs": [
    {
     "data": {
      "text/html": [
       "<div>\n",
       "<style scoped>\n",
       "    .dataframe tbody tr th:only-of-type {\n",
       "        vertical-align: middle;\n",
       "    }\n",
       "\n",
       "    .dataframe tbody tr th {\n",
       "        vertical-align: top;\n",
       "    }\n",
       "\n",
       "    .dataframe thead th {\n",
       "        text-align: right;\n",
       "    }\n",
       "</style>\n",
       "<table border=\"1\" class=\"dataframe\">\n",
       "  <thead>\n",
       "    <tr style=\"text-align: right;\">\n",
       "      <th></th>\n",
       "      <th>Nombre</th>\n",
       "      <th>inv_cap_20</th>\n",
       "      <th>inv_cap_19</th>\n",
       "      <th>inv_cap_18</th>\n",
       "      <th>inv_cap_17</th>\n",
       "    </tr>\n",
       "  </thead>\n",
       "  <tbody>\n",
       "    <tr>\n",
       "      <th>0</th>\n",
       "      <td>Altria Group (MO)</td>\n",
       "      <td>64125.0</td>\n",
       "      <td>66645.0</td>\n",
       "      <td>63243.0</td>\n",
       "      <td>66256.0</td>\n",
       "    </tr>\n",
       "    <tr>\n",
       "      <th>0</th>\n",
       "      <td>HP Inc (HPQ)</td>\n",
       "      <td>23467.0</td>\n",
       "      <td>23352.0</td>\n",
       "      <td>22405.0</td>\n",
       "      <td>21488.0</td>\n",
       "    </tr>\n",
       "    <tr>\n",
       "      <th>0</th>\n",
       "      <td>Toyota Motor Corp (7203)</td>\n",
       "      <td>76692104.0</td>\n",
       "      <td>73518768.0</td>\n",
       "      <td>73963308.0</td>\n",
       "      <td>71595363.0</td>\n",
       "    </tr>\n",
       "    <tr>\n",
       "      <th>0</th>\n",
       "      <td>Apple Inc (AAPL)</td>\n",
       "      <td>179572.0</td>\n",
       "      <td>178690.0</td>\n",
       "      <td>172386.0</td>\n",
       "      <td>180858.0</td>\n",
       "    </tr>\n",
       "  </tbody>\n",
       "</table>\n",
       "</div>"
      ],
      "text/plain": [
       "                      Nombre  inv_cap_20  inv_cap_19  inv_cap_18  inv_cap_17\n",
       "0         Altria Group (MO)\t     64125.0     66645.0     63243.0     66256.0\n",
       "0              HP Inc (HPQ)\t     23467.0     23352.0     22405.0     21488.0\n",
       "0  Toyota Motor Corp (7203)\t  76692104.0  73518768.0  73963308.0  71595363.0\n",
       "0          Apple Inc (AAPL)\t    179572.0    178690.0    172386.0    180858.0"
      ]
     },
     "execution_count": 13,
     "metadata": {},
     "output_type": "execute_result"
    }
   ],
   "source": [
    "inv_cap"
   ]
  },
  {
   "cell_type": "code",
   "execution_count": 14,
   "metadata": {},
   "outputs": [],
   "source": [
    "data= {'Nombre':'nombre_empresa','nopat_20':'nopat_20','nopat_19':'nopat_19',\n",
    "       'nopat_18':'nopat_18','nopat_17':'nopat_17'}\n",
    "nopat = pd.DataFrame (data, columns = ['Nombre','nopat_20','nopat_19','nopat_18','nopat_17'], index=[0])\n",
    "\n",
    "nopat.drop(nopat.index, inplace=True)"
   ]
  },
  {
   "cell_type": "code",
   "execution_count": 15,
   "metadata": {},
   "outputs": [
    {
     "name": "stdout",
     "output_type": "stream",
     "text": [
      "Apple Inc (AAPL)\t\n",
      "Apple Inc (AAPL)\t 9818.25 9639.75 19176.75 11718.75\n",
      "Toyota Motor Corp (7203)\t\n",
      "Toyota Motor Corp (7203)\t 10440.0 -728.25 652107.75 537780.75\n",
      "HP Inc (HPQ)\t\n",
      "HP Inc (HPQ)\t 619.5 648.75 708.0 809.25\n",
      "Altria Group (MO)\t\n",
      "Altria Group (MO)\t 2126.25 1645.5 -1347.0 -1648.5\n"
     ]
    }
   ],
   "source": [
    "for i in urls_2:\n",
    "    nombre_empresa,NOPAT_2020,NOPAT_2019,NOPAT_2018,NOPAT_2017=get_NOPAT(i)\n",
    "    a_row = [nombre_empresa,NOPAT_2020,NOPAT_2019,NOPAT_2018,NOPAT_2017]\n",
    "    print(nombre_empresa,NOPAT_2020,NOPAT_2019,NOPAT_2018,NOPAT_2017)\n",
    "    row_df = pd.DataFrame([a_row],columns=['Nombre','nopat_20','nopat_19','nopat_18','nopat_17'])\n",
    "    nopat = pd.concat([row_df, nopat])"
   ]
  },
  {
   "cell_type": "code",
   "execution_count": 16,
   "metadata": {},
   "outputs": [
    {
     "data": {
      "text/html": [
       "<div>\n",
       "<style scoped>\n",
       "    .dataframe tbody tr th:only-of-type {\n",
       "        vertical-align: middle;\n",
       "    }\n",
       "\n",
       "    .dataframe tbody tr th {\n",
       "        vertical-align: top;\n",
       "    }\n",
       "\n",
       "    .dataframe thead th {\n",
       "        text-align: right;\n",
       "    }\n",
       "</style>\n",
       "<table border=\"1\" class=\"dataframe\">\n",
       "  <thead>\n",
       "    <tr style=\"text-align: right;\">\n",
       "      <th></th>\n",
       "      <th>Nombre</th>\n",
       "      <th>nopat_20</th>\n",
       "      <th>nopat_19</th>\n",
       "      <th>nopat_18</th>\n",
       "      <th>nopat_17</th>\n",
       "    </tr>\n",
       "  </thead>\n",
       "  <tbody>\n",
       "    <tr>\n",
       "      <th>0</th>\n",
       "      <td>Altria Group (MO)</td>\n",
       "      <td>2126.25</td>\n",
       "      <td>1645.50</td>\n",
       "      <td>-1347.00</td>\n",
       "      <td>-1648.50</td>\n",
       "    </tr>\n",
       "    <tr>\n",
       "      <th>0</th>\n",
       "      <td>HP Inc (HPQ)</td>\n",
       "      <td>619.50</td>\n",
       "      <td>648.75</td>\n",
       "      <td>708.00</td>\n",
       "      <td>809.25</td>\n",
       "    </tr>\n",
       "    <tr>\n",
       "      <th>0</th>\n",
       "      <td>Toyota Motor Corp (7203)</td>\n",
       "      <td>10440.00</td>\n",
       "      <td>-728.25</td>\n",
       "      <td>652107.75</td>\n",
       "      <td>537780.75</td>\n",
       "    </tr>\n",
       "    <tr>\n",
       "      <th>0</th>\n",
       "      <td>Apple Inc (AAPL)</td>\n",
       "      <td>9818.25</td>\n",
       "      <td>9639.75</td>\n",
       "      <td>19176.75</td>\n",
       "      <td>11718.75</td>\n",
       "    </tr>\n",
       "  </tbody>\n",
       "</table>\n",
       "</div>"
      ],
      "text/plain": [
       "                      Nombre  nopat_20  nopat_19   nopat_18   nopat_17\n",
       "0         Altria Group (MO)\t   2126.25   1645.50   -1347.00   -1648.50\n",
       "0              HP Inc (HPQ)\t    619.50    648.75     708.00     809.25\n",
       "0  Toyota Motor Corp (7203)\t  10440.00   -728.25  652107.75  537780.75\n",
       "0          Apple Inc (AAPL)\t   9818.25   9639.75   19176.75   11718.75"
      ]
     },
     "execution_count": 16,
     "metadata": {},
     "output_type": "execute_result"
    }
   ],
   "source": [
    "nopat"
   ]
  },
  {
   "cell_type": "code",
   "execution_count": 17,
   "metadata": {},
   "outputs": [
    {
     "data": {
      "text/plain": [
       "Nombre      Altria Group (MO)\t\n",
       "nopat_20               2126.25\n",
       "nopat_19                1645.5\n",
       "nopat_18                 -1347\n",
       "nopat_17               -1648.5\n",
       "Name: 0, dtype: object"
      ]
     },
     "execution_count": 17,
     "metadata": {},
     "output_type": "execute_result"
    }
   ],
   "source": [
    "nopat.iloc[0]"
   ]
  },
  {
   "cell_type": "code",
   "execution_count": 18,
   "metadata": {},
   "outputs": [
    {
     "data": {
      "text/plain": [
       "-1347.0"
      ]
     },
     "execution_count": 18,
     "metadata": {},
     "output_type": "execute_result"
    }
   ],
   "source": [
    "nopat.iloc[0][3]"
   ]
  },
  {
   "cell_type": "code",
   "execution_count": 19,
   "metadata": {},
   "outputs": [],
   "source": [
    "data= {'Nombre':'nombre_empresa','ROIC_20':'','ROIC_19':'',\n",
    "       'ROIC_18':''}\n",
    "roic = pd.DataFrame (data, columns = ['Nombre','ROIC_20','ROIC_19','ROIC_18'], index=[0])\n",
    "\n",
    "roic.drop(roic.index, inplace=True)"
   ]
  },
  {
   "cell_type": "code",
   "execution_count": 20,
   "metadata": {},
   "outputs": [],
   "source": [
    "\n",
    "for i in range(0,len(inv_cap)):\n",
    "    \n",
    "    nombre_empresa=inv_cap.iloc[i][0]\n",
    "    book_value_invested_cap_19=inv_cap.iloc[i][2]\n",
    "    book_value_invested_cap_18=inv_cap.iloc[i][3]\n",
    "    book_value_invested_cap_17=inv_cap.iloc[i][4]\n",
    "    \n",
    "    NOPAT_2020=nopat.iloc[i][1]\n",
    "    NOPAT_2019=nopat.iloc[i][2]\n",
    "    NOPAT_2018=nopat.iloc[i][3]\n",
    "    \n",
    "       \n",
    "    ROIC_20=NOPAT_2020/book_value_invested_cap_19\n",
    "    ROIC_19=NOPAT_2019/book_value_invested_cap_18\n",
    "    ROIC_18=NOPAT_2018/book_value_invested_cap_17\n",
    "    \n",
    "    a_row = [nombre_empresa,ROIC_20,ROIC_19,ROIC_18]\n",
    "    row_df = pd.DataFrame([a_row],columns=['Nombre','ROIC_20','ROIC_19','ROIC_18'])\n",
    "    roic = pd.concat([row_df, roic])"
   ]
  },
  {
   "cell_type": "code",
   "execution_count": 21,
   "metadata": {},
   "outputs": [
    {
     "data": {
      "text/html": [
       "<div>\n",
       "<style scoped>\n",
       "    .dataframe tbody tr th:only-of-type {\n",
       "        vertical-align: middle;\n",
       "    }\n",
       "\n",
       "    .dataframe tbody tr th {\n",
       "        vertical-align: top;\n",
       "    }\n",
       "\n",
       "    .dataframe thead th {\n",
       "        text-align: right;\n",
       "    }\n",
       "</style>\n",
       "<table border=\"1\" class=\"dataframe\">\n",
       "  <thead>\n",
       "    <tr style=\"text-align: right;\">\n",
       "      <th></th>\n",
       "      <th>Nombre</th>\n",
       "      <th>ROIC_20</th>\n",
       "      <th>ROIC_19</th>\n",
       "      <th>ROIC_18</th>\n",
       "    </tr>\n",
       "  </thead>\n",
       "  <tbody>\n",
       "    <tr>\n",
       "      <th>0</th>\n",
       "      <td>Apple Inc (AAPL)</td>\n",
       "      <td>0.054946</td>\n",
       "      <td>0.055920</td>\n",
       "      <td>0.106032</td>\n",
       "    </tr>\n",
       "    <tr>\n",
       "      <th>0</th>\n",
       "      <td>Toyota Motor Corp (7203)</td>\n",
       "      <td>0.000142</td>\n",
       "      <td>-0.000010</td>\n",
       "      <td>0.009108</td>\n",
       "    </tr>\n",
       "    <tr>\n",
       "      <th>0</th>\n",
       "      <td>HP Inc (HPQ)</td>\n",
       "      <td>0.026529</td>\n",
       "      <td>0.028956</td>\n",
       "      <td>0.032949</td>\n",
       "    </tr>\n",
       "    <tr>\n",
       "      <th>0</th>\n",
       "      <td>Altria Group (MO)</td>\n",
       "      <td>0.031904</td>\n",
       "      <td>0.026019</td>\n",
       "      <td>-0.020330</td>\n",
       "    </tr>\n",
       "  </tbody>\n",
       "</table>\n",
       "</div>"
      ],
      "text/plain": [
       "                      Nombre   ROIC_20   ROIC_19   ROIC_18\n",
       "0          Apple Inc (AAPL)\t  0.054946  0.055920  0.106032\n",
       "0  Toyota Motor Corp (7203)\t  0.000142 -0.000010  0.009108\n",
       "0              HP Inc (HPQ)\t  0.026529  0.028956  0.032949\n",
       "0         Altria Group (MO)\t  0.031904  0.026019 -0.020330"
      ]
     },
     "execution_count": 21,
     "metadata": {},
     "output_type": "execute_result"
    }
   ],
   "source": [
    "roic"
   ]
  },
  {
   "cell_type": "code",
   "execution_count": 22,
   "metadata": {},
   "outputs": [],
   "source": [
    "roic.to_excel('ROIC_resumen.xlsx')\n",
    "\n",
    "\n"
   ]
  },
  {
   "cell_type": "code",
   "execution_count": null,
   "metadata": {},
   "outputs": [],
   "source": []
  }
 ],
 "metadata": {
  "kernelspec": {
   "display_name": "Python 3",
   "language": "python",
   "name": "python3"
  },
  "language_info": {
   "codemirror_mode": {
    "name": "ipython",
    "version": 3
   },
   "file_extension": ".py",
   "mimetype": "text/x-python",
   "name": "python",
   "nbconvert_exporter": "python",
   "pygments_lexer": "ipython3",
   "version": "3.8.3"
  }
 },
 "nbformat": 4,
 "nbformat_minor": 4
}
