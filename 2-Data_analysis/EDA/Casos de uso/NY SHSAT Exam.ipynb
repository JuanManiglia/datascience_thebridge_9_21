{
 "cells": [
  {
   "cell_type": "markdown",
   "metadata": {},
   "source": [
    "# Centros Especialización New York\n",
    "Existen varios centros especializados de educación (alto rendimiento) en la ciudad de Nueva York, a los que pueden acceder estudiantes tras superar el colegio. En estos centros se ofrece a los alumnos asignaturas avanzadas en arte, música o matemáticas.\n",
    "\n",
    "El acceso a los centros de especialización ha sido siempre motivo de debate en al ciudad, puesto que se presupone que existe un trato favorable a estudiantes de raza blanca, en detrimento de latinos y negros.\n",
    "\n",
    "¿Cómo es el proceso de admisión? Lo primero, los alumnos eligen los centros en un ranking. Después realizan un examen (SHSAT), y en función de una notas de corte, se reparten los estudiantes en los distintos centros. Las notas las establece cada centro, y cambian todos los años, dependiendo de la cantidad de plazas disponibles y el número de aplicaciones. **El problema reside en que no se publican esas notas de corte**, y se sospecha que los criterios no san tan objetivos.\n",
    "\n",
    "Por tanto, nos encontramos ante la siguiente problemática:\n",
    "1. Bajo número de estudiantes negros y latinos en centros de especialización\n",
    "2. Sólo el 10% de los colegios de Nueva York reciben ofertas de centros de especialización, aún habiendo un 67% de estudiantes negros y latinos en Nueva York.\n",
    "3. Los asiáticos suponen un 62% de los estudiantes de los centros de especialización, aún habiendo únicamente un 16% de estudiantes asiáticos en los colegios.\n",
    "4. Los blancos suponen un 24% de los estudiantes de los centros de especialización, aún habiendo únicamente un 15% de estudiantes blancos en los colegios.\n",
    "\n",
    "**El objetivo de este ejecicio es realizar un análisis exploratorio de datos para determinar el estado de las ayudas y necesidades de los colegios de Nueva York, y con ello poder tomar decisiones BASADAS EN LOS DATOS. Para el análisis utilizarás datos como las localizaciones geográficas de los colegios, pertenencia comunitaria, raza de los estudiantes y nivel académico.**\n",
    "\n",
    "Por tanto, consideraremos las siguientes hipótesis que habrá que razonar con los datos disponibles:\n",
    "1. Si un colegio pertenece o no a una comunidad tiene impacto en las ayudas económicas recibidas.\n",
    "2. Hay centros con mayoría de estudiantes hispanos o negros que tienen más necesidades económicas que los centros con mayoría de raza blanca.\n",
    "3. La localización de los colegios está afectando a las ayudas.\n",
    "4. Los centros con mayores necesidades tienen un % de asistencia a clase más bajo.\n",
    "\n",
    "Para contrastar estas hipótesis, tendrás que llevar a cabo los siguientes pasos en la analítica:\n",
    "1. Analizar geográficamente las zonas de NY, en función de las necesidades económicas y las estimaciones de ingresos de los colegios.\n",
    "2. ¿Cómo se reparten geográficamente los colegios en función de la raza de sus estudiantes?\n",
    "    2.1 ¿En qué zonas de NY se encuentran la mayor parte de colegios con estudiantes de raza negra?\n",
    "    2.2 Lo mismo para raza hispana\n",
    "    2.3 Raza blanca\n",
    "    2.4 Asiática\n",
    "3. Analiza las distribuciones de los % de cada raza. ¿Qué raza o razas dirías que predomina en los colegios de NY?\n",
    "4. ¿Hay alguna relación entre las necesidades económicas de los colegios y la raza de sus estudiantes? ¿Y entre los ingresos y sus razas?\n",
    "5. Analicemos ahora la asistencia a clase. Supongamos que hay colegios con alta tasa de ausencia (>=30%) y baja tasa de asistencia (<=11%).\n",
    "    5.1 ¿Dónde se situan los de alta y baja tasa?\n",
    "    5.2 ¿Qué % mayoritario de razas tienen ambos grupos?\n",
    "    5.3 Necesidades económicas y estimación de ingresos de esos colegios.\n",
    "6. Vamos a analizar el rendimiento académico de los alumnos. Para ello, tendremos que dividir el dataset en colegios donde predominan latinos y negros (>= 70%) vs predominio de asiáticos y blancos. Saca algunos estadísticos y compara en una gráfica las funciones de densidad de ambos grupos, para los scores de matemáticas y ELA.\n",
    "7. Comprobaremos ahora la influencia de que un colegio pertenezca o no a una comunidad\n",
    "    7.1 ¿En qué afecta que el colegio pertenezca a una comunidad? Raza, necesidades económicas, ingresos...\n",
    "    7.2 Compara mediante funciones de densidad si los colegios comunitarios tienen mayores ingresos.\n",
    "    7.3 Compara mediante funciones de densidad si los colegios comunitarios tienen mayores necesidades económicas.\n",
    "8. ¿Existe aguna relación entre las necesidades económicas de los colegios y las estimaciones de ingresos?\n",
    "9. Utilizando el dataset \"D5 SHSAT Registrations and Testers.csv\", ¿qué colegios registran más estudiantes en el examen? Compara mediante una tabla o un gráfico el TOP de colegios que más registran vs los que realmente se presentan.\n",
    "10. Conclusiones"
   ]
  },
  {
   "cell_type": "markdown",
   "metadata": {},
   "source": [
    "<img src='https://upload.wikimedia.org/wikipedia/commons/thumb/3/3d/Map_of_New_York_Economic_Regions.svg/2000px-Map_of_New_York_Economic_Regions.svg.png'/>"
   ]
  }
 ],
 "metadata": {
  "kernelspec": {
   "display_name": "Python 3",
   "language": "python",
   "name": "python3"
  },
  "language_info": {
   "codemirror_mode": {
    "name": "ipython",
    "version": 3
   },
   "file_extension": ".py",
   "mimetype": "text/x-python",
   "name": "python",
   "nbconvert_exporter": "python",
   "pygments_lexer": "ipython3",
   "version": "3.8.5"
  }
 },
 "nbformat": 4,
 "nbformat_minor": 4
}
