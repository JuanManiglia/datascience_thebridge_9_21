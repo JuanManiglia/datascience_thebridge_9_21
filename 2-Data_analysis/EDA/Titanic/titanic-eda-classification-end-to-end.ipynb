{
 "cells": [
  {
   "cell_type": "markdown",
   "metadata": {
    "_cell_guid": "6793d21d-3c03-44d5-90da-47ad2b34f891",
    "_uuid": "03858050d08f513ca7436fbc1b3f31628e00d296"
   },
   "source": [
    "# **TITANIC EDA AND CLASSIFICATION **\n",
    "This kernel consists of three objectives:\n",
    "1. Perform exploratory analysis  to extract meaningful insight from the data and identify the best features to be used for  modeling.  \n",
    "\n",
    "2. Train, test, and refine various classification models to best predict which passengers survived.  The predictive algorithms to be trained are:\n",
    "    - Logistic Regression  \n",
    "    - Linear Support Vector Classifier (SVC)  \n",
    "    - Kernel Support Vector Classifier (Kernel SVC)\n",
    "    - K-Nearest Neighbors (KNN)\n",
    "    - Decision Tree \n",
    "    - Random Forest\n",
    "3.  Apply the best performing model to the test set for contest submission."
   ]
  },
  {
   "cell_type": "markdown",
   "metadata": {
    "_cell_guid": "1364327d-2982-459a-a85d-a03d3845f51e",
    "_uuid": "a5414e25ab52e1f3d9a509ebfcf0eb2c46c3dcb1"
   },
   "source": [
    "### **TRAINING DATA PRE-PROCESSING** \n",
    "The first step in the machine learning pipeline is to clean and transform the training data into a useable format for analysis and modeling.   \n",
    "\n",
    "As such, data pre-processing addresses:\n",
    "- Assumptions about data shape\n",
    "- Incorrect data types\n",
    "- Outliers or errors\n",
    "- Missing values\n",
    "- Categorical variables "
   ]
  },
  {
   "cell_type": "code",
   "execution_count": 2,
   "metadata": {
    "_cell_guid": "a531a985-5663-4bb1-9288-11ee03f70019",
    "_execution_state": "idle",
    "_uuid": "f99f2ce1482ecf2244dfaac3fc2fa56f94afaaf2"
   },
   "outputs": [],
   "source": [
    "# Import libraries\n",
    "import numpy as np\n",
    "import pandas as pd\n",
    "import matplotlib.pyplot as plt\n",
    "#pyplot \n",
    "%matplotlib inline\n",
    "#import sklearn\n",
    "import seaborn as sns\n",
    "import warnings\n",
    "warnings.filterwarnings('ignore')\n",
    "plt.rcParams[\"figure.figsize\"] = [10,5]\n",
    "\n",
    "#con rcParams Selecciona el backend utilizado para la representación y la integración de GUI.(interfaz gráfica usuario)\n",
    "# https://matplotlib.org/3.3.2/api/_as_gen/matplotlib.pyplot.figure.html para ver rc params"
   ]
  },
  {
   "cell_type": "markdown",
   "metadata": {},
   "source": [
    "matplotlib.pyplot es una colección de funciones que hacen que matplotlib funcione como MATLAB. Cada función de pyplot realiza algún cambio en una figura: por ejemplo, crea una figura, crea un área de trazado en una figura, traza algunas líneas en un área de trazado, decora la trama con etiquetas, etc."
   ]
  },
  {
   "cell_type": "code",
   "execution_count": 3,
   "metadata": {
    "_cell_guid": "3da9587e-c331-464b-85c1-38eaaf616123",
    "_execution_state": "idle",
    "_uuid": "386fdf4605156e4c83f1f58da6837b61d214ee24"
   },
   "outputs": [],
   "source": [
    "# Read data\n",
    "#Leemos el train porque es con el que vamos a trabajar\n",
    "train_data = pd.read_csv('train.csv')"
   ]
  },
  {
   "cell_type": "markdown",
   "metadata": {
    "_cell_guid": "1ffee743-5749-44d3-ba44-86d142b19159",
    "_uuid": "09bc2c97215d9f8470180850f97e13b8d984971d"
   },
   "source": [
    "**Data Shape**  \n",
    "After loading the dataset, I examine its shape to get a better sense of the data and the information it contains.  "
   ]
  },
  {
   "cell_type": "code",
   "execution_count": 8,
   "metadata": {
    "_cell_guid": "f4b943a8-3c76-4374-b6f6-3effe7fafec1",
    "_execution_state": "idle",
    "_uuid": "c322866d6c67eb7b79cda1c579f8db4beddec100"
   },
   "outputs": [
    {
     "name": "stdout",
     "output_type": "stream",
     "text": [
      "train data: (891, 12)\n"
     ]
    }
   ],
   "source": [
    "# Data shape\n",
    "print('train data:',train_data.shape)"
   ]
  },
  {
   "cell_type": "code",
   "execution_count": 9,
   "metadata": {
    "_cell_guid": "532fc41a-6992-44a7-a2cf-fc4b3c4a672d",
    "_execution_state": "idle",
    "_uuid": "23ffc78f6db97f2caf626dae0b8c0e4f64986f44"
   },
   "outputs": [
    {
     "data": {
      "text/html": [
       "<div>\n",
       "<style scoped>\n",
       "    .dataframe tbody tr th:only-of-type {\n",
       "        vertical-align: middle;\n",
       "    }\n",
       "\n",
       "    .dataframe tbody tr th {\n",
       "        vertical-align: top;\n",
       "    }\n",
       "\n",
       "    .dataframe thead th {\n",
       "        text-align: right;\n",
       "    }\n",
       "</style>\n",
       "<table border=\"1\" class=\"dataframe\">\n",
       "  <thead>\n",
       "    <tr style=\"text-align: right;\">\n",
       "      <th></th>\n",
       "      <th>PassengerId</th>\n",
       "      <th>Survived</th>\n",
       "      <th>Pclass</th>\n",
       "      <th>Name</th>\n",
       "      <th>Sex</th>\n",
       "      <th>Age</th>\n",
       "      <th>SibSp</th>\n",
       "      <th>Parch</th>\n",
       "      <th>Ticket</th>\n",
       "      <th>Fare</th>\n",
       "      <th>Cabin</th>\n",
       "      <th>Embarked</th>\n",
       "    </tr>\n",
       "  </thead>\n",
       "  <tbody>\n",
       "    <tr>\n",
       "      <th>0</th>\n",
       "      <td>1</td>\n",
       "      <td>0</td>\n",
       "      <td>3</td>\n",
       "      <td>Braund, Mr. Owen Harris</td>\n",
       "      <td>male</td>\n",
       "      <td>22.0</td>\n",
       "      <td>1</td>\n",
       "      <td>0</td>\n",
       "      <td>A/5 21171</td>\n",
       "      <td>7.2500</td>\n",
       "      <td>NaN</td>\n",
       "      <td>S</td>\n",
       "    </tr>\n",
       "    <tr>\n",
       "      <th>1</th>\n",
       "      <td>2</td>\n",
       "      <td>1</td>\n",
       "      <td>1</td>\n",
       "      <td>Cumings, Mrs. John Bradley (Florence Briggs Th...</td>\n",
       "      <td>female</td>\n",
       "      <td>38.0</td>\n",
       "      <td>1</td>\n",
       "      <td>0</td>\n",
       "      <td>PC 17599</td>\n",
       "      <td>71.2833</td>\n",
       "      <td>C85</td>\n",
       "      <td>C</td>\n",
       "    </tr>\n",
       "    <tr>\n",
       "      <th>2</th>\n",
       "      <td>3</td>\n",
       "      <td>1</td>\n",
       "      <td>3</td>\n",
       "      <td>Heikkinen, Miss. Laina</td>\n",
       "      <td>female</td>\n",
       "      <td>26.0</td>\n",
       "      <td>0</td>\n",
       "      <td>0</td>\n",
       "      <td>STON/O2. 3101282</td>\n",
       "      <td>7.9250</td>\n",
       "      <td>NaN</td>\n",
       "      <td>S</td>\n",
       "    </tr>\n",
       "  </tbody>\n",
       "</table>\n",
       "</div>"
      ],
      "text/plain": [
       "   PassengerId  Survived  Pclass  \\\n",
       "0            1         0       3   \n",
       "1            2         1       1   \n",
       "2            3         1       3   \n",
       "\n",
       "                                                Name     Sex   Age  SibSp  \\\n",
       "0                            Braund, Mr. Owen Harris    male  22.0      1   \n",
       "1  Cumings, Mrs. John Bradley (Florence Briggs Th...  female  38.0      1   \n",
       "2                             Heikkinen, Miss. Laina  female  26.0      0   \n",
       "\n",
       "   Parch            Ticket     Fare Cabin Embarked  \n",
       "0      0         A/5 21171   7.2500   NaN        S  \n",
       "1      0          PC 17599  71.2833   C85        C  \n",
       "2      0  STON/O2. 3101282   7.9250   NaN        S  "
      ]
     },
     "execution_count": 9,
     "metadata": {},
     "output_type": "execute_result"
    }
   ],
   "source": [
    "# View first few rows\n",
    "train_data.head(3)"
   ]
  },
  {
   "cell_type": "code",
   "execution_count": 10,
   "metadata": {
    "_cell_guid": "2f9a64dc-6461-43da-8923-c4b27aff4733",
    "_execution_state": "idle",
    "_uuid": "356061202e4ed8be1674acd664fd66c02c55e980"
   },
   "outputs": [
    {
     "name": "stdout",
     "output_type": "stream",
     "text": [
      "<class 'pandas.core.frame.DataFrame'>\n",
      "RangeIndex: 891 entries, 0 to 890\n",
      "Data columns (total 12 columns):\n",
      " #   Column       Non-Null Count  Dtype  \n",
      "---  ------       --------------  -----  \n",
      " 0   PassengerId  891 non-null    int64  \n",
      " 1   Survived     891 non-null    int64  \n",
      " 2   Pclass       891 non-null    int64  \n",
      " 3   Name         891 non-null    object \n",
      " 4   Sex          891 non-null    object \n",
      " 5   Age          714 non-null    float64\n",
      " 6   SibSp        891 non-null    int64  \n",
      " 7   Parch        891 non-null    int64  \n",
      " 8   Ticket       891 non-null    object \n",
      " 9   Fare         891 non-null    float64\n",
      " 10  Cabin        204 non-null    object \n",
      " 11  Embarked     889 non-null    object \n",
      "dtypes: float64(2), int64(5), object(5)\n",
      "memory usage: 83.7+ KB\n"
     ]
    }
   ],
   "source": [
    "# Data Info\n",
    "train_data.info()"
   ]
  },
  {
   "cell_type": "markdown",
   "metadata": {
    "_cell_guid": "5e61ecf8-1405-4610-b9ac-7041c9764fc6",
    "_uuid": "8ce7a919390677204fac9e03363a4141ac8bf2b7"
   },
   "source": [
    "**Missing Data**  \n",
    "From the entry totals above, there appears to be missing data.  A heatmap will help better visualize what features as missing the most information."
   ]
  },
  {
   "cell_type": "code",
   "execution_count": 11,
   "metadata": {
    "_cell_guid": "abbd18c9-e271-49e4-8c7c-ddbd237ba3b8",
    "_execution_state": "idle",
    "_uuid": "9f5faca2de176273206a60a58fd5b7bd7e176663"
   },
   "outputs": [
    {
     "data": {
      "image/png": "[encoded data removed]",
      "text/plain": [
       "<Figure size 720x360 with 1 Axes>"
      ]
     },
     "metadata": {
      "needs_background": "light"
     },
     "output_type": "display_data"
    }
   ],
   "source": [
    "# Heatmap      #pd.isnull(train_data)\n",
    "sns.heatmap(train_data.isnull(),yticklabels = False, cbar = False,cmap = 'tab20c_r')\n",
    "plt.title('Missing Data: Training Set')\n",
    "plt.show()"
   ]
  },
  {
   "cell_type": "markdown",
   "metadata": {
    "_cell_guid": "cfb1a51e-7f90-4198-aa12-28ca2671b032",
    "_uuid": "cbd98e84669f2c524e8c5c5c518e5082cba749e1"
   },
   "source": [
    "The 'Age' variable is missing roughly 20% of its data. This proportion is likely small enough for reasonable replacements using some form of imputation as well (using the knowledge of the other columns to fill in reasonable values).\n",
    "However, too much data from the 'Cabin' column is missing to do anything useful with it at a basic level. This column may need to be dropped from the data set altogether or change to another feature such as 'Cabin Known: 1 or 0'.  \n",
    "\n",
    "We want to fill in missing age data instead of just dropping the missing age data rows. One way to do this is by filling in the mean age of all the passengers (imputation).\n",
    "However, we can be smarter about this and check the average age by passenger class. \n"
   ]
  },
  {
   "cell_type": "code",
   "execution_count": 12,
   "metadata": {
    "_cell_guid": "57272498-8e36-4834-9828-fe544015a452",
    "_execution_state": "idle",
    "_uuid": "7ec334b048f55cd1db0297f4b2f6dfc943a5c7d8"
   },
   "outputs": [
    {
     "data": {
      "image/png": "[encoded data removed]",
      "text/plain": [
       "<Figure size 720x504 with 1 Axes>"
      ]
     },
     "metadata": {
      "needs_background": "light"
     },
     "output_type": "display_data"
    }
   ],
   "source": [
    "#box plot\n",
    "plt.figure(figsize = (10,7))\n",
    "sns.boxplot(x = 'Pclass', y = 'Age', data = train_data, palette= 'GnBu_d').set_title('Age by Passenger Class')\n",
    "plt.show()"
   ]
  },
  {
   "cell_type": "code",
   "execution_count": null,
   "metadata": {},
   "outputs": [],
   "source": [
    "train_data.groupby(['Pclass']).Age.mean()"
   ]
  },
  {
   "cell_type": "markdown",
   "metadata": {
    "_cell_guid": "174038cd-c170-420b-8c3f-d4bf3a2e9e17",
    "_uuid": "6e5cc498dd5fa7c73e958e93c30fdc1f48e2cf78"
   },
   "source": [
    "Naturally, the wealthier passengers in the higher classes tend to be older . We'll use these average age values to impute based on Pclass for Age.\n"
   ]
  },
  {
   "cell_type": "code",
   "execution_count": 15,
   "metadata": {
    "_cell_guid": "a994970d-0f02-4569-9b69-97aa9d35fbcc",
    "_execution_state": "idle",
    "_uuid": "27b9b892eb06facde863db38007915bb2d56e8a2",
    "scrolled": false
   },
   "outputs": [],
   "source": [
    "# Imputation function\n",
    "#Nos vamos a \n",
    "def impute_age(cols): \n",
    "    #cols va a ser un df de 2 columnas, Age y Pclass\n",
    "    \n",
    "    Age = cols[0] \n",
    "    #nos quedamos con la columna, es decir, serie de numpy\n",
    "    \n",
    "    Pclass = cols[1] \n",
    "    # nos quedamos segunda columna, pcclass, marcado abajo del todo\n",
    "    \n",
    "    if pd.isnull(Age):\n",
    "\n",
    "        if Pclass == 1:\n",
    "            return 38\n",
    "\n",
    "        elif Pclass == 2:\n",
    "            \n",
    "            return 30\n",
    "\n",
    "        else:\n",
    "            return 25\n",
    "\n",
    "    else:\n",
    "        return Age\n",
    "    \n",
    "# Apply the function to the Age column\n",
    "train_data['Age']=train_data[['Age','Pclass']].apply(impute_age, axis =1 )    "
   ]
  },
  {
   "cell_type": "code",
   "execution_count": 16,
   "metadata": {},
   "outputs": [
    {
     "data": {
      "text/plain": [
       "PassengerId      0\n",
       "Survived         0\n",
       "Pclass           0\n",
       "Name             0\n",
       "Sex              0\n",
       "Age              0\n",
       "SibSp            0\n",
       "Parch            0\n",
       "Ticket           0\n",
       "Fare             0\n",
       "Cabin          687\n",
       "Embarked         2\n",
       "dtype: int64"
      ]
     },
     "execution_count": 16,
     "metadata": {},
     "output_type": "execute_result"
    }
   ],
   "source": [
    "train_data.isnull().sum()"
   ]
  },
  {
   "cell_type": "markdown",
   "metadata": {
    "_cell_guid": "db8bd3b2-3b82-42cb-bfee-c319fb4650c8",
    "_uuid": "7a02f0c507e7589f173880585455cd45616c0429"
   },
   "source": [
    "\n",
    "The Cabin column has too many missing values to do anything useful with, so it would be best to remove it from the data frame altogether."
   ]
  },
  {
   "cell_type": "code",
   "execution_count": 14,
   "metadata": {
    "_cell_guid": "dbb9de5c-665f-4f46-bec8-e727f974e4b8",
    "_execution_state": "idle",
    "_uuid": "59d84d7bcf4c24a18f5ad9cdbe4fa04d83c861e6"
   },
   "outputs": [],
   "source": [
    "# Remove Cabin feature\n",
    "train_data.drop('Cabin', axis = 1, inplace = True)"
   ]
  },
  {
   "cell_type": "markdown",
   "metadata": {
    "_cell_guid": "41186bdc-ec2c-48d5-9e2d-45ab6920c108",
    "_uuid": "40b4493b4fdcf01419884863c3c3e47416935129"
   },
   "source": [
    "Since there is only one missing value in Embarked, that observation can just be removed."
   ]
  },
  {
   "cell_type": "code",
   "execution_count": 15,
   "metadata": {
    "_cell_guid": "c9a39738-4ea7-49d5-b312-01031ab6863e",
    "_execution_state": "idle",
    "_uuid": "2b8c1506a72f92d86b8edc0c2d9457e90884d851"
   },
   "outputs": [],
   "source": [
    "# Remove rows with missing data\n",
    "train_data.dropna(inplace = True)"
   ]
  },
  {
   "cell_type": "markdown",
   "metadata": {
    "_cell_guid": "b0ab6c89-8326-4630-bf56-a5166408c57f",
    "_uuid": "fa95ccee48ae5599582b9005998a34e1c7330c10"
   },
   "source": [
    "** Data Types**  \n",
    "Next, I'll need to confirm that the variables are being assigned the correct data type to allow for easier analysis later on."
   ]
  },
  {
   "cell_type": "markdown",
   "metadata": {
    "_cell_guid": "822d8b59-2768-4ec7-9392-4995f86fbedc",
    "_uuid": "53cb945c30cfb1604e0d9a11dadf5058211a300d"
   },
   "source": [
    "**Categorical Features**"
   ]
  },
  {
   "cell_type": "code",
   "execution_count": 16,
   "metadata": {
    "_cell_guid": "932482a7-6ffa-4441-badc-cc7b5c2f3e18",
    "_execution_state": "idle",
    "_uuid": "5865230fe5cdc796d2a949a3f09cbc790b7309ac"
   },
   "outputs": [
    {
     "name": "stdout",
     "output_type": "stream",
     "text": [
      "<class 'pandas.core.frame.DataFrame'>\n",
      "Int64Index: 889 entries, 0 to 890\n",
      "Data columns (total 11 columns):\n",
      " #   Column       Non-Null Count  Dtype  \n",
      "---  ------       --------------  -----  \n",
      " 0   PassengerId  889 non-null    int64  \n",
      " 1   Survived     889 non-null    int64  \n",
      " 2   Pclass       889 non-null    int64  \n",
      " 3   Name         889 non-null    object \n",
      " 4   Sex          889 non-null    object \n",
      " 5   Age          889 non-null    float64\n",
      " 6   SibSp        889 non-null    int64  \n",
      " 7   Parch        889 non-null    int64  \n",
      " 8   Ticket       889 non-null    object \n",
      " 9   Fare         889 non-null    float64\n",
      " 10  Embarked     889 non-null    object \n",
      "dtypes: float64(2), int64(5), object(4)\n",
      "memory usage: 83.3+ KB\n",
      "None\n",
      "\n",
      "\n",
      "Non-Null Objects to Be Converted to Category\n",
      "Index(['Name', 'Sex', 'Ticket', 'Embarked'], dtype='object')\n"
     ]
    }
   ],
   "source": [
    "# Data types\n",
    "print(train_data.info())\n",
    "\n",
    "# Identify non-null objects\n",
    "#es útil cuando hay muchas columnas\n",
    "\n",
    "print('\\n')\n",
    "print('Non-Null Objects to Be Converted to Category')\n",
    "print(train_data.select_dtypes(['object']).columns)"
   ]
  },
  {
   "cell_type": "markdown",
   "metadata": {
    "_cell_guid": "ad1377ac-4877-4b3f-af51-2547fb2b4f13",
    "_uuid": "f61491193644a4f3eef0c5dfebf67957f0b8a686"
   },
   "source": [
    "Name and Ticket can be removed from the dataset as these features do not provide additional information about a passenger's liklihood of survival.    \n",
    "\n",
    "The remaining non-null objects, Sex and Embarked, will need to be specified as categories for better analysis results downstream.  "
   ]
  },
  {
   "cell_type": "code",
   "execution_count": 17,
   "metadata": {
    "_cell_guid": "c1eb25e1-9f8a-40dc-a5cd-6bf30b657fc4",
    "_execution_state": "idle",
    "_uuid": "88790bf7b11192d7c9b17deb992572d55fbceeeb"
   },
   "outputs": [],
   "source": [
    "# Remove unnecessary columns  \n",
    "train_data.drop(['Name','Ticket'], axis = 1, inplace = True)\n",
    "\n",
    "# Convert objects to category data type\n",
    "objcat = ['Sex','Embarked']\n",
    "\n",
    "for colname in objcat:\n",
    "    train_data[colname] = train_data[colname].astype('category')"
   ]
  },
  {
   "cell_type": "markdown",
   "metadata": {
    "_cell_guid": "980f0652-74c7-46af-bd86-c9d23685ce37",
    "_uuid": "a7e3112dd406e4d00e68ce6e8e9b46b80d67670c"
   },
   "source": [
    "**Numeric Features**"
   ]
  },
  {
   "cell_type": "code",
   "execution_count": 18,
   "metadata": {
    "_cell_guid": "98e330ac-b11a-41d6-987a-b6b8ff217f6c",
    "_execution_state": "idle",
    "_uuid": "4673ddf9fd922782060a54d30dff685269cbf4ec"
   },
   "outputs": [
    {
     "data": {
      "text/html": [
       "<div>\n",
       "<style scoped>\n",
       "    .dataframe tbody tr th:only-of-type {\n",
       "        vertical-align: middle;\n",
       "    }\n",
       "\n",
       "    .dataframe tbody tr th {\n",
       "        vertical-align: top;\n",
       "    }\n",
       "\n",
       "    .dataframe thead th {\n",
       "        text-align: right;\n",
       "    }\n",
       "</style>\n",
       "<table border=\"1\" class=\"dataframe\">\n",
       "  <thead>\n",
       "    <tr style=\"text-align: right;\">\n",
       "      <th></th>\n",
       "      <th>count</th>\n",
       "      <th>mean</th>\n",
       "      <th>std</th>\n",
       "      <th>min</th>\n",
       "      <th>25%</th>\n",
       "      <th>50%</th>\n",
       "      <th>75%</th>\n",
       "      <th>max</th>\n",
       "    </tr>\n",
       "  </thead>\n",
       "  <tbody>\n",
       "    <tr>\n",
       "      <th>PassengerId</th>\n",
       "      <td>889.0</td>\n",
       "      <td>446.000000</td>\n",
       "      <td>256.998173</td>\n",
       "      <td>1.00</td>\n",
       "      <td>224.0000</td>\n",
       "      <td>446.0000</td>\n",
       "      <td>668.0</td>\n",
       "      <td>891.0000</td>\n",
       "    </tr>\n",
       "    <tr>\n",
       "      <th>Survived</th>\n",
       "      <td>889.0</td>\n",
       "      <td>0.382452</td>\n",
       "      <td>0.486260</td>\n",
       "      <td>0.00</td>\n",
       "      <td>0.0000</td>\n",
       "      <td>0.0000</td>\n",
       "      <td>1.0</td>\n",
       "      <td>1.0000</td>\n",
       "    </tr>\n",
       "    <tr>\n",
       "      <th>Pclass</th>\n",
       "      <td>889.0</td>\n",
       "      <td>2.311586</td>\n",
       "      <td>0.834700</td>\n",
       "      <td>1.00</td>\n",
       "      <td>2.0000</td>\n",
       "      <td>3.0000</td>\n",
       "      <td>3.0</td>\n",
       "      <td>3.0000</td>\n",
       "    </tr>\n",
       "    <tr>\n",
       "      <th>Age</th>\n",
       "      <td>889.0</td>\n",
       "      <td>29.019314</td>\n",
       "      <td>13.209814</td>\n",
       "      <td>0.42</td>\n",
       "      <td>22.0000</td>\n",
       "      <td>26.0000</td>\n",
       "      <td>36.5</td>\n",
       "      <td>80.0000</td>\n",
       "    </tr>\n",
       "    <tr>\n",
       "      <th>SibSp</th>\n",
       "      <td>889.0</td>\n",
       "      <td>0.524184</td>\n",
       "      <td>1.103705</td>\n",
       "      <td>0.00</td>\n",
       "      <td>0.0000</td>\n",
       "      <td>0.0000</td>\n",
       "      <td>1.0</td>\n",
       "      <td>8.0000</td>\n",
       "    </tr>\n",
       "    <tr>\n",
       "      <th>Parch</th>\n",
       "      <td>889.0</td>\n",
       "      <td>0.382452</td>\n",
       "      <td>0.806761</td>\n",
       "      <td>0.00</td>\n",
       "      <td>0.0000</td>\n",
       "      <td>0.0000</td>\n",
       "      <td>0.0</td>\n",
       "      <td>6.0000</td>\n",
       "    </tr>\n",
       "    <tr>\n",
       "      <th>Fare</th>\n",
       "      <td>889.0</td>\n",
       "      <td>32.096681</td>\n",
       "      <td>49.697504</td>\n",
       "      <td>0.00</td>\n",
       "      <td>7.8958</td>\n",
       "      <td>14.4542</td>\n",
       "      <td>31.0</td>\n",
       "      <td>512.3292</td>\n",
       "    </tr>\n",
       "  </tbody>\n",
       "</table>\n",
       "</div>"
      ],
      "text/plain": [
       "             count        mean         std   min       25%       50%    75%  \\\n",
       "PassengerId  889.0  446.000000  256.998173  1.00  224.0000  446.0000  668.0   \n",
       "Survived     889.0    0.382452    0.486260  0.00    0.0000    0.0000    1.0   \n",
       "Pclass       889.0    2.311586    0.834700  1.00    2.0000    3.0000    3.0   \n",
       "Age          889.0   29.019314   13.209814  0.42   22.0000   26.0000   36.5   \n",
       "SibSp        889.0    0.524184    1.103705  0.00    0.0000    0.0000    1.0   \n",
       "Parch        889.0    0.382452    0.806761  0.00    0.0000    0.0000    0.0   \n",
       "Fare         889.0   32.096681   49.697504  0.00    7.8958   14.4542   31.0   \n",
       "\n",
       "                  max  \n",
       "PassengerId  891.0000  \n",
       "Survived       1.0000  \n",
       "Pclass         3.0000  \n",
       "Age           80.0000  \n",
       "SibSp          8.0000  \n",
       "Parch          6.0000  \n",
       "Fare         512.3292  "
      ]
     },
     "execution_count": 18,
     "metadata": {},
     "output_type": "execute_result"
    }
   ],
   "source": [
    "# Numeric summary\n",
    "train_data.describe().transpose()"
   ]
  },
  {
   "cell_type": "markdown",
   "metadata": {
    "_cell_guid": "32ee4dbd-e82b-4d8b-9e88-3f0d8391b6e9",
    "_uuid": "a6e86e6d89e6a061f886d350a509ab979a4e9eea"
   },
   "source": [
    "PassengerId can be removed from the dataset because it does not add any useful information in predicting a passenger's survival.  The remaining variables are the correct data type. "
   ]
  },
  {
   "cell_type": "code",
   "execution_count": 19,
   "metadata": {
    "_cell_guid": "dd54a358-7423-4092-8b73-fccb845f9902",
    "_execution_state": "idle",
    "_uuid": "d88a00f612c37434650b0f22220ed145d8fccb02"
   },
   "outputs": [],
   "source": [
    "# Remove PassengerId\n",
    "train_data.drop('PassengerId', inplace = True, axis = 1)"
   ]
  },
  {
   "cell_type": "markdown",
   "metadata": {
    "_cell_guid": "ab88987e-230f-4976-b37d-e8a3f3ea62a8",
    "_uuid": "61a33f8e620a381ba078bde4658440c89ca4da92",
    "collapsed": true
   },
   "source": [
    "## **OBJECTIVE 1: EXPLORATORY DATA ANALYSIS**  "
   ]
  },
  {
   "cell_type": "markdown",
   "metadata": {
    "_cell_guid": "769abf4c-7dd4-4250-91cf-e84e06d28c41",
    "_uuid": "e8d6639841d4fe299ed72e5eec707f110bf4440b",
    "collapsed": true
   },
   "source": [
    "### **Target Variable**\n",
    "'Survived' is our target as that is the dependent variable we are trying to predict."
   ]
  },
  {
   "cell_type": "code",
   "execution_count": 20,
   "metadata": {
    "_cell_guid": "3aa5e954-50e2-4da0-9d9c-456d543af255",
    "_execution_state": "idle",
    "_uuid": "3310f94bb526b76bc1cdd3f4d208ac8cc1a1aaa3"
   },
   "outputs": [
    {
     "name": "stdout",
     "output_type": "stream",
     "text": [
      "Target Variable\n",
      "Survived\n",
      "0    549\n",
      "1    340\n",
      "Name: Survived, dtype: int64\n"
     ]
    },
    {
     "data": {
      "image/png": "[encoded data removed]",
      "text/plain": [
       "<Figure size 720x360 with 1 Axes>"
      ]
     },
     "metadata": {},
     "output_type": "display_data"
    }
   ],
   "source": [
    "# Survival Count\n",
    "print('Target Variable')\n",
    "print(train_data.groupby(['Survived']).Survived.count())\n",
    "\n",
    "# Target Variable Countplot\n",
    "sns.set_style('darkgrid')\n",
    "plt.figure(figsize = (10,5))\n",
    "sns.countplot(train_data['Survived'], alpha =.80, palette= ['grey','lightgreen'])\n",
    "plt.title('Survivors vs Non-Survivors')\n",
    "plt.ylabel('# Passengers')\n",
    "plt.show()\n"
   ]
  },
  {
   "cell_type": "markdown",
   "metadata": {
    "_cell_guid": "23a4d387-86e7-434e-9d2a-3f9059fd27ea",
    "_uuid": "cf0b4ae6f5dda9c431d57e958fbe012ea8fcaf57",
    "collapsed": true
   },
   "source": [
    "> **Target Variable Insight**    \n",
    "- The majority of passengers onboard did not survive."
   ]
  },
  {
   "cell_type": "markdown",
   "metadata": {
    "_cell_guid": "548f558b-9152-4790-b1d7-dc2dcbd0a03a",
    "_uuid": "6141a6580b73a2f477c71298d1195eeb0dd72616"
   },
   "source": [
    "### **Numeric Features**"
   ]
  },
  {
   "cell_type": "code",
   "execution_count": 21,
   "metadata": {
    "_cell_guid": "33a0c640-3d81-49be-a277-91739d669278",
    "_execution_state": "idle",
    "_uuid": "3003db4b3275f7396765a6ba63933abcc8328151"
   },
   "outputs": [
    {
     "name": "stdout",
     "output_type": "stream",
     "text": [
      "Continuous Variables\n",
      "      count       mean        std   min      25%      50%   75%       max\n",
      "Age   889.0  29.019314  13.209814  0.42  22.0000  26.0000  36.5   80.0000\n",
      "Fare  889.0  32.096681  49.697504  0.00   7.8958  14.4542  31.0  512.3292\n",
      "--------------------------------------------------------------------------------\n",
      "Discrete Variables\n",
      "Pclass\n",
      "1    214\n",
      "2    184\n",
      "3    491\n",
      "Name: Pclass, dtype: int64\n",
      "SibSp\n",
      "0    606\n",
      "1    209\n",
      "2     28\n",
      "3     16\n",
      "4     18\n",
      "5      5\n",
      "8      7\n",
      "Name: SibSp, dtype: int64\n",
      "Parch\n",
      "0    676\n",
      "1    118\n",
      "2     80\n",
      "3      5\n",
      "4      4\n",
      "5      5\n",
      "6      1\n",
      "Name: Parch, dtype: int64\n"
     ]
    },
    {
     "data": {
      "image/png": "[encoded data removed]",
      "text/plain": [
       "<Figure size 1440x1152 with 5 Axes>"
      ]
     },
     "metadata": {},
     "output_type": "display_data"
    }
   ],
   "source": [
    "# Identify numeric features\n",
    "print('Continuous Variables')\n",
    "print(train_data[['Age','Fare']].describe().transpose())\n",
    "print('--'*40)\n",
    "print('Discrete Variables')\n",
    "print(train_data.groupby('Pclass').Pclass.count())\n",
    "print(train_data.groupby('SibSp').SibSp.count())\n",
    "print(train_data.groupby('Parch').Parch.count())\n",
    "\n",
    "# Subplots of Numeric Features\n",
    "sns.set_style('darkgrid')\n",
    "fig = plt.figure(figsize = (20,16))\n",
    "fig.subplots_adjust(hspace = .30)\n",
    "\n",
    "ax1 = fig.add_subplot(321)\n",
    "ax1.hist(train_data['Pclass'], bins = 20, alpha = .50,edgecolor= 'black',color ='teal')\n",
    "ax1.set_xlabel('Pclass', fontsize = 15)\n",
    "ax1.set_ylabel('# Passengers',fontsize = 15)\n",
    "ax1.set_title('Passenger Class',fontsize = 15)\n",
    "\n",
    "ax2 = fig.add_subplot(323)\n",
    "ax2.hist(train_data['Age'], bins = 20, alpha = .50,edgecolor= 'black',color ='teal')\n",
    "ax2.set_xlabel('Age',fontsize = 15)\n",
    "ax2.set_ylabel('# Passengers',fontsize = 15)\n",
    "ax2.set_title('Age of Passengers',fontsize = 15)\n",
    "\n",
    "ax3 = fig.add_subplot(325)\n",
    "ax3.hist(train_data['SibSp'], bins = 20, alpha = .50,edgecolor= 'black',color ='teal')\n",
    "ax3.set_xlabel('SibSp',fontsize = 15)\n",
    "ax3.set_ylabel('# Passengers',fontsize = 15)\n",
    "ax3.set_title('Passengers with Spouses or Siblings',fontsize = 15)\n",
    "\n",
    "ax4 = fig.add_subplot(222)\n",
    "ax4.hist(train_data['Parch'], bins = 20, alpha = .50,edgecolor= 'black',color ='teal')\n",
    "ax4.set_xlabel('Parch',fontsize = 15)\n",
    "ax4.set_ylabel('# Passengers',fontsize = 15)\n",
    "ax4.set_title('Passengers with Children',fontsize = 15)\n",
    "\n",
    "ax5 = fig.add_subplot(224)\n",
    "ax5.hist(train_data['Fare'], bins = 20, alpha = .50,edgecolor= 'black',color ='teal')\n",
    "ax5.set_xlabel('Fare',fontsize = 15)\n",
    "ax5.set_ylabel('# Passengers',fontsize = 15)\n",
    "ax5.set_title('Ticket Fare',fontsize = 15)\n",
    "\n",
    "plt.show()"
   ]
  },
  {
   "cell_type": "markdown",
   "metadata": {
    "_cell_guid": "c92c9e45-ebcb-4c56-8ee1-b72d226fda49",
    "_uuid": "9427ff7880c4f17de645c87a9644ad71e5f3892e",
    "collapsed": true
   },
   "source": [
    ">**Numeric Features Insights**    \n",
    "- The majority of passengers aboard were third class  \n",
    "- Most were single travelors with no spouses or children\n",
    "- Passenger age appears to be bi-modal, with a small peak around 5 years of age and a larger peak around 25 years old.   This is an indication that the passenger age on board is distributed towards younger individuals with the median age being 26.\n",
    "- The bulk of fare prices are under \\$25 with a median fare of \\$14.  However, the data is skewed to the right with outliers up to  \\$500.  "
   ]
  },
  {
   "cell_type": "markdown",
   "metadata": {
    "_cell_guid": "684dcd7c-76cd-4880-a9cc-3a7bc060ee93",
    "_uuid": "8319fc48c63e5efd5412da9dd0177cb827643f6a"
   },
   "source": [
    "### **Target vs Numeric Features**"
   ]
  },
  {
   "cell_type": "markdown",
   "metadata": {
    "_cell_guid": "1194ee3d-07a6-4ceb-aff2-7ae68125d230",
    "_uuid": "038677ae7a57500b952c254d0f43c76c4b77a314"
   },
   "source": [
    "### **Passenger Class**"
   ]
  },
  {
   "cell_type": "code",
   "execution_count": 26,
   "metadata": {
    "_cell_guid": "cd8180c6-91b4-40fa-b011-790d822a6c78",
    "_execution_state": "idle",
    "_uuid": "e2ab697d610f4af1eece32714fc7ae20ab959ad2"
   },
   "outputs": [
    {
     "name": "stdout",
     "output_type": "stream",
     "text": [
      "Passenger Class Summary\n",
      "\n",
      "\n",
      "Survived    0    1\n",
      "Pclass            \n",
      "1          80  134\n",
      "2          97   87\n",
      "3         372  119\n"
     ]
    },
    {
     "data": {
      "image/png": "[encoded data removed]",
      "text/plain": [
       "<Figure size 720x360 with 1 Axes>"
      ]
     },
     "metadata": {},
     "output_type": "display_data"
    }
   ],
   "source": [
    "# Passenger class summary\n",
    "print('Passenger Class Summary')\n",
    "\n",
    "print('\\n')\n",
    "print(train_data.groupby(['Pclass','Survived']).Pclass.count().unstack())\n",
    "\n",
    "# Passenger class visualization\n",
    "pclass = train_data.groupby(['Pclass','Survived']).Pclass.count().unstack()\n",
    "p1 = pclass.plot(kind = 'bar', stacked = True, \n",
    "                   title = 'Passengers by Class: Survivors vs Non-Survivors', \n",
    "                   color = ['grey','lightgreen'], alpha = .70)\n",
    "p1.set_xlabel('Pclass')\n",
    "p1.set_ylabel('# Passengers')\n",
    "p1.legend(['Did Not Survive','Survived'])\n",
    "plt.show()"
   ]
  },
  {
   "cell_type": "markdown",
   "metadata": {
    "_cell_guid": "807687f0-12dc-43ff-84a3-b46a13538b9e",
    "_uuid": "fb298b6075ba82ed3c3f761531cdbf99e188735d"
   },
   "source": [
    ">**Passenger Class Insight**  \n",
    "- The majority of first-class passengers survived.  \n",
    "- Most of the passengers in second and third class did not survive the sinking.  \n"
   ]
  },
  {
   "cell_type": "markdown",
   "metadata": {
    "_cell_guid": "1c07b780-6421-4c33-b421-723d801d3ac6",
    "_uuid": "00ba13c202b93b2e51ab0f8c7b14a5ab3e02fae9"
   },
   "source": [
    "### **Passengers with Children**"
   ]
  },
  {
   "cell_type": "code",
   "execution_count": 30,
   "metadata": {
    "_cell_guid": "75f7ebd3-3312-452f-bab1-18717416f59d",
    "_execution_state": "idle",
    "_uuid": "be2d0993946887bde745cc4c09ea22dac095d949"
   },
   "outputs": [
    {
     "name": "stdout",
     "output_type": "stream",
     "text": [
      "Survived      0      1\n",
      "Parch                 \n",
      "0         445.0  231.0\n",
      "1          53.0   65.0\n",
      "2          40.0   40.0\n",
      "3           2.0    3.0\n",
      "4           4.0    NaN\n",
      "5           4.0    1.0\n",
      "6           1.0    NaN\n"
     ]
    },
    {
     "data": {
      "image/png": "[encoded data removed]",
      "text/plain": [
       "<Figure size 720x360 with 1 Axes>"
      ]
     },
     "metadata": {},
     "output_type": "display_data"
    }
   ],
   "source": [
    "# Atención - gráfico \n",
    "# La columna Parch es la que nos indica la relacion familiar\n",
    "\n",
    "print(train_data.groupby(['Parch','Survived']).Parch.count().unstack())\n",
    "\n",
    "parch = train_data.groupby(['Parch','Survived']).Parch.count().unstack()\n",
    "p3 = parch.plot(kind = 'bar', stacked = True,\n",
    "                   color = ['grey','lightgreen'], alpha = .70)\n",
    "p3.set_title('Passengers with Children: Survivors vs Non-Survivors')\n",
    "p3.set_xlabel('Parch')\n",
    "p3.set_ylabel('# Passengers')\n",
    "p3.legend(['Did Not Survive','Survived'])\n",
    "plt.show()"
   ]
  },
  {
   "cell_type": "markdown",
   "metadata": {
    "_cell_guid": "bc6242a8-b7a2-4ef2-9071-7756da4333c2",
    "_uuid": "726066ac08475401da35a86d5b481c873e6f652c"
   },
   "source": [
    ">**Passengers with Children Insight**\n",
    "- The majority of passengers aboard did not have children\n",
    "- Most passengers without children did not survive.   \n",
    "- Passengers with one or two children survived half of the time "
   ]
  },
  {
   "cell_type": "markdown",
   "metadata": {
    "_cell_guid": "e0b9f041-f426-4790-9d60-298cee6e3bd0",
    "_uuid": "62e79ebeb83423970aced79881b025c417253008"
   },
   "source": [
    "### **Ticket Fare and Age of Passengers**"
   ]
  },
  {
   "cell_type": "code",
   "execution_count": 38,
   "metadata": {
    "_cell_guid": "09c4674b-6526-4c59-8ad1-a6fcfdd1fcb6",
    "_execution_state": "idle",
    "_uuid": "b3d7d5142351238c3a5d8673cc534b7d27fb0397"
   },
   "outputs": [
    {
     "data": {
      "image/png": "[encoded data removed]",
      "text/plain": [
       "<Figure size 648x504 with 6 Axes>"
      ]
     },
     "metadata": {},
     "output_type": "display_data"
    },
    {
     "data": {
      "image/png": "[encoded data removed]",
      "text/plain": [
       "<Figure size 1152x720 with 2 Axes>"
      ]
     },
     "metadata": {},
     "output_type": "display_data"
    }
   ],
   "source": [
    "train_data.hist(bins=10,figsize=(9,7),grid=False)\n",
    "# Subplots of Numeric Features\n",
    "sns.set_style('darkgrid')\n",
    "fig = plt.figure(figsize = (16,10))\n",
    "fig.subplots_adjust(hspace = .30)\n",
    "\n",
    "ax1 = fig.add_subplot(221)\n",
    "ax1.hist(train_data[train_data['Survived'] ==0].Age, bins = 25, label ='Did Not Survive', alpha = .50,edgecolor= 'black',color ='grey')\n",
    "ax1.hist(train_data[train_data['Survived']==1].Age, bins = 25, label = 'Survive', alpha = .50, edgecolor = 'black',color = 'lightgreen')\n",
    "ax1.set_title('Passenger Age: Survivors vs Non-Survivors')\n",
    "ax1.set_xlabel('Age')\n",
    "ax1.set_ylabel('# Passengers')\n",
    "ax1.legend(loc = 'upper right')\n",
    "\n",
    "ax2 = fig.add_subplot(223)\n",
    "ax2.hist(train_data[train_data['Survived']==0].Fare, bins = 25, label = 'Did Not Survive', alpha = .50, edgecolor ='black', color = 'grey')\n",
    "ax2.hist(train_data[train_data['Survived']==1].Fare, bins = 25, label = 'Survive', alpha = .50, edgecolor = 'black',color ='lightgreen')\n",
    "ax2.set_title('Ticket Fare: Suvivors vs Non-Survivors')\n",
    "ax2.set_xlabel('Fare')\n",
    "ax2.set_ylabel('# Passenger')\n",
    "ax2.legend(loc = 'upper right')\n",
    "\n",
    "plt.show()"
   ]
  },
  {
   "cell_type": "markdown",
   "metadata": {
    "_cell_guid": "fc9bbfbf-8187-4f2b-b9be-8a5c2b5c7bf2",
    "_uuid": "dba925b231add85c6435e7c7fd070b21d922b1fa"
   },
   "source": [
    ">**Numeric Features Insight**  \n",
    "- The majority of passengers under 10 years of age survived.     \n",
    "- Most people that paid over \\$100 for their ticket survived.  \n",
    "- There were a fewer number of people that survived over the age of 40. "
   ]
  },
  {
   "cell_type": "markdown",
   "metadata": {
    "_cell_guid": "fe356de0-524c-4f8b-949c-426aee8fbc53",
    "_uuid": "0ec57733f2d71d87fd5cf3162481164d41263589"
   },
   "source": [
    "### **Categorical Features**"
   ]
  },
  {
   "cell_type": "code",
   "execution_count": 21,
   "metadata": {
    "_cell_guid": "3ca5e11e-dc99-408f-b181-ed96bbca6ea3",
    "_execution_state": "idle",
    "_uuid": "25fb8a0867ee065a3883c81381a92111ac347360"
   },
   "outputs": [
    {
     "data": {
      "text/plain": [
       "Index(['Sex', 'Embarked'], dtype='object')"
      ]
     },
     "execution_count": 21,
     "metadata": {},
     "output_type": "execute_result"
    }
   ],
   "source": [
    "# Identify categorical features\n",
    "train_data.select_dtypes(['category']).columns"
   ]
  },
  {
   "cell_type": "code",
   "execution_count": 22,
   "metadata": {
    "_cell_guid": "6ef9fff4-84a2-430a-8551-d566357017d4",
    "_execution_state": "idle",
    "_uuid": "d21130d5e2bc686235984cb592972ba62c76c4cb"
   },
   "outputs": [
    {
     "data": {
      "image/png": "[encoded data removed]",
      "text/plain": [
       "<matplotlib.figure.Figure at 0x7f72020fa160>"
      ]
     },
     "metadata": {},
     "output_type": "display_data"
    }
   ],
   "source": [
    "# Suplots of categorical features v price\n",
    "sns.set_style('darkgrid')\n",
    "f, axes = plt.subplots(1,2, figsize = (15,5))\n",
    "\n",
    "# Plot [0]\n",
    "sns.countplot(x = 'Sex', data = train_data, palette = 'GnBu_d', ax = axes[0])\n",
    "axes[0].set_xlabel('Sex')\n",
    "axes[0].set_ylabel('# Passengers')\n",
    "axes[0].set_title('Gender of Passengers')\n",
    "\n",
    "# Plot [1]\n",
    "sns.countplot(x = 'Embarked', data = train_data, palette = 'GnBu_d',ax = axes[1])\n",
    "axes[1].set_xlabel('Embarked')\n",
    "axes[1].set_ylabel('# Passengers')\n",
    "axes[1].set_title('Embarked')\n",
    "\n",
    "plt.show()"
   ]
  },
  {
   "cell_type": "markdown",
   "metadata": {
    "_cell_guid": "8b130716-04e3-495a-969b-251298b0327d",
    "_uuid": "8c9401120d622f44a361a52f777886c9536bb21a"
   },
   "source": [
    ">**Categorical Features Insight**\n",
    "- Passengers were primarily male\n",
    "- Most passengers embarked from Southhampton\n"
   ]
  },
  {
   "cell_type": "markdown",
   "metadata": {
    "_cell_guid": "3512bf4c-7ea6-4518-a829-c1ef682ef3b6",
    "_uuid": "85b2400194dcea13bbfbea4557e04afd3f0e95cd"
   },
   "source": [
    "### **Target vs Categorical Features**"
   ]
  },
  {
   "cell_type": "code",
   "execution_count": 23,
   "metadata": {
    "_cell_guid": "caf8e25a-5026-43f5-bfd7-9ad9fbe89744",
    "_execution_state": "idle",
    "_uuid": "6110d9006d2fcc478b6021d9aefd9b4dc6fab2d9",
    "scrolled": false
   },
   "outputs": [
    {
     "data": {
      "image/png": "[encoded data removed]",
      "text/plain": [
       "<matplotlib.figure.Figure at 0x7f72003354e0>"
      ]
     },
     "metadata": {},
     "output_type": "display_data"
    }
   ],
   "source": [
    "# Suplots of categorical features v price\n",
    "sns.set_style('darkgrid')\n",
    "f, axes = plt.subplots(1,2, figsize = (20,7))\n",
    "\n",
    "gender = train_data.groupby(['Sex','Survived']).Sex.count().unstack()\n",
    "p1 = gender.plot(kind = 'bar', stacked = True, \n",
    "                   title = 'Gender: Survivers vs Non-Survivors', \n",
    "                   color = ['grey','lightgreen'], alpha = .70, ax = axes[0])\n",
    "p1.set_xlabel('Sex')\n",
    "p1.set_ylabel('# Passengers')\n",
    "p1.legend(['Did Not Survive','Survived'])\n",
    "\n",
    "\n",
    "embarked = train_data.groupby(['Embarked','Survived']).Embarked.count().unstack()\n",
    "p2 = embarked.plot(kind = 'bar', stacked = True, \n",
    "                    title = 'Embarked: Survivers vs Non-Survivors', \n",
    "                    color = ['grey','lightgreen'], alpha = .70, ax = axes[1])\n",
    "p2.set_xlabel('Embarked')\n",
    "p2.set_ylabel('# Passengers')\n",
    "p2.legend(['Did Not Survive','Survived'])\n",
    "\n",
    "plt.show()"
   ]
  },
  {
   "cell_type": "markdown",
   "metadata": {
    "_cell_guid": "a94dc519-0210-4e41-ad51-7ac7012a83c0",
    "_uuid": "78975ddae4a1ac84d5638dc4d25e1401fc70dbd4"
   },
   "source": [
    ">**Categorical Variable Insights**  \n",
    "- Most of the female passengers on board survived."
   ]
  },
  {
   "cell_type": "markdown",
   "metadata": {
    "_cell_guid": "30f8782b-5e75-4f8a-8273-c3b7a9568a02",
    "_uuid": "10fe26385d363592a2913da3c62be7a5ebbb48e9"
   },
   "source": [
    "### **GETTING MODEL READY**\n",
    "\n",
    "Now that we've explored the data, it is time to get these features 'model ready'. Categorial features will need to be converted into 'dummy variables', otherwise a machine learning algorithm will not be able to take in those features as inputs."
   ]
  },
  {
   "cell_type": "code",
   "execution_count": 24,
   "metadata": {
    "_cell_guid": "78473719-3c51-489a-9ae4-363ddf505fa4",
    "_execution_state": "idle",
    "_uuid": "91434b325c8c885b7ab65ea67e2da3408cce606b"
   },
   "outputs": [
    {
     "data": {
      "text/plain": [
       "(889, 8)"
      ]
     },
     "execution_count": 24,
     "metadata": {},
     "output_type": "execute_result"
    }
   ],
   "source": [
    "# Shape of train data\n",
    "train_data.shape"
   ]
  },
  {
   "cell_type": "code",
   "execution_count": 25,
   "metadata": {
    "_cell_guid": "3ee6e87f-a96b-4fc4-b75d-950bcd5c2183",
    "_execution_state": "idle",
    "_uuid": "e5521caeaf416bb46985cc1a1efd57ef96acc61b"
   },
   "outputs": [
    {
     "data": {
      "text/plain": [
       "Index(['Sex', 'Embarked'], dtype='object')"
      ]
     },
     "execution_count": 25,
     "metadata": {},
     "output_type": "execute_result"
    }
   ],
   "source": [
    "# Identify categorical features\n",
    "train_data.select_dtypes(['category']).columns"
   ]
  },
  {
   "cell_type": "code",
   "execution_count": 26,
   "metadata": {
    "_cell_guid": "d238113d-4d19-4c1d-82ae-90c47e2a5e51",
    "_execution_state": "idle",
    "_uuid": "db81fb805384c1995ccd6fb9ea2cff88bba0c959",
    "collapsed": true
   },
   "outputs": [],
   "source": [
    "# Convert categorical variables into 'dummy' or indicator variables\n",
    "sex = pd.get_dummies(train_data['Sex'], drop_first = True) # drop_first prevents multi-collinearity\n",
    "embarked = pd.get_dummies(train_data['Embarked'], drop_first = True)"
   ]
  },
  {
   "cell_type": "code",
   "execution_count": 27,
   "metadata": {
    "_cell_guid": "f454ea53-c745-4b67-88c1-79b11adfac2c",
    "_execution_state": "idle",
    "_uuid": "7adb7e764ebb1200691e2aae88fd02a1a036cc90"
   },
   "outputs": [
    {
     "data": {
      "text/html": [
       "<div>\n",
       "<style>\n",
       "    .dataframe thead tr:only-child th {\n",
       "        text-align: right;\n",
       "    }\n",
       "\n",
       "    .dataframe thead th {\n",
       "        text-align: left;\n",
       "    }\n",
       "\n",
       "    .dataframe tbody tr th {\n",
       "        vertical-align: top;\n",
       "    }\n",
       "</style>\n",
       "<table border=\"1\" class=\"dataframe\">\n",
       "  <thead>\n",
       "    <tr style=\"text-align: right;\">\n",
       "      <th></th>\n",
       "      <th>Survived</th>\n",
       "      <th>Pclass</th>\n",
       "      <th>Sex</th>\n",
       "      <th>Age</th>\n",
       "      <th>SibSp</th>\n",
       "      <th>Parch</th>\n",
       "      <th>Fare</th>\n",
       "      <th>Embarked</th>\n",
       "      <th>male</th>\n",
       "      <th>Q</th>\n",
       "      <th>S</th>\n",
       "    </tr>\n",
       "  </thead>\n",
       "  <tbody>\n",
       "    <tr>\n",
       "      <th>0</th>\n",
       "      <td>0</td>\n",
       "      <td>3</td>\n",
       "      <td>male</td>\n",
       "      <td>22.0</td>\n",
       "      <td>1</td>\n",
       "      <td>0</td>\n",
       "      <td>7.2500</td>\n",
       "      <td>S</td>\n",
       "      <td>1</td>\n",
       "      <td>0</td>\n",
       "      <td>1</td>\n",
       "    </tr>\n",
       "    <tr>\n",
       "      <th>1</th>\n",
       "      <td>1</td>\n",
       "      <td>1</td>\n",
       "      <td>female</td>\n",
       "      <td>38.0</td>\n",
       "      <td>1</td>\n",
       "      <td>0</td>\n",
       "      <td>71.2833</td>\n",
       "      <td>C</td>\n",
       "      <td>0</td>\n",
       "      <td>0</td>\n",
       "      <td>0</td>\n",
       "    </tr>\n",
       "  </tbody>\n",
       "</table>\n",
       "</div>"
      ],
      "text/plain": [
       "   Survived  Pclass     Sex   Age  SibSp  Parch     Fare Embarked  male  Q  S\n",
       "0         0       3    male  22.0      1      0   7.2500        S     1  0  1\n",
       "1         1       1  female  38.0      1      0  71.2833        C     0  0  0"
      ]
     },
     "execution_count": 27,
     "metadata": {},
     "output_type": "execute_result"
    }
   ],
   "source": [
    "# Add new dummy columns to data frame\n",
    "train_data = pd.concat([train_data, sex, embarked], axis = 1)\n",
    "train_data.head(2)"
   ]
  },
  {
   "cell_type": "code",
   "execution_count": 28,
   "metadata": {
    "_cell_guid": "7ab6ffb3-c4b1-4139-9dab-b93ac73bb053",
    "_execution_state": "idle",
    "_uuid": "5ae67ddc0f876d0e6e36d1e2c2787a3f22eea15e"
   },
   "outputs": [
    {
     "name": "stdout",
     "output_type": "stream",
     "text": [
      "train_data shape (889, 9)\n"
     ]
    },
    {
     "data": {
      "text/html": [
       "<div>\n",
       "<style>\n",
       "    .dataframe thead tr:only-child th {\n",
       "        text-align: right;\n",
       "    }\n",
       "\n",
       "    .dataframe thead th {\n",
       "        text-align: left;\n",
       "    }\n",
       "\n",
       "    .dataframe tbody tr th {\n",
       "        vertical-align: top;\n",
       "    }\n",
       "</style>\n",
       "<table border=\"1\" class=\"dataframe\">\n",
       "  <thead>\n",
       "    <tr style=\"text-align: right;\">\n",
       "      <th></th>\n",
       "      <th>Survived</th>\n",
       "      <th>Pclass</th>\n",
       "      <th>Age</th>\n",
       "      <th>SibSp</th>\n",
       "      <th>Parch</th>\n",
       "      <th>Fare</th>\n",
       "      <th>male</th>\n",
       "      <th>Q</th>\n",
       "      <th>S</th>\n",
       "    </tr>\n",
       "  </thead>\n",
       "  <tbody>\n",
       "    <tr>\n",
       "      <th>0</th>\n",
       "      <td>0</td>\n",
       "      <td>3</td>\n",
       "      <td>22.0</td>\n",
       "      <td>1</td>\n",
       "      <td>0</td>\n",
       "      <td>7.2500</td>\n",
       "      <td>1</td>\n",
       "      <td>0</td>\n",
       "      <td>1</td>\n",
       "    </tr>\n",
       "    <tr>\n",
       "      <th>1</th>\n",
       "      <td>1</td>\n",
       "      <td>1</td>\n",
       "      <td>38.0</td>\n",
       "      <td>1</td>\n",
       "      <td>0</td>\n",
       "      <td>71.2833</td>\n",
       "      <td>0</td>\n",
       "      <td>0</td>\n",
       "      <td>0</td>\n",
       "    </tr>\n",
       "    <tr>\n",
       "      <th>2</th>\n",
       "      <td>1</td>\n",
       "      <td>3</td>\n",
       "      <td>26.0</td>\n",
       "      <td>0</td>\n",
       "      <td>0</td>\n",
       "      <td>7.9250</td>\n",
       "      <td>0</td>\n",
       "      <td>0</td>\n",
       "      <td>1</td>\n",
       "    </tr>\n",
       "    <tr>\n",
       "      <th>3</th>\n",
       "      <td>1</td>\n",
       "      <td>1</td>\n",
       "      <td>35.0</td>\n",
       "      <td>1</td>\n",
       "      <td>0</td>\n",
       "      <td>53.1000</td>\n",
       "      <td>0</td>\n",
       "      <td>0</td>\n",
       "      <td>1</td>\n",
       "    </tr>\n",
       "    <tr>\n",
       "      <th>4</th>\n",
       "      <td>0</td>\n",
       "      <td>3</td>\n",
       "      <td>35.0</td>\n",
       "      <td>0</td>\n",
       "      <td>0</td>\n",
       "      <td>8.0500</td>\n",
       "      <td>1</td>\n",
       "      <td>0</td>\n",
       "      <td>1</td>\n",
       "    </tr>\n",
       "  </tbody>\n",
       "</table>\n",
       "</div>"
      ],
      "text/plain": [
       "   Survived  Pclass   Age  SibSp  Parch     Fare  male  Q  S\n",
       "0         0       3  22.0      1      0   7.2500     1  0  1\n",
       "1         1       1  38.0      1      0  71.2833     0  0  0\n",
       "2         1       3  26.0      0      0   7.9250     0  0  1\n",
       "3         1       1  35.0      1      0  53.1000     0  0  1\n",
       "4         0       3  35.0      0      0   8.0500     1  0  1"
      ]
     },
     "execution_count": 28,
     "metadata": {},
     "output_type": "execute_result"
    }
   ],
   "source": [
    "# Drop unecessary columns\n",
    "train_data.drop(['Sex', 'Embarked'], axis = 1, inplace = True)\n",
    "\n",
    "# Shape of train data\n",
    "print('train_data shape',train_data.shape)\n",
    "\n",
    "# Confirm changes\n",
    "train_data.head()"
   ]
  },
  {
   "cell_type": "markdown",
   "metadata": {
    "_cell_guid": "72b1ef4d-8cf3-436f-b0cd-d91535097e5d",
    "_uuid": "8edbe4f181839cc1d94f07e73c02e4f6d454f1c4"
   },
   "source": [
    "\n",
    ">Now the train data is perfect for a machine learning algorithm:  \n",
    "- all the data is numeric\n",
    "- everything is concatenated together"
   ]
  },
  {
   "cell_type": "markdown",
   "metadata": {
    "_cell_guid": "88f5f1e8-b368-436c-bb1b-6b5142de1f2b",
    "_uuid": "63477c1eee0ec7bd8213688a0d59d59f9fa1f3de"
   },
   "source": [
    "## **OBJECTIVE 2: MACHINE LEARNING**\n",
    "Next, I will feed these features into various classification algorithms to determine the best performance using a simple framework: **Split, Fit, Predict, Score It.**"
   ]
  },
  {
   "cell_type": "code",
   "execution_count": 29,
   "metadata": {
    "_cell_guid": "39119653-123e-4557-a86c-e2fe98a8a20f",
    "_execution_state": "idle",
    "_uuid": "330997bde139b14782d0892bbe62d538bd738cb5",
    "collapsed": true
   },
   "outputs": [],
   "source": [
    "# Split data to be used in the models\n",
    "# Create matrix of features\n",
    "x = train_data.drop('Survived', axis = 1) # grabs everything else but 'Survived'\n",
    "\n",
    "# Create target variable\n",
    "y = train_data['Survived'] # y is the column we're trying to predict\n",
    "\n",
    "# Use x and y variables to split the training data into train and test set\n",
    "from sklearn.model_selection import train_test_split\n",
    "x_train, x_test, y_train, y_test = train_test_split(x, y, test_size = .20, random_state = 101)"
   ]
  },
  {
   "cell_type": "markdown",
   "metadata": {
    "_cell_guid": "6f62eb54-b804-438f-85b5-263133e1cb82",
    "_uuid": "340a8b3a7ccc3ae1f4277f38a636078f2530eeb2"
   },
   "source": [
    "### ** LOGISTIC REGRESSION**"
   ]
  },
  {
   "cell_type": "code",
   "execution_count": 30,
   "metadata": {
    "_cell_guid": "aff974e1-7869-4ed0-b092-df80abc1dbc7",
    "_execution_state": "idle",
    "_uuid": "9dde9fd9ec41ccf1ad6db5baf9bf6a6659002bab"
   },
   "outputs": [
    {
     "data": {
      "text/plain": [
       "LogisticRegression(C=1.0, class_weight=None, dual=False, fit_intercept=True,\n",
       "          intercept_scaling=1, max_iter=100, multi_class='ovr', n_jobs=1,\n",
       "          penalty='l2', random_state=None, solver='liblinear', tol=0.0001,\n",
       "          verbose=0, warm_start=False)"
      ]
     },
     "execution_count": 30,
     "metadata": {},
     "output_type": "execute_result"
    }
   ],
   "source": [
    "# Fit \n",
    "# Import model\n",
    "from sklearn.linear_model import LogisticRegression\n",
    "\n",
    "# Create instance of model\n",
    "lreg = LogisticRegression()\n",
    "\n",
    "# Pass training data into model\n",
    "lreg.fit(x_train, y_train)"
   ]
  },
  {
   "cell_type": "code",
   "execution_count": 31,
   "metadata": {
    "_cell_guid": "fe99fd6f-d2ef-47a2-8685-25166cf642ad",
    "_execution_state": "idle",
    "_uuid": "41366ef28e3ae4b1698f4fff9f6ebc7e60b4ba56",
    "collapsed": true
   },
   "outputs": [],
   "source": [
    "# Predict\n",
    "y_pred_lreg = lreg.predict(x_test)"
   ]
  },
  {
   "cell_type": "code",
   "execution_count": 32,
   "metadata": {
    "_cell_guid": "39815ee3-1b3b-4fd5-b2c4-7b94bb4367e5",
    "_execution_state": "idle",
    "_uuid": "769313a3308587825fdd38cd0f68caed4091817a"
   },
   "outputs": [
    {
     "name": "stdout",
     "output_type": "stream",
     "text": [
      "Logistic Regression\n",
      "\n",
      "\n",
      "Confusion Matrix\n",
      "[[98  9]\n",
      " [26 45]]\n",
      "--------------------------------------------------------------------------------\n",
      "Classification Report\n",
      "             precision    recall  f1-score   support\n",
      "\n",
      "          0       0.79      0.92      0.85       107\n",
      "          1       0.83      0.63      0.72        71\n",
      "\n",
      "avg / total       0.81      0.80      0.80       178\n",
      "\n",
      "--------------------------------------------------------------------------------\n",
      "Accuracy 80.34 %\n"
     ]
    }
   ],
   "source": [
    "# Score It\n",
    "from sklearn.metrics import classification_report, confusion_matrix, accuracy_score,f1_score, precision_score, recall_score\n",
    "\n",
    "# Accuracy\n",
    "print('--'*40)\n",
    "logreg_accuracy = round(accuracy_score(y_test, y_pred_lreg) * 100,2)\n",
    "print('Accuracy', logreg_accuracy,'%')"
   ]
  },
  {
   "cell_type": "markdown",
   "metadata": {},
   "source": [
    "### **Interpretation**  \n",
    "**Accuracy**  \n",
    "80% of the model's predictions are correct."
   ]
  }
 ],
 "metadata": {
  "kernelspec": {
   "display_name": "Python 3",
   "language": "python",
   "name": "python3"
  },
  "language_info": {
   "codemirror_mode": {
    "name": "ipython",
    "version": 3
   },
   "file_extension": ".py",
   "mimetype": "text/x-python",
   "name": "python",
   "nbconvert_exporter": "python",
   "pygments_lexer": "ipython3",
   "version": "3.7.7"
  }
 },
 "nbformat": 4,
 "nbformat_minor": 1
}
