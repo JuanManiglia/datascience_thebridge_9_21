{
 "cells": [
  {
   "cell_type": "markdown",
   "metadata": {},
   "source": [
    "<img src=\"img/JurassicPark.png\">"
   ]
  },
  {
   "cell_type": "markdown",
   "metadata": {},
   "source": [
    "Take a look at the image above. What are the dominant colours? Now, what if we want to create a program that can automatically find them?\n",
    "\n",
    "**Image segmentation is the process of partitioning a digital image into multiple distinct regions containing each pixel(sets of pixels, also known as superpixels) with similar attributes.**\n",
    "\n",
    "**The goal of Image segmentation is to change the representation of an image into something that is more meaningful and easier to analyze.**"
   ]
  },
  {
   "cell_type": "markdown",
   "metadata": {},
   "source": [
    "## __K-Means Clustering__\n",
    "So what exactly is k-means?\n",
    "\n",
    "K-means is a clustering algorithm.\n",
    "\n",
    "The goal is to partition n data points into k clusters. Each of the n data points will be assigned to a cluster with the nearest mean. The mean of each cluster is called its “centroid” or “center”.\n",
    "\n",
    "Overall, applying k-means yields k separate clusters of the original n data points. Data points inside a particular cluster are considered to be “more similar” to each other than data points that belong to other clusters.\n",
    "\n",
    "**In our case, we will be clustering the pixel intensities of a RGB image**. Given a MxN size image, we thus have MxN pixels, each consisting of three components: Red, Green, and Blue respectively.\n",
    "\n",
    "We will treat these MxN pixels as our data points and cluster them using k-means.\n",
    "\n",
    "Pixels that belong to a given cluster will be more similar in color than pixels belonging to a separate cluster.\n",
    "\n",
    "**One caveat of k-means is that we need to specify the number of clusters we want to generate ahead of time**. There are algorithms that automatically select the optimal value of k."
   ]
  },
  {
   "cell_type": "code",
   "execution_count": null,
   "metadata": {},
   "outputs": [],
   "source": [
    "#!pip install utils\n",
    "#!pip install opencv-python"
   ]
  },
  {
   "cell_type": "code",
   "execution_count": null,
   "metadata": {},
   "outputs": [],
   "source": [
    "# import the necessary packages\n",
    "from sklearn.cluster import KMeans\n",
    "import matplotlib.pyplot as plt\n",
    "import argparse\n",
    "import utils\n",
    "import cv2"
   ]
  },
  {
   "cell_type": "code",
   "execution_count": null,
   "metadata": {},
   "outputs": [],
   "source": []
  },
  {
   "cell_type": "code",
   "execution_count": null,
   "metadata": {},
   "outputs": [],
   "source": [
    "# load the image and convert it from BGR to RGB so that\n",
    "# we can dispaly it with matplotlib\n",
    "image = cv2.imread(image)\n",
    "image = cv2.cvtColor(image, cv2.COLOR_BGR2RGB)\n",
    "image.shape"
   ]
  },
  {
   "cell_type": "code",
   "execution_count": null,
   "metadata": {},
   "outputs": [],
   "source": [
    "# show our image\n",
    "plt.figure()\n",
    "plt.axis(\"off\")\n",
    "plt.imshow(image);"
   ]
  },
  {
   "cell_type": "code",
   "execution_count": null,
   "metadata": {},
   "outputs": [],
   "source": [
    "# reshape the image to be a list of pixels\n",
    "image = image.reshape((image.shape[0] * image.shape[1], 3)) # rows x columns to flatten, 3 because we have 3 color planes\n",
    "image.shape"
   ]
  },
  {
   "cell_type": "code",
   "execution_count": null,
   "metadata": {},
   "outputs": [],
   "source": []
  },
  {
   "cell_type": "code",
   "execution_count": null,
   "metadata": {},
   "outputs": [],
   "source": [
    "# import the necessary packages\n",
    "import numpy as np\n",
    "import cv2\n",
    "\n",
    "\n",
    "def centroid_histogram(clt):\n",
    "    # grab the number of different clusters and create a histogram\n",
    "    # based on the number of pixels assigned to each cluster\n",
    "    numLabels = np.arange(0, len(np.unique(clt.labels_)) + 1)\n",
    "    (hist, _) = np.histogram(clt.labels_, bins = numLabels)\n",
    "    # normalize the histogram, such that it sums to one\n",
    "    hist = hist.astype(\"float\")\n",
    "    hist /= hist.sum()\n",
    "    # return the histogram\n",
    "    return hist"
   ]
  },
  {
   "cell_type": "code",
   "execution_count": null,
   "metadata": {},
   "outputs": [],
   "source": [
    "def plot_colors(hist, centroids):\n",
    "    # initialize the bar chart representing the relative frequency\n",
    "    # of each of the colors\n",
    "    bar = np.zeros((50, 300, 3), dtype = \"uint8\")\n",
    "    startX = 0\n",
    "    # loop over the percentage of each cluster and the color of\n",
    "    # each cluster\n",
    "    for (percent, color) in zip(hist, centroids):\n",
    "        # plot the relative percentage of each cluster\n",
    "        endX = startX + (percent * 300)\n",
    "        cv2.rectangle(bar, (int(startX), 0), (int(endX), 50),\n",
    "            color.astype(\"uint8\").tolist(), -1)\n",
    "        startX = endX\n",
    "    \n",
    "    # return the bar chart\n",
    "    return bar"
   ]
  },
  {
   "cell_type": "code",
   "execution_count": null,
   "metadata": {},
   "outputs": [],
   "source": [
    "# build a histogram of clusters and then create a figure\n",
    "# representing the number of pixels labeled to each color\n",
    "hist = centroid_histogram(clt)\n",
    "bar = plot_colors(hist, clt.cluster_centers_)\n",
    "# show our color bart\n",
    "plt.figure()\n",
    "plt.axis(\"off\")\n",
    "plt.imshow(bar)\n",
    "plt.show()"
   ]
  },
  {
   "cell_type": "markdown",
   "metadata": {},
   "source": [
    "Now you can check it with other pictures!"
   ]
  }
 ],
 "metadata": {
  "kernelspec": {
   "display_name": "Python 3",
   "language": "python",
   "name": "python3"
  },
  "language_info": {
   "codemirror_mode": {
    "name": "ipython",
    "version": 3
   },
   "file_extension": ".py",
   "mimetype": "text/x-python",
   "name": "python",
   "nbconvert_exporter": "python",
   "pygments_lexer": "ipython3",
   "version": "3.8.5"
  }
 },
 "nbformat": 4,
 "nbformat_minor": 4
}
