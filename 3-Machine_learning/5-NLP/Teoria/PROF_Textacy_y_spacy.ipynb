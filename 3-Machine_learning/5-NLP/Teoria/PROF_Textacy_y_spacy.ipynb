{
 "cells": [
  {
   "cell_type": "markdown",
   "metadata": {
    "id": "dM0AU5JmpZa3"
   },
   "source": [
    "# Textacy & Spacy\n",
    "Librerias de procesado de NLP"
   ]
  },
  {
   "cell_type": "code",
   "execution_count": 1,
   "metadata": {
    "colab": {
     "base_uri": "https://localhost:8080/"
    },
    "collapsed": true,
    "id": "O0meJJdTk-yP",
    "jupyter": {
     "outputs_hidden": true
    },
    "outputId": "a47ec2c6-6e62-4ecb-a694-78e4ede1ca9f"
   },
   "outputs": [
    {
     "name": "stdout",
     "output_type": "stream",
     "text": [
      "Collecting spacy==3.0.2\n",
      "\u001b[?25l  Downloading https://files.pythonhosted.org/packages/74/0c/1506978404c6363cae08af5e81cf1d2589fca889f27a1c70c333251a55df/spacy-3.0.2-cp37-cp37m-manylinux2014_x86_64.whl (12.7MB)\n",
      "\u001b[K     |████████████████████████████████| 12.7MB 17.1MB/s \n",
      "\u001b[?25hCollecting catalogue<2.1.0,>=2.0.1\n",
      "  Downloading https://files.pythonhosted.org/packages/48/5c/493a2f3bb0eac17b1d48129ecfd251f0520b6c89493e9fd0522f534a9e4a/catalogue-2.0.1-py3-none-any.whl\n",
      "Collecting typer<0.4.0,>=0.3.0\n",
      "  Downloading https://files.pythonhosted.org/packages/90/34/d138832f6945432c638f32137e6c79a3b682f06a63c488dcfaca6b166c64/typer-0.3.2-py3-none-any.whl\n",
      "Requirement already satisfied, skipping upgrade: murmurhash<1.1.0,>=0.28.0 in /usr/local/lib/python3.7/dist-packages (from spacy==3.0.2) (1.0.5)\n",
      "Requirement already satisfied, skipping upgrade: requests<3.0.0,>=2.13.0 in /usr/local/lib/python3.7/dist-packages (from spacy==3.0.2) (2.23.0)\n",
      "Requirement already satisfied, skipping upgrade: jinja2 in /usr/local/lib/python3.7/dist-packages (from spacy==3.0.2) (2.11.3)\n",
      "Collecting pydantic<1.8.0,>=1.7.1\n",
      "\u001b[?25l  Downloading https://files.pythonhosted.org/packages/b3/0a/52ae1c659fc08f13dd7c0ae07b88e4f807ad83fb9954a59b0b0a3d1a8ab6/pydantic-1.7.3-cp37-cp37m-manylinux2014_x86_64.whl (9.1MB)\n",
      "\u001b[K     |████████████████████████████████| 9.1MB 29.8MB/s \n",
      "\u001b[?25hCollecting pathy\n",
      "  Downloading https://files.pythonhosted.org/packages/a2/53/97dc0197cca9357369b3b71bf300896cf2d3604fa60ffaaf5cbc277de7de/pathy-0.4.0-py3-none-any.whl\n",
      "Collecting spacy-legacy<3.1.0,>=3.0.0\n",
      "  Downloading https://files.pythonhosted.org/packages/65/d5/6c58fc97f3098775e46d8202bf248752e626a8096a0ae9d76aa7c485a09c/spacy_legacy-3.0.1-py2.py3-none-any.whl\n",
      "Requirement already satisfied, skipping upgrade: packaging>=20.0 in /usr/local/lib/python3.7/dist-packages (from spacy==3.0.2) (20.9)\n",
      "Requirement already satisfied, skipping upgrade: numpy>=1.15.0 in /usr/local/lib/python3.7/dist-packages (from spacy==3.0.2) (1.19.5)\n",
      "Requirement already satisfied, skipping upgrade: setuptools in /usr/local/lib/python3.7/dist-packages (from spacy==3.0.2) (54.2.0)\n",
      "Requirement already satisfied, skipping upgrade: tqdm<5.0.0,>=4.38.0 in /usr/local/lib/python3.7/dist-packages (from spacy==3.0.2) (4.41.1)\n",
      "Requirement already satisfied, skipping upgrade: importlib-metadata>=0.20; python_version < \"3.8\" in /usr/local/lib/python3.7/dist-packages (from spacy==3.0.2) (3.8.1)\n",
      "Requirement already satisfied, skipping upgrade: preshed<3.1.0,>=3.0.2 in /usr/local/lib/python3.7/dist-packages (from spacy==3.0.2) (3.0.5)\n",
      "Requirement already satisfied, skipping upgrade: cymem<2.1.0,>=2.0.2 in /usr/local/lib/python3.7/dist-packages (from spacy==3.0.2) (2.0.5)\n",
      "Requirement already satisfied, skipping upgrade: typing-extensions>=3.7.4; python_version < \"3.8\" in /usr/local/lib/python3.7/dist-packages (from spacy==3.0.2) (3.7.4.3)\n",
      "Requirement already satisfied, skipping upgrade: wasabi<1.1.0,>=0.8.1 in /usr/local/lib/python3.7/dist-packages (from spacy==3.0.2) (0.8.2)\n",
      "Collecting thinc<8.1.0,>=8.0.0\n",
      "\u001b[?25l  Downloading https://files.pythonhosted.org/packages/e3/08/20e707519bcded1a0caa6fd024b767ac79e4e5d0fb92266bb7dcf735e338/thinc-8.0.2-cp37-cp37m-manylinux2014_x86_64.whl (1.1MB)\n",
      "\u001b[K     |████████████████████████████████| 1.1MB 46.9MB/s \n",
      "\u001b[?25hRequirement already satisfied, skipping upgrade: blis<0.8.0,>=0.4.0 in /usr/local/lib/python3.7/dist-packages (from spacy==3.0.2) (0.4.1)\n",
      "Collecting srsly<3.0.0,>=2.4.0\n",
      "\u001b[?25l  Downloading https://files.pythonhosted.org/packages/19/54/76982427ceb495dd19ff982c966708c624b85e03c45bf1912feaf60c7b2d/srsly-2.4.0-cp37-cp37m-manylinux2014_x86_64.whl (456kB)\n",
      "\u001b[K     |████████████████████████████████| 460kB 39.0MB/s \n",
      "\u001b[?25hRequirement already satisfied, skipping upgrade: click<7.2.0,>=7.1.1 in /usr/local/lib/python3.7/dist-packages (from typer<0.4.0,>=0.3.0->spacy==3.0.2) (7.1.2)\n",
      "Requirement already satisfied, skipping upgrade: urllib3!=1.25.0,!=1.25.1,<1.26,>=1.21.1 in /usr/local/lib/python3.7/dist-packages (from requests<3.0.0,>=2.13.0->spacy==3.0.2) (1.24.3)\n",
      "Requirement already satisfied, skipping upgrade: idna<3,>=2.5 in /usr/local/lib/python3.7/dist-packages (from requests<3.0.0,>=2.13.0->spacy==3.0.2) (2.10)\n",
      "Requirement already satisfied, skipping upgrade: certifi>=2017.4.17 in /usr/local/lib/python3.7/dist-packages (from requests<3.0.0,>=2.13.0->spacy==3.0.2) (2020.12.5)\n",
      "Requirement already satisfied, skipping upgrade: chardet<4,>=3.0.2 in /usr/local/lib/python3.7/dist-packages (from requests<3.0.0,>=2.13.0->spacy==3.0.2) (3.0.4)\n",
      "Requirement already satisfied, skipping upgrade: MarkupSafe>=0.23 in /usr/local/lib/python3.7/dist-packages (from jinja2->spacy==3.0.2) (1.1.1)\n",
      "Collecting smart-open<4.0.0,>=2.2.0\n",
      "\u001b[?25l  Downloading https://files.pythonhosted.org/packages/11/9a/ba2d5f67f25e8d5bbf2fcec7a99b1e38428e83cb715f64dd179ca43a11bb/smart_open-3.0.0.tar.gz (113kB)\n",
      "\u001b[K     |████████████████████████████████| 122kB 36.2MB/s \n",
      "\u001b[?25hRequirement already satisfied, skipping upgrade: pyparsing>=2.0.2 in /usr/local/lib/python3.7/dist-packages (from packaging>=20.0->spacy==3.0.2) (2.4.7)\n",
      "Requirement already satisfied, skipping upgrade: zipp>=0.5 in /usr/local/lib/python3.7/dist-packages (from importlib-metadata>=0.20; python_version < \"3.8\"->spacy==3.0.2) (3.4.1)\n",
      "Building wheels for collected packages: smart-open\n",
      "  Building wheel for smart-open (setup.py) ... \u001b[?25l\u001b[?25hdone\n",
      "  Created wheel for smart-open: filename=smart_open-3.0.0-cp37-none-any.whl size=107098 sha256=7c4726d92bdefda5c27f02d3af1d72696bd42fc2932a7fc7c2c720e798660d8a\n",
      "  Stored in directory: /root/.cache/pip/wheels/18/88/7c/f06dabd5e9cabe02d2269167bcacbbf9b47d0c0ff7d6ebcb78\n",
      "Successfully built smart-open\n",
      "Installing collected packages: catalogue, typer, pydantic, smart-open, pathy, spacy-legacy, srsly, thinc, spacy\n",
      "  Found existing installation: catalogue 1.0.0\n",
      "    Uninstalling catalogue-1.0.0:\n",
      "      Successfully uninstalled catalogue-1.0.0\n",
      "  Found existing installation: smart-open 4.2.0\n",
      "    Uninstalling smart-open-4.2.0:\n",
      "      Successfully uninstalled smart-open-4.2.0\n",
      "  Found existing installation: srsly 1.0.5\n",
      "    Uninstalling srsly-1.0.5:\n",
      "      Successfully uninstalled srsly-1.0.5\n",
      "  Found existing installation: thinc 7.4.0\n",
      "    Uninstalling thinc-7.4.0:\n",
      "      Successfully uninstalled thinc-7.4.0\n",
      "  Found existing installation: spacy 2.2.4\n",
      "    Uninstalling spacy-2.2.4:\n",
      "      Successfully uninstalled spacy-2.2.4\n",
      "Successfully installed catalogue-2.0.1 pathy-0.4.0 pydantic-1.7.3 smart-open-3.0.0 spacy-3.0.2 spacy-legacy-3.0.1 srsly-2.4.0 thinc-8.0.2 typer-0.3.2\n",
      "Collecting textacy==0.10.1\n",
      "\u001b[?25l  Downloading https://files.pythonhosted.org/packages/65/99/054efc5dea92c84a850639c490541de6cba29bc148debc3c73848c5e64c2/textacy-0.10.1-py3-none-any.whl (183kB)\n",
      "\u001b[K     |████████████████████████████████| 184kB 17.6MB/s \n",
      "\u001b[?25hRequirement already satisfied: cachetools>=2.0.1 in /usr/local/lib/python3.7/dist-packages (from textacy==0.10.1) (4.2.1)\n",
      "Collecting cytoolz>=0.8.0\n",
      "\u001b[?25l  Downloading https://files.pythonhosted.org/packages/58/67/1c60da8ba831bfefedb64c78b9f6820bdf58972797c95644ee3191daf27a/cytoolz-0.11.0.tar.gz (477kB)\n",
      "\u001b[K     |████████████████████████████████| 481kB 13.7MB/s \n",
      "\u001b[?25hRequirement already satisfied: numpy>=1.17.0 in /usr/local/lib/python3.7/dist-packages (from textacy==0.10.1) (1.19.5)\n",
      "Requirement already satisfied: pyemd>=0.5.0 in /usr/local/lib/python3.7/dist-packages (from textacy==0.10.1) (0.5.1)\n",
      "Collecting pyphen>=0.9.4\n",
      "\u001b[?25l  Downloading https://files.pythonhosted.org/packages/7c/5a/5bc036e01389bc6a6667a932bac3e388de6e7fa5777a6ff50e652f60ec79/Pyphen-0.10.0-py3-none-any.whl (1.9MB)\n",
      "\u001b[K     |████████████████████████████████| 1.9MB 39.8MB/s \n",
      "\u001b[?25hRequirement already satisfied: joblib>=0.13.0 in /usr/local/lib/python3.7/dist-packages (from textacy==0.10.1) (1.0.1)\n",
      "Requirement already satisfied: scikit-learn<0.24.0,>=0.19.0 in /usr/local/lib/python3.7/dist-packages (from textacy==0.10.1) (0.22.2.post1)\n",
      "Requirement already satisfied: requests>=2.10.0 in /usr/local/lib/python3.7/dist-packages (from textacy==0.10.1) (2.23.0)\n",
      "Requirement already satisfied: tqdm>=4.19.6 in /usr/local/lib/python3.7/dist-packages (from textacy==0.10.1) (4.41.1)\n",
      "Collecting spacy<3.0.0,>=2.2.0\n",
      "\u001b[?25l  Downloading https://files.pythonhosted.org/packages/95/89/1539c4024c339650c222b0b2ca2b3e3f13523b7a02671f8001b7b1cee6f2/spacy-2.3.5-cp37-cp37m-manylinux2014_x86_64.whl (10.4MB)\n",
      "\u001b[K     |████████████████████████████████| 10.4MB 38.6MB/s \n",
      "\u001b[?25hRequirement already satisfied: scipy>=0.17.0 in /usr/local/lib/python3.7/dist-packages (from textacy==0.10.1) (1.4.1)\n",
      "Requirement already satisfied: srsly>=0.0.5 in /usr/local/lib/python3.7/dist-packages (from textacy==0.10.1) (2.4.0)\n",
      "Requirement already satisfied: networkx>=2.0 in /usr/local/lib/python3.7/dist-packages (from textacy==0.10.1) (2.5)\n",
      "Collecting jellyfish>=0.7.0\n",
      "\u001b[?25l  Downloading https://files.pythonhosted.org/packages/30/a6/4d039bc827a102f62ce7a7910713e38fdfd7c7a40aa39c72fb14938a1473/jellyfish-0.8.2-cp37-cp37m-manylinux2014_x86_64.whl (90kB)\n",
      "\u001b[K     |████████████████████████████████| 92kB 8.3MB/s \n",
      "\u001b[?25hRequirement already satisfied: toolz>=0.8.0 in /usr/local/lib/python3.7/dist-packages (from cytoolz>=0.8.0->textacy==0.10.1) (0.11.1)\n",
      "Requirement already satisfied: urllib3!=1.25.0,!=1.25.1,<1.26,>=1.21.1 in /usr/local/lib/python3.7/dist-packages (from requests>=2.10.0->textacy==0.10.1) (1.24.3)\n",
      "Requirement already satisfied: idna<3,>=2.5 in /usr/local/lib/python3.7/dist-packages (from requests>=2.10.0->textacy==0.10.1) (2.10)\n",
      "Requirement already satisfied: chardet<4,>=3.0.2 in /usr/local/lib/python3.7/dist-packages (from requests>=2.10.0->textacy==0.10.1) (3.0.4)\n",
      "Requirement already satisfied: certifi>=2017.4.17 in /usr/local/lib/python3.7/dist-packages (from requests>=2.10.0->textacy==0.10.1) (2020.12.5)\n",
      "Requirement already satisfied: cymem<2.1.0,>=2.0.2 in /usr/local/lib/python3.7/dist-packages (from spacy<3.0.0,>=2.2.0->textacy==0.10.1) (2.0.5)\n",
      "Requirement already satisfied: wasabi<1.1.0,>=0.4.0 in /usr/local/lib/python3.7/dist-packages (from spacy<3.0.0,>=2.2.0->textacy==0.10.1) (0.8.2)\n",
      "Requirement already satisfied: plac<1.2.0,>=0.9.6 in /usr/local/lib/python3.7/dist-packages (from spacy<3.0.0,>=2.2.0->textacy==0.10.1) (1.1.3)\n",
      "Collecting catalogue<1.1.0,>=0.0.7\n",
      "  Downloading https://files.pythonhosted.org/packages/6c/f9/9a5658e2f56932e41eb264941f9a2cb7f3ce41a80cb36b2af6ab78e2f8af/catalogue-1.0.0-py2.py3-none-any.whl\n",
      "Collecting thinc<7.5.0,>=7.4.1\n",
      "\u001b[?25l  Downloading https://files.pythonhosted.org/packages/9a/92/71ab278f865f7565c37ed6917d0f23342e4f9a0633013113bd435cf0a691/thinc-7.4.5-cp37-cp37m-manylinux2014_x86_64.whl (1.0MB)\n",
      "\u001b[K     |████████████████████████████████| 1.1MB 41.8MB/s \n",
      "\u001b[?25hRequirement already satisfied: blis<0.8.0,>=0.4.0 in /usr/local/lib/python3.7/dist-packages (from spacy<3.0.0,>=2.2.0->textacy==0.10.1) (0.4.1)\n",
      "Requirement already satisfied: setuptools in /usr/local/lib/python3.7/dist-packages (from spacy<3.0.0,>=2.2.0->textacy==0.10.1) (54.2.0)\n",
      "Requirement already satisfied: murmurhash<1.1.0,>=0.28.0 in /usr/local/lib/python3.7/dist-packages (from spacy<3.0.0,>=2.2.0->textacy==0.10.1) (1.0.5)\n",
      "Requirement already satisfied: preshed<3.1.0,>=3.0.2 in /usr/local/lib/python3.7/dist-packages (from spacy<3.0.0,>=2.2.0->textacy==0.10.1) (3.0.5)\n",
      "Requirement already satisfied: decorator>=4.3.0 in /usr/local/lib/python3.7/dist-packages (from networkx>=2.0->textacy==0.10.1) (4.4.2)\n",
      "Requirement already satisfied: importlib-metadata>=0.20; python_version < \"3.8\" in /usr/local/lib/python3.7/dist-packages (from catalogue<1.1.0,>=0.0.7->spacy<3.0.0,>=2.2.0->textacy==0.10.1) (3.8.1)\n",
      "Requirement already satisfied: typing-extensions>=3.6.4; python_version < \"3.8\" in /usr/local/lib/python3.7/dist-packages (from importlib-metadata>=0.20; python_version < \"3.8\"->catalogue<1.1.0,>=0.0.7->spacy<3.0.0,>=2.2.0->textacy==0.10.1) (3.7.4.3)\n",
      "Requirement already satisfied: zipp>=0.5 in /usr/local/lib/python3.7/dist-packages (from importlib-metadata>=0.20; python_version < \"3.8\"->catalogue<1.1.0,>=0.0.7->spacy<3.0.0,>=2.2.0->textacy==0.10.1) (3.4.1)\n",
      "Building wheels for collected packages: cytoolz\n",
      "  Building wheel for cytoolz (setup.py) ... \u001b[?25l\u001b[?25hdone\n",
      "  Created wheel for cytoolz: filename=cytoolz-0.11.0-cp37-cp37m-linux_x86_64.whl size=1223260 sha256=6acdb9927cb4074ca4cfaca1018a0f84df20bf50e508a8a1faed958a65f7189d\n",
      "  Stored in directory: /root/.cache/pip/wheels/a1/32/3c/9c9926b510647cacdde744b2c7acdf1ccd5896fbb7f8d5df0c\n",
      "Successfully built cytoolz\n",
      "\u001b[31mERROR: thinc 7.4.5 has requirement srsly<1.1.0,>=0.0.6, but you'll have srsly 2.4.0 which is incompatible.\u001b[0m\n",
      "\u001b[31mERROR: srsly 2.4.0 has requirement catalogue<2.1.0,>=2.0.1, but you'll have catalogue 1.0.0 which is incompatible.\u001b[0m\n",
      "\u001b[31mERROR: spacy 2.3.5 has requirement srsly<1.1.0,>=1.0.2, but you'll have srsly 2.4.0 which is incompatible.\u001b[0m\n",
      "Installing collected packages: cytoolz, pyphen, catalogue, thinc, spacy, jellyfish, textacy\n",
      "  Found existing installation: catalogue 2.0.1\n",
      "    Uninstalling catalogue-2.0.1:\n",
      "      Successfully uninstalled catalogue-2.0.1\n",
      "  Found existing installation: thinc 8.0.2\n",
      "    Uninstalling thinc-8.0.2:\n",
      "      Successfully uninstalled thinc-8.0.2\n",
      "  Found existing installation: spacy 3.0.2\n",
      "    Uninstalling spacy-3.0.2:\n",
      "      Successfully uninstalled spacy-3.0.2\n",
      "Successfully installed catalogue-1.0.0 cytoolz-0.11.0 jellyfish-0.8.2 pyphen-0.10.0 spacy-2.3.5 textacy-0.10.1 thinc-7.4.5\n",
      "\u001b[38;5;3m⚠ Skipping model package dependencies and setting `--no-deps`. You\n",
      "don't seem to have the spaCy package itself installed (maybe because you've\n",
      "built from source?), so installing the model dependencies would cause spaCy to\n",
      "be downloaded, which probably isn't what you want. If the model package has\n",
      "other dependencies, you'll have to install them manually.\u001b[0m\n",
      "Collecting en_core_web_lg==2.3.1\n",
      "\u001b[?25l  Downloading https://github.com/explosion/spacy-models/releases/download/en_core_web_lg-2.3.1/en_core_web_lg-2.3.1.tar.gz (782.7MB)\n",
      "\u001b[K     |████████████████████████████████| 782.7MB 1.3MB/s \n",
      "\u001b[?25hBuilding wheels for collected packages: en-core-web-lg\n",
      "  Building wheel for en-core-web-lg (setup.py) ... \u001b[?25l\u001b[?25hdone\n",
      "  Created wheel for en-core-web-lg: filename=en_core_web_lg-2.3.1-cp37-none-any.whl size=782936123 sha256=d6607463aa1a84dae6f1df71b2a14e1f65a2fab3b64916535ecbaf74a23b2d44\n",
      "  Stored in directory: /tmp/pip-ephem-wheel-cache-xhkxxd9l/wheels/ce/4d/1b/bc6cabb6df139c5f0318927be3ae9e51363fb44d6ea328d3f4\n",
      "Successfully built en-core-web-lg\n",
      "Installing collected packages: en-core-web-lg\n",
      "Successfully installed en-core-web-lg-2.3.1\n",
      "\u001b[38;5;2m✔ Download and installation successful\u001b[0m\n",
      "You can now load the model via spacy.load('en_core_web_lg')\n",
      "\u001b[38;5;3m⚠ Skipping model package dependencies and setting `--no-deps`. You\n",
      "don't seem to have the spaCy package itself installed (maybe because you've\n",
      "built from source?), so installing the model dependencies would cause spaCy to\n",
      "be downloaded, which probably isn't what you want. If the model package has\n",
      "other dependencies, you'll have to install them manually.\u001b[0m\n",
      "Collecting es_core_news_lg==2.3.1\n",
      "\u001b[?25l  Downloading https://github.com/explosion/spacy-models/releases/download/es_core_news_lg-2.3.1/es_core_news_lg-2.3.1.tar.gz (573.1MB)\n",
      "\u001b[K     |████████████████████████████████| 573.1MB 1.2MB/s \n",
      "\u001b[?25hBuilding wheels for collected packages: es-core-news-lg\n",
      "  Building wheel for es-core-news-lg (setup.py) ... \u001b[?25l\u001b[?25hdone\n",
      "  Created wheel for es-core-news-lg: filename=es_core_news_lg-2.3.1-cp37-none-any.whl size=573139081 sha256=3dfc0a143ec9ce987dd185330e7fd3fe2e1520a5ebe6eb0d1ba470d84a64fbce\n",
      "  Stored in directory: /tmp/pip-ephem-wheel-cache-78_obvws/wheels/48/59/33/558e7f48e924c6cac0cbd3679ee7c84f5ae02964c335232e5a\n",
      "Successfully built es-core-news-lg\n",
      "Installing collected packages: es-core-news-lg\n",
      "Successfully installed es-core-news-lg-2.3.1\n",
      "\u001b[38;5;2m✔ Download and installation successful\u001b[0m\n",
      "You can now load the model via spacy.load('es_core_news_lg')\n"
     ]
    }
   ],
   "source": [
    "'''\n",
    "Versiones compatibles\n",
    "Despues hay que reiniciar el entorno de ejecución\n",
    "'''\n",
    "!pip install -U spacy==3.0.2\n",
    "!pip install textacy==0.10.1\n",
    "\n",
    "# Para siguientes ejecuciones, solo ejecutar esto y reiniciar despues el entorno\n",
    "!python -m spacy download en_core_web_lg\n",
    "!python -m spacy download es_core_news_lg\n"
   ]
  },
  {
   "cell_type": "markdown",
   "metadata": {
    "id": "A5rKVBF0pKa6"
   },
   "source": [
    "# Spacy\n",
    "https://spacy.io/\n",
    "\n",
    "NOTA: Recuerda reiniciar el entorno de ejecucion despues de la instalacion"
   ]
  },
  {
   "cell_type": "code",
   "execution_count": 1,
   "metadata": {
    "id": "g5__omBtznMg"
   },
   "outputs": [],
   "source": [
    "import spacy\n",
    "\n",
    "# Load the large English NLP model. Tokenizer and parser\n",
    "nlp = spacy.load('en_core_web_lg')"
   ]
  },
  {
   "cell_type": "markdown",
   "metadata": {
    "id": "XvUcxUvRx3CT"
   },
   "source": [
    "## Text basics\n",
    "Veamos como trabajar cn estos primeros ejemplos con la libreria ´spacy´. Cosas que podemos hacer:\n",
    "1. Tokenizar en frases\n",
    "2. Tokenizar en palabras\n",
    "3. Acceder a los atributos de cada token\n",
    "4. Acceder a las entidades del texto\n",
    "5. Visualizar las entidades del texto"
   ]
  },
  {
   "cell_type": "code",
   "execution_count": 5,
   "metadata": {
    "colab": {
     "base_uri": "https://localhost:8080/"
    },
    "id": "yx7f0Wv9ul01",
    "outputId": "7920649c-1ab5-498c-ec78-694a27c30a3d"
   },
   "outputs": [
    {
     "name": "stdout",
     "output_type": "stream",
     "text": [
      "\n",
      "London is the capital and most populous city of England and \n",
      "the United Kingdom.  Standing on the River Thames in the south east \n",
      "of the island of Great Britain, London has been a major settlement \n",
      "for two millennia. It was founded by the Romans, who named it Londinium.\n",
      "\n",
      "0: \n",
      "London is the capital and most populous city of England and \n",
      "the United Kingdom.  \n",
      "1: Standing on the River Thames in the south east \n",
      "of the island of Great Britain, London has been a major settlement \n",
      "for two millennia.\n",
      "2: It was founded by the Romans, who named it Londinium.\n",
      "\n",
      "\n",
      "\n",
      "London\n",
      "is\n",
      "the\n",
      "capital\n",
      "('\\n', '\\n', 'SPACE', '_SP', '', False)\n",
      "('London', 'London', 'PROPN', 'NNP', 'nsubj', False)\n",
      "('is', 'be', 'AUX', 'VBZ', 'ROOT', True)\n",
      "('the', 'the', 'DET', 'DT', 'det', True)\n",
      "('capital', 'capital', 'NOUN', 'NN', 'attr', False)\n"
     ]
    }
   ],
   "source": [
    "# The text we want to examine\n",
    "text = \"\"\"\n",
    "London is the capital and most populous city of England and \n",
    "the United Kingdom.  Standing on the River Thames in the south east \n",
    "of the island of Great Britain, London has been a major settlement \n",
    "for two millennia. It was founded by the Romans, who named it Londinium.\n",
    "\"\"\"\n",
    "\n",
    "doc = nlp(text)\n",
    "\n",
    "print(doc)\n",
    "\n",
    "# Podemos tokenizar el doc en frases. Sents son las frases (sentences)\n",
    "for num, sentence in enumerate(doc.sents):\n",
    "    print(f'{num}: {sentence}')\n",
    "\n",
    "# Tokenizar palabras\n",
    "# En realidad el doc es una lista de tokens de palabras\n",
    "for word in doc[:5]:\n",
    "    print(word.text)\n",
    "\n",
    "'''\n",
    "Atributos del token\n",
    "lemma_: raiz de la palabra\n",
    "pos_: analisis morfologico universal de la palabra. https://universaldependencies.org/docs/u/pos/\n",
    "tag_: analisis morfologico universal de la palabra. Algo mas desagregado\n",
    "dep_: relacion sintactica de dependencia\n",
    "is_stop: es una stop word\n",
    "'''\n",
    "for word in doc[:5]:\n",
    "    print((word.text, word.lemma_, word.pos_, word.tag_, word.dep_, word.is_stop))"
   ]
  },
  {
   "cell_type": "markdown",
   "metadata": {
    "id": "UpBWJ2gby81T"
   },
   "source": [
    "## Syntactic analysis\n",
    "Doing the school homework"
   ]
  },
  {
   "cell_type": "code",
   "execution_count": 10,
   "metadata": {
    "colab": {
     "base_uri": "https://localhost:8080/",
     "height": 615
    },
    "id": "9N42WYyyy86b",
    "outputId": "026a3a3b-7671-49a5-c7fa-a2458f5370fe"
   },
   "outputs": [
    {
     "data": {
      "text/html": [
       "<span class=\"tex2jax_ignore\"><svg xmlns=\"http://www.w3.org/2000/svg\" xmlns:xlink=\"http://www.w3.org/1999/xlink\" xml:lang=\"en\" id=\"97ba92850a454ec78158f145e5ace7c2-0\" class=\"displacy\" width=\"2500\" height=\"574.5\" direction=\"ltr\" style=\"max-width: none; height: 574.5px; color: #000000; background: #ffffff; font-family: Arial; direction: ltr\">\n",
       "<text class=\"displacy-token\" fill=\"currentColor\" text-anchor=\"middle\" y=\"484.5\">\n",
       "    <tspan class=\"displacy-word\" fill=\"currentColor\" x=\"50\">London</tspan>\n",
       "    <tspan class=\"displacy-tag\" dy=\"2em\" fill=\"currentColor\" x=\"50\">PROPN</tspan>\n",
       "</text>\n",
       "\n",
       "<text class=\"displacy-token\" fill=\"currentColor\" text-anchor=\"middle\" y=\"484.5\">\n",
       "    <tspan class=\"displacy-word\" fill=\"currentColor\" x=\"225\">is</tspan>\n",
       "    <tspan class=\"displacy-tag\" dy=\"2em\" fill=\"currentColor\" x=\"225\">AUX</tspan>\n",
       "</text>\n",
       "\n",
       "<text class=\"displacy-token\" fill=\"currentColor\" text-anchor=\"middle\" y=\"484.5\">\n",
       "    <tspan class=\"displacy-word\" fill=\"currentColor\" x=\"400\">the</tspan>\n",
       "    <tspan class=\"displacy-tag\" dy=\"2em\" fill=\"currentColor\" x=\"400\">DET</tspan>\n",
       "</text>\n",
       "\n",
       "<text class=\"displacy-token\" fill=\"currentColor\" text-anchor=\"middle\" y=\"484.5\">\n",
       "    <tspan class=\"displacy-word\" fill=\"currentColor\" x=\"575\">capital</tspan>\n",
       "    <tspan class=\"displacy-tag\" dy=\"2em\" fill=\"currentColor\" x=\"575\">NOUN</tspan>\n",
       "</text>\n",
       "\n",
       "<text class=\"displacy-token\" fill=\"currentColor\" text-anchor=\"middle\" y=\"484.5\">\n",
       "    <tspan class=\"displacy-word\" fill=\"currentColor\" x=\"750\">and</tspan>\n",
       "    <tspan class=\"displacy-tag\" dy=\"2em\" fill=\"currentColor\" x=\"750\">CCONJ</tspan>\n",
       "</text>\n",
       "\n",
       "<text class=\"displacy-token\" fill=\"currentColor\" text-anchor=\"middle\" y=\"484.5\">\n",
       "    <tspan class=\"displacy-word\" fill=\"currentColor\" x=\"925\">most</tspan>\n",
       "    <tspan class=\"displacy-tag\" dy=\"2em\" fill=\"currentColor\" x=\"925\">ADV</tspan>\n",
       "</text>\n",
       "\n",
       "<text class=\"displacy-token\" fill=\"currentColor\" text-anchor=\"middle\" y=\"484.5\">\n",
       "    <tspan class=\"displacy-word\" fill=\"currentColor\" x=\"1100\">populous</tspan>\n",
       "    <tspan class=\"displacy-tag\" dy=\"2em\" fill=\"currentColor\" x=\"1100\">ADJ</tspan>\n",
       "</text>\n",
       "\n",
       "<text class=\"displacy-token\" fill=\"currentColor\" text-anchor=\"middle\" y=\"484.5\">\n",
       "    <tspan class=\"displacy-word\" fill=\"currentColor\" x=\"1275\">city</tspan>\n",
       "    <tspan class=\"displacy-tag\" dy=\"2em\" fill=\"currentColor\" x=\"1275\">NOUN</tspan>\n",
       "</text>\n",
       "\n",
       "<text class=\"displacy-token\" fill=\"currentColor\" text-anchor=\"middle\" y=\"484.5\">\n",
       "    <tspan class=\"displacy-word\" fill=\"currentColor\" x=\"1450\">of</tspan>\n",
       "    <tspan class=\"displacy-tag\" dy=\"2em\" fill=\"currentColor\" x=\"1450\">ADP</tspan>\n",
       "</text>\n",
       "\n",
       "<text class=\"displacy-token\" fill=\"currentColor\" text-anchor=\"middle\" y=\"484.5\">\n",
       "    <tspan class=\"displacy-word\" fill=\"currentColor\" x=\"1625\">England</tspan>\n",
       "    <tspan class=\"displacy-tag\" dy=\"2em\" fill=\"currentColor\" x=\"1625\">PROPN</tspan>\n",
       "</text>\n",
       "\n",
       "<text class=\"displacy-token\" fill=\"currentColor\" text-anchor=\"middle\" y=\"484.5\">\n",
       "    <tspan class=\"displacy-word\" fill=\"currentColor\" x=\"1800\">and</tspan>\n",
       "    <tspan class=\"displacy-tag\" dy=\"2em\" fill=\"currentColor\" x=\"1800\">CCONJ</tspan>\n",
       "</text>\n",
       "\n",
       "<text class=\"displacy-token\" fill=\"currentColor\" text-anchor=\"middle\" y=\"484.5\">\n",
       "    <tspan class=\"displacy-word\" fill=\"currentColor\" x=\"1975\">the</tspan>\n",
       "    <tspan class=\"displacy-tag\" dy=\"2em\" fill=\"currentColor\" x=\"1975\">DET</tspan>\n",
       "</text>\n",
       "\n",
       "<text class=\"displacy-token\" fill=\"currentColor\" text-anchor=\"middle\" y=\"484.5\">\n",
       "    <tspan class=\"displacy-word\" fill=\"currentColor\" x=\"2150\">United</tspan>\n",
       "    <tspan class=\"displacy-tag\" dy=\"2em\" fill=\"currentColor\" x=\"2150\">PROPN</tspan>\n",
       "</text>\n",
       "\n",
       "<text class=\"displacy-token\" fill=\"currentColor\" text-anchor=\"middle\" y=\"484.5\">\n",
       "    <tspan class=\"displacy-word\" fill=\"currentColor\" x=\"2325\">Kingdom</tspan>\n",
       "    <tspan class=\"displacy-tag\" dy=\"2em\" fill=\"currentColor\" x=\"2325\">PROPN</tspan>\n",
       "</text>\n",
       "\n",
       "<g class=\"displacy-arrow\">\n",
       "    <path class=\"displacy-arc\" id=\"arrow-97ba92850a454ec78158f145e5ace7c2-0-0\" stroke-width=\"2px\" d=\"M70,439.5 C70,352.0 205.0,352.0 205.0,439.5\" fill=\"none\" stroke=\"currentColor\"/>\n",
       "    <text dy=\"1.25em\" style=\"font-size: 0.8em; letter-spacing: 1px\">\n",
       "        <textPath xlink:href=\"#arrow-97ba92850a454ec78158f145e5ace7c2-0-0\" class=\"displacy-label\" startOffset=\"50%\" side=\"left\" fill=\"currentColor\" text-anchor=\"middle\">nsubj</textPath>\n",
       "    </text>\n",
       "    <path class=\"displacy-arrowhead\" d=\"M70,441.5 L62,429.5 78,429.5\" fill=\"currentColor\"/>\n",
       "</g>\n",
       "\n",
       "<g class=\"displacy-arrow\">\n",
       "    <path class=\"displacy-arc\" id=\"arrow-97ba92850a454ec78158f145e5ace7c2-0-1\" stroke-width=\"2px\" d=\"M420,439.5 C420,352.0 555.0,352.0 555.0,439.5\" fill=\"none\" stroke=\"currentColor\"/>\n",
       "    <text dy=\"1.25em\" style=\"font-size: 0.8em; letter-spacing: 1px\">\n",
       "        <textPath xlink:href=\"#arrow-97ba92850a454ec78158f145e5ace7c2-0-1\" class=\"displacy-label\" startOffset=\"50%\" side=\"left\" fill=\"currentColor\" text-anchor=\"middle\">det</textPath>\n",
       "    </text>\n",
       "    <path class=\"displacy-arrowhead\" d=\"M420,441.5 L412,429.5 428,429.5\" fill=\"currentColor\"/>\n",
       "</g>\n",
       "\n",
       "<g class=\"displacy-arrow\">\n",
       "    <path class=\"displacy-arc\" id=\"arrow-97ba92850a454ec78158f145e5ace7c2-0-2\" stroke-width=\"2px\" d=\"M245,439.5 C245,264.5 560.0,264.5 560.0,439.5\" fill=\"none\" stroke=\"currentColor\"/>\n",
       "    <text dy=\"1.25em\" style=\"font-size: 0.8em; letter-spacing: 1px\">\n",
       "        <textPath xlink:href=\"#arrow-97ba92850a454ec78158f145e5ace7c2-0-2\" class=\"displacy-label\" startOffset=\"50%\" side=\"left\" fill=\"currentColor\" text-anchor=\"middle\">attr</textPath>\n",
       "    </text>\n",
       "    <path class=\"displacy-arrowhead\" d=\"M560.0,441.5 L568.0,429.5 552.0,429.5\" fill=\"currentColor\"/>\n",
       "</g>\n",
       "\n",
       "<g class=\"displacy-arrow\">\n",
       "    <path class=\"displacy-arc\" id=\"arrow-97ba92850a454ec78158f145e5ace7c2-0-3\" stroke-width=\"2px\" d=\"M595,439.5 C595,352.0 730.0,352.0 730.0,439.5\" fill=\"none\" stroke=\"currentColor\"/>\n",
       "    <text dy=\"1.25em\" style=\"font-size: 0.8em; letter-spacing: 1px\">\n",
       "        <textPath xlink:href=\"#arrow-97ba92850a454ec78158f145e5ace7c2-0-3\" class=\"displacy-label\" startOffset=\"50%\" side=\"left\" fill=\"currentColor\" text-anchor=\"middle\">cc</textPath>\n",
       "    </text>\n",
       "    <path class=\"displacy-arrowhead\" d=\"M730.0,441.5 L738.0,429.5 722.0,429.5\" fill=\"currentColor\"/>\n",
       "</g>\n",
       "\n",
       "<g class=\"displacy-arrow\">\n",
       "    <path class=\"displacy-arc\" id=\"arrow-97ba92850a454ec78158f145e5ace7c2-0-4\" stroke-width=\"2px\" d=\"M945,439.5 C945,352.0 1080.0,352.0 1080.0,439.5\" fill=\"none\" stroke=\"currentColor\"/>\n",
       "    <text dy=\"1.25em\" style=\"font-size: 0.8em; letter-spacing: 1px\">\n",
       "        <textPath xlink:href=\"#arrow-97ba92850a454ec78158f145e5ace7c2-0-4\" class=\"displacy-label\" startOffset=\"50%\" side=\"left\" fill=\"currentColor\" text-anchor=\"middle\">advmod</textPath>\n",
       "    </text>\n",
       "    <path class=\"displacy-arrowhead\" d=\"M945,441.5 L937,429.5 953,429.5\" fill=\"currentColor\"/>\n",
       "</g>\n",
       "\n",
       "<g class=\"displacy-arrow\">\n",
       "    <path class=\"displacy-arc\" id=\"arrow-97ba92850a454ec78158f145e5ace7c2-0-5\" stroke-width=\"2px\" d=\"M1120,439.5 C1120,352.0 1255.0,352.0 1255.0,439.5\" fill=\"none\" stroke=\"currentColor\"/>\n",
       "    <text dy=\"1.25em\" style=\"font-size: 0.8em; letter-spacing: 1px\">\n",
       "        <textPath xlink:href=\"#arrow-97ba92850a454ec78158f145e5ace7c2-0-5\" class=\"displacy-label\" startOffset=\"50%\" side=\"left\" fill=\"currentColor\" text-anchor=\"middle\">amod</textPath>\n",
       "    </text>\n",
       "    <path class=\"displacy-arrowhead\" d=\"M1120,441.5 L1112,429.5 1128,429.5\" fill=\"currentColor\"/>\n",
       "</g>\n",
       "\n",
       "<g class=\"displacy-arrow\">\n",
       "    <path class=\"displacy-arc\" id=\"arrow-97ba92850a454ec78158f145e5ace7c2-0-6\" stroke-width=\"2px\" d=\"M595,439.5 C595,89.5 1270.0,89.5 1270.0,439.5\" fill=\"none\" stroke=\"currentColor\"/>\n",
       "    <text dy=\"1.25em\" style=\"font-size: 0.8em; letter-spacing: 1px\">\n",
       "        <textPath xlink:href=\"#arrow-97ba92850a454ec78158f145e5ace7c2-0-6\" class=\"displacy-label\" startOffset=\"50%\" side=\"left\" fill=\"currentColor\" text-anchor=\"middle\">conj</textPath>\n",
       "    </text>\n",
       "    <path class=\"displacy-arrowhead\" d=\"M1270.0,441.5 L1278.0,429.5 1262.0,429.5\" fill=\"currentColor\"/>\n",
       "</g>\n",
       "\n",
       "<g class=\"displacy-arrow\">\n",
       "    <path class=\"displacy-arc\" id=\"arrow-97ba92850a454ec78158f145e5ace7c2-0-7\" stroke-width=\"2px\" d=\"M1295,439.5 C1295,352.0 1430.0,352.0 1430.0,439.5\" fill=\"none\" stroke=\"currentColor\"/>\n",
       "    <text dy=\"1.25em\" style=\"font-size: 0.8em; letter-spacing: 1px\">\n",
       "        <textPath xlink:href=\"#arrow-97ba92850a454ec78158f145e5ace7c2-0-7\" class=\"displacy-label\" startOffset=\"50%\" side=\"left\" fill=\"currentColor\" text-anchor=\"middle\">prep</textPath>\n",
       "    </text>\n",
       "    <path class=\"displacy-arrowhead\" d=\"M1430.0,441.5 L1438.0,429.5 1422.0,429.5\" fill=\"currentColor\"/>\n",
       "</g>\n",
       "\n",
       "<g class=\"displacy-arrow\">\n",
       "    <path class=\"displacy-arc\" id=\"arrow-97ba92850a454ec78158f145e5ace7c2-0-8\" stroke-width=\"2px\" d=\"M1470,439.5 C1470,352.0 1605.0,352.0 1605.0,439.5\" fill=\"none\" stroke=\"currentColor\"/>\n",
       "    <text dy=\"1.25em\" style=\"font-size: 0.8em; letter-spacing: 1px\">\n",
       "        <textPath xlink:href=\"#arrow-97ba92850a454ec78158f145e5ace7c2-0-8\" class=\"displacy-label\" startOffset=\"50%\" side=\"left\" fill=\"currentColor\" text-anchor=\"middle\">pobj</textPath>\n",
       "    </text>\n",
       "    <path class=\"displacy-arrowhead\" d=\"M1605.0,441.5 L1613.0,429.5 1597.0,429.5\" fill=\"currentColor\"/>\n",
       "</g>\n",
       "\n",
       "<g class=\"displacy-arrow\">\n",
       "    <path class=\"displacy-arc\" id=\"arrow-97ba92850a454ec78158f145e5ace7c2-0-9\" stroke-width=\"2px\" d=\"M1295,439.5 C1295,177.0 1790.0,177.0 1790.0,439.5\" fill=\"none\" stroke=\"currentColor\"/>\n",
       "    <text dy=\"1.25em\" style=\"font-size: 0.8em; letter-spacing: 1px\">\n",
       "        <textPath xlink:href=\"#arrow-97ba92850a454ec78158f145e5ace7c2-0-9\" class=\"displacy-label\" startOffset=\"50%\" side=\"left\" fill=\"currentColor\" text-anchor=\"middle\">cc</textPath>\n",
       "    </text>\n",
       "    <path class=\"displacy-arrowhead\" d=\"M1790.0,441.5 L1798.0,429.5 1782.0,429.5\" fill=\"currentColor\"/>\n",
       "</g>\n",
       "\n",
       "<g class=\"displacy-arrow\">\n",
       "    <path class=\"displacy-arc\" id=\"arrow-97ba92850a454ec78158f145e5ace7c2-0-10\" stroke-width=\"2px\" d=\"M1995,439.5 C1995,264.5 2310.0,264.5 2310.0,439.5\" fill=\"none\" stroke=\"currentColor\"/>\n",
       "    <text dy=\"1.25em\" style=\"font-size: 0.8em; letter-spacing: 1px\">\n",
       "        <textPath xlink:href=\"#arrow-97ba92850a454ec78158f145e5ace7c2-0-10\" class=\"displacy-label\" startOffset=\"50%\" side=\"left\" fill=\"currentColor\" text-anchor=\"middle\">det</textPath>\n",
       "    </text>\n",
       "    <path class=\"displacy-arrowhead\" d=\"M1995,441.5 L1987,429.5 2003,429.5\" fill=\"currentColor\"/>\n",
       "</g>\n",
       "\n",
       "<g class=\"displacy-arrow\">\n",
       "    <path class=\"displacy-arc\" id=\"arrow-97ba92850a454ec78158f145e5ace7c2-0-11\" stroke-width=\"2px\" d=\"M2170,439.5 C2170,352.0 2305.0,352.0 2305.0,439.5\" fill=\"none\" stroke=\"currentColor\"/>\n",
       "    <text dy=\"1.25em\" style=\"font-size: 0.8em; letter-spacing: 1px\">\n",
       "        <textPath xlink:href=\"#arrow-97ba92850a454ec78158f145e5ace7c2-0-11\" class=\"displacy-label\" startOffset=\"50%\" side=\"left\" fill=\"currentColor\" text-anchor=\"middle\">compound</textPath>\n",
       "    </text>\n",
       "    <path class=\"displacy-arrowhead\" d=\"M2170,441.5 L2162,429.5 2178,429.5\" fill=\"currentColor\"/>\n",
       "</g>\n",
       "\n",
       "<g class=\"displacy-arrow\">\n",
       "    <path class=\"displacy-arc\" id=\"arrow-97ba92850a454ec78158f145e5ace7c2-0-12\" stroke-width=\"2px\" d=\"M1295,439.5 C1295,2.0 2325.0,2.0 2325.0,439.5\" fill=\"none\" stroke=\"currentColor\"/>\n",
       "    <text dy=\"1.25em\" style=\"font-size: 0.8em; letter-spacing: 1px\">\n",
       "        <textPath xlink:href=\"#arrow-97ba92850a454ec78158f145e5ace7c2-0-12\" class=\"displacy-label\" startOffset=\"50%\" side=\"left\" fill=\"currentColor\" text-anchor=\"middle\">conj</textPath>\n",
       "    </text>\n",
       "    <path class=\"displacy-arrowhead\" d=\"M2325.0,441.5 L2333.0,429.5 2317.0,429.5\" fill=\"currentColor\"/>\n",
       "</g>\n",
       "</svg></span>"
      ],
      "text/plain": [
       "<IPython.core.display.HTML object>"
      ]
     },
     "metadata": {
      "tags": []
     },
     "output_type": "display_data"
    }
   ],
   "source": [
    "from spacy import displacy\n",
    "\n",
    "doc2 = nlp(\"London is the capital and most populous city of England and the United Kingdom\")\n",
    "displacy.render(doc2, jupyter=True, style=\"dep\")"
   ]
  },
  {
   "cell_type": "markdown",
   "metadata": {
    "id": "BhcKxFvisxNj"
   },
   "source": [
    "## Entities in text"
   ]
  },
  {
   "cell_type": "code",
   "execution_count": 11,
   "metadata": {
    "colab": {
     "base_uri": "https://localhost:8080/"
    },
    "id": "GoUNKXsSsxXy",
    "outputId": "72a3d50d-bd26-4934-f134-2d044fb8cb35"
   },
   "outputs": [
    {
     "name": "stdout",
     "output_type": "stream",
     "text": [
      "London (GPE)\n",
      "England (GPE)\n",
      "the United Kingdom (GPE)\n",
      "the River Thames (LOC)\n",
      "the south east (LOC)\n",
      "Great Britain (GPE)\n",
      "London (GPE)\n",
      "two millennia (DATE)\n",
      "Romans (NORP)\n",
      "Londinium (ORG)\n"
     ]
    }
   ],
   "source": [
    "# 'doc' now contains a parsed version of text. We can use it to do anything we want!\n",
    "# For example, this will print out all the named entities that were detected:\n",
    "for entity in doc.ents:\n",
    "    print(f\"{entity.text} ({entity.label_})\")"
   ]
  },
  {
   "cell_type": "code",
   "execution_count": 12,
   "metadata": {
    "colab": {
     "base_uri": "https://localhost:8080/",
     "height": 35
    },
    "id": "8o01ox8YylRj",
    "outputId": "d56a36e0-3099-4932-fe92-7a08b4a1976c"
   },
   "outputs": [
    {
     "data": {
      "application/vnd.google.colaboratory.intrinsic+json": {
       "type": "string"
      },
      "text/plain": [
       "'Countries, cities, states'"
      ]
     },
     "execution_count": 12,
     "metadata": {
      "tags": []
     },
     "output_type": "execute_result"
    }
   ],
   "source": [
    "# Doubts with labels\n",
    "spacy.explain('GPE')"
   ]
  },
  {
   "cell_type": "code",
   "execution_count": 13,
   "metadata": {
    "colab": {
     "base_uri": "https://localhost:8080/",
     "height": 189
    },
    "id": "UwfOcDgCtEue",
    "outputId": "26479896-f56f-4878-db2d-a5dc17722396"
   },
   "outputs": [
    {
     "data": {
      "text/html": [
       "<span class=\"tex2jax_ignore\"><div class=\"entities\" style=\"line-height: 2.5; direction: ltr\"></br>\n",
       "<mark class=\"entity\" style=\"background: #feca74; padding: 0.45em 0.6em; margin: 0 0.25em; line-height: 1; border-radius: 0.35em;\">\n",
       "    London\n",
       "    <span style=\"font-size: 0.8em; font-weight: bold; line-height: 1; border-radius: 0.35em; text-transform: uppercase; vertical-align: middle; margin-left: 0.5rem\">GPE</span>\n",
       "</mark>\n",
       " is the capital and most populous city of \n",
       "<mark class=\"entity\" style=\"background: #feca74; padding: 0.45em 0.6em; margin: 0 0.25em; line-height: 1; border-radius: 0.35em;\">\n",
       "    England\n",
       "    <span style=\"font-size: 0.8em; font-weight: bold; line-height: 1; border-radius: 0.35em; text-transform: uppercase; vertical-align: middle; margin-left: 0.5rem\">GPE</span>\n",
       "</mark>\n",
       " and </br>\n",
       "<mark class=\"entity\" style=\"background: #feca74; padding: 0.45em 0.6em; margin: 0 0.25em; line-height: 1; border-radius: 0.35em;\">\n",
       "    the United Kingdom\n",
       "    <span style=\"font-size: 0.8em; font-weight: bold; line-height: 1; border-radius: 0.35em; text-transform: uppercase; vertical-align: middle; margin-left: 0.5rem\">GPE</span>\n",
       "</mark>\n",
       ".  Standing on \n",
       "<mark class=\"entity\" style=\"background: #ff9561; padding: 0.45em 0.6em; margin: 0 0.25em; line-height: 1; border-radius: 0.35em;\">\n",
       "    the River Thames\n",
       "    <span style=\"font-size: 0.8em; font-weight: bold; line-height: 1; border-radius: 0.35em; text-transform: uppercase; vertical-align: middle; margin-left: 0.5rem\">LOC</span>\n",
       "</mark>\n",
       " in \n",
       "<mark class=\"entity\" style=\"background: #ff9561; padding: 0.45em 0.6em; margin: 0 0.25em; line-height: 1; border-radius: 0.35em;\">\n",
       "    the south east\n",
       "    <span style=\"font-size: 0.8em; font-weight: bold; line-height: 1; border-radius: 0.35em; text-transform: uppercase; vertical-align: middle; margin-left: 0.5rem\">LOC</span>\n",
       "</mark>\n",
       " </br>of the island of \n",
       "<mark class=\"entity\" style=\"background: #feca74; padding: 0.45em 0.6em; margin: 0 0.25em; line-height: 1; border-radius: 0.35em;\">\n",
       "    Great Britain\n",
       "    <span style=\"font-size: 0.8em; font-weight: bold; line-height: 1; border-radius: 0.35em; text-transform: uppercase; vertical-align: middle; margin-left: 0.5rem\">GPE</span>\n",
       "</mark>\n",
       ", \n",
       "<mark class=\"entity\" style=\"background: #feca74; padding: 0.45em 0.6em; margin: 0 0.25em; line-height: 1; border-radius: 0.35em;\">\n",
       "    London\n",
       "    <span style=\"font-size: 0.8em; font-weight: bold; line-height: 1; border-radius: 0.35em; text-transform: uppercase; vertical-align: middle; margin-left: 0.5rem\">GPE</span>\n",
       "</mark>\n",
       " has been a major settlement </br>for \n",
       "<mark class=\"entity\" style=\"background: #bfe1d9; padding: 0.45em 0.6em; margin: 0 0.25em; line-height: 1; border-radius: 0.35em;\">\n",
       "    two millennia\n",
       "    <span style=\"font-size: 0.8em; font-weight: bold; line-height: 1; border-radius: 0.35em; text-transform: uppercase; vertical-align: middle; margin-left: 0.5rem\">DATE</span>\n",
       "</mark>\n",
       ". It was founded by the \n",
       "<mark class=\"entity\" style=\"background: #c887fb; padding: 0.45em 0.6em; margin: 0 0.25em; line-height: 1; border-radius: 0.35em;\">\n",
       "    Romans\n",
       "    <span style=\"font-size: 0.8em; font-weight: bold; line-height: 1; border-radius: 0.35em; text-transform: uppercase; vertical-align: middle; margin-left: 0.5rem\">NORP</span>\n",
       "</mark>\n",
       ", who named it \n",
       "<mark class=\"entity\" style=\"background: #7aecec; padding: 0.45em 0.6em; margin: 0 0.25em; line-height: 1; border-radius: 0.35em;\">\n",
       "    Londinium\n",
       "    <span style=\"font-size: 0.8em; font-weight: bold; line-height: 1; border-radius: 0.35em; text-transform: uppercase; vertical-align: middle; margin-left: 0.5rem\">ORG</span>\n",
       "</mark>\n",
       ".</br></div></span>"
      ],
      "text/plain": [
       "<IPython.core.display.HTML object>"
      ]
     },
     "metadata": {
      "tags": []
     },
     "output_type": "display_data"
    }
   ],
   "source": [
    "from spacy import displacy\n",
    "\n",
    "displacy.render(doc,style='ent',jupyter=True)"
   ]
  },
  {
   "cell_type": "markdown",
   "metadata": {
    "id": "k4J_qGHusl9H"
   },
   "source": [
    "## Replacing names\n",
    "Hide names for GDPR"
   ]
  },
  {
   "cell_type": "code",
   "execution_count": 14,
   "metadata": {
    "colab": {
     "base_uri": "https://localhost:8080/"
    },
    "id": "8zHtOLvSsmEp",
    "outputId": "12bf212b-0526-418b-a05a-f6138fb9367a"
   },
   "outputs": [
    {
     "name": "stdout",
     "output_type": "stream",
     "text": [
      "\n",
      "In 1950, [REDACTED] published his famous article \"Computing Machinery and Intelligence\". In 1957, [REDACTED] ’s \n",
      "Syntactic Structures revolutionized Linguistics with 'universal grammar', a rule based system of syntactic structures.\n",
      "\n"
     ]
    },
    {
     "name": "stderr",
     "output_type": "stream",
     "text": [
      "/usr/local/lib/python3.7/dist-packages/ipykernel_launcher.py:12: DeprecationWarning: [W013] As of v2.1.0, Span.merge is deprecated. Please use the more efficient and less error-prone Doc.retokenize context manager instead.\n",
      "  if sys.path[0] == '':\n",
      "/usr/local/lib/python3.7/dist-packages/ipykernel_launcher.py:12: DeprecationWarning: [W013] As of v2.1.0, Doc.merge is deprecated. Please use the more efficient and less error-prone Doc.retokenize context manager instead.\n",
      "  if sys.path[0] == '':\n"
     ]
    }
   ],
   "source": [
    "# Replace a token with \"REDACTED\" if it is a name\n",
    "def replace_name_with_placeholder(token):\n",
    "    if token.ent_iob != 0 and token.ent_type_ == \"PERSON\":\n",
    "        return \"[REDACTED] \"\n",
    "    else:\n",
    "        return token.string\n",
    "\n",
    "# Loop through all the entities in a document and check if they are names\n",
    "def scrub(text):\n",
    "    doc = nlp(text)\n",
    "    for ent in doc.ents:\n",
    "        ent.merge()\n",
    "    tokens = map(replace_name_with_placeholder, doc)\n",
    "    return \"\".join(tokens)\n",
    "\n",
    "s = \"\"\"\n",
    "In 1950, Alan Turing published his famous article \"Computing Machinery and Intelligence\". In 1957, Noam Chomsky’s \n",
    "Syntactic Structures revolutionized Linguistics with 'universal grammar', a rule based system of syntactic structures.\n",
    "\"\"\"\n",
    "\n",
    "print(scrub(s))"
   ]
  },
  {
   "cell_type": "markdown",
   "metadata": {
    "id": "oGvpaIAqzwOH"
   },
   "source": [
    "## Lematize"
   ]
  },
  {
   "cell_type": "code",
   "execution_count": 16,
   "metadata": {
    "colab": {
     "base_uri": "https://localhost:8080/"
    },
    "id": "iKra7djBzwXj",
    "outputId": "0e007806-ba45-4d0e-8e8e-b476e7c3cb6d"
   },
   "outputs": [
    {
     "name": "stdout",
     "output_type": "stream",
     "text": [
      "\n",
      " \n",
      " SPACE\n",
      "London London PROPN\n",
      "is be AUX\n",
      "the the DET\n",
      "capital capital NOUN\n",
      "and and CCONJ\n",
      "most most ADV\n",
      "populous populous ADJ\n",
      "city city NOUN\n",
      "of of ADP\n",
      "England England PROPN\n",
      "and and CCONJ\n",
      "\n",
      " \n",
      " SPACE\n",
      "the the DET\n",
      "United United PROPN\n",
      "Kingdom Kingdom PROPN\n",
      ". . PUNCT\n",
      "    SPACE\n",
      "Standing stand VERB\n",
      "on on ADP\n",
      "the the DET\n",
      "River River PROPN\n",
      "Thames Thames PROPN\n",
      "in in ADP\n",
      "the the DET\n",
      "south south PROPN\n",
      "east east PROPN\n",
      "\n",
      " \n",
      " SPACE\n",
      "of of ADP\n",
      "the the DET\n",
      "island island NOUN\n",
      "of of ADP\n",
      "Great Great PROPN\n",
      "Britain Britain PROPN\n",
      ", , PUNCT\n",
      "London London PROPN\n",
      "has have AUX\n",
      "been be AUX\n",
      "a a DET\n",
      "major major ADJ\n",
      "settlement settlement NOUN\n",
      "\n",
      " \n",
      " SPACE\n",
      "for for ADP\n",
      "two two NUM\n",
      "millennia millennium NOUN\n",
      ". . PUNCT\n",
      "It -PRON- PRON\n",
      "was be AUX\n",
      "founded found VERB\n",
      "by by ADP\n",
      "the the DET\n",
      "Romans Romans PROPN\n",
      ", , PUNCT\n",
      "who who PRON\n",
      "named name VERB\n",
      "it -PRON- PRON\n",
      "Londinium Londinium PROPN\n",
      ". . PUNCT\n",
      "\n",
      " \n",
      " SPACE\n"
     ]
    }
   ],
   "source": [
    "for w in doc:\n",
    "    print(w.text, w.lemma_, w.pos_)"
   ]
  },
  {
   "cell_type": "markdown",
   "metadata": {
    "id": "o_e1pnbgz_0X"
   },
   "source": [
    "## Stopwords"
   ]
  },
  {
   "cell_type": "code",
   "execution_count": null,
   "metadata": {
    "colab": {
     "base_uri": "https://localhost:8080/"
    },
    "id": "j_M6OKU3z__q",
    "outputId": "b0641d29-396c-4945-c0b7-9550980fa4d9"
   },
   "outputs": [
    {
     "name": "stdout",
     "output_type": "stream",
     "text": [
      "['go', 'n’t', 'others', 'throughout', 'meanwhile', 'therein', 'whom', 'although', 'own', 'take', 'often', 'yourselves', 'they', '’d', 'nothing', 'every', 'my', 'where', 'am', 'sometimes', 'ours', 'herein', 'same', 'whereafter', 'less', 'also', 'than', 'anyone', 'over', 'anyhow']\n"
     ]
    }
   ],
   "source": [
    "from spacy.lang.en.stop_words import STOP_WORDS\n",
    "\n",
    "# para observar las palabras dentro de la lista lo único que se #   # tiene que hacer eso imprimir\n",
    "print(list(STOP_WORDS)[:30])"
   ]
  },
  {
   "cell_type": "code",
   "execution_count": null,
   "metadata": {
    "colab": {
     "base_uri": "https://localhost:8080/"
    },
    "id": "RXNvYLeD0QJ0",
    "outputId": "e751c574-cd47-4a6c-d542-498bbc1c8c4a"
   },
   "outputs": [
    {
     "name": "stdout",
     "output_type": "stream",
     "text": [
      "[London, capital, populous, city, England, \n",
      ", United, Kingdom,  , Standing, River, Thames, south, east, \n",
      ", island, Great, Britain, London, major, settlement, \n",
      ", millennia, founded, Romans, named, Londinium, \n",
      "]\n"
     ]
    }
   ],
   "source": [
    "# Para filtrar stopwords\n",
    "lista=[palabra for palabra in doc if palabra.is_stop==False and palabra.is_punct==False]\n",
    "print(lista)"
   ]
  },
  {
   "cell_type": "markdown",
   "metadata": {
    "id": "5GwuAvRS1TLb"
   },
   "source": [
    "## Most frequent words\n",
    "In a Wikipedia page"
   ]
  },
  {
   "cell_type": "code",
   "execution_count": 17,
   "metadata": {
    "colab": {
     "base_uri": "https://localhost:8080/"
    },
    "collapsed": true,
    "id": "oFu1Jw4n2M7L",
    "jupyter": {
     "outputs_hidden": true
    },
    "outputId": "f2bd1c72-01ff-4d0a-c507-242e0e50adb7"
   },
   "outputs": [
    {
     "name": "stdout",
     "output_type": "stream",
     "text": [
      "Collecting wikipedia\n",
      "  Downloading https://files.pythonhosted.org/packages/67/35/25e68fbc99e672127cc6fbb14b8ec1ba3dfef035bf1e4c90f78f24a80b7d/wikipedia-1.4.0.tar.gz\n",
      "Requirement already satisfied: beautifulsoup4 in /usr/local/lib/python3.7/dist-packages (from wikipedia) (4.6.3)\n",
      "Requirement already satisfied: requests<3.0.0,>=2.0.0 in /usr/local/lib/python3.7/dist-packages (from wikipedia) (2.23.0)\n",
      "Requirement already satisfied: urllib3!=1.25.0,!=1.25.1,<1.26,>=1.21.1 in /usr/local/lib/python3.7/dist-packages (from requests<3.0.0,>=2.0.0->wikipedia) (1.24.3)\n",
      "Requirement already satisfied: chardet<4,>=3.0.2 in /usr/local/lib/python3.7/dist-packages (from requests<3.0.0,>=2.0.0->wikipedia) (3.0.4)\n",
      "Requirement already satisfied: idna<3,>=2.5 in /usr/local/lib/python3.7/dist-packages (from requests<3.0.0,>=2.0.0->wikipedia) (2.10)\n",
      "Requirement already satisfied: certifi>=2017.4.17 in /usr/local/lib/python3.7/dist-packages (from requests<3.0.0,>=2.0.0->wikipedia) (2020.12.5)\n",
      "Building wheels for collected packages: wikipedia\n",
      "  Building wheel for wikipedia (setup.py) ... \u001b[?25l\u001b[?25hdone\n",
      "  Created wheel for wikipedia: filename=wikipedia-1.4.0-cp37-none-any.whl size=11686 sha256=f23bfc0df89fa892708a38449ff60f641cb073ede66c7854d33fec3fd113b0dc\n",
      "  Stored in directory: /root/.cache/pip/wheels/87/2a/18/4e471fd96d12114d16fe4a446d00c3b38fb9efcb744bd31f4a\n",
      "Successfully built wikipedia\n",
      "Installing collected packages: wikipedia\n",
      "Successfully installed wikipedia-1.4.0\n"
     ]
    }
   ],
   "source": [
    "!pip install wikipedia"
   ]
  },
  {
   "cell_type": "code",
   "execution_count": 19,
   "metadata": {
    "colab": {
     "base_uri": "https://localhost:8080/",
     "height": 120
    },
    "collapsed": true,
    "id": "zmuqxci01TTh",
    "jupyter": {
     "outputs_hidden": true
    },
    "outputId": "6fb64b83-f8f2-489d-dab7-678e68f07cb6"
   },
   "outputs": [
    {
     "data": {
      "application/vnd.google.colaboratory.intrinsic+json": {
       "type": "string"
      },
      "text/plain": [
       "'Donald John Trump (born June 14, 1946) is an American media personality and businessman who served as the 45th president of the United States from 2017 to 2021. \\nBorn and raised in Queens, New York City, Trump attended Fordham University and the University of Pennsylvania, graduating with a bachelor\\'s degree in 1968. He became the president of his father Fred Trump\\'s real estate business in 1971 and renamed it to The Trump Organization. Trump expanded the company\\'s operations to building and renovating skyscrapers, hotels, casinos, and golf courses. He later started various side ventures, mostly by licensing his name. Trump and his businesses have been involved in more than 4,000 state and federal legal actions, including six bankruptcies. He owned the Miss Universe brand of beauty pageants from 1996 to 2015. From 2003 to 2015 he co-produced and hosted the reality television series The Apprentice.\\nTrump\\'s political positions have been described as populist, protectionist, isolationist, and nationalist. He entered the 2016 presidential race as a Republican and was elected in an upset victory over Democratic nominee Hillary Clinton while losing the popular vote. He was the first U.S. president without prior military or government service. His election and policies sparked numerous protests. Trump made many false and misleading statements during his campaigns and presidency, to a degree unprecedented in American politics. Many of his comments and actions have been characterized as racially charged or racist.\\nDuring his presidency, Trump ordered a travel ban on citizens from several Muslim-majority countries, citing security concerns; after legal challenges, the Supreme Court upheld the policy\\'s third revision. He enacted a tax-cut package for individuals and businesses, rescinding the individual health insurance mandate penalty of the Affordable Care Act. He signed criminal justice reform and appointed Neil Gorsuch, Brett Kavanaugh and Amy Coney Barrett to the Supreme Court. He reacted slowly to the COVID-19 pandemic, ignored or contradicted many recommendations from health officials in his messaging, and promoted misinformation about unproven treatments and the availability of testing. In foreign policy, Trump pursued an America First agenda: he renegotiated the North American Free Trade Agreement as the U.S.–Mexico–Canada Agreement and withdrew the U.S. from the Trans-Pacific Partnership trade negotiations, the Paris Agreement on climate change and the Iran nuclear deal. He imposed import tariffs which triggered a trade war with China, withdrew U.S. troops from northern Syria, and met three times with North Korean leader Kim Jong-un. Negotiations on denuclearization eventually broke down.\\nA special counsel investigation led by Robert Mueller found that Trump benefited from Russian interference in the 2016 presidential election, but did not find sufficient evidence to establish criminal conspiracy or coordination with Russia. Mueller also investigated Trump for obstruction of justice and neither indicted nor exonerated him. The House of Representatives impeached Trump in December 2019 for abuse of power and obstruction of Congress after he solicited Ukraine to investigate Joe Biden. The Senate acquitted him of both charges in February 2020. \\nTrump lost the 2020 presidential election to Biden, but refused to concede defeat. He attempted to overturn the results by making false claims of electoral fraud, pressuring government officials, mounting scores of unsuccessful legal challenges and obstructing the presidential transition. On the day Congress met to tally the electoral votes, January 6, 2021, Trump rallied his supporters and told them to march to the Capitol. When they arrived, hundreds of them broke through security barricades and stormed the Capitol, resulting in the deaths of five people and forcing Congress to evacuate. Seven days later, the House impeached Trump for incitement of insurrection, making him the only federal officeholder in American history to be impeached twice. The Senate acquitted Trump for the second time on February 13, 2021.\\n\\n\\n== Personal life ==\\n\\n\\n=== Early life ===\\n\\nDonald John Trump was born on June 14, 1946, at Jamaica Hospital in the borough of Queens in New York City, the fourth child of Fred Trump, a Bronx-born real estate developer whose parents were German immigrants, and Mary Anne MacLeod Trump, an immigrant from Scotland. Trump grew up with older siblings Maryanne, Fred Jr., and Elizabeth, and younger brother Robert in the Jamaica Estates neighborhood of Queens and attended the private Kew-Forest School from kindergarten through seventh grade. At age 13, he was enrolled in the New York Military Academy, a private boarding school, and in 1964, he enrolled at Fordham University. Two years later he transferred to the Wharton School of the University of Pennsylvania, graduating in May 1968 with a B.S. in economics. The New York Times reported in 1973 and 1976 that he had graduated first in his class at Wharton, but he had never made the school\\'s honor roll. In 2015, Trump\\'s lawyer Michael Cohen threatened Fordham University and the New York Military Academy with legal action if they released Trump\\'s academic records. While in college, Trump obtained four student draft deferments. In 1966, he was deemed fit for military service based upon a medical examination, and in July 1968 a local draft board classified him as eligible to serve. In October 1968, he was classified 1-Y, a conditional medical deferment, and in 1972, he was reclassified 4-F due to bone spurs, permanently disqualifying him from service.\\n\\n\\n=== Family ===\\n\\nIn 1977, Trump married Czech model Ivana Zelníčková. They have three children, Donald Jr. (born 1977), Ivanka (born 1981), and Eric (born 1984). Ivana became a naturalized United States citizen in 1988. The couple divorced in 1992, following Trump\\'s affair with actress Marla Maples. Maples and Trump married in 1993 and had one daughter, Tiffany (born 1993). They were divorced in 1999, and Tiffany was raised by Marla in California. In 2005, Trump married Slovenian model Melania Knauss. They have one son, Barron (born 2006). Melania gained U.S. citizenship in 2006.\\n\\n\\n=== Religious views ===\\nTrump went to Sunday school and was confirmed in 1959 at the First Presbyterian Church in Jamaica, Queens. In the 1970s, his parents joined the Marble Collegiate Church in Manhattan, which belongs to the Reformed Church. The pastor at Marble, Norman Vincent Peale, ministered to the family until his death in 1993. Trump has described Peale as a mentor. In 2015,  the church stated Trump \"is not an active member\". In 2019, Trump appointed his personal pastor, televangelist Paula White, to the White House Office of Public Liaison. In 2020, Trump said that he identified as a non-denominational Christian.\\n\\n\\n=== Health ===\\n\\nTrump says he has never drunk alcohol, smoked cigarettes, or used drugs. He sleeps about four or five hours a night. Trump has called golfing his \"primary form of exercise\" but usually does not walk the course. He considers exercise a waste of energy, because he believes the body is \"like a battery, with a finite amount of energy\" which is depleted by exercise.In 2015, Harold Bornstein, who had been Trump\\'s personal physician since 1980, wrote that Trump would \"be the healthiest individual ever elected to the presidency\" in a letter released by the Trump campaign. In 2018, Bornstein said Trump had dictated the contents of the letter and that three agents of Trump had removed his medical records in February 2017 without authorization.Trump was hospitalized at Walter Reed National Military Medical Center for COVID-19 treatment on October 2, 2020, reportedly with a fever and difficulty breathing. It was revealed in 2021 that his condition had been much more serious. He had extremely low blood oxygen levels, a high fever, and lung infiltrates, indicating a severe case of the disease. He was treated with the antiviral drug remdesevir, the steroid dexamethasone, and the unapproved experimental antibody REGN-COV2. Trump returned to the White House on October 5, still struggling with the disease.\\n\\n\\n=== Wealth ===\\n\\nIn 1982, Trump was listed on the initial Forbes list of wealthy individuals as having a share of his family\\'s estimated $200 million net worth. His financial losses in the 1980s caused him to be dropped from the list between 1990 and 1995. In its 2020 billionaires ranking, Forbes estimated Trump\\'s net worth at $2.1 billion (1,001st in the world), making him one of the richest politicians in American history and the first billionaire American president. Forbes estimated that his net worth declined 31 percent and his ranking fell 138 spots between 2015 and 2018. When he filed mandatory financial disclosure forms with the Federal Election Commission (FEC) in July 2015, Trump claimed a net worth of about $10 billion; however, FEC figures cannot corroborate this estimate because they only show each of his largest buildings as being worth over $50 million, yielding total assets worth more than $1.4 billion and debt of more than $265 million.\\n\\nJournalist Jonathan Greenberg reported in 2018 that Trump, using the pseudonym \"John Barron\" and claiming to be a Trump Organization official, called him in 1984 to falsely assert that he owned \"in excess of ninety percent\" of the Trump family\\'s business, to secure a higher ranking on the Forbes 400 list of wealthy Americans. Greenberg also wrote that Forbes had vastly overestimated Trump\\'s wealth and wrongly included him on the Forbes 400 rankings of 1982, 1983, and 1984.Trump has often said he began his career with \"a small loan of one million dollars\" from his father, and that he had to pay it back with interest. In October 2018, The New York Times reported that Trump \"was a millionaire by age 8,\" borrowed at least $60 million from his father, largely failed to repay those loans, and had received $413 million (adjusted for inflation) from his father\\'s business empire over his lifetime. According to the report, Trump and his family committed tax fraud, which a lawyer for Trump denied. The tax department of New York said it is investigating. Trump\\'s investments underperformed the stock market and the New York property market. Forbes estimated in October 2018 that the value of Trump\\'s personal brand licensing business had declined by 88 percent since 2015, to $3 million.Trump\\'s tax returns from 1985 to 1994 show net losses totaling $1.17 billion over the ten-year period, in contrast to his claims about his financial health and business abilities. The New York Times reported that \"year after year, Mr. Trump appears to have lost more money than nearly any other individual American taxpayer\" and that Trump\\'s \"core business losses in 1990 and 1991—more than $250 million each year—were more than double those of the nearest taxpayers in the I.R.S. information for those years.\" In 1995 his reported losses were $915.7 million.According to a September 2020 analysis by The New York Times of twenty years of data from Trump\\'s tax returns, Trump had accumulated hundreds of millions in losses and deferred declaring $287 million in forgiven debt as taxable income. According to the analysis, Trump\\'s main sources of income were his share of revenue from The Apprentice and income from businesses in which he was a minority partner, while his majority-owned businesses were largely running at losses. A significant portion of Trump\\'s income was in tax credits due to his losses, which enables him to avoid paying income tax, or paying as little as $750, for several years. Over the past decade, Trump has been balancing his businesses\\' losses by selling and taking out loans against assets, including a $100 million mortgage on Trump Tower (due in 2022) and the liquidation of over $200 million in stocks and bonds. Trump has personally guaranteed $421 million in debt, most of which is due to be repaid by 2024. The tax records also showed Trump had unsuccessfully pursued business deals in China, including by developing a partnership with a major government-controlled company.Trump has a total of over $1 billion in debts, borrowed to finance his assets, reported Forbes in October 2020. Around $640 million or more was owed to various banks and trust organizations. Around $450 million was owed to unknown creditors. However, Trump\\'s assets still outvalue his debts, reported Forbes.\\n\\n\\n== Business career ==\\n\\n\\n=== Real estate ===\\n\\nWhile a student at Wharton and after graduating in 1968, Trump worked at his father Fred\\'s real estate company, Trump Management, which owned middle-class rental housing in New York City\\'s outer boroughs. In 1971, he became president of the company and began using The Trump Organization as an umbrella brand. It was registered as a corporation in 1981.\\n\\n\\n==== Manhattan developments ====\\nTrump attracted public attention in 1978 with the launch of his family\\'s first Manhattan venture, the renovation of the derelict Commodore Hotel, adjacent to Grand Central Terminal. The financing was facilitated by a $400 million city property tax abatement arranged by Fred Trump, who also joined Hyatt in guaranteeing $70 million in bank construction financing. The hotel reopened in 1980 as the Grand Hyatt Hotel, and that same year, Trump obtained rights to develop Trump Tower, a mixed-use skyscraper in Midtown Manhattan. The building houses the headquarters of the Trump Organization and was Trump\\'s primary residence until 2019.In 1988, Trump acquired the Plaza Hotel in Manhattan with a loan of $425 million from a consortium of banks. Two years later, the hotel filed for bankruptcy protection, and a reorganization plan was approved in 1992. In 1995, Trump lost the hotel to Citibank and investors from Singapore and Saudi Arabia, who assumed $300 million of the debt.In 1996, Trump acquired the vacant 71-story skyscraper at 40 Wall Street. After an extensive renovation, the high-rise was renamed the Trump Building. In the early 1990s, Trump won the right to develop a 70-acre (28 ha) tract in the Lincoln Square neighborhood near the Hudson River. Struggling with debt from other ventures in 1994, Trump sold most of his interest in the project to Asian investors, who were able to finance completion of the project, Riverside South.\\n\\n\\n==== Palm Beach estate ====\\n\\nIn 1985, Trump acquired the Mar-a-Lago estate in Palm Beach, Florida. Trump converted the estate into a private club with an initiation fee and annual dues and used a wing of the house as a private residence. In 2019, Trump declared Mar-a-Lago his primary residence, although under a 1993 agreement with the Town of Palm Beach, Trump may spend no more than three weeks per year there.\\n\\n\\n==== Atlantic City casinos ====\\n\\nIn 1984, Trump opened Harrah\\'s at Trump Plaza, a hotel and casino in Atlantic City, New Jersey. The project received financing from the Holiday Corporation, which also managed the operation. Gambling had been legalized there in 1977 to revitalize the once-popular seaside destination. The property\\'s poor financial results worsened tensions between Holiday and Trump, who paid Holiday $70 million in May 1986 to take sole control of the property. Earlier, Trump had also acquired a partially completed building in Atlantic City from the Hilton Corporation for $320 million. Upon its completion in 1985, that hotel and casino were called Trump Castle. Trump\\'s then-wife Ivana managed it until 1988.Trump acquired a third casino in Atlantic City, the Trump Taj Mahal, in 1988 in a highly leveraged transaction. It was financed with $675 million in junk bonds and completed at a cost of $1.1 billion, opening in April 1990. The project went bankrupt the following year, and the reorganization left Trump with only half his initial ownership stake and required him to pledge personal guarantees of future performance. Facing \"enormous debt,\" he gave up control of his money-losing airline, Trump Shuttle, and sold his megayacht, the Trump Princess, which had been indefinitely docked in Atlantic City while leased to his casinos for use by wealthy gamblers.In 1995, Trump founded Trump Hotels & Casino Resorts (THCR), which assumed ownership of Trump Plaza, Trump Castle, and the Trump Casino in Gary, Indiana. THCR purchased the Taj Mahal in 1996 and underwent successive bankruptcies in 2004, 2009, and 2014, leaving Trump with only ten percent ownership. He remained chairman of THCR until 2009.\\n\\n\\n==== Golf courses ====\\n\\nThe Trump Organization began acquiring and constructing golf courses in 1999. It owned 16 golf courses and resorts worldwide and operated another two as of December 2016.From his inauguration until the end of 2019, Trump spent around one of every five days at one of his golf clubs.\\n\\n\\n=== Branding and licensing ===\\n\\nThe Trump name has been licensed for various consumer products and services, including foodstuffs, apparel, adult learning courses, and home furnishings. According to an analysis by The Washington Post, there are more than fifty licensing or management deals involving Trump\\'s name, which have generated at least $59 million in yearly revenue for his companies. By 2018, only two consumer goods companies continued to license his name.\\n\\n\\n=== Legal affairs and bankruptcies ===\\n\\nFixer Roy Cohn served as Trump\\'s lawyer and mentor for 13 years in the 1970s and 1980s. According to Trump, Cohn sometimes waived fees due to their friendship. In 1973, Cohn helped Trump countersue the United States government for $100 million over its charges that Trump\\'s properties had racial discriminatory practices. Trump and Cohn lost that case when the countersuit was dismissed and the government\\'s case went forward. In 1975 an agreement was struck requiring Trump\\'s properties to furnish the New York Urban League with a list of all apartment vacancies, every week for two years, among other things. Cohn introduced political consultant Roger Stone to Trump, who enlisted Stone\\'s services to deal with the federal government.As of April 2018, Trump and his businesses had been involved in more than 4,000 state and federal legal actions, according to a running tally by USA Today.While Trump has not filed for personal bankruptcy, his over-leveraged hotel and casino businesses in Atlantic City and New York filed for Chapter 11 bankruptcy protection six times between 1991 and 2009. They continued to operate while the banks restructured debt and reduced Trump\\'s shares in the properties.During the 1980s, more than 70 banks had lent Trump $4 billion, but in the aftermath of his corporate bankruptcies of the early 1990s, most major banks declined to lend to him, with only Deutsche Bank still willing to lend money. The New York Times reported days after the 2021 storming of the United States Capitol that the bank had decided not to do business with Trump or his company in the future.In April 2019, the House Oversight Committee issued subpoenas seeking financial details from Trump\\'s banks, Deutsche Bank and Capital One, and his accounting firm, Mazars USA. In response, Trump sued the banks, Mazars, and committee chairman Elijah Cummings to prevent the disclosures. In May, DC District Court judge Amit Mehta ruled that Mazars must comply with the subpoena, and judge Edgardo Ramos of the Southern District Court of New York ruled that the banks must also comply. Trump\\'s attorneys appealed the rulings, arguing that Congress was attempting to usurp the \"exercise of law-enforcement authority that the Constitution reserves to the executive branch.\"\\n\\n\\n=== Side ventures ===\\n\\nIn September 1983, Trump purchased the New Jersey Generals, a team in the United States Football League. After the 1985 season, the league folded, largely due to Trump\\'s strategy of moving games to a fall schedule (where they competed with the NFL for audience) and trying to force a merger with the NFL by bringing an antitrust suit against the organization.Trump\\'s businesses have hosted several boxing matches at the Atlantic City Convention Hall adjacent to and promoted as taking place at the Trump Plaza in Atlantic City. In 1989 and 1990, Trump lent his name to the Tour de Trump cycling stage race, which was an attempt to create an American equivalent of European races such as the Tour de France or the Giro d\\'Italia.In the late 1980s, Trump mimicked the actions of Wall Street\\'s so-called corporate raiders. Trump began to purchase significant blocks of shares in various public companies, leading some observers to think he was engaged in the practice called greenmail, or feigning the intent to acquire the companies and then pressuring management to repurchase the buyer\\'s stake at a premium. The New York Times found that Trump initially made millions of dollars in such stock transactions, but later \"lost most, if not all, of those gains after investors stopped taking his takeover talk seriously.\"In 1988, Trump purchased the defunct Eastern Air Lines shuttle, with 21 planes and landing rights in New York City, Boston, and Washington, D.C. He financed the purchase with $380 million from 22 banks, rebranded the operation the Trump Shuttle, and operated it until 1992. Trump failed to earn a profit with the airline and sold it to USAir.\\n\\nIn 1992, Trump, his siblings Maryanne, Elizabeth, and Robert, and his cousin John W. Walter, each with a 20 percent share, formed All County Building Supply & Maintenance Corp. The company had no offices and is alleged to have been a shell company for paying the vendors providing services and supplies for Trump\\'s rental units and then billing those services and supplies to Trump Management with markups of 20–50 percent and more. The proceeds generated by the markups were shared by the owners. The increased costs were used as justification to get state approval for increasing the rents of Trump\\'s rent-stabilized units.From 1996 to 2015, Trump owned all or part of the Miss Universe pageants, including Miss USA and Miss Teen USA. Due to disagreements with CBS about scheduling, he took both pageants to NBC in 2002. In 2007, Trump received a star on the Hollywood Walk of Fame for his work as producer of Miss Universe. After NBC and Univision dropped the pageants from their broadcasting lineups in June 2015, Trump bought NBC\\'s share of the Miss Universe Organization and sold the entire company to the William Morris talent agency.\\n\\n\\n==== Trump University ====\\n\\nIn 2004, Trump co-founded Trump University, a company that sold real estate training courses priced from $1,500 to $35,000. After New York State authorities notified the company that its use of the word \"university\" violated state law, its name was changed to Trump Entrepreneur Initiative in 2010.In 2013, the State of New York filed a $40 million civil suit against Trump University, alleging that the company made false statements and defrauded consumers. In addition, two class actions were filed in federal court against Trump and his companies. Internal documents revealed that employees were instructed to use a hard-sell approach, and former employees testified that Trump University had defrauded or lied to its students. Shortly after he won the presidency, Trump agreed to pay a total of $25 million to settle the three cases.\\n\\n\\n=== Foundation ===\\n\\nThe Donald J. Trump Foundation was a private foundation established in 1988. In the foundation\\'s final years its funds mostly came from donors other than Trump, who did not donate any personal funds to the charity from 2009 until 2014. The foundation gave to health care and sports-related charities, as well as conservative groups.In 2016, The Washington Post reported that the charity had committed several potential legal and ethical violations, including alleged self-dealing and possible tax evasion. Also in 2016, the New York State attorney general\\'s office said the foundation appeared to be in violation of New York laws regarding charities and ordered it to immediately cease its fundraising activities in New York. Trump\\'s team announced in December 2016 that the foundation would be dissolved.In June 2018 the New York attorney general\\'s office filed a civil suit against the foundation, Trump, and his adult children, seeking $2.8 million in restitution and additional penalties. In December 2018, the foundation ceased operation and disbursed all its assets to other charities. In November 2019, a New York state judge ordered Trump to pay $2 million to a group of charities for misusing the foundation\\'s funds, in part to finance his presidential campaign.\\n\\n\\n== Media career ==\\n\\n\\n=== Books ===\\n\\nTrump has written up to 19 books on business, financial, or political topics, though he has used ghostwriters to do this. Trump\\'s first book, The Art of the Deal (1987), was a New York Times Best Seller. While Trump was credited as co-author, the entire book was ghostwritten by Tony Schwartz. According to The New Yorker, \"The book expanded Trump\\'s renown far beyond New York City, making him an emblem of the successful tycoon.\" Trump has called the book his second favorite, after the Bible.\\n\\n\\n=== Film and television ===\\n\\nTrump made cameo appearances in eight films and television shows from 1985 to 2001.Trump had a sporadic relationship with the professional wrestling promotion WWE since the late 1980s. He appeared at WrestleMania 23 in 2007 and was inducted into the celebrity wing of the WWE Hall of Fame in 2013.Starting in the 1990s, Trump was a guest about 24 times on the nationally syndicated Howard Stern Show. He also had his own short-form talk radio program called Trumped! (one to two minutes on weekdays) from 2004 to 2008. From 2011 until 2015, he was a weekly unpaid guest commentator on Fox & Friends.In 2003, Trump became the co-producer and host of The Apprentice, a reality show in which Trump played the role of a chief executive and contestants competed for a year of employment at the Trump Organization. Trump eliminated contestants with the catchphrase \"You\\'re fired.\" He later co-hosted The Celebrity Apprentice, in which celebrities competed to win money for charities. Trump, who had been a member since 1989, resigned from the Screen Actors Guild in February 2021 rather than face a disciplinary committee hearing for inciting the January 6, 2021 mob attack on the U.S. Capitol and for his \"reckless campaign of misinformation aimed at discrediting and ultimately threatening the safety of journalists.\" Two days later, the union permanently barred him from readmission.\\n\\n\\n== Pre-presidential political career ==\\n\\nTrump\\'s political party affiliation changed numerous times. He registered as a Republican in 1987, a member of the Independence Party, the New York state affiliate of the Reform Party, in 1999, a Democrat in 2001, a Republican in 2009, unaffiliated in 2011, and a Republican in 2012.In 1987, Trump placed full-page advertisements in three major newspapers, advocating peace in Central America, accelerated nuclear disarmament talks with the Soviet Union, and reduction of the federal budget deficit by making American allies pay \"their fair share\" for military defense. He ruled out running for local office but not for the presidency.\\n\\n\\n=== 2000 presidential campaign ===\\n\\nTrump ran in the California and Michigan primaries for nomination as the Reform Party candidate for the 2000 presidential election but withdrew from the race in February 2000. A July 1999 poll matching him against likely Republican nominee George W. Bush and likely Democratic nominee Al Gore showed Trump with seven percent support.\\n\\n\\n=== 2012 presidential speculation ===\\n\\nTrump speculated about running against President Barack Obama in the 2012 election, making his first speaking appearance at the Conservative Political Action Conference (CPAC) in February 2011 and giving speeches in early primary states. In May 2011 he announced he would not run, and he endorsed Mitt Romney in February 2012. Trump\\'s presidential ambitions were generally not taken seriously at the time.\\n\\n\\n=== 2016 presidential campaign ===\\n\\n\\n==== Republican primaries ====\\n\\nOn June 16, 2015, Trump announced his candidacy for President of the United States. His campaign was initially not taken seriously by political analysts, but he quickly rose to the top of opinion polls.On Super Tuesday, Trump received the most votes, and he remained the front-runner throughout the primaries. After a landslide win in Indiana on May 3, 2016 – which prompted the remaining candidates Ted Cruz and John Kasich to suspend their presidential campaigns – RNC chairman Reince Priebus declared Trump the presumptive Republican nominee.\\n\\n\\n==== General election campaign ====\\n\\nHillary Clinton had a significant lead over Trump in national polls throughout most of 2016. In early July, her lead narrowed in national polling averages.\\n\\nOn July 15, 2016, Trump announced his selection of Indiana governor Mike Pence as his vice presidential running mate. Four days later, the two were officially nominated by the Republican Party at the Republican National Convention.Trump and Clinton faced off in three presidential debates in September and October 2016. Trump\\'s refusal to say whether he would accept the result of the election drew attention, with some saying it undermined democracy.\\n\\n\\n==== Political positions ====\\n\\nTrump\\'s campaign platform emphasized renegotiating U.S.–China relations and free trade agreements such as NAFTA and the Trans-Pacific Partnership, strongly enforcing immigration laws, and building a new wall along the U.S.–Mexico border. His other campaign positions included pursuing energy independence while opposing climate change regulations such as the Clean Power Plan and the Paris Agreement, modernizing and expediting services for veterans, repealing and replacing the Affordable Care Act, abolishing Common Core education standards, investing in infrastructure, simplifying the tax code while reducing taxes for all economic classes, and imposing tariffs on imports by companies that offshore jobs. During the campaign, he advocated a largely non-interventionist approach to foreign policy while increasing military spending, extreme vetting or banning immigrants from Muslim-majority countries to pre-empt domestic Islamic terrorism, and aggressive military action against the Islamic State of Iraq and the Levant. He described NATO as \"obsolete\".Trump\\'s political positions and rhetoric were right-wing populist. Politico has described his positions as \"eclectic, improvisational and often contradictory,\" while NBC News counted \"141 distinct shifts on 23 major issues\" during his campaign.\\n\\n\\n==== Campaign rhetoric ====\\nTrump said he disdained political correctness and frequently made claims of media bias. His fame and provocative statements earned him an unprecedented amount of free media coverage, elevating his standing in the Republican primaries.Trump made a record number of false statements compared to other candidates; the press reported on his campaign lies and falsehoods, with the Los Angeles Times saying, \"Never in modern presidential politics has a major candidate made false statements as routinely as Trump has.\" His campaign statements were often opaque or suggestive.Trump adopted the phrase \"truthful hyperbole,\" coined by his ghostwriter Tony Schwartz, to describe his public speaking style.\\n\\n\\n==== Support from the far-right ====\\nAccording to Michael Barkun, the Trump campaign was remarkable for bringing fringe ideas, beliefs, and organizations into the mainstream. During his presidential campaign, Trump was accused of pandering to white supremacists. He retweeted racist Twitter accounts, and repeatedly refused to condemn David Duke, the Ku Klux Klan or white supremacists. Duke enthusiastically supported Trump and said he and like-minded people voted for Trump because of his promises to \"take our country back\". After repeated questioning by reporters, Trump said he disavowed Duke and the Klan.The alt-right movement coalesced around and enthusiastically supported Trump\\'s candidacy, due in part to its opposition to multiculturalism and immigration.In August 2016, he appointed Steve Bannon, the executive chairman of Breitbart News — described by Bannon as \"the platform for the alt-right\" — as his campaign CEO. After the election, Trump condemned supporters who celebrated his victory with Nazi salutes.\\n\\n\\n==== Financial disclosures ====\\nAs a candidate, Trump\\'s FEC-required reports listed assets above $1.4 billion and outstanding debts of at least $315 million.Trump has not released his tax returns, contrary to the practice of every major candidate since 1976 and his promises in 2014 and 2015 to do so if he ran for office. He said his tax returns were being audited, and his lawyers had advised him against releasing them. After a lengthy court battle to block release of his tax returns and other records to the Manhattan district attorney for a criminal investigation, including two appeals by Trump to the United States Supreme Court, in February 2021 the high court allowed the records to be released to the prosecutor for review by a grand jury.In October 2016, portions of Trump\\'s state filings for 1995 were leaked to a reporter from The New York Times. They show that Trump had declared a loss of $916 million that year, which could have let him avoid taxes for up to 18 years. In March 2017, the first two pages of Trump\\'s 2005 federal income tax returns were leaked to MSNBC. The document states that Trump had a gross adjusted income of $150 million and paid $38 million in federal taxes. The White House confirmed the authenticity of the documents.\\n\\n\\n==== Election to the presidency ====\\n\\nOn November 8, 2016, Trump received 306 pledged electoral votes versus 232 for Clinton. The official counts were 304 and 227 respectively, after defections on both sides. Trump received nearly 2.9 million fewer popular votes than Clinton, which made him the fifth person to be elected president while losing the popular vote.\\n\\nTrump\\'s victory was a political upset. Polls had consistently shown Clinton with a nationwide – though diminishing – lead, as well as an advantage in most of the competitive states. Trump\\'s support had been modestly underestimated, while Clinton\\'s had been overestimated.Trump won 30 states; included were Michigan, Pennsylvania, and Wisconsin, which had been part of what was considered a blue wall of Democratic strongholds since the 1990s. Clinton won 20 states and the District of Columbia. Trump\\'s victory marked the return of an undivided Republican government – a Republican White House combined with Republican control of both chambers of Congress.Trump was the oldest person to take office as president at the time of his inauguration. He is also the first president who did not serve in the military or hold any government office prior to becoming president.\\n\\n\\n==== Protests ====\\n\\nTrump\\'s election victory sparked numerous protests. In the weeks following Trump\\'s inauguration, massive demonstrations took place, such as the Women\\'s Marches, which gathered 2.6 million people worldwide. Marches against his travel ban began across the country on January 29, 2017, just nine days after his inauguration.\\n\\n\\n== Presidency (2017–2021) ==\\n\\n\\n=== Early actions ===\\n\\nTrump was inaugurated as the 45th president of the United States on January 20, 2017. During his first week in office, he signed six executive orders: interim procedures in anticipation of repealing the Affordable Care Act (\"Obamacare\"), withdrawal from the Trans-Pacific Partnership negotiations, reinstatement of the Mexico City Policy, authorizing the Keystone XL and Dakota Access Pipeline construction projects, reinforcing border security, and beginning the planning and design process to construct a wall along the U.S. border with Mexico.Trump\\'s daughter Ivanka and her husband Jared Kushner became Assistant to the President and Senior Advisor to the President, respectively.\\n\\n\\n=== Conflicts of interest ===\\nBefore being inaugurated, Trump moved his businesses into a revocable trust run by his sons, Eric and Donald Jr, and a business associate. However Trump continued to profit from his businesses and continued to have knowledge of how his administration\\'s policies affected his businesses. Though Trump said he would eschew \"new foreign deals,\" the Trump Organization pursued expansions of its operations in Dubai, Scotland, and the Dominican Republic.Trump was sued for violating the Domestic and Foreign Emoluments Clauses of the U.S. Constitution, marking the first time that the clauses had been substantively litigated. The plaintiffs said that Trump\\'s business interests could allow foreign governments to influence him. Trump called the clause \"phony\". After Trump\\'s term had ended, the U.S. Supreme Court dismissed the cases as moot.\\n\\n\\n=== Domestic policy ===\\n\\n\\n==== Economy and trade ====\\n\\nTrump took office at the height of the longest economic expansion in American history, which began in June 2009 and continued until February 2020, when the COVID-19 recession began.In December 2017, Trump signed tax legislation that permanently cut the corporate tax rate to 21 percent, lowered personal income tax rates until 2025, increased child tax credits, doubled the estate tax exemption to $11.2 million, and limited the state and local tax deduction to $10,000.\\n\\nTrump is a skeptic of trade liberalization, adopting these views in the 1980s, and sharply criticized NAFTA during the Republican primary campaign in 2015. He withdrew the U.S. from the Trans-Pacific Partnership (TPP) negotiations, imposed tariffs on steel and aluminum imports, and launched a trade war with China by sharply increasing tariffs on 818 categories (worth $50 billion) of Chinese goods imported into the U.S. On several occasions, Trump said incorrectly that these import tariffs are paid by China into the U.S. Treasury. Although Trump pledged during his 2016 campaign to significantly reduce the U.S.\\'s large trade deficits, the U.S. trade deficit reached its highest level in 12 years under his administration. Following a 2017–2018 renegotiation, Trump signed the United States-Mexico-Canada Agreement (USMCA) as the successor to NAFTA on January 29, 2020. The revised trade deal became effective on July 1, 2020.Despite a campaign promise to eliminate the national debt in eight years, Trump as president approved large increases in government spending, as well as the 2017 tax cut. As a result, the federal budget deficit increased by almost 50 percent, to nearly $1 trillion in 2019. Under Trump, the U.S. national debt increased by 39 percent, reaching $27.75 trillion by the end of his term; the U.S. debt-to-GDP ratio also hit a post-World War II high.Although the U.S. unemployment rate hit a 50-year low (3.5 percent) in February 2020, the unemployment rate hit a 90-year high (14.7 percent), matching Great Depression levels, just two months later, due to the COVID-19 pandemic. Trump left office with 3 million fewer jobs in the U.S. than when he took office, making Trump the only modern U.S. president to leave office with a smaller workforce.An analysis published by The Wall Street Journal in October 2020 found the trade war Trump initiated in early 2018 neither revived American manufacturing nor resulted in the reshoring of factory production.\\n\\n\\n==== Energy and climate ====\\n\\nTrump rejects the scientific consensus on climate change. He slashed the budget for renewable energy research and reversed Obama-era policies directed at curbing climate change. In June 2017, Trump announced the withdrawal of the United States from the Paris Agreement, making the U.S. the only nation in the world to not ratify the agreement.Trump rolled back more 100 federal environmental regulations, including those that curbed greenhouse gas emissions, air and water pollution, and the use of toxic substances. He weakened protections for animals and environmental standards for federal infrastructure projects, and expanded permitted areas for drilling and resource extraction, such as allowing drilling in the Arctic Refuge. Trump aimed to boost the production and exports of fossil fuels; under Trump, natural gas expanded, but coal continued to decline. Through September 2020 the Trump administration won less than 16 percent of its deregulation efforts challenged in courts, compared to an average of about 70 percent during the two preceding administrations.\\n\\n\\n==== Deregulation ====\\nDuring his presidency, Trump dismantled many federal regulations on health, labor, and the environment, among other topics. Trump signed 15 Congressional Review Act resolutions repealing federal regulations, becoming the second president to sign a CRA resolution, and the first president to sign more than one CRA resolution. During his first six weeks in office, he delayed, suspended or reversed ninety federal regulations.On January 30, 2017, Trump signed Executive Order 13771, which directed that for every new regulation administrative agencies issue \"at least two prior regulations be identified for elimination.\" Agency defenders expressed opposition to Trump\\'s criticisms, saying the bureaucracy exists to protect people against well-organized, well-funded interest groups.\\n\\n\\n==== Health care ====\\nDuring his campaign, Trump vowed to repeal and replace the Affordable Care Act, and urged Congress to do so. In May 2017, the Republican-controlled House of Representatives passed a bill to repeal the ACA in a party-line vote, but repeal proposals were narrowly voted down in the Senate after three Republicans joined all Democrats in opposing it.Trump scaled back the implementation of the ACA through Executive Orders 13765 and 13813. Trump has expressed a desire to \"let Obamacare fail\"; his administration cut the ACA enrollment period in half and drastically reduced funding for advertising and other ways to encourage enrollment. The 2017 tax bill signed by Trump effectively repealed the ACA\\'s individual health insurance mandate in 2019, and a budget bill Trump signed in 2019 repealed the Cadillac plan tax, medical device tax, and tanning tax. As president, Trump falsely claimed he saved the coverage of pre-existing conditions provided by the ACA; in fact, the Trump administration joined a lawsuit seeking to strike down the entire ACA, including protections for those with pre-existing conditions. If successful, the lawsuit would eliminate health insurance coverage for up to 23 million Americans. As a 2016 candidate, Trump promised to protect funding for Medicare and other social safety-net programs, but in January 2020 he suggested he was willing to consider cuts to such programs.Trump\\'s policies in response to the opioid epidemic have been widely criticized as ineffectual and harmful. U.S. opioid overdose deaths declined slightly in 2018, but surged to a new record of 50,052 deaths in 2019.\\n\\n\\n==== Social issues ====\\n\\nTrump favored modifying the 2016 Republican platform opposing abortion, to allow for exceptions in cases of rape, incest, and circumstances endangering the health of the mother. He said he was committed to appointing \"pro-life\" justices, pledging in 2016 to appoint justices who would \"automatically\" overturn Roe v. Wade. He says he personally supports \"traditional marriage\" but considers the nationwide legality of same-sex marriage a \"settled\" issue. In March 2017, the Trump administration rolled back key components of the Obama administration\\'s workplace protections against discrimination of LGBT people.Trump says he is opposed to gun control in general, although his views have shifted over time. After several mass shootings during his term, Trump initially said he would propose legislation to curtail gun violence, but this was abandoned in November 2019. The Trump administration has taken an anti-marijuana position, revoking Obama-era policies that provided protections for states that legalized marijuana.Long favoring capital punishment, Trump approved the first federal executions in 17 years; under Trump, the federal government executed 13 prisoners, more than in the previous 56 years combined. In 2016, Trump said he supported the use of interrogation torture methods such as waterboarding but later appeared to recant this due to the opposition of Defense Secretary James Mattis.\\n\\n\\n=== Other issues ===\\n\\n\\n==== Pardons and commutations ====\\n\\nMost of Trump\\'s pardons were granted to people with personal or political connections to him. In his term, Trump sidestepped regular Department of Justice procedures for considering pardons; instead he often entertained pardon requests from his associates or from celebrities.In 2017, Trump pardoned former Arizona sheriff Joe Arpaio who was convicted of contempt of court for disobeying a court order to halt the racial profiling of Latinos. In 2018, Trump pardoned former Navy sailor Kristian Saucier, who was convicted of taking classified photographs of a submarine; Scooter Libby, a political aide to former vice president Dick Cheney, who was convicted of obstruction of justice, perjury, and making false statements to the FBI; conservative commentator Dinesh D\\'Souza, who had made illegal political campaign contributions; and he commuted the life sentence of Alice Marie Johnson, who had been convicted of drug trafficking, following a request by celebrity Kim Kardashian. In 2019, Trump pardoned or reversed the sentences of three American soldiers convicted or accused of war crimes in Afghanistan or Iraq. In 2020, he pardoned four Blackwater mercenaries convicted of killing Iraqi civilians in the 2007 Nisour Square massacre. He also pardoned white-collar criminals Michael Milken, Bernard Kerik, and Edward J. DeBartolo Jr. and commuted former Illinois governor Rod Blagojevich\\'s 14-year corruption sentence. In December 2020, he pardoned Charles Kushner, Ivanka Trump\\'s father-in-law, who had served two years in federal prison for witness tampering, tax evasion, and illegal campaign donations.Trump pardoned or commuted the sentences for five people convicted as a result of investigations into Russian interference in the 2016 presidential elections. In November 2020, Trump pardoned his former National Security Advisor Michael Flynn and, in December, his 2016 campaign adviser George Papadopoulos and lawyer Alex van der Zwaan; all three had pleaded guilty of lying to federal officials during the investigations. Also in December 2020,  Trump pardoned his friend and advisor Roger Stone whose 40-month sentence for lying to Congress, witness tampering, and obstruction he had already commuted in July; and his 2016 campaign manager Paul Manafort who had been sentenced to more than seven years in prison for bank and tax fraud and other crimes.In his last full day in office, Trump granted 143 pardons and commutations. He pardoned his former chief strategist Steve Bannon; Trump fundraiser Elliott Broidy; and former Republican congressmen Rick Renzi, Robert Hayes, and Randall \"Duke\" Cunningham, and commuted the sentences of dozens of people including former Detroit mayor Kwame Kilpatrick and sports gambler Billy Walters; the latter had paid tens of thousands of dollars to former Trump attorney John M. Dowd to plead his case with Trump.\\n\\n\\n==== Lafayette Square protester removal and photo op ====\\n\\nOn June 1, 2020, federal law enforcement officials used batons, rubber bullets, pepper spray projectiles, stun grenades, and smoke to remove a largely peaceful crowd of protesters from Lafayette Square, outside the White House. The removal had been ordered by Attorney General William Barr. Trump then walked to St. John\\'s Episcopal Church, where protesters had set a small fire the night before. He posed for photographs holding a Bible, with Cabinet members and other officials later joining him in photos.Religious leaders condemned the treatment of protesters and the photo opportunity itself. Many retired military leaders and defense officials condemned Trump\\'s proposal to use the U.S. military against the protesters. The chairman of the Joint Chiefs of Staff, General Mark A. Milley, later apologized for accompanying Trump on the walk and thereby \"creat[ing] the perception of the military involved in domestic politics.\"\\n\\n\\n=== Immigration ===\\n\\nTrump\\'s proposed immigration policies were a topic of bitter and contentious debate during the campaign. He promised to build a wall on the Mexico–United States border to restrict illegal movement and vowed Mexico would pay for it. He pledged to deport millions of illegal immigrants residing in the United States, and criticized birthright citizenship for incentivizing \"anchor babies.\" As president, he frequently described illegal immigration as an \"invasion\" and conflated immigrants with the criminal gang MS-13, though research shows undocumented immigrants have a lower crime rate than native-born Americans.Trump has attempted to drastically escalate immigration enforcement, including harsher immigration enforcement policies against asylum seekers from Central America than any modern U.S. president. This was accompanied by the Trump administration\\'s mandating in 2018 that immigration judges must complete 700 cases a year to be evaluated as performing satisfactorily. Under Trump, migrant apprehensions at the U.S.–Mexico border rose to their highest level in 12 years, but deportations remained below the record highs of fiscal years 2012–2014.From 2018 onwards, Trump deployed nearly 6,000 troops to the U.S.–Mexico border, to stop most Central American migrants from seeking U.S. asylum, and from 2020 used the public charge rule to restrict immigrants using government benefits from getting permanent residency via green cards. Trump has reduced the number of refugees admitted into the U.S. to record lows. When Trump took office, the annual limit was 110,000; Trump set a limit of 18,000 in the 2020 fiscal year and 15,000 in the 2021 fiscal year. Additional restrictions implemented by the Trump administration caused significant bottlenecks in processing refugee applications, resulting in fewer refugees accepted compared to the allowed limits.\\n\\n\\n==== Travel ban ====\\n\\nFollowing the 2015 San Bernardino attack, Trump proposed to ban Muslim foreigners from entering the United States until stronger vetting systems could be implemented. He later reframed the proposed ban to apply to countries with a \"proven history of terrorism.\"On January 27, 2017, Trump signed Executive Order 13769, which suspended admission of refugees for 120 days and denied entry to citizens of Iraq, Iran, Libya, Somalia, Sudan, Syria, and Yemen for 90 days, citing security concerns. The order took effect immediately and without warning. Confusion and protests caused chaos at airports. Multiple legal challenges were filed against the order, and a federal judge blocked its implementation nationwide. On March 6, Trump issued a revised order, which excluded Iraq and gave other exemptions, but was again blocked by federal judges in three states. In a decision in June 2017, the Supreme Court ruled that the ban could be enforced on visitors who lack a \"credible claim of a bona fide relationship with a person or entity in the United States.\"The temporary order was replaced by Presidential Proclamation 9645 on September 24, 2017, which permanently restricts travel from the originally targeted countries except Iraq and Sudan, and further bans travelers from North Korea and Chad, along with certain Venezuelan officials. After lower courts partially blocked the new restrictions, the Supreme Court allowed the September version to go into full effect on December 4, 2017, and ultimately upheld the travel ban in a June 2019 ruling.\\n\\n\\n==== Family separation at border ====\\n\\nThe Trump administration separated more than 5,400 children of migrant families from their parents at the U.S.–Mexico border while attempting to enter the U.S, a sharp increase in the number of family separations at the border starting from the summer of 2017. In April 2018, the Trump administration announced a \"zero tolerance\" policy whereby every adult suspected of illegal entry would be criminally prosecuted. This resulted in family separations, as the migrant adults were put in criminal detention for prosecution, while their children were separated as unaccompanied alien minors. Administration officials described the policy as a way to deter illegal immigration.The policy of family separations was unprecedented in previous administrations and sparked public outrage. Trump falsely asserted that his administration was merely following the law, blaming Democrats, despite the separations being his administration\\'s policy.Although Trump originally argued that the separations could not be stopped by an executive order, he proceeded to sign an executive order on June 20, 2018, mandating that migrant families be detained together, unless the administration judged that doing so would harm the child. On June 26, 2018, a federal judge concluded that the Trump administration had \"no system in place to keep track of\" the separated children, nor any effective measures for family communication and reunification; the judge ordered for the families to be reunited, and family separations stopped, except in the cases where the parent(s) are judged unfit to take care of the child, or if there is parental approval. Despite the federal court order, the Trump administration continued to practice family separations, with more than a thousand migrant children separated.\\n\\n\\n==== Migrant detentions ====\\n\\nTrump\\'s administration significantly increased the rates of migrant detentions and deportations compared to the Obama administration.The Department of Homeland Security Office of Inspector General inspections of migrant detention centers in 2018 and 2019 found that U.S. Customs and Border Protection (CBP) \"in many instances\" violated federal guidelines for detaining migrant children and that migrants were detained for prolonged periods under dangerous conditions failing federal standards, enduring dangerous overcrowding and poor hygiene and food. CBP Commissioner Kevin McAleenan said in 2019 that there was a \"border security and a humanitarian crisis\" and that the immigration system was at a \"breaking point.\"\\n\\n\\n==== 2018–2019 federal government shutdown ====\\n\\nOn December 22, 2018, the federal government was partially shut down after Trump declared that any funding extension must include $5.6 billion in federal funds for a U.S.–Mexico border wall to partly fulfill his campaign promise. The shutdown was caused by a lapse in funding for nine federal departments, affecting about one-fourth of federal government activities.As a result of the shutdown, about 380,000 government employees were furloughed and 420,000 government employees worked without pay. According to a CBO estimate, the shutdown resulted in a permanent loss of $3 billion to the U.S. economy. About half of Americans blamed Trump for the shutdown, and Trump\\'s approval ratings dropped.On January 25, 2019, Congress unanimously approved a temporary funding bill that provided no funds for the wall but would provide delayed paychecks to government workers. Trump signed the bill that day, ending the shutdown at 35 days. It was the longest U.S. government shutdown in history.Since the government funding was temporary, another shutdown loomed. On February 14, 2019, Congress approved a funding bill that included $1.375 billion for 55 miles of border fences, in lieu of Trump\\'s intended wall. Trump signed the bill the next day.\\n\\n\\n==== National emergency regarding the southern border ====\\nOn February 15, 2019, after Trump received from Congress only $1.375 billion for border fencing after demanding $5.7 billion for the Trump wall, he declared a National Emergency Concerning the Southern Border of the United States in hopes of getting another $6.7 billion without congressional approval, using funds for military construction, drug interdiction, and money from the Treasury. In doing so, Trump acknowledged that he \"didn\\'t need to\" declare a national emergency, but he \"would rather do it much faster.\"Congress twice passed resolutions to block Trump\\'s national emergency declarations, but Trump vetoed both and there were not enough votes in Congress for a veto override. Trump\\'s decision to divert other government funding to fund the wall resulted in legal challenges. In July 2019, the Supreme Court allowed Trump to use $2.5 billion (originally meant for anti-drug programs) from the Department of Defense to build the Trump wall. In December 2019, a federal judge stopped the Trump administration from using $3.6 billion of military construction funds for the Trump wall.\\n\\n\\n==== Trump wall ====\\n\\nThe \\'Trump wall\\' was an expansion of the Mexico–United States barrier; most of this \\'wall\\' was bollard fencing. Throughout his campaign, Trump said that, if elected, he would build the wall and make Mexico pay for it, which Mexico rejected. Trump\\'s target, from 2015 to 2017, was 1,000 miles of wall. During his term, the U.S. government built 49 miles of new barriers and around 406 miles of replacement barriers.\\n\\n\\n=== Foreign policy ===\\n\\nTrump described himself as a \"nationalist\" and his foreign policy as \"America First.\" He espoused isolationist, non-interventionist, and protectionist views. His foreign policy was marked by praise and support of populist, neo-nationalist and authoritarian governments. Hallmarks of foreign relations during Trump\\'s tenure included unpredictability and uncertainty, a lack of a consistent foreign policy, and strained and sometimes antagonistic relationships with the U.S.\\'s European allies.As a candidate, Trump questioned the need for NATO; and as president publicly criticized NATO and the U.S.\\'s NATO allies, and privately suggested on multiple occasions that the United States should withdraw from NATO.Trump actively supported the Saudi Arabian-led intervention in Yemen against the Houthis and signed a $110 billion agreement to sell arms to Saudi Arabia. As allies in the conflict with Iran, Trump approved the deployment of additional U.S. troops to Saudi Arabia and the United Arab Emirates following the 2019 attack on Saudi oil facilities which the United States has blamed on Iran.U.S. troop numbers in Afghanistan increased from 8,500 to 14,000, as of January 2017, reversing his pre-election position critical of further involvement in Afghanistan. In February 2020, the Trump administration signed a conditional peace agreement with the Taliban, which calls for the withdrawal of foreign troops in 14 months if the Taliban uphold the terms of the agreement.Trump supported many of the policies of Israeli Prime Minister Benjamin Netanyahu. Under Trump, the U.S. recognized Jerusalem as the capital of Israel in 2017, and recognized Israel\\'s annexation of the Golan Heights. These actions received international condemnation, including from the United Nations General Assembly, the European Union and the Arab League.\\n\\n\\n==== Syria ====\\nTrump ordered missile strikes in April 2017 and in April 2018 against the Assad regime in Syria, in retaliation for the Khan Shaykhun and Douma chemical attacks, respectively.In December 2018, Trump declared \"we have won against ISIS,\" contradicting Department of Defense assessments, and ordered the withdrawal of all troops from Syria. The next day, Mattis resigned in protest, calling his decision an abandonment of the U.S.\\'s Kurdish allies who played a key role in fighting ISIS. One week after his announcement, Trump said he would not approve any extension of the American deployment in Syria. In January 2019, national security advisor John Bolton announced America would remain in Syria until ISIS is eradicated and Turkey guarantees it will not strike the Kurds.In October 2019, after Trump spoke to Turkish president Recep Tayyip Erdoğan, the White House acknowledged Turkey would carry out a military offensive into northern Syria, and U.S. troops in northern Syria were withdrawn from the area, and said that ISIS fighters captured by the U.S. in the area would be Turkey\\'s responsibility. As a result, Turkey launched an invasion, attacking and displacing American-allied Kurds in the area. Later that month, the U.S. House of Representatives, in a rare bipartisan vote of 354 to 60, condemned Trump\\'s withdrawal of U.S. troops from Syria, for \"abandoning U.S. allies, undermining the struggle against ISIS, and spurring a humanitarian catastrophe.\"\\n\\n\\n==== Iran ====\\n\\nIn May 2018, Trump announced the U.S.\\' unilateral departure from the Joint Comprehensive Plan of Action (JCPOA), a nuclear deal negotiated with the U.S., Iran, and five other world powers in 2015. After withdrawing from the agreement, the Trump administration applied a policy of \"maximum pressure\" on Iran via economic sanctions, without support of other parties to the deal. The Trump State Department certified Iran\\'s compliance with the deal in July 2017, but Iran began breaching its terms in May 2020, and by September the IAEA reported the country had ten times the amount of enriched uranium allowed under the deal. In  mid-2020 the United States attempted to \"snap back\" pre-deal sanctions by asserting to the UN Security Council that it remained a participant in the deal, without significant international support.\\n\\nFollowing Iranian missile tests in January 2017, the Trump administration sanctioned 25 Iranian individuals and entities. In August 2017, Trump signed legislation imposing additional sanctions against Iran, Russia, and North Korea.In January 2020, Trump ordered a U.S. airstrike that killed Iranian general and Quds Force commander Qasem Soleimani, Iraqi Popular Mobilization Forces commander Abu Mahdi al-Muhandis, and eight other people. Several days later, Iran retaliated with airstrikes against Al Asad Air Base in Iraq; more than a hundred U.S. troops suffered traumatic brain injuries. Trump publicly threatened to attack Iranian cultural sites, or react \"in a disproportionate manner\" if Iran retaliated.\\n\\n\\n==== China ====\\n\\nBefore and during his presidency, Trump repeatedly accused China of taking unfair advantage of the U.S. During his presidency, Trump launched a trade war against China, sanctioned Huawei for its alleged ties to Iran, significantly increased visa restrictions on Chinese students and scholars, and classified China as a \"currency manipulator.\" Trump also juxtaposed verbal attacks on China with praise of Chinese Communist Party leader Xi Jinping, which was attributed to trade war negotiations with the leader. After initially praising China for its handling of the COVID-19 pandemic, he began a campaign of criticism over its response starting in March.Trump said he resisted punishing China for its human rights abuses against ethnic minorities in the northwestern Xinjiang region for fear of jeopardizing trade negotiations. In July 2020, the Trump administration imposed sanctions and visa restrictions against senior Chinese officials, in response to expanded mass detention camps holding more than a million of the country\\'s Uyghur Muslim ethnic minority.\\n\\n\\n==== North Korea ====\\n\\nIn 2017, when North Korea\\'s nuclear weapons were increasingly seen as a serious threat, Trump escalated his rhetoric, warning that North Korean aggression would be met with \"fire and fury like the world has never seen.\" In 2017, Trump declared that he wanted North Korea\\'s \"complete denuclearization,\" and engaged in name-calling with leader Kim Jong-un. After this period of tension, Trump and Kim exchanged at least 27 letters in which the two men described a warm personal friendship.At Kim\\'s suggestion, Trump met Kim three times: in Singapore in 2018, in Hanoi in 2019, and in the Korean Demilitarized Zone in 2019. Trump became the first sitting U.S. president to meet a North Korean leader or to set foot in North Korea. Trump also lifted some U.S. sanctions against North Korea. However, no denuclearization agreement was reached, and talks in October 2019 broke down after one day. North Korea continued to build up its arsenal of nuclear weapons and ballistic missiles.\\n\\n\\n==== Russia ====\\n\\nTrump has repeatedly praised and rarely criticized Russian president Vladimir Putin, but has opposed some actions of the Russian government. The Trump administration lifted U.S. sanctions imposed on Russia after its 2014 annexation of Crimea. Trump also supported a potential return of Russia to the G7, and did not confront Putin over its alleged bounties against American soldiers in Afghanistan.Trump withdrew the U.S. from the Intermediate-Range Nuclear Forces Treaty, citing alleged Russian non-compliance. After he met Putin at the Helsinki Summit in July 2018, Trump drew bipartisan criticism for accepting Putin\\'s denial of Russian interference in the 2016 presidential election, rather than accepting the findings of U.S. intelligence agencies.\\n\\n\\n=== Personnel ===\\n\\nTrump\\'s Cabinet nominations included U.S. senator from Alabama Jeff Sessions as Attorney General, banker Steve Mnuchin as Treasury Secretary, retired Marine Corps general James Mattis as Defense Secretary, and ExxonMobil CEO Rex Tillerson as Secretary of State. Trump also brought on board politicians who had opposed him during the presidential campaign, such as neurosurgeon Ben Carson as Secretary of Housing and Urban Development, and South Carolina governor Nikki Haley as Ambassador to the United Nations.\\nThe Trump administration had a high turnover of personnel, particularly among White House staff. By the end of Trump\\'s first year in office, 34 percent of his original staff had resigned, been fired, or been reassigned. As of early July 2018, 61 percent of Trump\\'s senior aides had left and 141 staffers had left in the previous year. Both figures set a record for recent presidents – more change in the first 13 months than his four immediate predecessors saw in their first two years. Notable early departures included National Security Advisor Michael Flynn (after just 25 days in office), and Press Secretary Sean Spicer. Close personal aides to Trump including Steve Bannon, Hope Hicks, John McEntee, and Keith Schiller quit or were forced out. Some, like Hicks and McEntee, later returned to the White House in different posts. Trump publicly disparaged several of his former top officials, calling them incompetent, stupid, or crazy.Trump had four White House chiefs of staff, marginalizing or pushing out several. Reince Priebus was replaced after seven months by retired Marine general John F. Kelly. Kelly resigned in December 2018 after a tumultuous tenure in which his influence waned, and Trump subsequently disparaged him. Kelly was succeeded by Mick Mulvaney as acting chief of staff; he was replaced in March 2020 by Mark Meadows.On May 9, 2017, Trump dismissed FBI director James Comey. While initially attributing this action to Comey\\'s conduct in the investigation about Hillary Clinton\\'s emails, Trump said a few days later that he was concerned with Comey\\'s roles in the ongoing Trump-Russia investigations, and that he had intended to fire Comey earlier. According to a Comey memo of a private conversation in February, Trump said he \"hoped\" Comey would drop the investigation into National Security Advisor Michael Flynn.\\nIn March and April, Trump told Comey the ongoing suspicions formed a \"cloud\" impairing his presidency, and asked him to publicly state that he was not personally under investigation.Two of Trump\\'s 15 original Cabinet members were gone within 15 months: Health and Human Services Secretary Tom Price was forced to resign in September 2017 due to excessive use of private charter jets and military aircraft, and Trump replaced Tillerson as Secretary of State with Mike Pompeo in March 2018 over disagreements on foreign policy. In 2018, EPA Administrator Scott Pruitt and Interior Secretary Ryan Zinke resigned amid multiple investigations into their conduct.Trump was slow to appoint second-tier officials in the executive branch, saying many of the positions are unnecessary. In October 2017, there were still hundreds of sub-cabinet positions without a nominee. By January 8, 2019, of 706 key positions, 433 had been filled (61 percent) and Trump had no nominee for 264 (37 percent).\\n\\n\\n=== Judiciary ===\\n\\nTrump appointed 226 Article III federal judges and 260 federal judges in total who were confirmed by the Senate. Senate Republicans, led by Senate Majority Leader Mitch McConnell, rapidly confirmed Trump\\'s judicial appointees, shifting the federal judiciary to the right. The appointees were overwhelmingly white men and younger on average than the appointees of Trump\\'s predecessors. Many are affiliated with the Federalist Society.Trump made three nominations to the Supreme Court: Neil Gorsuch, Brett Kavanaugh, and Amy Coney Barrett. Gorsuch was confirmed in 2017 in a mostly party-line vote of 54–45, after Republicans invoked the \"nuclear option\" (a historic change to Senate rules removing the 60-vote threshold for advancing Supreme Court nominations) to defeat a Democratic filibuster. Trump\\'s predecessor Obama had nominated Merrick Garland in 2016 to fill the vacancy, left by the death of Antonin Scalia, but Senate Republicans under McConnell refused to consider the nomination in the last year of Obama\\'s presidency, angering Democrats. Trump nominated Kavanaugh in 2018 to replace retiring Justice Anthony Kennedy; the Senate confirmed Kavanaugh in a mostly party-line vote of 50–48, after a bitter confirmation battle centered on Christine Blasey Ford\\'s allegation that Kavanaugh had attempted to rape her when they were teenagers, which Kavanaugh denied. In 2020, weeks before the elections, Trump nominated Amy Coney Barrett to fill the vacancy left by the death of Justice Ruth Bader Ginsburg. On October 26, 2020, the Senate voted 52–48 to confirm her nomination.As president, Trump disparaged courts and judges whom he disagreed with, often in personal terms, and questioned the judiciary\\'s constitutional authority. Trump\\'s attacks on the courts have drawn rebukes from observers, including sitting federal judges, who are concerned about the effect of Trump\\'s statements on the judicial independence and public confidence in the judiciary.\\n\\n\\n=== COVID-19 pandemic ===\\n\\nIn December 2019, COVID-19 erupted in Wuhan, China; the SARS-CoV-2 virus spread worldwide within weeks. The first confirmed case in the U.S. was reported on January 20, 2020. The outbreak was officially declared a public health emergency by Health and Human Services Secretary Alex Azar on January 31, 2020.Trump\\'s public statements on COVID-19 were at odds with his private statements. In February 2020 Trump publicly asserted that the outbreak in the U.S. was less deadly than influenza, was \"very much under control,\" and would soon be over. At the same time he acknowledged the opposite in a private conversation with Bob Woodward. In March 2020, Trump privately told Woodward that he was deliberately \"playing it down\" in public so as not to create panic.\\n\\n\\n==== Initial response ====\\nTrump was slow to address the spread of the disease, initially dismissing the imminent threat and ignoring persistent public health warnings and calls for action from health officials within his administration and Secretary Azar. Instead, throughout January and February he focused on economic and political considerations of the outbreak. By mid-March, most global financial markets had severely contracted in response to the emerging pandemic. Trump continued to claim that a vaccine was months away, although HHS and Centers for Disease Control and Prevention (CDC) officials had repeatedly told him that vaccine development would take 12–18 months. Trump also falsely claimed that \"anybody that wants a test can get a test,\" despite the availability of tests being severely limited.On March 6, Trump signed the Coronavirus Preparedness and Response Supplemental Appropriations Act into law, which provided $8.3 billion in emergency funding for federal agencies. On March 11, the World Health Organization (WHO) recognized the spread of COVID-19 as a pandemic, and Trump announced partial travel restrictions for most of Europe, effective March 13. That same day, he gave his first serious assessment of the virus in a nationwide Oval Office address, calling the outbreak \"horrible\" but \"a temporary moment\" and saying there was no financial crisis. On March 13, he declared a national emergency, freeing up federal resources.In September 2019, the Trump administration terminated United States Agency for International Development\\'s PREDICT program, a $200 million epidemiological research program initiated in 2009 to provide early warning of pandemics abroad. The program trained scientists in sixty foreign laboratories to detect and respond to viruses that have the potential to cause pandemics. One such laboratory was the Wuhan lab that first identified the virus that causes COVID-19. After revival in April 2020, the program was given two 6-month extensions to help fight COVID-19 in the U.S. and other countries.On April 22, Trump signed an executive order restricting some forms of immigration to the United States. In late spring and early summer, with infections and death counts continuing to rise, he adopted a strategy of blaming the states for the growing pandemic, rather than accepting that his initial assessments of the course of the pandemic were overly-optimistic or his failure to provide presidential leadership.\\n\\n\\n==== White House Coronavirus Task Force ====\\n\\nTrump established the White House Coronavirus Task Force on January 29, 2020. Beginning in mid-March, Trump held a daily task force press conference, joined by medical experts and other administration officials, sometimes disagreeing with them by promoting unproven treatments. Trump was the main speaker at the briefings, where he praised his own response to the pandemic, frequently criticized rival presidential candidate Joe Biden, and denounced the press. On March 16, he acknowledged for the first time that the pandemic was not under control and that months of disruption to daily lives and a recession might occur. His repeated use of the terms \"Chinese virus\" and \"China virus\" to describe COVID-19 drew criticism from health experts.By early April, as the pandemic worsened and amid criticism of his administration\\'s response, Trump refused to admit any mistakes in his handling of the outbreak, instead blaming the media, Democratic state governors, the previous administration, China, and the WHO. By mid-April 2020, some national news agencies began limiting live coverage of his daily press briefings, with The Washington Post reporting that \"propagandistic and false statements from Trump alternate with newsworthy pronouncements from members of his White House Coronavirus Task Force, particularly coronavirus response coordinator Deborah Birx and National Institute of Allergy and Infectious Diseases Director Anthony S. Fauci.\" The daily coronavirus task force briefings ended in late April, after a briefing at which Trump suggested the dangerous idea of injecting a disinfectant to treat COVID-19; the comment was widely condemned by medical professionals.\\n\\nIn early May, Trump proposed the phase-out of the coronavirus task force and its replacement with another group centered on reopening the economy. Amid a backlash, Trump said the task force would \"indefinitely\" continue. By the end of May, the coronavirus task force\\'s meetings were sharply reduced.\\n\\n\\n==== World Health Organization ====\\nPrior to the pandemic, Trump criticized the WHO and other international bodies, which he asserted were taking advantage of U.S. aid. His administration\\'s proposed 2021 federal budget, released in February, proposed reducing WHO funding by more than half. In May and April, Trump accused the WHO of \"severely mismanaging and covering up the spread of the coronavirus\" and alleged without evidence that the organization was under Chinese control and had enabled the Chinese government\\'s concealment of the origins of the pandemic. He then announced that he was withdrawing funding for the organization. Trump\\'s criticisms and actions regarding the WHO were seen as attempts to distract attention from his own mishandling of the pandemic. In July 2020, Trump announced the formal withdrawal of the United States from the WHO effective July 2021. The decision was widely condemned by health and government officials as \"short-sighted,\" \"senseless,\" and \"dangerous.\"\\n\\n\\n==== Testing ====\\nIn June and July, Trump said several times that the U.S. would have fewer cases of coronavirus if it did less testing, that having a large number of reported cases \"makes us look bad.\" The CDC guideline at the time was that any person exposed to the virus should be \"quickly identified and tested\" even if they are not showing symptoms, because asymptomatic people can still spread the virus. In August 2020, however, the CDC quietly lowered its recommendation for testing, advising that people who have been exposed to the virus, but are not showing symptoms, \"do not necessarily need a test.\" The change in guidelines was made by HHS political appointees under Trump administration pressure, against the wishes of CDC scientists. The day after this political interference was reported, the testing guideline was changed back to its original recommendation, stressing that anyone who has been in contact with an infected person should be tested.\\n\\n\\n==== Pressure to abandon pandemic mitigation measures ====\\nIn April 2020, Republican-connected groups organized anti-lockdown protests against the measures state governments were taking to combat the pandemic; Trump encouraged the protests on Twitter, even though the targeted states did not meet the Trump administration\\'s own guidelines for reopening. In April 2020, he first supported, then later criticized, Georgia Governor Brian Kemp\\'s plan to reopen some nonessential businesses. Throughout the spring he increasingly pushed for ending the restrictions as a way to reverse the damage to the country\\'s economy.Trump often refused to wear a face mask at public events, contrary to his own administration\\'s April 2020 guidance that Americans should wear masks in public and despite nearly unanimous medical consensus that masks are important to preventing the spread of the virus. By June, Trump had said masks were a \"double-edged sword\"; ridiculed Biden for wearing masks; continually emphasized that mask-wearing was optional; and suggested that wearing a mask was a political statement against him personally. Trump\\'s contradiction of medical recommendations weakened national efforts to mitigate the pandemic.Despite record numbers of COVID-19 cases in the U.S. from mid-June onward and an increasing percentage of positive test results, Trump continued to mostly downplay the pandemic, including his false claim in early July 2020 that 99 percent of COVID-19 cases are \"totally harmless.\" He also began insisting that all states should open schools to in-person education in the fall despite a July spike in reported cases.\\n\\n\\n==== Political pressure on health agencies ====\\n\\nTrump repeatedly pressured federal health agencies to take actions he favored, such as approving unproven treatments or speeding up the approval of vaccines. Trump administration political appointees at HHS sought to control CDC communications to the public that undermined Trump\\'s claims that the pandemic was under control. CDC resisted many of the changes, but increasingly allowed HHS personnel to review articles and suggest changes before publication. Trump alleged without evidence that FDA scientists were part of a \"deep state\" opposing him, and delaying approval of vaccines and treatments to hurt him politically.\\n\\n\\n==== COVID-19 outbreak at the White House ====\\n\\nOn October 2, 2020, Trump announced that he had tested positive for COVID-19. He was treated at Walter Reed National Military Medical Center for a severe case of the disease while continuing to downplay the virus. His wife, son Barron, as well as numerous staff members and visitors also became infected.\\n\\n\\n==== COVID-19 pandemic and the 2020 presidential campaign ====\\nBy July 2020, Trump\\'s handling of the COVID-19 pandemic became a major issue for the 2020 presidential election. Democratic challenger Joe Biden sought to make the election a referendum on Trump\\'s performance on the COVID-19 pandemic and the economy. Polls indicated voters blamed Trump for his pandemic response and disbelieved his rhetoric concerning the virus, with an Ipsos/ABC News poll indicating 65 percent of Americans disapproving of his pandemic response. In the final months of the campaign, Trump repeatedly claimed that the U.S. was \"rounding the turn\" in managing the pandemic, despite increasing numbers of reported cases and deaths. A few days before the November 3 election, the United States reported more than 100,000 cases in a single day for the first time.\\n\\n\\n=== Investigations ===\\n\\nThe Crossfire Hurricane FBI investigation into possible links between Russia and the Trump campaign was launched in mid-2016 during the campaign season. After he assumed the presidency, Trump was the subject of increasing Justice Department and congressional scrutiny, with investigations covering his election campaign, transition, and inauguration, actions taken during his presidency, along with his private businesses, personal taxes, and charitable foundation. There were 30 investigations of Trump, including ten federal criminal investigations, eight state and local investigations, and twelve Congressional investigations.\\n\\n\\n==== Hush money payments ====\\n\\nDuring the 2016 presidential election campaign, American Media, Inc. (AMI), the parent company of the National Enquirer, and a company set up by Trump\\'s attorney Michael Cohen paid Playboy model Karen McDougal and adult film actress Stormy Daniels for keeping silent about their alleged affairs with Trump between 2006 and 2007. Cohen pleaded guilty in 2018 to breaking campaign finance laws, saying he had arranged both payments at the direction of Trump to influence the presidential election. Trump denied the affairs and claimed he was not aware of Cohen\\'s payment to Daniels, but he reimbursed him in 2017. Federal prosecutors asserted that Trump had been involved in discussions regarding non-disclosure payments as early as 2014. Court documents showed that the FBI believed Trump was directly involved in the payment to Daniels, based on calls he had with Cohen in October 2016. Federal prosecutors closed the investigation, but the Manhattan District Attorney subpoenaed the Trump Organization and AMI for records related to the payments and Trump and the Trump Organization for eight years of tax returns.\\n\\n\\n==== Russian election interference ====\\n\\nIn January 2017, American intelligence agencies – the CIA, the FBI, and the NSA, represented by the Director of National Intelligence – jointly stated with \"high confidence\" that the Russian government interfered in the 2016 presidential election to favor the election of Trump. In March 2017, FBI Director James Comey told Congress \"the FBI, as part of our counterintelligence mission, is investigating the Russian government\\'s efforts to interfere in the 2016 presidential election. That includes investigating the nature of any links between individuals associated with the Trump campaign and the Russian government, and whether there was any coordination between the campaign and Russia\\'s efforts.\"The connections between Trump associates and Russia were widely reported by the press. One of Trump\\'s campaign managers, Paul Manafort, worked from December 2004 to February 2010 to help pro-Russian politician Viktor Yanukovych win the Ukrainian presidency. Other Trump associates, including former National Security Advisor Michael T. Flynn and political consultant Roger Stone, were connected to Russian officials. Russian agents were overheard during the campaign saying they could use Manafort and Flynn to influence Trump. Members of Trump\\'s campaign and later his White House staff, particularly Flynn, were in contact with Russian officials both before and after the November election. On December 29, 2016, Flynn talked with Russian Ambassador Sergey Kislyak about sanctions that were imposed that same day; Flynn later resigned in the midst of controversy over whether he misled Pence. Trump told Kislyak and Sergei Lavrov in May 2017 he was unconcerned about Russian interference in U.S. elections.Trump and his allies promoted a conspiracy theory that Ukraine, rather than Russia, interfered in the 2016 election – which was also promoted by Russia to frame Ukraine. After the Democratic National Committee was hacked, Trump first claimed it withheld \"its server\" from the FBI (in actuality there were more than 140 servers, of which digital copies were given to the FBI); second that CrowdStrike, the company which investigated the servers, was Ukraine-based and Ukrainian-owned (in actuality, CrowdStrike is U.S.-based, with the largest owners being American companies); and third that \"the server\" was hidden in Ukraine. Members of the Trump administration spoke out against the conspiracy theories.\\n\\n\\n==== 2017 FBI counterintelligence inquiry ====\\nAfter Trump fired FBI director James Comey in May 2017, the FBI opened a counterintelligence investigation into Trump\\'s personal and business dealings with Russia. It was discontinued after deputy attorney general Rod Rosenstein gave the bureau the false impression that the incipient Special Counsel investigation would pursue it.\\n\\n\\n==== Special counsel investigation ====\\n\\nOn May 17, 2017, Deputy Attorney General Rod Rosenstein appointed Robert Mueller, a former director of the FBI, to serve as special counsel for the Department of Justice (DOJ) investigating \"links and/or coordination\" between the Russian government and Trump\\'s campaign and any matters directly arising from the investigation, taking over the existing \"Crossfire Hurricane\" FBI investigation. The special counsel also investigated whether Trump\\'s dismissal of James Comey as FBI director constituted obstruction of justice and the Trump campaign\\'s possible ties to Saudi Arabia, the United Arab Emirates, Turkey, Qatar, Israel, and China.Trump denied collusion between his campaign and the Russian government. He sought to fire Mueller and shut down the investigation multiple times but backed down after his staff objected or after changing his mind. He bemoaned the recusal of his first Attorney General Jeff Sessions regarding Russia matters, and believed Sessions should have stopped the investigation.On March 22, 2019, Mueller concluded his investigation and gave his report to Attorney General William Barr. Two days later, Barr sent a letter to Congress purporting to summarize the report\\'s main conclusions. A federal court, as well as Mueller himself, said Barr had mischaracterized the investigation\\'s conclusions, confusing the public. Trump repeatedly and falsely claimed that the investigation \"exonerated\" him; in fact, the Mueller report expressly stated that it did not exonerate Trump.A redacted version of the report was publicly released on April 18, 2019. The first volume found that Russia interfered in 2016 to favor Trump\\'s candidacy and hinder Clinton\\'s. Despite \"numerous links between the Russian government and the Trump campaign,\" the prevailing evidence \"did not establish\" that Trump campaign members conspired or coordinated with Russian interference. The report revealed sweeping Russian interference and detailed how Trump and his campaign welcomed and encouraged it, believing they would politically benefit.The Mueller report\\'s second volume set forth ten \"episodes\" of potential obstruction of justice by Trump, but opted not to make any \"traditional prosecutorial judgment\" on whether Trump broke the law, suggesting that Congress should make such a determination. Investigators decided they could not \"apply an approach that could potentially result in a judgment that the President committed crimes\" as an Office of Legal Counsel opinion stated that a sitting president could not be indicted, and investigators would not accuse him of a crime when he cannot clear his name in court. The report concluded that Congress, having the authority to take action against a president for wrongdoing, \"may apply the obstruction laws.\" The House of Representatives subsequently launched an impeachment inquiry following the Trump–Ukraine scandal, but did not pursue an article of impeachment related to the Mueller investigation.\\n\\n\\n==== Associates ====\\n\\nIn August 2018, former Trump campaign chairman Paul Manafort was convicted on eight felony counts of false tax filing and bank fraud. Trump said he felt very badly for Manafort and praised him for resisting the pressure to cooperate with prosecutors. According to Rudy Giuliani, Trump\\'s personal attorney, Trump had sought advice about pardoning Manafort but was counseled against it.In November 2018, Trump\\'s former attorney Michael Cohen pleaded guilty to lying to Congress about Trump\\'s 2016 attempts to reach a deal with Russia to build a Trump Tower in Moscow. Cohen said he had made the false statements on behalf of Trump, who was identified as \"Individual-1\" in the court documents.Five Trump associates pleaded guilty or were convicted in connection with Mueller\\'s investigation and related cases: Manafort, Cohen, deputy campaign manager Rick Gates, foreign policy advisor George Papadopoulos, Michael Flynn.In February 2020, Trump campaign adviser Roger Stone was sentenced to 40 months in prison for lying to Congress and witness tampering regarding his attempts to learn more about hacked Democratic emails during the 2016 election. The sentencing judge said Stone \"was prosecuted for covering up for the president.\"\\n\\n\\n=== First impeachment (2019–2020) ===\\n\\nIn August 2019, a whistleblower filed a complaint with the Inspector General of the Intelligence Community about a July 25 phone call between Trump and President of Ukraine Volodymyr Zelensky, during which Trump had pressured Zelensky to investigate CrowdStrike and Democratic presidential candidate Joe Biden and his son Hunter, adding that the White House had attempted to cover-up the incident. The whistleblower stated that the call was part of a wider campaign by the Trump administration and Trump\\'s personal attorney Rudy Giuliani, which may have included withholding financial aid from Ukraine in July 2019 and canceling Vice President Pence\\'s May 2019 Ukraine trip. Trump later confirmed that he withheld military aid from Ukraine, offering contradictory reasons for the decision.House Speaker Nancy Pelosi initiated a formal impeachment inquiry on September 24, 2019. The Trump administration subsequently released a memorandum of the July 25 phone call, confirming that after Zelensky mentioned purchasing American anti-tank missiles, Trump asked Zelensky to investigate and to discuss these matters with Giuliani and Attorney General William Barr. The testimony of multiple administration officials and former officials confirmed that this was part of a broader effort to further Trump\\'s personal interests by giving him an advantage in the upcoming presidential election. In October 2019, William B. Taylor Jr., the chargé d\\'affaires for Ukraine, testified before congressional committees that soon after arriving in Ukraine in June 2019, he found that Zelensky was being subjected to pressure directed by Trump and led by Giuliani. According to Taylor and others, the goal was to coerce Zelensky into making a public commitment to investigate the company that employed Hunter Biden, as well as rumors about Ukrainian involvement in the 2016 U.S. presidential election. He said it was made clear that until Zelensky made such an announcement, the administration would not release scheduled military aid for Ukraine and not invite Zelensky to the White House.On December 13, 2019, the House Judiciary Committee voted along party lines to pass two articles of impeachment: one for abuse of power and one for obstruction of Congress. After debate, the House of Representatives impeached Trump on both articles on December 18.\\n\\n\\n==== Impeachment trial in the Senate ====\\n\\nThe Senate impeachment trial began on January 16, 2020. On January 22, the Republican Senate majority rejected amendments proposed by the Democratic minority to call witnesses and subpoena documents; evidence collected during the House impeachment proceedings was entered into the Senate record.For three days, January 22–24, the House impeachment managers presented their case to the Senate. They cited evidence to support charges of abuse of power and obstruction of Congress, and asserted that Trump\\'s actions were exactly what the founding fathers had in mind when they created the Constitution\\'s impeachment process.\\n\\nResponding over the next three days, Trump\\'s lawyers did not deny the facts as presented in the charges but said Trump had not broken any laws or obstructed Congress. They argued that the impeachment was \"constitutionally and legally invalid\" because Trump was not charged with a crime and that abuse of power is not an impeachable offense.  On January 31, the Senate voted against allowing subpoenas for witnesses or documents; 51 Republicans formed the majority for this vote. The impeachment trial was the first in U.S. history without witness testimony.Trump was acquitted of both charges by the Republican Senate majority, 52–48 on abuse of power and 53–47 on obstruction of Congress. Senator Mitt Romney was the only Republican who voted to convict Trump on one of the charges, the abuse of power.Following his acquittal, Trump fired impeachment witnesses and other political appointees and career officials he deemed insufficiently loyal.\\n\\n\\n=== 2020 presidential election ===\\n\\nBreaking with precedent, Trump filed to run for a second term with the FEC within a few hours of assuming the presidency. Trump held his first re-election rally less than a month after taking office. In his first two years in office, Trump\\'s reelection committee reported raising $67.5 million, allowing him to begin 2019 with $19.3 million cash on hand. From the beginning of 2019 through July 2020, the Trump campaign and Republican Party raised $1.1 billion but spent $800 million of that amount, losing their cash advantage over the Democratic nominee, former vice president Joe Biden. The cash shortage forced the campaign to scale-back advertising spending.\\n\\nStarting in spring 2020, Trump began to sow doubts about the election, repeatedly claiming without evidence that the election would be \"rigged\" and that the expected widespread use of mail balloting would produce \"massive election fraud.\" On July 30, Trump raised the idea of delaying the election. When in August the House of Representatives voted for a US$25 billion grant to the U.S. Postal Service for the expected surge in mail voting, Trump blocked funding, saying he wanted to prevent any increase in voting by mail. Trump became the Republican nominee on August 24, 2020. He repeatedly refused to say whether he would accept the results of the election and commit to a peaceful transition of power if he lost.Trump campaign advertisements focused on crime, claiming that cities would descend into lawlessness if his opponent, Biden, won the presidency. Trump repeatedly misrepresented Biden\\'s positions during the campaign. Trump\\'s campaign message shifted to appeals to racism in an attempt to reclaim voters lost from his base.Biden won the election on November 3, receiving 81.3 million votes (51.3 percent) to Trump\\'s 74.2 million (46.8 percent) and winning the Electoral College by 306 to 232.\\n\\n\\n==== Election aftermath ====\\n\\nAt 2 a.m. the morning after the election, with the results still unclear, Trump declared victory. After Biden was projected the winner days later, Trump said, \"this election is far from over\" and baselessly alleged election fraud. Trump and his allies filed many legal challenges to the results, which were rejected by at least 86 judges in both the state and federal courts, including by federal judges appointed by Trump himself, finding no factual or legal basis. Trump\\'s unsubstantiated allegations of widespread voting fraud were also refuted by state election officials. After Cybersecurity and Infrastructure Security Agency (CISA) director Chris Krebs contradicted Trump\\'s fraud allegations, Trump dismissed him on November 17. On December 11, the U.S. Supreme Court declined to hear a case from the Texas attorney general which asked the court to overturn the election results in four states won by Biden.Trump withdrew from public activities in the weeks following the election. He initially blocked government officials from cooperating in Biden\\'s presidential transition. After three weeks, the administrator of the General Services Administration ascertained Biden the \"apparent winner\" of the election, allowing the disbursement of transition resources to his team. Trump still did not formally concede while claiming he recommended the GSA begin transition protocols.The Electoral College formalized Biden\\'s victory on December 14. From November to January, Trump repeatedly sought help to overturn the results of the election, personally pressuring various Republican local and state office-holders, Republican state and federal legislators, and Vice President Pence, urging various actions such as replacing presidential electors, or a request for Georgia officials to \"find\" votes and announce a \"recalculated\" result. On February 10, 2021, Georgia prosecutors opened a criminal investigation into Trump\\'s efforts to subvert the election in Georgia.Trump did not attend Biden\\'s inauguration, leaving Washington for Florida hours before.\\n\\n\\n=== Storming of the U.S. Capitol ===\\n\\nOn January 6, 2021, while congressional certification of the presidential election results was occurring in the Capitol, Trump held a rally nearby, where he called for the election result to be overturned and urged his supporters to \"take back our country\" by marching to the Capitol to \"show strength\" and \"fight like hell.\" Thousands of those supporters then stormed the Capitol around 1 pm, disrupting certification and causing the evacuation of Congress. During the violence, Trump posted mixed messages on Twitter and Facebook, eventually tweeting to the rioters at 6 pm, \"go home with love & in peace,\" but describing them as \"great patriots\" and \"very special,\" \\nwhile still complaining that the election was stolen. After the mob was removed from the Capitol, Congress reconvened and confirmed the Biden election win in the early hours of the following morning. Five people, including a Capitol Police officer, died as a consequence of the riot.\\n\\n\\n=== Second impeachment (2021) ===\\n\\nOn January 11, 2021, an article of impeachment charging Trump with incitement of insurrection against the U.S. government was introduced to the House. The House voted 232–197 to impeach Trump on January 13, making him the first U.S. officeholder to be impeached twice.  The impeachment, which was the most rapid in history, followed an unsuccessful bipartisan effort to strip Trump of his powers and duties via Section 4 of the 25th Ammendment. Ten Republicans voted for impeachment – the most members of a party ever to vote to impeach a president of their own party.\\n\\n\\n==== Second impeachment trial in the Senate ====\\n\\nSenate Democrats asked to begin the trial immediately, while Trump was still in office, but then-Senate majority leader Mitch McConnell blocked the plan. On February 13, following a five-day Senate trial, Trump was acquitted when the Senate voted 57–43 for conviction, falling ten votes short of the two-thirds majority required to convict; seven Republicans joined every Democrat in voting to convict, the most bipartisan support in any Senate impeachment trial of a president or former president. Most Republicans voted to acquit Trump, though some held him responsible but felt the Senate did not have jurisdiction over former presidents (Trump had left office on January 20; the Senate voted 56–44 the trial was constitutional). Included in the latter group was McConnell, who said Trump was \"practically and morally responsible for provoking the events of the day\" but \"constitutionally not eligible for conviction.\"\\n\\n\\n== Post-presidency ==\\nAfter his term ended, Trump went to live at his Mar-a-Lago club in Palm Beach, Florida. As provided for by the Former Presidents Act, he established an office at Mar-a-Lago to handle his post-presidential activities. In the months since leaving office Trump has kept a low profile, meeting with friends and party leaders, considering his future, and playing golf.\\n\\n\\n== Public profile ==\\n\\n\\n=== Approval ratings ===\\n\\nFor much of his term through September 2020, Trump\\'s approval and disapproval ratings were unusually stable, reaching a high of 49 percent and a low of 35 percent. He completed his term with a record-low approval rating of between 29 percent to 34 percent (the lowest of any president since modern scientific polling began); his average approval rating throughout his term was a record-low 41 percent. Trump\\'s approval ratings showed a record partisan gap: over the course of his presidency, Trump\\'s approval rating among Republicans was 88 percent and his approval rating among Democrats was 7 percent.In Gallup\\'s annual poll asking Americans to name the man they admire the most, Trump placed second to Obama in 2017 and 2018, tied with Obama for most admired man in 2019, and was named most admired in 2020. Since Gallup started conducting the poll in 1948, Trump is the first elected president not to be named most admired in his first year in office.Globally, a Gallup poll on 134 countries comparing the approval ratings of U.S. leadership between the years 2016 and 2017 found that only in 29 of them did Trump lead Obama in job approval, with more international respondents disapproving rather than approving of the Trump administration. Overall ratings were similar to those in the last two years of the George W. Bush presidency. Only 16 percent of international respondents expressed confidence in Trump by mid-2020, according to a 13-nation Pew Research poll; a score lower than those of Russia\\'s Vladimir Putin and China\\'s Xi Jinping.\\n\\n\\n=== Social media ===\\n\\nTrump\\'s presence on social media attracted attention worldwide since he joined Twitter in 2009. He frequently tweeted during the 2016 election campaign and as president, until his ban in the final days of his term. Over twelve years, Trump posted around 57,000 tweets. Trump frequently used Twitter as a direct means of communication with the public, sidelining the press. A White House press secretary said early in his presidency that Trump\\'s tweets were official presidential statements, used for announcing policies and personnel changes.Trump\\'s tweets often contained falsehoods, eventually causing Twitter to tag some Trump tweets with fact-checking warnings beginning in May 2020. Trump responded by threatening to \"strongly regulate\" or \"close down\" social media platforms. In the days after the 2021 storming of the United States Capitol, Trump was banned from Facebook, Instagram, Twitter and other platforms. Twitter blocked attempts by Trump and his staff to circumvent the ban through the use of others\\' accounts. The loss of Trump\\'s social media megaphone, including his 88.7 million Twitter followers, diminished his ability to shape events, and prompted a dramatic decrease in the volume of misinformation shared on Twitter.\\n\\n\\n=== False statements ===\\n\\nAs a candidate and as president, Trump frequently made false statements in public speeches and remarks to an extent unprecedented in American politics. His falsehoods became a distinctive part of his political identity.Trump\\'s false and misleading statements were documented by fact-checkers, including at the Washington Post, which tallied a total of 30,573 false or misleading statements made by Trump over his four-year term. Trump\\'s falsehoods increased in frequency over time, rising from about 6 false or misleading claims per day in his first year as president to 16 per day in his second year to 22 per day in his third year to 39 per day in his final year. He reached 10,000 false or misleading claims 27 months into his term; 20,000 false or misleading claims 14 months later, and 30,000 false or misleading claims five months later.Some of Trump\\'s falsehoods were inconsequential, such as his claims of a large crowd size during his inauguration. Others had more far-reaching effects, such as Trump\\'s promotion of unproven antimalarial drugs as a treatment for COVID‑19 in a press conference and on Twitter in March 2020. The claims had consequences worldwide, such as a shortage of these drugs in the United States and panic-buying in Africa and South Asia. Other misinformation, such as misattributing a rise in crime in England and Wales to the \"spread of radical Islamic terror,\" served Trump\\'s domestic political purposes. As a matter of principle, Trump does not apologize for his falsehoods.Despite the frequency of Trump\\'s falsehoods, the media rarely referred to them as lies. Nevertheless, in August 2018 The Washington Post declared for the first time that some of Trump\\'s misstatements (statements concerning hush money paid to Stormy Daniels and Playboy model Karen McDougal) were lies.In 2020, Trump was a significant source of disinformation on national voting practices and the COVID-19 virus. Trump\\'s attacks on mail-in ballots and other election practices served to weaken public faith in the integrity of the 2020 presidential election, while his disinformation about the pandemic delayed and weakened the national response to it.Some view the nature and frequency of Trump\\'s falsehoods as having profound and corrosive consequences on democracy. James Pfiffner, professor of policy and government at George Mason University, wrote in 2019 that Trump lies differently from previous presidents, because he offers \"egregious false statements that are demonstrably contrary to well-known facts\"; these lies are the \"most important\" of all Trump lies. By calling facts into question, people will be unable to properly evaluate their government, with beliefs or policy irrationally settled by \"political power\"; this erodes liberal democracy, wrote Pfiffner.\\n\\n\\n=== Promotion of conspiracy theories ===\\n\\nBefore and throughout his presidency, Trump has promoted numerous conspiracy theories, including \"birtherism,\" the Clinton Body Count theory, QAnon, and alleged Ukrainian interference in U.S. elections. In October 2020, Trump retweeted a QAnon follower who asserted that Osama bin Laden was still alive, a body double had been killed in his place, and that \"Biden and Obama may have had SEAL Team Six killed.\"During and since the 2020 United States presidential election, Trump has promoted various conspiracy theories for his defeat including the \"dead voter\" conspiracy theory, and without providing any evidence he has created other conspiracy theories such as that \"some states allowed voters to turn in ballots after Election Day; that vote-counting machines were rigged to favor Mr Biden; and even that the FBI, the Justice Department and the federal court system were complicit in an attempt to cover up election fraud.\"\\n\\n\\n=== Relationship with the press ===\\n\\nThroughout his career, Trump has sought media attention, with a \"love–hate\" relationship with the press. Trump began promoting himself in the press in the 1970s. Fox News anchor Bret Baier and former House speaker Paul Ryan have characterized Trump as a \"troll\" who makes controversial statements to see people\\'s \"heads explode.\"In the 2016 campaign, Trump benefited from a record amount of free media coverage, elevating his standing in the Republican primaries. New York Times writer Amy Chozick wrote in 2018 that Trump\\'s media dominance, which enthralls the public and creates \"can\\'t miss\" reality television-type coverage, was politically beneficial for him.As a candidate and as president, Trump frequently accused the press of bias, calling it the \"fake news media\" and \"the enemy of the people.\" In 2018, journalist Lesley Stahl recounted Trump\\'s saying he intentionally demeaned and discredited the media \"so when you write negative stories about me no one will believe you.\"As president, Trump privately and publicly mused about revoking the press credentials of journalists he views as critical. His administration moved to revoke the press passes of two White House reporters, which were restored by the courts. In 2019, a member of the foreign press reported many of the same concerns as those of media in the U.S., expressing concern that a normalization process by reporters and media results in an inaccurate characterization of Trump. The Trump White House held about a hundred formal press briefings in 2017, declining by half during 2018 and to two in 2019.Trump has employed the legal system as an intimidation tactic against the press. In early 2020, the Trump campaign sued The New York Times, The Washington Post, and CNN for alleged defamation. These lawsuits lacked merit and were not likely to succeed, however. The Times suit was dismissed in March 2021.\\n\\n\\n=== Racial views ===\\n\\nMany of Trump\\'s comments and actions have been considered racist. He has repeatedly denied this, asserting: \"I am the least racist person there is anywhere in the world.\" In national polling, about half of Americans say that Trump is racist; a greater proportion believe that he has emboldened racists. Several studies and surveys have found that racist attitudes fueled Trump\\'s political ascendance and have been more important than economic factors in determining the allegiance of Trump voters. Racist and Islamophobic attitudes are a strong indicator of support for Trump.In 1975, he settled a 1973 Department of Justice lawsuit that alleged housing discrimination against black renters. He has also been accused of racism for insisting a group of black and Latino teenagers were guilty of raping a white woman in the 1989 Central Park jogger case, even after they were exonerated by DNA evidence in 2002. As of 2019, he maintained this position.Trump relaunched his political career in 2011 as a leading proponent of \"birther\" conspiracy theories alleging that Barack Obama, the first black U.S. president, was not born in the United States. In April 2011, Trump claimed credit for pressuring the White House to publish the \"long-form\" birth certificate, which he considered fraudulent, and later saying this made him \"very popular\". In September 2016, amid pressure, he acknowledged that Obama was born in the U.S. and falsely claimed the rumors had been started by Hillary Clinton during her 2008 presidential campaign. In 2017, he reportedly still expressed birther views in private.According to an analysis in Political Science Quarterly, Trump made \"explicitly racist appeals to whites\" during his 2016 presidential campaign. In particular, his campaign launch speech drew widespread criticism for claiming Mexican immigrants were \"bringing drugs, they\\'re bringing crime, they\\'re rapists.\" His later comments about a Mexican-American judge presiding over a civil suit regarding Trump University were also criticized as racist.\\n\\nTrump\\'s comment on the 2017 far-right rally in Charlottesville, Virginia—that there were \"very fine people on both sides\"—was widely criticized as implying a moral equivalence between white supremacist demonstrators and counter-protesters.In a January 2018 Oval Office meeting to discuss immigration legislation, Trump reportedly referred to El Salvador, Haiti, Honduras, and African nations as \"shithole countries.\" His remarks were condemned as racist.In July 2019, Trump tweeted that four Democratic congresswomen – all minorities, three of whom are native-born Americans – should \"go back\" to the countries they \"came from.\" Two days later the House of Representatives voted 240–187, mostly along party lines, to condemn his \"racist comments.\" White nationalist publications and social media sites praised his remarks, which continued over the following days. Trump continued to make similar remarks during his 2020 campaign.\\n\\n\\n=== Misogyny and allegations of sexual misconduct ===\\n\\nTrump has a history of insulting and belittling women when speaking to media and in tweet. He made lewd comments, demeaned women\\'s looks, and called them names like \\'dog\\', \\'crazed, crying lowlife\\', \\'face of a pig\\', or \\'horseface\\'.In October 2016, two days before the second presidential debate, a 2005 \"hot mic\" recording surfaced in which Trump was heard bragging about kissing and groping women without their consent, saying \"when you\\'re a star, they let you do it, you can do anything... grab \\'em by the pussy.\" The incident\\'s widespread media exposure led to Trump\\'s first public apology during the campaign and caused outrage across the political spectrum.At least twenty-six women have publicly accused Trump of sexual misconduct as of September 2020, including his then-wife Ivana. There were allegations of rape, violence, being kissed and groped without consent, looking under women\\'s skirts, and walking in on naked women. In 2016, he denied all accusations, calling them \"false smears,\" and alleged there was a conspiracy against him.\\n\\n\\n=== Allegations of inciting violence ===\\nResearch suggests Trump\\'s rhetoric caused an increased incidence of hate crimes. During the 2016 campaign, he urged or praised physical attacks against protesters or reporters. Since then, some defendants prosecuted for hate crimes or violent acts cited Trump\\'s rhetoric in arguing that they were not culpable or should receive a lighter sentence. In May 2020, a nationwide review by ABC News identified at least 54 criminal cases from August 2015 to April 2020 in which Trump was invoked in direct connection with violence or threats of violence by mostly white men against mostly members of minority groups. On January 13, 2021, the House of Representatives impeached Trump for incitement of insurrection for his actions prior to the storming of the U.S. Capitol by a violent mob of his supporters who acted in his name.\\n\\n\\n=== Popular culture ===\\n\\nTrump has been the subject of parody, comedy, and caricature. He has been parodied regularly on Saturday Night Live by Phil Hartman, Darrell Hammond, and Alec Baldwin and in South Park as Mr. Garrison. The Simpsons episode \"Bart to the Future\"—written during his 2000 campaign for the Reform Party—anticipated a Trump presidency. Trump\\'s wealth and lifestyle had been a fixture of hip-hop lyrics since the 1980s; he was named in hundreds of songs, most often with a positive tone. Mentions of Trump in hip-hop turned negative and pejorative after he ran for office in 2015.\\n\\n\\n== Notes ==\\n\\n\\n== References ==\\n\\n\\n=== Works cited ===\\n\\n\\n== External links ==\\nThe Office of Donald J. Trump\\nDonald J. Trump Presidential Library\\nArchive of Donald Trump\\'s Tweets\\nDonald Trump at the Encyclopædia Britannica\\nDonald Trump collected news and commentary from The New York Times\\nDonald Trump appearances on C-SPAN\\nDonald Trump on the Internet Archive\\nTalking About Donald Trump at The Interviews: An Oral History of Television'"
      ]
     },
     "execution_count": 19,
     "metadata": {
      "tags": []
     },
     "output_type": "execute_result"
    }
   ],
   "source": [
    "import wikipedia\n",
    "donald = wikipedia.page(\"Donald Trump\")\n",
    "text = donald.content\n",
    "text"
   ]
  },
  {
   "cell_type": "code",
   "execution_count": 20,
   "metadata": {
    "colab": {
     "base_uri": "https://localhost:8080/"
    },
    "id": "w8s0R3vU3NAZ",
    "outputId": "6938b106-4c37-4ded-ad05-1ef4bc1a5f38"
   },
   "outputs": [
    {
     "data": {
      "text/plain": [
       "['media', 'personality', 'businessman']"
      ]
     },
     "execution_count": 20,
     "metadata": {
      "tags": []
     },
     "output_type": "execute_result"
    }
   ],
   "source": [
    "nombres=[w.text for w in nlp(text) if w.is_stop!=True and w.is_punct!=True and w.pos_=='NOUN']\n",
    "nombres[:3]"
   ]
  },
  {
   "cell_type": "code",
   "execution_count": 21,
   "metadata": {
    "colab": {
     "base_uri": "https://localhost:8080/"
    },
    "id": "C0D-pRly22_H",
    "outputId": "f151b968-fe06-4004-e6e1-ecdbbfe79646"
   },
   "outputs": [
    {
     "name": "stdout",
     "output_type": "stream",
     "text": [
      "[('=', 173), ('campaign', 66), ('election', 50), ('administration', 43), ('president', 38), ('government', 34), ('tax', 30), ('percent', 30), ('pandemic', 26), ('office', 25)]\n"
     ]
    }
   ],
   "source": [
    "from collections import Counter\n",
    "word_freq = Counter(nombres)\n",
    "\n",
    "nombres_comunes=word_freq.most_common(10)\n",
    "print(nombres_comunes)"
   ]
  },
  {
   "cell_type": "markdown",
   "metadata": {
    "id": "xWDuikM7VJtc"
   },
   "source": [
    "## Textacy London text\n",
    "No we want to know things about London, from our previous text"
   ]
  },
  {
   "cell_type": "code",
   "execution_count": 22,
   "metadata": {
    "colab": {
     "base_uri": "https://localhost:8080/"
    },
    "id": "qOiN7HAmvNV2",
    "outputId": "397fc73c-ea84-4231-d1e6-7e6f04a71c89"
   },
   "outputs": [
    {
     "name": "stdout",
     "output_type": "stream",
     "text": [
      "Here are the things I know about London:\n",
      " - the capital and most populous city of England and  the United Kingdom.  \n",
      "\n",
      " - a major settlement  for two millennia.  \n"
     ]
    }
   ],
   "source": [
    "import spacy\n",
    "import textacy.extract\n",
    "\n",
    "# Load the large English NLP model\n",
    "nlp = spacy.load('en_core_web_lg')\n",
    "\n",
    "# The text we want to examine\n",
    "text = \"\"\"London is the capital and most populous city of England and  the United Kingdom.  \n",
    "Standing on the River Thames in the south east of the island of Great Britain, \n",
    "London has been a major settlement  for two millennia.  It was founded by the Romans, \n",
    "who named it Londinium.\n",
    "\"\"\"\n",
    "\n",
    "# Parse the document with spaCy\n",
    "doc = nlp(text)\n",
    "\n",
    "# Extract semi-structured statements\n",
    "statements = textacy.extract.semistructured_statements(doc, \"London\")\n",
    "\n",
    "# Print the results\n",
    "print(\"Here are the things I know about London:\")\n",
    "\n",
    "for statement in statements:\n",
    "    subject, verb, fact = statement\n",
    "    print(f\" - {fact}\")\n"
   ]
  },
  {
   "cell_type": "markdown",
   "metadata": {
    "id": "hFwnqZzIaSNQ"
   },
   "source": [
    "## Textacy with Wikipedia API\n",
    "We don't want the most frequent words, we want sentences about London"
   ]
  },
  {
   "cell_type": "code",
   "execution_count": 23,
   "metadata": {
    "id": "za6v7SL_2Ywo"
   },
   "outputs": [],
   "source": [
    "import wikipedia\n",
    "london = wikipedia.page(\"London\")\n",
    "text = london.content"
   ]
  },
  {
   "cell_type": "code",
   "execution_count": 24,
   "metadata": {
    "colab": {
     "base_uri": "https://localhost:8080/"
    },
    "id": "NwOqJO902pO6",
    "outputId": "8e0c8d81-b357-448c-ac4c-3c731d32d71f"
   },
   "outputs": [
    {
     "name": "stdout",
     "output_type": "stream",
     "text": [
      "Here are the things I know about London:\n",
      " - the capital and largest city of England and the United Kingdom\n",
      " - a major settlement for two millennia, and was originally called Londinium, which was founded by the Romans\n",
      " - one of the world's most important global cities\n",
      " - an ancient name, already attested in the first century AD, usually in the Latinised form Londinium\n",
      " - beyond all comparison the largest town in England\n",
      " - still very compact\n",
      " - the world's largest city from c.1831 to 1925, with a population density of 325 people per hectare\n",
      " - the seat of the Government of the United Kingdom\n",
      " - vulnerable to flooding\n",
      " - \"one of the World's Greenest Cities\" with more than 40 per cent green space or open water\n",
      " - the most populous city and metropolitan area of the European Union and the second most populous in Europe\n",
      " - the 19th largest city and the 18th largest metropolitan region.\n",
      "\n",
      "\n",
      "\n",
      " - Christian, and has a large number of churches, particularly in the City of London\n",
      " - also home to sizeable Muslim, Hindu, Sikh, and Jewish communities.\n",
      "\n",
      " - also home to 44 Hindu temples, including the BAPS Shri Swaminarayan Mandir London\n",
      " - the world's most expensive office market for the last three years according to world property journal (2015) report\n",
      " - one of the pre-eminent financial centres of the world as the most important location for international finance\n",
      " - the world top city destination as ranked by TripAdvisor users\n",
      " - a major international air transport hub with the busiest city airspace in the world\n",
      " - the centre of the National Rail network, with 70 per cent of rail journeys starting or ending in London\n",
      " - notorious for its traffic congestion\n",
      " - a major global centre of higher education teaching and research and has the largest concentration of higher education institutes in Europe\n",
      " - home to designers Vivienne Westwood, Galliano, Stella McCartney, Manolo Blahnik, and Jimmy Choo, among others\n",
      " - the setting for many works of literature\n",
      " - a major centre for television production, with studios including BBC Television Centre, The Fountain Studios and The London Studios\n",
      " - also a centre for urban music\n",
      " - the \"greenest city\" in Europe with 35,000 acres of public parks, woodlands and gardens\n"
     ]
    }
   ],
   "source": [
    "doc = nlp(text)\n",
    "\n",
    "# Extract semi-structured statements\n",
    "statements = textacy.extract.semistructured_statements(doc, \"London\")\n",
    "\n",
    "# Print the results\n",
    "print(\"Here are the things I know about London:\")\n",
    "\n",
    "for statement in statements:\n",
    "    subject, verb, fact = statement\n",
    "    print(f\" - {fact}\")"
   ]
  },
  {
   "cell_type": "markdown",
   "metadata": {
    "id": "_3oBFA3XacUf"
   },
   "source": [
    "# Spanish\n",
    "## Spacy  and entities"
   ]
  },
  {
   "cell_type": "code",
   "execution_count": 26,
   "metadata": {
    "colab": {
     "base_uri": "https://localhost:8080/"
    },
    "id": "WyDUzV-eax_7",
    "outputId": "979ffaa4-e894-48e3-b97e-110bf7ae915f"
   },
   "outputs": [
    {
     "name": "stdout",
     "output_type": "stream",
     "text": [
      "Londres (LOC)\n",
      "London (LOC)\n",
      "Inglaterra (LOC)\n",
      "Reino Unido.2​3​ Situada (LOC)\n",
      "Támesis (LOC)\n",
      "Londres (LOC)\n",
      "Londinium (LOC)\n",
      "City de Londres (LOC)\n",
      "Londres (LOC)\n",
      "El grueso de esta conurbación forma la región de Londres (MISC)\n",
      "Gran Londres,6​ (LOC)\n",
      "Londres.7​ (LOC)\n",
      "Londres (LOC)\n",
      "PIB.12​13​ Londres (MISC)\n",
      "Europa.20​ (ORG)\n",
      "Londres (LOC)\n",
      "Juegos Olímpicos de Verano.21​ (MISC)\n",
      "La Autoridad del Gran Londres (MISC)\n",
      "Reino Unido.24​ El (LOC)\n",
      "Gran Londres (LOC)\n",
      "Europa (LOC)\n",
      "Londres (LOC)\n",
      "Imperio británico (LOC)\n"
     ]
    }
   ],
   "source": [
    "nlp_es = spacy.load('es_core_news_lg')\n",
    "\n",
    "text = '''Londres (en inglés, London, pronunciado /ˈlʌndən/ ( escuchar)) es la capital y mayor ciudad de Inglaterra y del Reino Unido.2​3​ Situada a orillas del río Támesis, Londres es un importante asentamiento humano desde que fue fundada por los romanos con el nombre de Londinium hace casi dos milenios.4​ El núcleo antiguo de la urbe, la City de Londres, conserva básicamente su perímetro medieval de una milla cuadrada. Desde el siglo XIX el nombre «Londres» también hace referencia a toda la metrópolis desarrollada alrededor de este núcleo.5​ El grueso de esta conurbación forma la región de Londres y el área administrativa del Gran Londres,6​ gobernado por el alcalde y la asamblea de Londres.7​\n",
    "Londres es una ciudad global, uno de los centros neurálgicos en el ámbito de las artes, el comercio, la educación, el entretenimiento, la moda, las finanzas, los medios de comunicación, la investigación, el turismo o el transporte.8​ Es el principal centro financiero del mundo9​10​11​ y una de las áreas metropolitanas con mayor PIB.12​13​ Londres es también una capital cultural mundial,14​15​16​17​ la ciudad más visitada considerando el número de visitas internacionales18​ y tiene el mayor sistema aeroportuario del mundo según el tráfico de pasajeros.19​ Asimismo, las 43 universidades de la ciudad conforman la mayor concentración de centros de estudios superiores de toda Europa.20​ En el año 2012 Londres se convirtió en la única ciudad en albergar la celebración de tres Juegos Olímpicos de Verano.21​\n",
    "En esta ciudad multirracial convive gente de un gran número de culturas que hablan más de trescientos idiomas distintos.22​ La Autoridad del Gran Londres estima que en 2015 la ciudad tiene 8,63 millones de habitantes,23​ que supone el 12,5 % del total de habitantes del Reino Unido.24​ El área urbana del Gran Londres, con 10 470 00025​ habitantes, es la segunda más grande de Europa, pero su área metropolitana, con una población estimada de entre 12 y 14 millones,26​27​ es la mayor del continente. Desde 1831 a 1925 Londres, como capital del Imperio británico, fue la ciudad más poblada del mundo.'''\n",
    "doc = nlp_es(text)\n",
    "\n",
    "# Para ver las entidades que ha detectado\n",
    "for entity in doc.ents:\n",
    "    print(f\"{entity.text} ({entity.label_})\")\n"
   ]
  },
  {
   "cell_type": "code",
   "execution_count": 27,
   "metadata": {
    "colab": {
     "base_uri": "https://localhost:8080/"
    },
    "id": "ItQT4bQmc488",
    "outputId": "e15c34fb-b64d-4810-bf9f-864f8107100b"
   },
   "outputs": [
    {
     "name": "stdout",
     "output_type": "stream",
     "text": [
      "Here are the things I know about London:\n"
     ]
    }
   ],
   "source": [
    "# Extract semi-structured statements\n",
    "statements = textacy.extract.semistructured_statements(doc, \"Londres\")\n",
    "\n",
    "# Print the results\n",
    "print(\"Here are the things I know about London:\")\n",
    "\n",
    "for statement in statements:\n",
    "    subject, verb, fact = statement\n",
    "    print(f\" - {fact}\")"
   ]
  },
  {
   "cell_type": "code",
   "execution_count": null,
   "metadata": {
    "id": "8pWhpkIR20LF"
   },
   "outputs": [],
   "source": [
    "response =  urllib.request.urlopen('https://es.wikipedia.org/wiki/Londres')\n",
    "html = response.read()\n",
    "\n",
    "soup = BeautifulSoup(html,'html5lib')\n",
    "text = soup.get_text(strip = True)\n",
    "\n"
   ]
  },
  {
   "cell_type": "markdown",
   "metadata": {
    "id": "7uzy34j72gn8"
   },
   "source": [
    "## Newspaper test"
   ]
  },
  {
   "cell_type": "code",
   "execution_count": 38,
   "metadata": {
    "id": "1fgoymuv2gxe"
   },
   "outputs": [],
   "source": [
    "import urllib\n",
    "from bs4 import BeautifulSoup\n",
    "import textacy\n",
    "nlp = spacy.load('en_core_web_lg')\n",
    "\n",
    "response =  urllib.request.urlopen('https://arxiv.org/pdf/1905.12787.pdf')\n",
    "html = response.read()\n",
    "\n",
    "soup = BeautifulSoup(html,'html5lib')\n",
    "text = soup.get_text(strip = True)\n",
    "\n",
    "doc = nlp(text)\n",
    "\n",
    "# Extract semi-structured statements\n",
    "statements = textacy.extract.semistructured_statements(doc, \"overfitting\")\n",
    "\n",
    "for statement in statements:\n",
    "    subject, verb, fact = statement\n",
    "    print(f\" - {fact}\")"
   ]
  }
 ],
 "metadata": {
  "colab": {
   "collapsed_sections": [],
   "name": "PROF_Textacy y spacy.ipynb",
   "provenance": []
  },
  "kernelspec": {
   "display_name": "Python 3",
   "language": "python",
   "name": "python3"
  },
  "language_info": {
   "codemirror_mode": {
    "name": "ipython",
    "version": 3
   },
   "file_extension": ".py",
   "mimetype": "text/x-python",
   "name": "python",
   "nbconvert_exporter": "python",
   "pygments_lexer": "ipython3",
   "version": "3.8.5"
  }
 },
 "nbformat": 4,
 "nbformat_minor": 4
}
