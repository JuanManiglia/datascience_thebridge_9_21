{
 "cells": [
  {
   "cell_type": "markdown",
   "metadata": {},
   "source": [
    "# Twitter Sentiment Analysis\n",
    "En este notebook vas a ver un ejemplo de los procesos necesarios para realizar un análisis de sentimientos sobre Tweets. Para ello tendremos que seguir los siguientes pasos:\n",
    "1. Conseguir un Corpus: no es más que una base de datos de texto etiquetado\n",
    "2. Limpiar los datos\n",
    "3. Entrenar un modelo con el corpus\n",
    "4. Atacar a la API de Twitter\n",
    "5. Predecir los nuevos Tweets\n",
    "\n",
    "**Estos programas son muy útiles en campañas de marketing, para monitorizar el lanzamiento de un nuevo producto, realizar seguimiento en Twitter de eventos, o simplemente tener monitorizadas ciertas cuentas o hashtags para tener un programa de análisis real time.**"
   ]
  },
  {
   "cell_type": "markdown",
   "metadata": {},
   "source": [
    "## 1. Corpus\n",
    "Para conseguir el corpus tendremos que registrarnos en la [página del TASS](http://tass.sepln.org/tass_data/download.php), que se trata de una asociación de análisis semántico que encargada de recopilar texto y mantenerlo etiquetado. \n",
    "\n",
    "Para datasets en ingles lo tenemos más fácil ya que con librerías como [TextBlob](https://textblob.readthedocs.io/en/dev/) podemos predecir directamente la polaridad del Tweet, con modelos ya preentrenados. En el caso del castellano necesitamos acudir a un corpus etiquetado para entrenar nuestro modelo.\n",
    "\n",
    "Registrate en el TASS y accede a sus corpus a través de un link que te llegará al correo tras el registro.\n",
    "\n",
    "![imagen](img/tass_register.png)\n",
    "\n",
    "\n",
    "Una vez estes registrado, descárgate el corpus de tweets en español de entrenamiento. En este punto lo ideal es coger un corpus que se adapte lo máximo posible a los tipos de tweets que intentamos predecir, es decir, si queremos predecir tweets sobre política, procurar elegir un corpus que tenga vocabulario de política.\n",
    "\n",
    "En este notebook se va a elegir un corpus genérico con no demasiados registros para aligerar la limpieza y entrenamiento de los modelos.\n",
    "\n",
    "![imagen](img/download_train_spanish.png)"
   ]
  },
  {
   "cell_type": "markdown",
   "metadata": {},
   "source": [
    "### Importamos librerias"
   ]
  },
  {
   "cell_type": "code",
   "execution_count": 64,
   "metadata": {},
   "outputs": [],
   "source": [
    "import pandas as pd\n",
    "import xml.etree.ElementTree as ET\n",
    "import seaborn as sns\n",
    "\n",
    "from sklearn.svm import LinearSVC\n",
    "from sklearn.pipeline import Pipeline\n",
    "from sklearn.model_selection import GridSearchCV"
   ]
  },
  {
   "cell_type": "markdown",
   "metadata": {},
   "source": [
    "### Leemos el dataset"
   ]
  },
  {
   "cell_type": "code",
   "execution_count": 29,
   "metadata": {},
   "outputs": [],
   "source": [
    "tree = ET.parse('data/general-train-tagged.xml')\n",
    "root = tree.getroot()"
   ]
  },
  {
   "cell_type": "code",
   "execution_count": 39,
   "metadata": {},
   "outputs": [
    {
     "name": "stdout",
     "output_type": "stream",
     "text": [
      "(7219, 6)\n"
     ]
    },
    {
     "data": {
      "text/html": [
       "<div>\n",
       "<style scoped>\n",
       "    .dataframe tbody tr th:only-of-type {\n",
       "        vertical-align: middle;\n",
       "    }\n",
       "\n",
       "    .dataframe tbody tr th {\n",
       "        vertical-align: top;\n",
       "    }\n",
       "\n",
       "    .dataframe thead th {\n",
       "        text-align: right;\n",
       "    }\n",
       "</style>\n",
       "<table border=\"1\" class=\"dataframe\">\n",
       "  <thead>\n",
       "    <tr style=\"text-align: right;\">\n",
       "      <th></th>\n",
       "      <th>User</th>\n",
       "      <th>Content</th>\n",
       "      <th>Date</th>\n",
       "      <th>Lang</th>\n",
       "      <th>Polarity</th>\n",
       "      <th>Type</th>\n",
       "    </tr>\n",
       "  </thead>\n",
       "  <tbody>\n",
       "    <tr>\n",
       "      <th>0</th>\n",
       "      <td>ccifuentes</td>\n",
       "      <td>Salgo de #VeoTV , que día más largoooooo...</td>\n",
       "      <td>2011-12-02T00:47:55</td>\n",
       "      <td>es</td>\n",
       "      <td>NONE</td>\n",
       "      <td>AGREEMENT</td>\n",
       "    </tr>\n",
       "    <tr>\n",
       "      <th>1</th>\n",
       "      <td>CarmendelRiego</td>\n",
       "      <td>@PauladeLasHeras No te libraras de ayudar me/n...</td>\n",
       "      <td>2011-12-02T00:49:40</td>\n",
       "      <td>es</td>\n",
       "      <td>NEU</td>\n",
       "      <td>DISAGREEMENT</td>\n",
       "    </tr>\n",
       "    <tr>\n",
       "      <th>2</th>\n",
       "      <td>CarmendelRiego</td>\n",
       "      <td>@marodriguezb Gracias MAR</td>\n",
       "      <td>2011-12-02T00:57:40</td>\n",
       "      <td>es</td>\n",
       "      <td>P</td>\n",
       "      <td>AGREEMENT</td>\n",
       "    </tr>\n",
       "    <tr>\n",
       "      <th>3</th>\n",
       "      <td>mgilguerrero</td>\n",
       "      <td>Off pensando en el regalito Sinde, la que se v...</td>\n",
       "      <td>2011-12-02T02:33:37</td>\n",
       "      <td>es</td>\n",
       "      <td>N+</td>\n",
       "      <td>AGREEMENT</td>\n",
       "    </tr>\n",
       "    <tr>\n",
       "      <th>4</th>\n",
       "      <td>paurubio</td>\n",
       "      <td>Conozco a alguien q es adicto al drama! Ja ja ...</td>\n",
       "      <td>2011-12-02T02:59:03</td>\n",
       "      <td>es</td>\n",
       "      <td>P+</td>\n",
       "      <td>AGREEMENT</td>\n",
       "    </tr>\n",
       "  </tbody>\n",
       "</table>\n",
       "</div>"
      ],
      "text/plain": [
       "             User                                            Content  \\\n",
       "0      ccifuentes        Salgo de #VeoTV , que día más largoooooo...   \n",
       "1  CarmendelRiego  @PauladeLasHeras No te libraras de ayudar me/n...   \n",
       "2  CarmendelRiego                          @marodriguezb Gracias MAR   \n",
       "3    mgilguerrero  Off pensando en el regalito Sinde, la que se v...   \n",
       "4        paurubio  Conozco a alguien q es adicto al drama! Ja ja ...   \n",
       "\n",
       "                  Date Lang Polarity          Type  \n",
       "0  2011-12-02T00:47:55   es     NONE     AGREEMENT  \n",
       "1  2011-12-02T00:49:40   es      NEU  DISAGREEMENT  \n",
       "2  2011-12-02T00:57:40   es        P     AGREEMENT  \n",
       "3  2011-12-02T02:33:37   es       N+     AGREEMENT  \n",
       "4  2011-12-02T02:59:03   es       P+     AGREEMENT  "
      ]
     },
     "execution_count": 39,
     "metadata": {},
     "output_type": "execute_result"
    }
   ],
   "source": [
    "raw_dict = {\n",
    "    'User': [],\n",
    "    'Content': [],\n",
    "    'Date': [],\n",
    "    'Lang': [],\n",
    "    'Polarity': [],\n",
    "    'Type': []\n",
    "}\n",
    "\n",
    "for i in root.iter('tweet'):\n",
    "    user = i.find('user').text\n",
    "    content = i.find('content').text\n",
    "    date = i.find('date').text\n",
    "    lang = i.find('lang').text\n",
    "    polarity = i.find('sentiments').find('polarity').find('value').text\n",
    "    tweet_type = i.find('sentiments').find('polarity').find('type').text\n",
    "    \n",
    "    raw_dict['User'].append(user)\n",
    "    raw_dict['Content'].append(content)\n",
    "    raw_dict['Date'].append(date)\n",
    "    raw_dict['Lang'].append(lang)\n",
    "    raw_dict['Polarity'].append(polarity)\n",
    "    raw_dict['Type'].append(tweet_type)\n",
    "    \n",
    "df = pd.DataFrame(raw_dict)\n",
    "print(df.shape)\n",
    "\n",
    "df.head()"
   ]
  },
  {
   "cell_type": "markdown",
   "metadata": {},
   "source": [
    "### Columna de polaridad"
   ]
  },
  {
   "cell_type": "code",
   "execution_count": 40,
   "metadata": {},
   "outputs": [
    {
     "data": {
      "text/plain": [
       "array(['NONE', 'NEU', 'P', 'N+', 'P+', 'N'], dtype=object)"
      ]
     },
     "execution_count": 40,
     "metadata": {},
     "output_type": "execute_result"
    }
   ],
   "source": [
    "# Vemos los valores unicos de la columna de polaridad\n",
    "df.Polarity.unique()"
   ]
  },
  {
   "cell_type": "code",
   "execution_count": 41,
   "metadata": {},
   "outputs": [
    {
     "data": {
      "image/png": "[encoded data removed]",
      "text/plain": [
       "<Figure size 432x288 with 1 Axes>"
      ]
     },
     "metadata": {
      "needs_background": "light"
     },
     "output_type": "display_data"
    }
   ],
   "source": [
    "sns.countplot(x ='Polarity', data = df);"
   ]
  },
  {
   "cell_type": "markdown",
   "metadata": {},
   "source": [
    "#### Columna de tipo"
   ]
  },
  {
   "cell_type": "code",
   "execution_count": 37,
   "metadata": {},
   "outputs": [
    {
     "data": {
      "image/png": "[encoded data removed]",
      "text/plain": [
       "<Figure size 432x288 with 1 Axes>"
      ]
     },
     "metadata": {
      "needs_background": "light"
     },
     "output_type": "display_data"
    }
   ],
   "source": [
    "sns.countplot(x ='Tipo', data = df);"
   ]
  },
  {
   "cell_type": "markdown",
   "metadata": {},
   "source": [
    "## 2. Limpieza de datos\n",
    "#### Polaridad\n",
    "Vamos a clasificar los Tweets como buenos o malos, por lo que haremos la siguiente agrupación de la polaridad"
   ]
  },
  {
   "cell_type": "code",
   "execution_count": 38,
   "metadata": {},
   "outputs": [],
   "source": [
    "def polaridad_fun(x):\n",
    "    if x in ('P', 'P+'):\n",
    "        return 0\n",
    "    elif x in ('N', 'N+'):\n",
    "        return 1"
   ]
  },
  {
   "cell_type": "code",
   "execution_count": 43,
   "metadata": {},
   "outputs": [
    {
     "data": {
      "text/plain": [
       "array(['P', 'N+', 'P+', 'N'], dtype=object)"
      ]
     },
     "execution_count": 43,
     "metadata": {},
     "output_type": "execute_result"
    }
   ],
   "source": [
    "# Nos cargamos los NONE y los neutros\n",
    "df = df[~df['Polarity'].isin(['NONE','NEU'])]\n",
    "df['Polarity'].unique()"
   ]
  },
  {
   "cell_type": "code",
   "execution_count": 44,
   "metadata": {},
   "outputs": [
    {
     "data": {
      "text/plain": [
       "array([0, 1], dtype=int64)"
      ]
     },
     "execution_count": 44,
     "metadata": {},
     "output_type": "execute_result"
    }
   ],
   "source": [
    "# Pasamos la columna a 1s y 0s. Y el tipo\n",
    "df['Polarity'] = df['Polarity'].apply(polaridad_fun)\n",
    "df['Polarity'].unique()"
   ]
  },
  {
   "cell_type": "markdown",
   "metadata": {},
   "source": [
    "#### Idioma\n",
    "Nos quedamos con los tweets en español. Si no tuviésemos esa columna podríamos acudir a librerías como `langid` o `langdetect`."
   ]
  },
  {
   "cell_type": "code",
   "execution_count": 46,
   "metadata": {},
   "outputs": [],
   "source": [
    "# Filtramos los tweets en español\n",
    "df = df[df['Lang'] == 'es']"
   ]
  },
  {
   "cell_type": "code",
   "execution_count": 47,
   "metadata": {},
   "outputs": [
    {
     "data": {
      "text/plain": [
       "(5066, 6)"
      ]
     },
     "execution_count": 47,
     "metadata": {},
     "output_type": "execute_result"
    }
   ],
   "source": [
    "# Vemos con cuantos registros nos hemos quedado despues del filtrado\n",
    "df.shape"
   ]
  },
  {
   "cell_type": "markdown",
   "metadata": {},
   "source": [
    "#### Duplicados"
   ]
  },
  {
   "cell_type": "code",
   "execution_count": 49,
   "metadata": {},
   "outputs": [
    {
     "data": {
      "text/plain": [
       "(5052, 6)"
      ]
     },
     "execution_count": 49,
     "metadata": {},
     "output_type": "execute_result"
    }
   ],
   "source": [
    "# Eliminamos los duplicados\n",
    "df.drop_duplicates(subset = 'Content', inplace = True)\n",
    "df.shape"
   ]
  },
  {
   "cell_type": "markdown",
   "metadata": {},
   "source": [
    "#### Signos de puntuación\n",
    "Eliminamos signos de puntuación: puntos, comas, interrogaciones, paréntesis"
   ]
  },
  {
   "cell_type": "code",
   "execution_count": 56,
   "metadata": {},
   "outputs": [
    {
     "data": {
      "text/plain": [
       "2                            @marodriguezb Gracias MAR\n",
       "3    Off pensando en el regalito Sinde, la que se v...\n",
       "4    Conozco a alguien q es adicto al drama! Ja ja ...\n",
       "6    Toca @crackoviadeTV3 . Grabación dl especial N...\n",
       "8    Buen día todos! Lo primero mandar un abrazo gr...\n",
       "Name: Content, dtype: object"
      ]
     },
     "execution_count": 56,
     "metadata": {},
     "output_type": "execute_result"
    }
   ],
   "source": [
    "df['Content'].head()"
   ]
  },
  {
   "cell_type": "code",
   "execution_count": 57,
   "metadata": {},
   "outputs": [
    {
     "data": {
      "text/plain": [
       "2                            @marodriguezb gracias mar\n",
       "3    off pensando en el regalito sinde la que se va...\n",
       "4    conozco a alguien q es adicto al drama ja ja j...\n",
       "6    toca @crackoviadetv  grabación dl especial nav...\n",
       "8    buen día todos lo primero mandar un abrazo gra...\n",
       "Name: Content, dtype: object"
      ]
     },
     "execution_count": 57,
     "metadata": {},
     "output_type": "execute_result"
    }
   ],
   "source": [
    "import re\n",
    "\n",
    "signos = re.compile(\"(\\.)|(\\;)|(\\:)|(\\!)|(\\?)|(\\,)|(\\\")|(\\()|(\\))|(\\[)|(\\])|(\\d+)\")\n",
    "\n",
    "def signs_tweets(tweet):\n",
    "    return signos.sub('', tweet.lower())\n",
    "\n",
    "df['Content'] = df['Content'].apply(signs_tweets)\n",
    "df['Content'].head()"
   ]
  },
  {
   "cell_type": "markdown",
   "metadata": {},
   "source": [
    "#### Eliminamos links"
   ]
  },
  {
   "cell_type": "code",
   "execution_count": 58,
   "metadata": {},
   "outputs": [],
   "source": [
    "def remove_links(df):\n",
    "    return \" \".join(['{link}' if ('http') in word else word for word in df.split()])\n",
    "\n",
    "df['Content'] = df['Content'].apply(remove_links)"
   ]
  },
  {
   "cell_type": "markdown",
   "metadata": {},
   "source": [
    "#### Otros\n",
    "Podríamos hacer un preprocesado mucho más fino:\n",
    "1. Hashtags\n",
    "2. Menciones\n",
    "3. Abreviaturas\n",
    "4. Faltas de ortografía\n",
    "5. Risas"
   ]
  },
  {
   "cell_type": "markdown",
   "metadata": {},
   "source": [
    "## 3. Modelo\n",
    "Para montar el modelo tendremos que seguir los siguientes pasos\n",
    "1. Eliminamos las stopwords\n",
    "2. Aplicamos un stemmer, SnowBall por ejemplo"
   ]
  },
  {
   "cell_type": "markdown",
   "metadata": {},
   "source": [
    "#### Stopwords"
   ]
  },
  {
   "cell_type": "code",
   "execution_count": 60,
   "metadata": {},
   "outputs": [
    {
     "data": {
      "text/html": [
       "<div>\n",
       "<style scoped>\n",
       "    .dataframe tbody tr th:only-of-type {\n",
       "        vertical-align: middle;\n",
       "    }\n",
       "\n",
       "    .dataframe tbody tr th {\n",
       "        vertical-align: top;\n",
       "    }\n",
       "\n",
       "    .dataframe thead th {\n",
       "        text-align: right;\n",
       "    }\n",
       "</style>\n",
       "<table border=\"1\" class=\"dataframe\">\n",
       "  <thead>\n",
       "    <tr style=\"text-align: right;\">\n",
       "      <th></th>\n",
       "      <th>User</th>\n",
       "      <th>Content</th>\n",
       "      <th>Date</th>\n",
       "      <th>Lang</th>\n",
       "      <th>Polarity</th>\n",
       "      <th>Type</th>\n",
       "    </tr>\n",
       "  </thead>\n",
       "  <tbody>\n",
       "    <tr>\n",
       "      <th>2</th>\n",
       "      <td>CarmendelRiego</td>\n",
       "      <td>@marodriguezb gracias mar</td>\n",
       "      <td>2011-12-02T00:57:40</td>\n",
       "      <td>es</td>\n",
       "      <td>0</td>\n",
       "      <td>AGREEMENT</td>\n",
       "    </tr>\n",
       "    <tr>\n",
       "      <th>3</th>\n",
       "      <td>mgilguerrero</td>\n",
       "      <td>off pensando regalito sinde va sgae van corrup...</td>\n",
       "      <td>2011-12-02T02:33:37</td>\n",
       "      <td>es</td>\n",
       "      <td>1</td>\n",
       "      <td>AGREEMENT</td>\n",
       "    </tr>\n",
       "    <tr>\n",
       "      <th>4</th>\n",
       "      <td>paurubio</td>\n",
       "      <td>conozco alguien q adicto drama ja ja ja suena d</td>\n",
       "      <td>2011-12-02T02:59:03</td>\n",
       "      <td>es</td>\n",
       "      <td>0</td>\n",
       "      <td>AGREEMENT</td>\n",
       "    </tr>\n",
       "    <tr>\n",
       "      <th>6</th>\n",
       "      <td>Carlos_Latre</td>\n",
       "      <td>toca @crackoviadetv grabación dl especial navi...</td>\n",
       "      <td>2011-12-02T07:00:50</td>\n",
       "      <td>es</td>\n",
       "      <td>0</td>\n",
       "      <td>AGREEMENT</td>\n",
       "    </tr>\n",
       "    <tr>\n",
       "      <th>8</th>\n",
       "      <td>nacho_uriarte</td>\n",
       "      <td>buen día primero mandar abrazo grande miguel f...</td>\n",
       "      <td>2011-12-02T07:45:05</td>\n",
       "      <td>es</td>\n",
       "      <td>0</td>\n",
       "      <td>AGREEMENT</td>\n",
       "    </tr>\n",
       "  </tbody>\n",
       "</table>\n",
       "</div>"
      ],
      "text/plain": [
       "             User                                            Content  \\\n",
       "2  CarmendelRiego                          @marodriguezb gracias mar   \n",
       "3    mgilguerrero  off pensando regalito sinde va sgae van corrup...   \n",
       "4        paurubio    conozco alguien q adicto drama ja ja ja suena d   \n",
       "6    Carlos_Latre  toca @crackoviadetv grabación dl especial navi...   \n",
       "8   nacho_uriarte  buen día primero mandar abrazo grande miguel f...   \n",
       "\n",
       "                  Date Lang  Polarity       Type  \n",
       "2  2011-12-02T00:57:40   es         0  AGREEMENT  \n",
       "3  2011-12-02T02:33:37   es         1  AGREEMENT  \n",
       "4  2011-12-02T02:59:03   es         0  AGREEMENT  \n",
       "6  2011-12-02T07:00:50   es         0  AGREEMENT  \n",
       "8  2011-12-02T07:45:05   es         0  AGREEMENT  "
      ]
     },
     "execution_count": 60,
     "metadata": {},
     "output_type": "execute_result"
    }
   ],
   "source": [
    "from nltk.corpus import stopwords\n",
    "# nltk.download('stopwords')\n",
    "\n",
    "spanish_stopwords = stopwords.words('spanish')\n",
    "\n",
    "def remove_stopwords(df):\n",
    "    return \" \".join([word for word in df.split() if word not in spanish_stopwords])\n",
    "\n",
    "df['Content'] = df['Content'].apply(remove_stopwords)\n",
    "df.head()"
   ]
  },
  {
   "cell_type": "markdown",
   "metadata": {},
   "source": [
    "#### Stemmer"
   ]
  },
  {
   "cell_type": "code",
   "execution_count": 62,
   "metadata": {},
   "outputs": [],
   "source": [
    "from nltk.stem.snowball import SnowballStemmer\n",
    "\n",
    "def spanish_stemmer(x):\n",
    "    stemmer = SnowballStemmer('spanish')\n",
    "    return \" \".join([stemmer.stem(word) for word in x.split()])\n",
    "\n",
    "df['Content'] = df['Content'].apply(spanish_stemmer)"
   ]
  },
  {
   "cell_type": "markdown",
   "metadata": {},
   "source": [
    "#### Seleccionamos columnas\n",
    "Nos quedamos con las columnas que nos interesan para el modelo"
   ]
  },
  {
   "cell_type": "code",
   "execution_count": 63,
   "metadata": {},
   "outputs": [],
   "source": [
    "df = df[['Content', 'Polarity']]"
   ]
  },
  {
   "cell_type": "markdown",
   "metadata": {},
   "source": [
    "#### Vectorizamos el dataset"
   ]
  },
  {
   "cell_type": "code",
   "execution_count": 66,
   "metadata": {},
   "outputs": [],
   "source": [
    "vectorizer = CountVectorizer()"
   ]
  },
  {
   "cell_type": "markdown",
   "metadata": {},
   "source": [
    "#### Montamos Pipeline\n",
    "Modelos que suelen funcionar bien con pocas observaciones y muchas features son la Regresión logística el LinearSVC o Naive Bayes."
   ]
  },
  {
   "cell_type": "code",
   "execution_count": 68,
   "metadata": {},
   "outputs": [],
   "source": [
    "#LinearSVC() es el clasificador\n",
    "pipeline = Pipeline([\n",
    "    ('vect', vectorizer),\n",
    "    ('cls', LinearSVC()),\n",
    "])\n",
    "\n",
    "# Aqui definimos el espacio de parámetros a explorar\n",
    "parameters = {\n",
    "    'vect__max_df': (0.5, 1.9),\n",
    "    'vect__min_df': (10, 20,50),\n",
    "    'vect__max_features': (500, 1000),\n",
    "    'vect__ngram_range': ((1, 1), (1, 2)),  # unigramas or bigramas\n",
    "    'cls__C': (0.2, 0.5, 0.7),\n",
    "    'cls__loss': ('hinge', 'squared_hinge'),\n",
    "    'cls__max_iter': (500, 1000)\n",
    "}\n",
    "\n",
    "\n",
    "grid_search = GridSearchCV(pipeline,\n",
    "                           parameters,\n",
    "                           cv=5,\n",
    "                           n_jobs=-1 ,\n",
    "                           scoring='accuracy')"
   ]
  },
  {
   "cell_type": "markdown",
   "metadata": {},
   "source": [
    "#### Entrenamos"
   ]
  },
  {
   "cell_type": "code",
   "execution_count": 69,
   "metadata": {},
   "outputs": [
    {
     "data": {
      "text/plain": [
       "GridSearchCV(cv=5,\n",
       "             estimator=Pipeline(steps=[('vect', CountVectorizer()),\n",
       "                                       ('cls', LinearSVC())]),\n",
       "             n_jobs=-1,\n",
       "             param_grid={'cls__C': (0.2, 0.5, 0.7),\n",
       "                         'cls__loss': ('hinge', 'squared_hinge'),\n",
       "                         'cls__max_iter': (500, 1000),\n",
       "                         'vect__max_df': (0.5, 1.9),\n",
       "                         'vect__max_features': (500, 1000),\n",
       "                         'vect__min_df': (10, 20, 50),\n",
       "                         'vect__ngram_range': ((1, 1), (1, 2))},\n",
       "             scoring='accuracy')"
      ]
     },
     "execution_count": 69,
     "metadata": {},
     "output_type": "execute_result"
    }
   ],
   "source": [
    "grid_search.fit(df['Content'],\n",
    "                df['Polarity'])"
   ]
  },
  {
   "cell_type": "code",
   "execution_count": 70,
   "metadata": {},
   "outputs": [
    {
     "name": "stdout",
     "output_type": "stream",
     "text": [
      "Best params: {'cls__C': 0.2, 'cls__loss': 'squared_hinge', 'cls__max_iter': 500, 'vect__max_df': 0.5, 'vect__max_features': 1000, 'vect__min_df': 10, 'vect__ngram_range': (1, 2)}\n",
      "Best acc: 0.744060874930223\n",
      "Best model: Pipeline(steps=[('vect',\n",
      "                 CountVectorizer(max_df=0.5, max_features=1000, min_df=10,\n",
      "                                 ngram_range=(1, 2))),\n",
      "                ('cls', LinearSVC(C=0.2, max_iter=500))])\n"
     ]
    }
   ],
   "source": [
    "print(\"Best params:\", grid_search.best_params_)\n",
    "print(\"Best acc:\", grid_search.best_score_)\n",
    "print(\"Best model:\", grid_search.best_estimator_)"
   ]
  },
  {
   "cell_type": "markdown",
   "metadata": {},
   "source": [
    "#### Guardamos el modelo"
   ]
  },
  {
   "cell_type": "code",
   "execution_count": 71,
   "metadata": {},
   "outputs": [],
   "source": [
    "import pickle\n",
    "\n",
    "with open('finished_model.model', \"wb\") as archivo_salida:\n",
    "    pickle.dump(grid_search.best_estimator_, archivo_salida)"
   ]
  },
  {
   "cell_type": "markdown",
   "metadata": {},
   "source": [
    "## 4. Predicciones\n",
    "#### API de Twitter\n",
    "Lo primero que tenemos que hacer es conseguir nuevos Tweets. Para ello:\n",
    "1. Nos registramos en la [web de desarrolladores de Twitter](https://developer.twitter.com/en/apply-for-access)\n",
    "2. Bajamos el paquete `tweepy` para atacara  la API de Twitter\n",
    "3. Buscamos un Hashtag de tendencia\n",
    "4. Nos logamos y monitorizamos el hastag\n",
    "5. Aplicamos la limpieza a los Tweets\n",
    "6. Predecimos la polaridad"
   ]
  },
  {
   "cell_type": "code",
   "execution_count": null,
   "metadata": {},
   "outputs": [],
   "source": [
    "# !pip install tweepy"
   ]
  },
  {
   "cell_type": "code",
   "execution_count": 73,
   "metadata": {},
   "outputs": [
    {
     "name": "stdout",
     "output_type": "stream",
     "text": [
      "Authentication OK\n"
     ]
    }
   ],
   "source": [
    "import tweepy  \n",
    "import time\n",
    "import csv\n",
    "\n",
    "import json\n",
    "\n",
    "with open('./credentials.json') as f:\n",
    "    credentials = json.load(f)\n",
    "    \n",
    "    \n",
    "# Credenciales de la web de desarroladores\n",
    "access_token = credentials['access_token']  \n",
    "access_token_secret = credentials['access_token_secret']  \n",
    "consumer_key = credentials['consumer_key']\n",
    "consumer_secret = credentials['consumer_secret'] \n",
    "\n",
    "# Nos autenticamos en la API\n",
    "try:\n",
    "    auth = tweepy.OAuthHandler(consumer_key, consumer_secret)  \n",
    "    auth.set_access_token(access_token, access_token_secret)  \n",
    "    api = tweepy.API(auth,wait_on_rate_limit=True)\n",
    "    print(\"Authentication OK\")\n",
    "except:\n",
    "    print(\"Error during authentication\")"
   ]
  },
  {
   "cell_type": "code",
   "execution_count": 101,
   "metadata": {},
   "outputs": [
    {
     "data": {
      "text/html": [
       "<div>\n",
       "<style scoped>\n",
       "    .dataframe tbody tr th:only-of-type {\n",
       "        vertical-align: middle;\n",
       "    }\n",
       "\n",
       "    .dataframe tbody tr th {\n",
       "        vertical-align: top;\n",
       "    }\n",
       "\n",
       "    .dataframe thead th {\n",
       "        text-align: right;\n",
       "    }\n",
       "</style>\n",
       "<table border=\"1\" class=\"dataframe\">\n",
       "  <thead>\n",
       "    <tr style=\"text-align: right;\">\n",
       "      <th></th>\n",
       "      <th>author_name</th>\n",
       "      <th>created_at</th>\n",
       "      <th>content</th>\n",
       "      <th>author_description</th>\n",
       "      <th>author_followers_count</th>\n",
       "      <th>author_profile_image_url</th>\n",
       "      <th>author_location</th>\n",
       "      <th>author_profile_background_image_url</th>\n",
       "      <th>author_notifications</th>\n",
       "      <th>geo</th>\n",
       "      <th>coordinates</th>\n",
       "      <th>entities</th>\n",
       "      <th>place</th>\n",
       "    </tr>\n",
       "  </thead>\n",
       "  <tbody>\n",
       "    <tr>\n",
       "      <th>0</th>\n",
       "      <td>♥️♥️Gata Presumida🌹🌹♥️🌹♥️🌹♥️🌹</td>\n",
       "      <td>2021-04-01 15:57:09</td>\n",
       "      <td>RT @SaludPublicaEs: Sigue las #6M para reducir...</td>\n",
       "      <td>Con el Tiempo Aprendí Que NO a Cualquiera Se L...</td>\n",
       "      <td>1791</td>\n",
       "      <td>http://pbs.twimg.com/profile_images/1305294332...</td>\n",
       "      <td>Comunidad de Madrid</td>\n",
       "      <td>None</td>\n",
       "      <td>False</td>\n",
       "      <td>None</td>\n",
       "      <td>None</td>\n",
       "      <td>{'hashtags': [{'text': '6M', 'indices': [30, 3...</td>\n",
       "      <td>None</td>\n",
       "    </tr>\n",
       "    <tr>\n",
       "      <th>1</th>\n",
       "      <td>Ana Colmenar</td>\n",
       "      <td>2021-04-01 15:56:29</td>\n",
       "      <td>RT @Cecabank_es: #PlanSumamos de la @Fundacion...</td>\n",
       "      <td>De naturaleza inquieta: #Marketing, Medios Soc...</td>\n",
       "      <td>312</td>\n",
       "      <td>http://pbs.twimg.com/profile_images/1389729302...</td>\n",
       "      <td>Madrid</td>\n",
       "      <td>http://abs.twimg.com/images/themes/theme4/bg.gif</td>\n",
       "      <td>False</td>\n",
       "      <td>None</td>\n",
       "      <td>None</td>\n",
       "      <td>{'hashtags': [{'text': 'PlanSumamos', 'indices...</td>\n",
       "      <td>None</td>\n",
       "    </tr>\n",
       "    <tr>\n",
       "      <th>2</th>\n",
       "      <td>Fernando Torralba</td>\n",
       "      <td>2021-04-01 15:56:11</td>\n",
       "      <td>RT @XRBustelo: No, no son extraterrestres. Son...</td>\n",
       "      <td></td>\n",
       "      <td>9</td>\n",
       "      <td>http://pbs.twimg.com/profile_images/5257711263...</td>\n",
       "      <td></td>\n",
       "      <td>http://abs.twimg.com/images/themes/theme1/bg.png</td>\n",
       "      <td>False</td>\n",
       "      <td>None</td>\n",
       "      <td>None</td>\n",
       "      <td>{'hashtags': [{'text': 'COVID19', 'indices': [...</td>\n",
       "      <td>None</td>\n",
       "    </tr>\n",
       "    <tr>\n",
       "      <th>3</th>\n",
       "      <td>Lope</td>\n",
       "      <td>2021-04-01 15:56:04</td>\n",
       "      <td>RT @BurriezaMateos: La #NuevaNormalidad #YoMeV...</td>\n",
       "      <td>No se en qué estaría yo dibujando.\\nEn @politi...</td>\n",
       "      <td>1042</td>\n",
       "      <td>http://pbs.twimg.com/profile_images/1367189571...</td>\n",
       "      <td></td>\n",
       "      <td>http://abs.twimg.com/images/themes/theme1/bg.png</td>\n",
       "      <td>False</td>\n",
       "      <td>None</td>\n",
       "      <td>None</td>\n",
       "      <td>{'hashtags': [{'text': 'NuevaNormalidad', 'ind...</td>\n",
       "      <td>None</td>\n",
       "    </tr>\n",
       "    <tr>\n",
       "      <th>4</th>\n",
       "      <td>Rosa María Lozano</td>\n",
       "      <td>2021-04-01 15:55:25</td>\n",
       "      <td>RT @Gacetinmadrid: Madrid bate su récord de va...</td>\n",
       "      <td></td>\n",
       "      <td>49</td>\n",
       "      <td>http://pbs.twimg.com/profile_images/1247572820...</td>\n",
       "      <td>Madrid, España</td>\n",
       "      <td>http://abs.twimg.com/images/themes/theme1/bg.png</td>\n",
       "      <td>False</td>\n",
       "      <td>None</td>\n",
       "      <td>None</td>\n",
       "      <td>{'hashtags': [{'text': 'Madrid', 'indices': [1...</td>\n",
       "      <td>None</td>\n",
       "    </tr>\n",
       "  </tbody>\n",
       "</table>\n",
       "</div>"
      ],
      "text/plain": [
       "                     author_name          created_at  \\\n",
       "0  ♥️♥️Gata Presumida🌹🌹♥️🌹♥️🌹♥️🌹 2021-04-01 15:57:09   \n",
       "1                   Ana Colmenar 2021-04-01 15:56:29   \n",
       "2              Fernando Torralba 2021-04-01 15:56:11   \n",
       "3                           Lope 2021-04-01 15:56:04   \n",
       "4              Rosa María Lozano 2021-04-01 15:55:25   \n",
       "\n",
       "                                             content  \\\n",
       "0  RT @SaludPublicaEs: Sigue las #6M para reducir...   \n",
       "1  RT @Cecabank_es: #PlanSumamos de la @Fundacion...   \n",
       "2  RT @XRBustelo: No, no son extraterrestres. Son...   \n",
       "3  RT @BurriezaMateos: La #NuevaNormalidad #YoMeV...   \n",
       "4  RT @Gacetinmadrid: Madrid bate su récord de va...   \n",
       "\n",
       "                                  author_description  author_followers_count  \\\n",
       "0  Con el Tiempo Aprendí Que NO a Cualquiera Se L...                    1791   \n",
       "1  De naturaleza inquieta: #Marketing, Medios Soc...                     312   \n",
       "2                                                                          9   \n",
       "3  No se en qué estaría yo dibujando.\\nEn @politi...                    1042   \n",
       "4                                                                         49   \n",
       "\n",
       "                            author_profile_image_url      author_location  \\\n",
       "0  http://pbs.twimg.com/profile_images/1305294332...  Comunidad de Madrid   \n",
       "1  http://pbs.twimg.com/profile_images/1389729302...               Madrid   \n",
       "2  http://pbs.twimg.com/profile_images/5257711263...                        \n",
       "3  http://pbs.twimg.com/profile_images/1367189571...                        \n",
       "4  http://pbs.twimg.com/profile_images/1247572820...       Madrid, España   \n",
       "\n",
       "                author_profile_background_image_url  author_notifications  \\\n",
       "0                                              None                 False   \n",
       "1  http://abs.twimg.com/images/themes/theme4/bg.gif                 False   \n",
       "2  http://abs.twimg.com/images/themes/theme1/bg.png                 False   \n",
       "3  http://abs.twimg.com/images/themes/theme1/bg.png                 False   \n",
       "4  http://abs.twimg.com/images/themes/theme1/bg.png                 False   \n",
       "\n",
       "    geo coordinates                                           entities place  \n",
       "0  None        None  {'hashtags': [{'text': '6M', 'indices': [30, 3...  None  \n",
       "1  None        None  {'hashtags': [{'text': 'PlanSumamos', 'indices...  None  \n",
       "2  None        None  {'hashtags': [{'text': 'COVID19', 'indices': [...  None  \n",
       "3  None        None  {'hashtags': [{'text': 'NuevaNormalidad', 'ind...  None  \n",
       "4  None        None  {'hashtags': [{'text': 'Madrid', 'indices': [1...  None  "
      ]
     },
     "execution_count": 101,
     "metadata": {},
     "output_type": "execute_result"
    }
   ],
   "source": [
    "raw_dict = {\n",
    "    'author_name': [],\n",
    "    'created_at': [],\n",
    "    'content': [],\n",
    "    'author_description': [],\n",
    "    'author_followers_count': [],\n",
    "    'author_profile_image_url': [],\n",
    "    'author_location': [],\n",
    "    'author_profile_background_image_url': [],\n",
    "    'author_notifications': [],\n",
    "    'geo': [],\n",
    "    'coordinates': [],\n",
    "    'entities': [],\n",
    "    'place': []\n",
    "}\n",
    "\n",
    "# https://docs.tweepy.org/en/latest/api.html#search-methods\n",
    "\n",
    "cursor = tweepy.Cursor(api.search,\n",
    "                       q=\"#COVID19\",\n",
    "                       count=1000,\n",
    "                       lang=\"es\",\n",
    "                       since=\"2021-03-01\",\n",
    "                       geocode=\"40.421167,-3.693058,200km\").items(1000)\n",
    "\n",
    "for tweet in cursor:\n",
    "    \n",
    "    raw_dict['author_name'].append(tweet.author.name)\n",
    "    raw_dict['created_at'].append(tweet.created_at)\n",
    "    raw_dict['content'].append(tweet.text)\n",
    "    raw_dict['author_description'].append(tweet.author.description)\n",
    "    raw_dict['author_followers_count'].append(tweet.author.followers_count)\n",
    "    raw_dict['author_profile_image_url'].append(tweet.author.profile_image_url)\n",
    "    raw_dict['author_location'].append(tweet.author.location)\n",
    "    raw_dict['author_profile_background_image_url'].append(tweet.author.profile_background_image_url)\n",
    "    raw_dict['author_notifications'].append(tweet.author.notifications)\n",
    "    raw_dict['geo'].append(tweet.geo)\n",
    "    raw_dict['coordinates'].append(tweet.coordinates)\n",
    "    raw_dict['entities'].append(tweet.entities)\n",
    "    raw_dict['place'].append(tweet.place)\n",
    "    \n",
    "\n",
    "test = pd.DataFrame(raw_dict)\n",
    "test.head()"
   ]
  },
  {
   "cell_type": "code",
   "execution_count": 112,
   "metadata": {},
   "outputs": [
    {
     "name": "stdout",
     "output_type": "stream",
     "text": [
      "(1000, 13)\n",
      "http://pbs.twimg.com/profile_images/1305294332648476672/qMgbLy2f_normal.jpg\n"
     ]
    }
   ],
   "source": [
    "print(test.shape)\n",
    "print(test.author_profile_image_url[0])"
   ]
  },
  {
   "cell_type": "markdown",
   "metadata": {},
   "source": [
    "#### Limpieza de test"
   ]
  },
  {
   "cell_type": "code",
   "execution_count": 135,
   "metadata": {},
   "outputs": [
    {
     "data": {
      "text/plain": [
       "(338, 2)"
      ]
     },
     "execution_count": 135,
     "metadata": {},
     "output_type": "execute_result"
    }
   ],
   "source": [
    "test_clean = test.copy()\n",
    "\n",
    "# Seleccion de columnas\n",
    "test_clean = test_clean[['content']]\n",
    "\n",
    "# Eliminar duplicados\n",
    "test_clean.drop_duplicates(subset = 'content', inplace = True)\n",
    "\n",
    "# Signos de puntuacion\n",
    "test_clean['content_clean'] = test_clean['content'].apply(signs_tweets)\n",
    "\n",
    "# Eliminamos links\n",
    "test_clean['content_clean'] = test_clean['content_clean'].apply(remove_links)\n",
    "\n",
    "# Nos cargamos stopwords\n",
    "test_clean['content_clean'] = test_clean['content_clean'].apply(remove_stopwords)\n",
    "\n",
    "# Aplicamos el Stemmer\n",
    "test_clean['content_clean'] = test_clean['content_clean'].apply(spanish_stemmer)\n",
    "test_clean.shape"
   ]
  },
  {
   "cell_type": "markdown",
   "metadata": {},
   "source": [
    "#### Leemos el pipeline con el modelo"
   ]
  },
  {
   "cell_type": "code",
   "execution_count": 133,
   "metadata": {},
   "outputs": [
    {
     "name": "stdout",
     "output_type": "stream",
     "text": [
      "Pipeline(steps=[('vect',\n",
      "                 CountVectorizer(max_df=0.5, max_features=1000, min_df=10,\n",
      "                                 ngram_range=(1, 2))),\n",
      "                ('cls', LinearSVC(C=0.2, max_iter=500))])\n"
     ]
    }
   ],
   "source": [
    "with open('finished_model.model', \"rb\") as archivo_entrada:\n",
    "    pipeline_importada = pickle.load(archivo_entrada)\n",
    "    \n",
    "print(pipeline_importada)"
   ]
  },
  {
   "cell_type": "markdown",
   "metadata": {},
   "source": [
    "#### Predicciones de test"
   ]
  },
  {
   "cell_type": "code",
   "execution_count": 138,
   "metadata": {},
   "outputs": [
    {
     "name": "stdout",
     "output_type": "stream",
     "text": [
      "0.0\n",
      "RT @SaludPublicaEs: Sigue las #6M para reducir la expansión del #COVID19👇🏻\n",
      "\n",
      "😷Mascarilla\n",
      "↔️Metros\n",
      "🤲Manos\n",
      "🪟Más ventilación\n",
      "👨‍👩‍👧‍👦Menos conta…\n",
      "\n",
      "\n",
      "0.0\n",
      "RT @Cecabank_es: #PlanSumamos de la @Fundacion_Ceoe al que @Cecabank_es está inscrito continúa avanzando en sus cuatro iniciativas: test, r…\n",
      "\n",
      "\n",
      "1.0\n",
      "RT @XRBustelo: No, no son extraterrestres. Son investigadores del @CSIC que están investigando y diagnosticando la #COVID19 en varios sitio…\n",
      "\n",
      "\n",
      "0.0\n",
      "RT @BurriezaMateos: La #NuevaNormalidad #YoMeVacuno y #COVID19 en viñetas, 01.04.2021. @loperiodico_ @Padylla @ElChisteDeMel @MikiyDuarte h…\n",
      "\n",
      "\n",
      "0.0\n",
      "RT @Gacetinmadrid: Madrid bate su récord de vacunación con casi 35.000 dosis puestas este miércoles\n",
      "\n",
      "#Madrid #Salud #VacunaciónMadrid #Coro…\n",
      "\n",
      "\n",
      "1.0\n",
      "RT @VaneLillo: Es una vergüenza.\n",
      "\n",
      "Es la tercera vez que el Gobierno de Ayuso SUSPENDE LA VACUNACIÓN #COVID19.\n",
      "\n",
      "De nuevo ponen en riesgo a l…\n",
      "\n",
      "\n",
      "0.0\n",
      "RT @MasCiencia_: El sector público está siendo fundamental en el desarrollo de vacunas para la #covid19. El 98% de las inversiones que se c…\n",
      "\n",
      "\n",
      "0.0\n",
      "Es una vergüenza.\n",
      "\n",
      "Es la tercera vez que el Gobierno de Ayuso SUSPENDE LA VACUNACIÓN #COVID19.\n",
      "\n",
      "De nuevo ponen en r… https://t.co/km83eTD2AE\n",
      "\n",
      "\n",
      "0.0\n",
      "RT @LestonGomez: Si le interesa conocer los datos que reporta el gobierno de Venezuela sobre la pandemia de #COVID19, recomiendo revisar es…\n",
      "\n",
      "\n",
      "0.0\n",
      "RT @CMM_noticias: ⏺️   La #OMS califica de \"inaceptable\" el ritmo de vacunación contra el #COVID19 en Europa.\n",
      "\n",
      "Ha incidido en la importanci…\n",
      "\n",
      "\n",
      "1.0\n",
      "RT @desdelamoncloa: ❓Puedo vacunarme frente al #COVID19 si soy alérgico\n",
      "\n",
      "La #VacunaCOVID19 no está contraindicada en personas con alergias…\n",
      "\n",
      "\n",
      "1.0\n",
      "RT @JGarciaArriaza: Los científicos que estamos trabajando día a día con el #SARSCoV2 #COVID19 deberíamos estar vacunados hace meses, pero…\n",
      "\n",
      "\n",
      "0.0\n",
      "RT @ApEmpuja: @madrid_ame\n",
      "@PlataformaCS_M\n",
      "@MesaDefensaSani\n",
      "@mareablancaESP\n",
      "@MareaBlancaCAT\n",
      "@apsemueve\n",
      "Todos unidos conseguiremos vecer al #…\n",
      "\n",
      "\n",
      "0.0\n",
      "RT @sanidadgob: 🔴 Recuerda. Hasta el 9 de abril estarán en vigor en todas las #CCAA las actuaciones coordinadas frente a la #COVID19 aproba…\n",
      "\n",
      "\n",
      "0.0\n",
      "RT @BurriezaMateos: La #NuevaNormalidad #YoMeVacuno y #COVID19 en viñetas, 01.04.2021. @Humordemorgan @NapiHumorista @ErnestoRodera https:/…\n",
      "\n",
      "\n",
      "0.0\n",
      "RT @BurriezaMateos: La #NuevaNormalidad #YoMeVacuno y #COVID19 en viñetas, 01.04.2021. @JLJLMartin @EnekoHumor @HUMORJMNIETO @JaviSaladoo h…\n",
      "\n",
      "\n",
      "1.0\n",
      "RT @MAECgob: ❗ Si te planteas #viajar al exterior, ten presente que pueden surgir nuevos brotes del #COVID19 en tu país de destino.\n",
      "\n",
      "Consul…\n",
      "\n",
      "\n",
      "1.0\n",
      "RT @BurriezaMateos: La #NuevaNormalidad #YoMeVacuno y #COVID19 en viñetas, 01.04.2021. #VacunaCOVID19 #confinamiento y lo de #PabloIglesias…\n",
      "\n",
      "\n",
      "1.0\n",
      "Siglo XXI,año 21, 2° Semana Santa #COVID19\n",
      "#NoBajemosLaGuardia😷\n",
      "¡Cantar del pueblo andaluz,\n",
      "que todas las primavera… https://t.co/65TVZ4m7Hy\n",
      "\n",
      "\n",
      "1.0\n",
      "RT @Javier__CB: La #OMS fue a China a buscar el #origen del #SARSCoV2 y de la pandemia de #COVID19. Aquí sus resultados. https://t.co/mvin7…\n",
      "\n",
      "\n"
     ]
    }
   ],
   "source": [
    "predictions = pipeline_importada.predict(test_clean['content_clean'])\n",
    "test_clean['Polarity'] = pd.Series(predictions)\n",
    "for i in test_clean[:20].iterrows():\n",
    "    print(i[1]['Polarity'])\n",
    "    print(i[1]['content'])\n",
    "    print('\\n')"
   ]
  }
 ],
 "metadata": {
  "kernelspec": {
   "display_name": "Python 3",
   "language": "python",
   "name": "python3"
  },
  "language_info": {
   "codemirror_mode": {
    "name": "ipython",
    "version": 3
   },
   "file_extension": ".py",
   "mimetype": "text/x-python",
   "name": "python",
   "nbconvert_exporter": "python",
   "pygments_lexer": "ipython3",
   "version": "3.8.5"
  }
 },
 "nbformat": 4,
 "nbformat_minor": 4
}
