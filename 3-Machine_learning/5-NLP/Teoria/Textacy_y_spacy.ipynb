{
 "cells": [
  {
   "cell_type": "markdown",
   "metadata": {
    "id": "dM0AU5JmpZa3"
   },
   "source": [
    "# Textacy & Spacy\n",
    "Librerias de procesado de NLP"
   ]
  },
  {
   "cell_type": "code",
   "execution_count": null,
   "metadata": {
    "colab": {
     "base_uri": "https://localhost:8080/"
    },
    "id": "O0meJJdTk-yP",
    "outputId": "a47ec2c6-6e62-4ecb-a694-78e4ede1ca9f"
   },
   "outputs": [],
   "source": [
    "'''\n",
    "Versiones compatibles\n",
    "Despues hay que reiniciar el entorno de ejecución\n",
    "'''\n",
    "!pip install -U spacy==3.0.2\n",
    "!pip install textacy==0.10.1\n",
    "\n",
    "# Para siguientes ejecuciones, solo ejecutar esto y reiniciar despues el entorno\n",
    "!python -m spacy download en_core_web_lg\n",
    "!python -m spacy download es_core_news_lg\n"
   ]
  },
  {
   "cell_type": "markdown",
   "metadata": {
    "id": "A5rKVBF0pKa6"
   },
   "source": [
    "# Spacy\n",
    "https://spacy.io/\n",
    "\n",
    "NOTA: Recuerda reiniciar el entorno de ejecucion despues de la instalacion"
   ]
  },
  {
   "cell_type": "code",
   "execution_count": null,
   "metadata": {
    "id": "g5__omBtznMg"
   },
   "outputs": [],
   "source": []
  },
  {
   "cell_type": "markdown",
   "metadata": {
    "id": "XvUcxUvRx3CT"
   },
   "source": [
    "## Text basics\n",
    "Veamos como trabajar cn estos primeros ejemplos con la libreria ´spacy´. Cosas que podemos hacer:\n",
    "1. Tokenizar en frases\n",
    "2. Tokenizar en palabras\n",
    "3. Acceder a los atributos de cada token\n",
    "4. Acceder a las entidades del texto\n",
    "5. Visualizar las entidades del texto"
   ]
  },
  {
   "cell_type": "code",
   "execution_count": null,
   "metadata": {
    "colab": {
     "base_uri": "https://localhost:8080/"
    },
    "id": "yx7f0Wv9ul01",
    "outputId": "7920649c-1ab5-498c-ec78-694a27c30a3d"
   },
   "outputs": [],
   "source": [
    "# The text we want to examine\n",
    "text = \"\"\"\n",
    "London is the capital and most populous city of England and \n",
    "the United Kingdom.  Standing on the River Thames in the south east \n",
    "of the island of Great Britain, London has been a major settlement \n",
    "for two millennia. It was founded by the Romans, who named it Londinium.\n",
    "\"\"\"\n"
   ]
  },
  {
   "cell_type": "markdown",
   "metadata": {
    "id": "UpBWJ2gby81T"
   },
   "source": [
    "## Syntactic analysis\n",
    "Doing the school homework"
   ]
  },
  {
   "cell_type": "code",
   "execution_count": null,
   "metadata": {
    "colab": {
     "base_uri": "https://localhost:8080/",
     "height": 615
    },
    "id": "9N42WYyyy86b",
    "outputId": "026a3a3b-7671-49a5-c7fa-a2458f5370fe"
   },
   "outputs": [],
   "source": []
  },
  {
   "cell_type": "markdown",
   "metadata": {
    "id": "BhcKxFvisxNj"
   },
   "source": [
    "## Entities in text"
   ]
  },
  {
   "cell_type": "code",
   "execution_count": null,
   "metadata": {
    "colab": {
     "base_uri": "https://localhost:8080/"
    },
    "id": "GoUNKXsSsxXy",
    "outputId": "72a3d50d-bd26-4934-f134-2d044fb8cb35"
   },
   "outputs": [],
   "source": []
  },
  {
   "cell_type": "code",
   "execution_count": null,
   "metadata": {
    "colab": {
     "base_uri": "https://localhost:8080/",
     "height": 35
    },
    "id": "8o01ox8YylRj",
    "outputId": "d56a36e0-3099-4932-fe92-7a08b4a1976c"
   },
   "outputs": [],
   "source": [
    "# Doubts with labels\n"
   ]
  },
  {
   "cell_type": "code",
   "execution_count": null,
   "metadata": {
    "colab": {
     "base_uri": "https://localhost:8080/",
     "height": 189
    },
    "id": "UwfOcDgCtEue",
    "outputId": "26479896-f56f-4878-db2d-a5dc17722396"
   },
   "outputs": [],
   "source": []
  },
  {
   "cell_type": "markdown",
   "metadata": {
    "id": "k4J_qGHusl9H"
   },
   "source": [
    "## Replacing names\n",
    "Hide names for GDPR"
   ]
  },
  {
   "cell_type": "code",
   "execution_count": null,
   "metadata": {
    "colab": {
     "base_uri": "https://localhost:8080/"
    },
    "id": "8zHtOLvSsmEp",
    "outputId": "12bf212b-0526-418b-a05a-f6138fb9367a"
   },
   "outputs": [],
   "source": [
    "# Replace a token with \"REDACTED\" if it is a name\n",
    "def replace_name_with_placeholder(token):\n",
    "    if token.ent_iob != 0 and token.ent_type_ == \"PERSON\":\n",
    "        return \"[REDACTED] \"\n",
    "    else:\n",
    "        return token.string\n",
    "\n",
    "# Loop through all the entities in a document and check if they are names\n",
    "def scrub(text):\n",
    "    doc = nlp(text)\n",
    "    for ent in doc.ents:\n",
    "        ent.merge()\n",
    "    tokens = map(replace_name_with_placeholder, doc)\n",
    "    return \"\".join(tokens)\n",
    "\n",
    "s = \"\"\"\n",
    "In 1950, Alan Turing published his famous article \"Computing Machinery and Intelligence\". In 1957, Noam Chomsky’s \n",
    "Syntactic Structures revolutionized Linguistics with 'universal grammar', a rule based system of syntactic structures.\n",
    "\"\"\"\n",
    "\n",
    "print(scrub(s))"
   ]
  },
  {
   "cell_type": "markdown",
   "metadata": {
    "id": "oGvpaIAqzwOH"
   },
   "source": [
    "## Lematize"
   ]
  },
  {
   "cell_type": "code",
   "execution_count": null,
   "metadata": {
    "colab": {
     "base_uri": "https://localhost:8080/"
    },
    "id": "iKra7djBzwXj",
    "outputId": "0e007806-ba45-4d0e-8e8e-b476e7c3cb6d"
   },
   "outputs": [],
   "source": []
  },
  {
   "cell_type": "markdown",
   "metadata": {
    "id": "o_e1pnbgz_0X"
   },
   "source": [
    "## Stopwords"
   ]
  },
  {
   "cell_type": "code",
   "execution_count": null,
   "metadata": {
    "colab": {
     "base_uri": "https://localhost:8080/"
    },
    "id": "j_M6OKU3z__q",
    "outputId": "b0641d29-396c-4945-c0b7-9550980fa4d9"
   },
   "outputs": [],
   "source": []
  },
  {
   "cell_type": "code",
   "execution_count": null,
   "metadata": {
    "colab": {
     "base_uri": "https://localhost:8080/"
    },
    "id": "RXNvYLeD0QJ0",
    "outputId": "e751c574-cd47-4a6c-d542-498bbc1c8c4a"
   },
   "outputs": [],
   "source": []
  },
  {
   "cell_type": "markdown",
   "metadata": {
    "id": "5GwuAvRS1TLb"
   },
   "source": [
    "## Most frequent words\n",
    "In a Wikipedia page"
   ]
  },
  {
   "cell_type": "code",
   "execution_count": null,
   "metadata": {
    "colab": {
     "base_uri": "https://localhost:8080/"
    },
    "id": "oFu1Jw4n2M7L",
    "outputId": "f2bd1c72-01ff-4d0a-c507-242e0e50adb7"
   },
   "outputs": [],
   "source": [
    "#!pip install wikipedia"
   ]
  },
  {
   "cell_type": "code",
   "execution_count": null,
   "metadata": {
    "colab": {
     "base_uri": "https://localhost:8080/",
     "height": 120
    },
    "id": "zmuqxci01TTh",
    "outputId": "6fb64b83-f8f2-489d-dab7-678e68f07cb6"
   },
   "outputs": [],
   "source": []
  },
  {
   "cell_type": "code",
   "execution_count": null,
   "metadata": {
    "colab": {
     "base_uri": "https://localhost:8080/"
    },
    "id": "w8s0R3vU3NAZ",
    "outputId": "6938b106-4c37-4ded-ad05-1ef4bc1a5f38"
   },
   "outputs": [],
   "source": []
  },
  {
   "cell_type": "code",
   "execution_count": null,
   "metadata": {
    "colab": {
     "base_uri": "https://localhost:8080/"
    },
    "id": "C0D-pRly22_H",
    "outputId": "f151b968-fe06-4004-e6e1-ecdbbfe79646"
   },
   "outputs": [],
   "source": []
  },
  {
   "cell_type": "markdown",
   "metadata": {
    "id": "xWDuikM7VJtc"
   },
   "source": [
    "## Textacy London text\n",
    "No we want to know things about London, from our previous text"
   ]
  },
  {
   "cell_type": "code",
   "execution_count": null,
   "metadata": {
    "colab": {
     "base_uri": "https://localhost:8080/"
    },
    "id": "qOiN7HAmvNV2",
    "outputId": "397fc73c-ea84-4231-d1e6-7e6f04a71c89"
   },
   "outputs": [],
   "source": [
    "import spacy\n",
    "import textacy.extract\n",
    "\n",
    "#### CODE ####\n",
    "\n",
    "# The text we want to examine\n",
    "text = \"\"\"London is the capital and most populous city of England and  the United Kingdom.  \n",
    "Standing on the River Thames in the south east of the island of Great Britain, \n",
    "London has been a major settlement  for two millennia.  It was founded by the Romans, \n",
    "who named it Londinium.\n",
    "\"\"\"\n",
    "\n",
    "#### CODE ####\n",
    "\n",
    "# Print the results\n",
    "print(\"Here are the things I know about London:\")\n",
    "\n",
    "for statement in statements:\n",
    "    subject, verb, fact = statement\n",
    "    print(f\" - {fact}\")\n"
   ]
  },
  {
   "cell_type": "markdown",
   "metadata": {
    "id": "hFwnqZzIaSNQ"
   },
   "source": [
    "## Textacy with Wikipedia API\n",
    "We don't want the most frequent words, we want sentences about London"
   ]
  },
  {
   "cell_type": "code",
   "execution_count": null,
   "metadata": {
    "id": "za6v7SL_2Ywo"
   },
   "outputs": [],
   "source": []
  },
  {
   "cell_type": "code",
   "execution_count": null,
   "metadata": {
    "colab": {
     "base_uri": "https://localhost:8080/"
    },
    "id": "NwOqJO902pO6",
    "outputId": "8e0c8d81-b357-448c-ac4c-3c731d32d71f"
   },
   "outputs": [],
   "source": [
    "doc = nlp(text)\n",
    "\n",
    "# Extract semi-structured statements\n",
    "statements = textacy.extract.semistructured_statements(doc, \"London\")\n",
    "\n",
    "# Print the results\n",
    "print(\"Here are the things I know about London:\")\n",
    "\n",
    "for statement in statements:\n",
    "    subject, verb, fact = statement\n",
    "    print(f\" - {fact}\")"
   ]
  },
  {
   "cell_type": "markdown",
   "metadata": {
    "id": "_3oBFA3XacUf"
   },
   "source": [
    "# Spanish\n",
    "## Spacy  and entities"
   ]
  },
  {
   "cell_type": "code",
   "execution_count": null,
   "metadata": {
    "colab": {
     "base_uri": "https://localhost:8080/"
    },
    "id": "WyDUzV-eax_7",
    "outputId": "979ffaa4-e894-48e3-b97e-110bf7ae915f"
   },
   "outputs": [],
   "source": [
    "#### CODE ####\n",
    "\n",
    "text = '''Londres (en inglés, London, pronunciado /ˈlʌndən/ ( escuchar)) es la capital y mayor ciudad de Inglaterra y del Reino Unido.2​3​ Situada a orillas del río Támesis, Londres es un importante asentamiento humano desde que fue fundada por los romanos con el nombre de Londinium hace casi dos milenios.4​ El núcleo antiguo de la urbe, la City de Londres, conserva básicamente su perímetro medieval de una milla cuadrada. Desde el siglo XIX el nombre «Londres» también hace referencia a toda la metrópolis desarrollada alrededor de este núcleo.5​ El grueso de esta conurbación forma la región de Londres y el área administrativa del Gran Londres,6​ gobernado por el alcalde y la asamblea de Londres.7​\n",
    "Londres es una ciudad global, uno de los centros neurálgicos en el ámbito de las artes, el comercio, la educación, el entretenimiento, la moda, las finanzas, los medios de comunicación, la investigación, el turismo o el transporte.8​ Es el principal centro financiero del mundo9​10​11​ y una de las áreas metropolitanas con mayor PIB.12​13​ Londres es también una capital cultural mundial,14​15​16​17​ la ciudad más visitada considerando el número de visitas internacionales18​ y tiene el mayor sistema aeroportuario del mundo según el tráfico de pasajeros.19​ Asimismo, las 43 universidades de la ciudad conforman la mayor concentración de centros de estudios superiores de toda Europa.20​ En el año 2012 Londres se convirtió en la única ciudad en albergar la celebración de tres Juegos Olímpicos de Verano.21​\n",
    "En esta ciudad multirracial convive gente de un gran número de culturas que hablan más de trescientos idiomas distintos.22​ La Autoridad del Gran Londres estima que en 2015 la ciudad tiene 8,63 millones de habitantes,23​ que supone el 12,5 % del total de habitantes del Reino Unido.24​ El área urbana del Gran Londres, con 10 470 00025​ habitantes, es la segunda más grande de Europa, pero su área metropolitana, con una población estimada de entre 12 y 14 millones,26​27​ es la mayor del continente. Desde 1831 a 1925 Londres, como capital del Imperio británico, fue la ciudad más poblada del mundo.'''\n",
    "doc = nlp_es(text)\n",
    "\n",
    "# Para ver las entidades que ha detectado\n",
    "for entity in doc.ents:\n",
    "    print(f\"{entity.text} ({entity.label_})\")\n"
   ]
  }
 ],
 "metadata": {
  "colab": {
   "collapsed_sections": [],
   "name": "Textacy y spacy.ipynb",
   "provenance": []
  },
  "kernelspec": {
   "display_name": "Python 3",
   "language": "python",
   "name": "python3"
  },
  "language_info": {
   "codemirror_mode": {
    "name": "ipython",
    "version": 3
   },
   "file_extension": ".py",
   "mimetype": "text/x-python",
   "name": "python",
   "nbconvert_exporter": "python",
   "pygments_lexer": "ipython3",
   "version": "3.8.5"
  }
 },
 "nbformat": 4,
 "nbformat_minor": 4
}
