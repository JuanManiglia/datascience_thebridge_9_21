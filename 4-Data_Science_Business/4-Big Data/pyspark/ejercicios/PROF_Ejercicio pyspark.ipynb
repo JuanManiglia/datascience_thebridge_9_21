{
 "cells": [
  {
   "cell_type": "markdown",
   "metadata": {},
   "source": [
    "# Ejercicio pyspark\n",
    "Para este ejercicio vas a trabajar con una base de datos de canciones. Hay que realizar analítica sobre los datos que tenemos y para ello, es necesario responder a las siguientes preguntas.\n",
    "1. Obtén por pantalla las columnas y el esquema\n",
    "2. ¿De cuántas canciones se compone la base de datos?\n",
    "3. ¿Cuántas bandas diferentes hay? ¿Y géneros?\n",
    "4. Número de canciones de los Beattles\n",
    "5. ¿Cuál es la duración media de las canciones?\n",
    "6. Duración media de las canciones por año\n",
    "7. ¿Qué canciones son las de duración mínima y máxima?\n",
    "8. Grupo con la canción más larga\n",
    "9. Teniendo en cuenta los scores de todas las canciones. ¿Cuáles son los géneros con mayor score?\n",
    "10. ¿En qué años se han publicado menos canciones? ¿Y más?\n",
    "11. Lista todas las canciones publicadas en 2010\n",
    "12. ¿Qué album obtuvo un mayor score en 2011?\n",
    "13. Canciones de genero rock por año desde 1965\n",
    "\n",
    "Para ello tendrás que usar la librería `pyspark`. **Las columnas del dataset tienen los siguientes nombres:BandName, Country, Genre, SongName, AlbumName, Duration, ScoreGenre**"
   ]
  },
  {
   "cell_type": "markdown",
   "metadata": {},
   "source": [
    "### SparkSession"
   ]
  },
  {
   "cell_type": "code",
   "execution_count": 1,
   "metadata": {},
   "outputs": [],
   "source": [
    "from pyspark.sql import SparkSession"
   ]
  },
  {
   "cell_type": "code",
   "execution_count": 2,
   "metadata": {},
   "outputs": [],
   "source": [
    "spark = SparkSession.builder.appName(\"Exercise\").getOrCreate()"
   ]
  },
  {
   "cell_type": "markdown",
   "metadata": {},
   "source": [
    "### Read data"
   ]
  },
  {
   "cell_type": "code",
   "execution_count": 14,
   "metadata": {},
   "outputs": [],
   "source": [
    "from pyspark.sql.types import StructField,StringType,IntegerType,StructType\n",
    "schema = StructType ([\n",
    "                        StructField (\"BandName\", StringType (), True),\n",
    "                        StructField (\"Country\", StringType (), True),\n",
    "                        StructField (\"Genre\", StringType (), True),\n",
    "                        StructField (\"SongName\", StringType (), True),\n",
    "                        StructField (\"AlbumName\", StringType (), True),\n",
    "                        StructField (\"Duration\", IntegerType (), True),\n",
    "                        StructField (\"ScoreGenre\", IntegerType (), True),\n",
    "                        StructField (\"Year\", IntegerType (), True )])\n",
    "\n",
    "final_struc = StructType(fields=schema)\n",
    "df = spark.read.csv('./data/recordings.csv',schema=final_struc)\n",
    "df.show()"
   ]
  },
  {
   "cell_type": "code",
   "execution_count": null,
   "metadata": {},
   "outputs": [],
   "source": [
    "df.describe()"
   ]
  },
  {
   "cell_type": "code",
   "execution_count": null,
   "metadata": {},
   "outputs": [],
   "source": [
    "df.printSchema()"
   ]
  },
  {
   "cell_type": "code",
   "execution_count": null,
   "metadata": {},
   "outputs": [],
   "source": [
    "df.columns"
   ]
  },
  {
   "cell_type": "markdown",
   "metadata": {},
   "source": [
    "### 1. ¿De cuántas canciones se compone la base de datos?"
   ]
  },
  {
   "cell_type": "code",
   "execution_count": 5,
   "metadata": {},
   "outputs": [
    {
     "data": {
      "text/plain": [
       "134235"
      ]
     },
     "execution_count": 5,
     "metadata": {},
     "output_type": "execute_result"
    }
   ],
   "source": [
    "df.count()"
   ]
  },
  {
   "cell_type": "code",
   "execution_count": 20,
   "metadata": {},
   "outputs": [
    {
     "data": {
      "text/plain": [
       "['BandName',\n",
       " 'Country',\n",
       " 'Genre',\n",
       " 'SongName',\n",
       " 'AlbumName',\n",
       " 'Duration',\n",
       " 'ScoreGenre',\n",
       " 'Year']"
      ]
     },
     "execution_count": 20,
     "metadata": {},
     "output_type": "execute_result"
    }
   ],
   "source": []
  },
  {
   "cell_type": "code",
   "execution_count": 22,
   "metadata": {},
   "outputs": [
    {
     "data": {
      "text/plain": [
       "1393"
      ]
     },
     "execution_count": 22,
     "metadata": {},
     "output_type": "execute_result"
    }
   ],
   "source": [
    "df.select('BandName').distinct().count()"
   ]
  },
  {
   "cell_type": "code",
   "execution_count": 23,
   "metadata": {},
   "outputs": [
    {
     "data": {
      "text/plain": [
       "177"
      ]
     },
     "execution_count": 23,
     "metadata": {},
     "output_type": "execute_result"
    }
   ],
   "source": [
    "df.select('Genre').distinct().count()"
   ]
  },
  {
   "cell_type": "code",
   "execution_count": null,
   "metadata": {},
   "outputs": [],
   "source": []
  }
 ],
 "metadata": {
  "kernelspec": {
   "display_name": "Python 3",
   "language": "python",
   "name": "python3"
  },
  "language_info": {
   "codemirror_mode": {
    "name": "ipython",
    "version": 3
   },
   "file_extension": ".py",
   "mimetype": "text/x-python",
   "name": "python",
   "nbconvert_exporter": "python",
   "pygments_lexer": "ipython3",
   "version": "3.8.3"
  }
 },
 "nbformat": 4,
 "nbformat_minor": 4
}
